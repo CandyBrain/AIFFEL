{
 "cells": [
  {
   "cell_type": "markdown",
   "id": "e42f5fb2",
   "metadata": {},
   "source": [
    "# Movielens 영화 추천"
   ]
  },
  {
   "cell_type": "markdown",
   "id": "3b9bedbd",
   "metadata": {},
   "source": [
    "### 루브릭\n",
    "\n",
    "1. CSR matrix가 정상적으로 만들어졌다. / 사용자와 아이템 개수를 바탕으로 정확한 사이즈로 만들었다.  \n",
    "2. MF 모델이 정상적으로 훈련되어 그럴듯한 추천이 이루어졌다. / 사용자와 아이템 벡터 내적수치가 의미있게 형성되었다.  \n",
    "3. 비슷한 영화 찾기와 유저에게 추천하기의 과정이 정상적으로 진행되었다. / MF모델이 예측한 유저 선호도 및 아이템간 유사도, 기여도가 의미있게 측정되었다."
   ]
  },
  {
   "cell_type": "code",
   "execution_count": 4,
   "id": "9995a9ff",
   "metadata": {},
   "outputs": [],
   "source": [
    "import pandas as pd\n",
    "import os\n",
    "import numpy as np\n",
    "from implicit.als import AlternatingLeastSquares\n",
    "from scipy.sparse import csr_matrix"
   ]
  },
  {
   "cell_type": "markdown",
   "id": "40a0fc2c",
   "metadata": {},
   "source": [
    "## 1) 데이터 준비와 전처리"
   ]
  },
  {
   "cell_type": "code",
   "execution_count": 5,
   "id": "785f2f26",
   "metadata": {},
   "outputs": [
    {
     "data": {
      "text/html": [
       "<div>\n",
       "<style scoped>\n",
       "    .dataframe tbody tr th:only-of-type {\n",
       "        vertical-align: middle;\n",
       "    }\n",
       "\n",
       "    .dataframe tbody tr th {\n",
       "        vertical-align: top;\n",
       "    }\n",
       "\n",
       "    .dataframe thead th {\n",
       "        text-align: right;\n",
       "    }\n",
       "</style>\n",
       "<table border=\"1\" class=\"dataframe\">\n",
       "  <thead>\n",
       "    <tr style=\"text-align: right;\">\n",
       "      <th></th>\n",
       "      <th>user_id</th>\n",
       "      <th>movie_id</th>\n",
       "      <th>ratings</th>\n",
       "      <th>timestamp</th>\n",
       "    </tr>\n",
       "  </thead>\n",
       "  <tbody>\n",
       "    <tr>\n",
       "      <th>0</th>\n",
       "      <td>1</td>\n",
       "      <td>1193</td>\n",
       "      <td>5</td>\n",
       "      <td>978300760</td>\n",
       "    </tr>\n",
       "    <tr>\n",
       "      <th>1</th>\n",
       "      <td>1</td>\n",
       "      <td>661</td>\n",
       "      <td>3</td>\n",
       "      <td>978302109</td>\n",
       "    </tr>\n",
       "    <tr>\n",
       "      <th>2</th>\n",
       "      <td>1</td>\n",
       "      <td>914</td>\n",
       "      <td>3</td>\n",
       "      <td>978301968</td>\n",
       "    </tr>\n",
       "    <tr>\n",
       "      <th>3</th>\n",
       "      <td>1</td>\n",
       "      <td>3408</td>\n",
       "      <td>4</td>\n",
       "      <td>978300275</td>\n",
       "    </tr>\n",
       "    <tr>\n",
       "      <th>4</th>\n",
       "      <td>1</td>\n",
       "      <td>2355</td>\n",
       "      <td>5</td>\n",
       "      <td>978824291</td>\n",
       "    </tr>\n",
       "  </tbody>\n",
       "</table>\n",
       "</div>"
      ],
      "text/plain": [
       "   user_id  movie_id  ratings  timestamp\n",
       "0        1      1193        5  978300760\n",
       "1        1       661        3  978302109\n",
       "2        1       914        3  978301968\n",
       "3        1      3408        4  978300275\n",
       "4        1      2355        5  978824291"
      ]
     },
     "execution_count": 5,
     "metadata": {},
     "output_type": "execute_result"
    }
   ],
   "source": [
    "rating_file_path=os.getenv('HOME') + '/aiffel/workplace/EX14_Recommender_System_IU/recommendata_iu/data/ml-1m/ratings.dat'\n",
    "ratings_cols = ['user_id', 'movie_id', 'ratings', 'timestamp']\n",
    "ratings = pd.read_csv(rating_file_path, sep='::', names=ratings_cols, engine='python', encoding = \"ISO-8859-1\")\n",
    "orginal_data_size = len(ratings)\n",
    "ratings.head()"
   ]
  },
  {
   "cell_type": "code",
   "execution_count": 8,
   "id": "571e7204",
   "metadata": {},
   "outputs": [
    {
     "name": "stdout",
     "output_type": "stream",
     "text": [
      "orginal_data_size: 1000209, filtered_data_size: 836478\n",
      "Ratio of Remaining Data is 83.63%\n"
     ]
    }
   ],
   "source": [
    "# 3점 이상만 남깁니다.\n",
    "ratings = ratings[ratings['ratings']>=3]\n",
    "filtered_data_size = len(ratings)\n",
    "\n",
    "print(f'orginal_data_size: {orginal_data_size}, filtered_data_size: {filtered_data_size}')\n",
    "print(f'Ratio of Remaining Data is {filtered_data_size / orginal_data_size:.2%}')"
   ]
  },
  {
   "cell_type": "code",
   "execution_count": 9,
   "id": "319455d1",
   "metadata": {},
   "outputs": [],
   "source": [
    "# ratings 컬럼의 이름을 counts로 바꿉니다.\n",
    "ratings.rename(columns={'ratings':'counts'}, inplace=True)"
   ]
  },
  {
   "cell_type": "code",
   "execution_count": 11,
   "id": "37cac491",
   "metadata": {},
   "outputs": [
    {
     "data": {
      "text/plain": [
       "0          5\n",
       "1          3\n",
       "2          3\n",
       "3          4\n",
       "4          5\n",
       "          ..\n",
       "1000203    3\n",
       "1000205    5\n",
       "1000206    5\n",
       "1000207    4\n",
       "1000208    4\n",
       "Name: counts, Length: 836478, dtype: int64"
      ]
     },
     "execution_count": 11,
     "metadata": {},
     "output_type": "execute_result"
    }
   ],
   "source": [
    "# 잘 바뀌었는지 확인\n",
    "\n",
    "ratings['counts']"
   ]
  },
  {
   "cell_type": "code",
   "execution_count": 17,
   "id": "b92db342",
   "metadata": {},
   "outputs": [
    {
     "data": {
      "text/html": [
       "<div>\n",
       "<style scoped>\n",
       "    .dataframe tbody tr th:only-of-type {\n",
       "        vertical-align: middle;\n",
       "    }\n",
       "\n",
       "    .dataframe tbody tr th {\n",
       "        vertical-align: top;\n",
       "    }\n",
       "\n",
       "    .dataframe thead th {\n",
       "        text-align: right;\n",
       "    }\n",
       "</style>\n",
       "<table border=\"1\" class=\"dataframe\">\n",
       "  <thead>\n",
       "    <tr style=\"text-align: right;\">\n",
       "      <th></th>\n",
       "      <th>movie_id</th>\n",
       "      <th>title</th>\n",
       "      <th>genre</th>\n",
       "    </tr>\n",
       "  </thead>\n",
       "  <tbody>\n",
       "    <tr>\n",
       "      <th>0</th>\n",
       "      <td>1</td>\n",
       "      <td>Toy Story (1995)</td>\n",
       "      <td>Animation|Children's|Comedy</td>\n",
       "    </tr>\n",
       "    <tr>\n",
       "      <th>1</th>\n",
       "      <td>2</td>\n",
       "      <td>Jumanji (1995)</td>\n",
       "      <td>Adventure|Children's|Fantasy</td>\n",
       "    </tr>\n",
       "    <tr>\n",
       "      <th>2</th>\n",
       "      <td>3</td>\n",
       "      <td>Grumpier Old Men (1995)</td>\n",
       "      <td>Comedy|Romance</td>\n",
       "    </tr>\n",
       "    <tr>\n",
       "      <th>3</th>\n",
       "      <td>4</td>\n",
       "      <td>Waiting to Exhale (1995)</td>\n",
       "      <td>Comedy|Drama</td>\n",
       "    </tr>\n",
       "    <tr>\n",
       "      <th>4</th>\n",
       "      <td>5</td>\n",
       "      <td>Father of the Bride Part II (1995)</td>\n",
       "      <td>Comedy</td>\n",
       "    </tr>\n",
       "  </tbody>\n",
       "</table>\n",
       "</div>"
      ],
      "text/plain": [
       "   movie_id                               title                         genre\n",
       "0         1                    Toy Story (1995)   Animation|Children's|Comedy\n",
       "1         2                      Jumanji (1995)  Adventure|Children's|Fantasy\n",
       "2         3             Grumpier Old Men (1995)                Comedy|Romance\n",
       "3         4            Waiting to Exhale (1995)                  Comedy|Drama\n",
       "4         5  Father of the Bride Part II (1995)                        Comedy"
      ]
     },
     "execution_count": 17,
     "metadata": {},
     "output_type": "execute_result"
    }
   ],
   "source": [
    "# 영화 제목을 보기 위해 메타 데이터를 읽어옵니다.\n",
    "\n",
    "movie_file_path=os.getenv('HOME') + '/aiffel/workplace/EX14_Recommender_System_IU/recommendata_iu/data/ml-1m/movies.dat'\n",
    "cols = ['movie_id', 'title', 'genre'] \n",
    "movies = pd.read_csv(movie_file_path, sep='::', names=cols, engine='python', encoding='ISO-8859-1')\n",
    "movies.head()"
   ]
  },
  {
   "cell_type": "markdown",
   "id": "3e786d79",
   "metadata": {},
   "source": [
    "## MF model 구성"
   ]
  },
  {
   "cell_type": "code",
   "execution_count": 18,
   "id": "fadbaa9e",
   "metadata": {},
   "outputs": [],
   "source": [
    "# idx_to_movie\n",
    "idx_to_movie = {}\n",
    "for i in range(len(movies)):\n",
    "    idx_to_movie[movies['movie_id'][i]] = movies['title'][i]"
   ]
  },
  {
   "cell_type": "code",
   "execution_count": 19,
   "id": "b1c4e5cf",
   "metadata": {},
   "outputs": [],
   "source": [
    "# movie_to_idx\n",
    "movie_to_idx = {}\n",
    "for k, v in idx_to_movie.items():\n",
    "    movie_to_idx[v] = k"
   ]
  },
  {
   "cell_type": "code",
   "execution_count": 20,
   "id": "c5b4b4d5",
   "metadata": {},
   "outputs": [
    {
     "data": {
      "text/html": [
       "<div>\n",
       "<style scoped>\n",
       "    .dataframe tbody tr th:only-of-type {\n",
       "        vertical-align: middle;\n",
       "    }\n",
       "\n",
       "    .dataframe tbody tr th {\n",
       "        vertical-align: top;\n",
       "    }\n",
       "\n",
       "    .dataframe thead th {\n",
       "        text-align: right;\n",
       "    }\n",
       "</style>\n",
       "<table border=\"1\" class=\"dataframe\">\n",
       "  <thead>\n",
       "    <tr style=\"text-align: right;\">\n",
       "      <th></th>\n",
       "      <th>user_id</th>\n",
       "      <th>movie_id</th>\n",
       "      <th>counts</th>\n",
       "    </tr>\n",
       "  </thead>\n",
       "  <tbody>\n",
       "    <tr>\n",
       "      <th>0</th>\n",
       "      <td>6041</td>\n",
       "      <td>2</td>\n",
       "      <td>5</td>\n",
       "    </tr>\n",
       "    <tr>\n",
       "      <th>1</th>\n",
       "      <td>6041</td>\n",
       "      <td>10</td>\n",
       "      <td>4</td>\n",
       "    </tr>\n",
       "    <tr>\n",
       "      <th>2</th>\n",
       "      <td>6041</td>\n",
       "      <td>247</td>\n",
       "      <td>4</td>\n",
       "    </tr>\n",
       "    <tr>\n",
       "      <th>3</th>\n",
       "      <td>6041</td>\n",
       "      <td>316</td>\n",
       "      <td>3</td>\n",
       "    </tr>\n",
       "    <tr>\n",
       "      <th>4</th>\n",
       "      <td>6041</td>\n",
       "      <td>345</td>\n",
       "      <td>5</td>\n",
       "    </tr>\n",
       "  </tbody>\n",
       "</table>\n",
       "</div>"
      ],
      "text/plain": [
       "   user_id  movie_id  counts\n",
       "0     6041         2       5\n",
       "1     6041        10       4\n",
       "2     6041       247       4\n",
       "3     6041       316       3\n",
       "4     6041       345       5"
      ]
     },
     "execution_count": 20,
     "metadata": {},
     "output_type": "execute_result"
    }
   ],
   "source": [
    "# 나의 추천 목록 생성\n",
    "my_favorite = [2, 10, 247, 316, 345]\n",
    "my_movielist = pd.DataFrame({'user_id':[6041]*5, 'movie_id':my_favorite, 'counts':[5, 4, 4, 3, 5]})\n",
    "\n",
    "my_movielist"
   ]
  },
  {
   "cell_type": "code",
   "execution_count": 21,
   "id": "e929b974",
   "metadata": {},
   "outputs": [],
   "source": [
    "if not ratings.isin({'user_id':[6041]})['user_id'].any():\n",
    "    ratings = ratings.append(my_movielist)"
   ]
  },
  {
   "cell_type": "code",
   "execution_count": 22,
   "id": "136dabde",
   "metadata": {},
   "outputs": [
    {
     "data": {
      "text/plain": [
       "6040"
      ]
     },
     "execution_count": 22,
     "metadata": {},
     "output_type": "execute_result"
    }
   ],
   "source": [
    "# ratings에 있는 유니크한 유저수\n",
    "ratings['user_id'].nunique()"
   ]
  },
  {
   "cell_type": "code",
   "execution_count": 23,
   "id": "5240a0d0",
   "metadata": {},
   "outputs": [
    {
     "data": {
      "text/plain": [
       "3628"
      ]
     },
     "execution_count": 23,
     "metadata": {},
     "output_type": "execute_result"
    }
   ],
   "source": [
    "# ratings에 있는 유니크한 영화 개수\n",
    "ratings['movie_id'].nunique()"
   ]
  },
  {
   "cell_type": "code",
   "execution_count": 24,
   "id": "1cba329f",
   "metadata": {},
   "outputs": [
    {
     "data": {
      "text/plain": [
       "movie_id\n",
       "2858    3211\n",
       "260     2910\n",
       "1196    2885\n",
       "1210    2716\n",
       "2028    2561\n",
       "589     2509\n",
       "593     2498\n",
       "1198    2473\n",
       "1270    2460\n",
       "2571    2434\n",
       "480     2413\n",
       "2762    2385\n",
       "608     2371\n",
       "110     2314\n",
       "1580    2297\n",
       "527     2257\n",
       "1197    2252\n",
       "2396    2213\n",
       "1617    2210\n",
       "318     2194\n",
       "858     2167\n",
       "1265    2121\n",
       "1097    2102\n",
       "2997    2066\n",
       "2716    2051\n",
       "296     2030\n",
       "356     2022\n",
       "1240    2019\n",
       "1       2000\n",
       "457     1941\n",
       "Name: user_id, dtype: int64"
      ]
     },
     "execution_count": 24,
     "metadata": {},
     "output_type": "execute_result"
    }
   ],
   "source": [
    "# 가장 인기 있는 영화 30개 (인기순)\n",
    "movie_count = ratings.groupby('movie_id')['user_id'].count()\n",
    "movie_count.sort_values(ascending=False).head(30)"
   ]
  },
  {
   "cell_type": "code",
   "execution_count": 25,
   "id": "2f19725b",
   "metadata": {},
   "outputs": [
    {
     "data": {
      "text/plain": [
       "count    6040.000000\n",
       "mean      138.490563\n",
       "std       156.238108\n",
       "min         1.000000\n",
       "25%        38.000000\n",
       "50%        81.000000\n",
       "75%       177.000000\n",
       "max      1968.000000\n",
       "Name: movie_id, dtype: float64"
      ]
     },
     "execution_count": 25,
     "metadata": {},
     "output_type": "execute_result"
    }
   ],
   "source": [
    "# 유저별 몇 개의 영화를 봤는지에 대한 통계\n",
    "user_count = ratings.groupby('user_id')['movie_id'].count()\n",
    "user_count.describe()"
   ]
  },
  {
   "cell_type": "code",
   "execution_count": 26,
   "id": "17903180",
   "metadata": {},
   "outputs": [
    {
     "name": "stdout",
     "output_type": "stream",
     "text": [
      "6040 3628\n"
     ]
    }
   ],
   "source": [
    "# csr_data의 출력 차원\n",
    "num_user = ratings['user_id'].nunique()\n",
    "num_movie = ratings['movie_id'].nunique()\n",
    "\n",
    "print(num_user, num_movie)"
   ]
  },
  {
   "cell_type": "code",
   "execution_count": 27,
   "id": "ee694cdf",
   "metadata": {},
   "outputs": [
    {
     "data": {
      "text/plain": [
       "<6042x3953 sparse matrix of type '<class 'numpy.int64'>'\n",
       "\twith 836483 stored elements in Compressed Sparse Row format>"
      ]
     },
     "execution_count": 27,
     "metadata": {},
     "output_type": "execute_result"
    }
   ],
   "source": [
    "# csr_data 생성\n",
    "csr_data = csr_matrix((ratings['counts'], (ratings['user_id'], ratings['movie_id'])))\n",
    "csr_data # shape가 일치하지 않아서 ValueError가 발생하였기 때문에 shape parameter를 비워두었다."
   ]
  },
  {
   "cell_type": "code",
   "execution_count": 28,
   "id": "a20e1571",
   "metadata": {},
   "outputs": [],
   "source": [
    "# implicit 라이브러리에서 권장하고 있는 부분\n",
    "os.environ['OPENBLAS_NUM_THREADS']='1'\n",
    "os.environ['KMP_DUPLICATE_LIB_OK']='True'\n",
    "os.environ['MKL_NUM_THREADS']='1'"
   ]
  },
  {
   "cell_type": "code",
   "execution_count": 30,
   "id": "bcec3837",
   "metadata": {},
   "outputs": [],
   "source": [
    "# Implicit AlternatingLeastSquares 모델의 선언\n",
    "als_model = AlternatingLeastSquares(factors=100, regularization=0.01, use_gpu=False, iterations=15, dtype=np.float32)"
   ]
  },
  {
   "cell_type": "code",
   "execution_count": 31,
   "id": "6d923b46",
   "metadata": {},
   "outputs": [
    {
     "data": {
      "text/plain": [
       "<3953x6042 sparse matrix of type '<class 'numpy.int64'>'\n",
       "\twith 836483 stored elements in Compressed Sparse Column format>"
      ]
     },
     "execution_count": 31,
     "metadata": {},
     "output_type": "execute_result"
    }
   ],
   "source": [
    "# als 모델은 input으로 (item X user 꼴의 matrix를 받기 때문에 Transpose해줍니다.)\n",
    "csr_data_transpose = csr_data.T\n",
    "csr_data_transpose"
   ]
  },
  {
   "cell_type": "code",
   "execution_count": 32,
   "id": "c534d93b",
   "metadata": {},
   "outputs": [
    {
     "data": {
      "application/vnd.jupyter.widget-view+json": {
       "model_id": "61b7986436204f85aa47be4c232efee8",
       "version_major": 2,
       "version_minor": 0
      },
      "text/plain": [
       "  0%|          | 0/15 [00:00<?, ?it/s]"
      ]
     },
     "metadata": {},
     "output_type": "display_data"
    }
   ],
   "source": [
    "# 모델 훈련\n",
    "als_model.fit(csr_data_transpose)"
   ]
  },
  {
   "cell_type": "code",
   "execution_count": 34,
   "id": "9bce7da9",
   "metadata": {},
   "outputs": [],
   "source": [
    "# 벡터값 확인\n",
    "my_vector, movie_vector = als_model.user_factors[6041], als_model.item_factors[2]"
   ]
  },
  {
   "cell_type": "code",
   "execution_count": 35,
   "id": "de3a58f3",
   "metadata": {},
   "outputs": [
    {
     "data": {
      "text/plain": [
       "array([ 0.3631876 ,  0.08780039, -0.53182256, -0.3561194 , -0.38550097,\n",
       "        0.09879929, -0.49542835, -0.3871193 ,  0.5871021 ,  0.621338  ,\n",
       "        0.98676175,  0.65514416,  0.60065764, -1.139925  ,  0.22890615,\n",
       "        0.4010421 ,  0.78902006,  0.3225129 , -0.4213978 , -0.1187789 ,\n",
       "        0.37179735, -0.28343073,  0.3120577 ,  0.42702478, -0.7152035 ,\n",
       "        0.22388288,  0.35395083,  0.24987434, -0.2030514 ,  0.33377   ,\n",
       "       -0.6559256 ,  0.29627147,  0.73240304,  0.11363308,  0.24810076,\n",
       "       -0.00952933, -0.15408888, -0.7639335 , -0.02887493,  0.13741447,\n",
       "        0.21956949,  0.15626289,  0.05902308,  0.02992974,  0.4066699 ,\n",
       "        0.32997662, -0.03191189,  0.37691802,  0.01064063, -1.0565331 ,\n",
       "       -0.46785307, -0.21938956,  0.20366007, -0.3013407 , -0.4957362 ,\n",
       "        0.46869346,  0.08541214,  0.3609393 ,  0.3305935 , -0.27362832,\n",
       "       -0.40919632,  0.1697632 ,  0.3525702 ,  0.03246704, -0.71753126,\n",
       "       -0.48928708,  0.20337127,  0.21568765, -0.04424765, -0.25670564,\n",
       "       -0.5668456 , -0.30396393,  0.21672213, -0.2840839 , -0.08470471,\n",
       "        0.0904615 ,  0.10772618,  0.02010154, -0.17291668, -0.35598934,\n",
       "        0.00996354,  0.23528837, -0.02396959,  0.30666244,  0.28688473,\n",
       "       -0.12636666,  0.29594296,  0.1540151 , -0.33897418,  0.2894174 ,\n",
       "        0.14596294,  0.1783955 ,  0.18511403, -0.5916636 ,  0.32933   ,\n",
       "       -0.36078262,  0.14668222, -0.29732898, -0.2174524 ,  0.36107513],\n",
       "      dtype=float32)"
      ]
     },
     "execution_count": 35,
     "metadata": {},
     "output_type": "execute_result"
    }
   ],
   "source": [
    "my_vector"
   ]
  },
  {
   "cell_type": "code",
   "execution_count": 36,
   "id": "8bdb6eb6",
   "metadata": {},
   "outputs": [
    {
     "data": {
      "text/plain": [
       "array([ 1.63611881e-02, -1.51322801e-02, -2.97776307e-03, -8.90906248e-03,\n",
       "        7.89926760e-03,  1.71154495e-02, -1.75068434e-02,  9.87213384e-03,\n",
       "        3.13047692e-02,  1.58092976e-02,  3.29915211e-02,  4.27366868e-02,\n",
       "        1.83154438e-02, -2.50831265e-02,  3.45435832e-03,  1.95983215e-03,\n",
       "        3.03186793e-02,  4.48477129e-03,  1.21044051e-02, -5.82448626e-03,\n",
       "        1.79809667e-02,  3.08140717e-03,  1.97172686e-02, -1.34153506e-02,\n",
       "       -1.18432473e-02,  9.09868255e-03,  1.45438239e-02,  1.92244444e-02,\n",
       "       -3.90217733e-03,  7.82644749e-03,  1.41810188e-02, -9.50320344e-03,\n",
       "        3.09442114e-02, -1.47028137e-02, -9.71434638e-03, -2.01952201e-03,\n",
       "        4.98214876e-03, -1.66685954e-02,  7.56839849e-03,  2.30553355e-02,\n",
       "        1.43350121e-02,  8.66211951e-03,  1.73308060e-03,  8.06595571e-03,\n",
       "        9.38079975e-05,  1.56875029e-02,  6.27204357e-03,  2.23174896e-02,\n",
       "        4.50907648e-03, -2.26749312e-02, -2.14356743e-02,  1.16076379e-03,\n",
       "        8.87546781e-03,  1.22090131e-02, -2.68600807e-02,  1.94093883e-02,\n",
       "        9.00961552e-03,  4.28876169e-02, -1.69390725e-04,  1.01090688e-02,\n",
       "        5.59115876e-03,  2.23777704e-02,  7.48825492e-03,  1.64175052e-02,\n",
       "        1.25706885e-02, -6.70478074e-03,  1.28418375e-02,  1.53993713e-02,\n",
       "        3.89053812e-03, -1.20083373e-02,  1.68019943e-02,  1.30686106e-03,\n",
       "        1.80480145e-02,  7.35642202e-03,  1.74437964e-03, -3.42535554e-03,\n",
       "        1.82742942e-02, -8.37909058e-03,  9.72634368e-03,  1.34199741e-03,\n",
       "        1.26817299e-03,  1.87005997e-02, -1.83450477e-03,  2.07816921e-02,\n",
       "        2.45543532e-02, -7.34140398e-03,  3.22822132e-03,  2.70300894e-03,\n",
       "        4.06803982e-03,  4.02435660e-02,  1.12321777e-02,  9.35893971e-03,\n",
       "       -1.29745604e-04,  1.81973286e-04, -8.39479920e-03,  2.92820148e-02,\n",
       "       -7.41825951e-03, -5.74673992e-03,  6.08463539e-03,  1.26123847e-02],\n",
       "      dtype=float32)"
      ]
     },
     "execution_count": 36,
     "metadata": {},
     "output_type": "execute_result"
    }
   ],
   "source": [
    "movie_vector"
   ]
  },
  {
   "cell_type": "code",
   "execution_count": 37,
   "id": "c76dcf39",
   "metadata": {},
   "outputs": [
    {
     "data": {
      "text/plain": [
       "0.3242845"
      ]
     },
     "execution_count": 37,
     "metadata": {},
     "output_type": "execute_result"
    }
   ],
   "source": [
    "# 내적\n",
    "np.dot(my_vector, movie_vector)"
   ]
  },
  {
   "cell_type": "code",
   "execution_count": 45,
   "id": "2bc07ffe",
   "metadata": {},
   "outputs": [
    {
     "data": {
      "text/plain": [
       "[(10, 1.0000002),\n",
       " (1722, 0.78572017),\n",
       " (3082, 0.6273495),\n",
       " (349, 0.6081375),\n",
       " (165, 0.57621413),\n",
       " (2006, 0.56897694),\n",
       " (2273, 0.56718653),\n",
       " (733, 0.55067194),\n",
       " (112, 0.51293075),\n",
       " (2990, 0.50671434),\n",
       " (1377, 0.50013983),\n",
       " (1370, 0.49602485),\n",
       " (3256, 0.48900762),\n",
       " (380, 0.48849198),\n",
       " (1552, 0.47873)]"
      ]
     },
     "execution_count": 45,
     "metadata": {},
     "output_type": "execute_result"
    }
   ],
   "source": [
    "# 비슷한 영화 찾기\n",
    "favorite_movie_id = 10\n",
    "similar_movie = als_model.similar_items(favorite_movie_id, N=15)\n",
    "similar_movie"
   ]
  },
  {
   "cell_type": "code",
   "execution_count": 46,
   "id": "cf84ba73",
   "metadata": {},
   "outputs": [
    {
     "data": {
      "text/plain": [
       "['GoldenEye (1995)',\n",
       " 'Tomorrow Never Dies (1997)',\n",
       " 'World Is Not Enough, The (1999)',\n",
       " 'Clear and Present Danger (1994)',\n",
       " 'Die Hard: With a Vengeance (1995)',\n",
       " 'Mask of Zorro, The (1998)',\n",
       " 'Rush Hour (1998)',\n",
       " 'Rock, The (1996)',\n",
       " 'Rumble in the Bronx (1995)',\n",
       " 'Licence to Kill (1989)',\n",
       " 'Batman Returns (1992)',\n",
       " 'Die Hard 2 (1990)',\n",
       " 'Patriot Games (1992)',\n",
       " 'True Lies (1994)',\n",
       " 'Con Air (1997)']"
      ]
     },
     "execution_count": 46,
     "metadata": {},
     "output_type": "execute_result"
    }
   ],
   "source": [
    "[idx_to_movie[i[0]] for i in similar_movie]"
   ]
  },
  {
   "cell_type": "code",
   "execution_count": 47,
   "id": "0d3a41ad",
   "metadata": {},
   "outputs": [],
   "source": [
    "# 비슷한 영화를 찾아주는 함수\n",
    "\n",
    "def get_similar_movie(movie_name: str):\n",
    "    movie_id = movie_to_idx[movie_name]\n",
    "    similar_movie = als_model.similar_items(movie_id)\n",
    "    similar_movie = [idx_to_movie[i[0]] for i in similar_movie]\n",
    "    return similar_movie"
   ]
  },
  {
   "cell_type": "code",
   "execution_count": 50,
   "id": "3252c5f2",
   "metadata": {},
   "outputs": [
    {
     "data": {
      "text/plain": [
       "['Die Hard 2 (1990)',\n",
       " 'Die Hard: With a Vengeance (1995)',\n",
       " 'Enemy of the State (1998)',\n",
       " 'Patriot Games (1992)',\n",
       " 'Clear and Present Danger (1994)',\n",
       " 'Air Force One (1997)',\n",
       " 'Negotiator, The (1998)',\n",
       " 'Speed (1994)',\n",
       " 'Rock, The (1996)',\n",
       " 'Hunt for Red October, The (1990)']"
      ]
     },
     "execution_count": 50,
     "metadata": {},
     "output_type": "execute_result"
    }
   ],
   "source": [
    "get_similar_movie('Die Hard 2 (1990)')"
   ]
  },
  {
   "cell_type": "code",
   "execution_count": 51,
   "id": "b0ae75cd",
   "metadata": {},
   "outputs": [],
   "source": [
    "# 비슷한 영화를 찾아주는 함수\n",
    "\n",
    "def get_similar_movie_id(movie_id: str):\n",
    "    similar_movie = als_model.similar_items(movie_id)\n",
    "    similar_movie = [idx_to_movie[i[0]] for i in similar_movie]\n",
    "    return similar_movie"
   ]
  },
  {
   "cell_type": "code",
   "execution_count": 53,
   "id": "a6d08dd1",
   "metadata": {},
   "outputs": [
    {
     "data": {
      "text/plain": [
       "['GoldenEye (1995)',\n",
       " 'Tomorrow Never Dies (1997)',\n",
       " 'World Is Not Enough, The (1999)',\n",
       " 'Clear and Present Danger (1994)',\n",
       " 'Die Hard: With a Vengeance (1995)',\n",
       " 'Mask of Zorro, The (1998)',\n",
       " 'Rush Hour (1998)',\n",
       " 'Rock, The (1996)',\n",
       " 'Rumble in the Bronx (1995)',\n",
       " 'Licence to Kill (1989)']"
      ]
     },
     "execution_count": 53,
     "metadata": {},
     "output_type": "execute_result"
    }
   ],
   "source": [
    "# Toy Story와 비슷한 영화 추천\n",
    "get_similar_movie_id(10)"
   ]
  },
  {
   "cell_type": "code",
   "execution_count": null,
   "id": "96951624",
   "metadata": {},
   "outputs": [],
   "source": []
  },
  {
   "cell_type": "markdown",
   "id": "56c3e710",
   "metadata": {},
   "source": [
    "## 회고\n",
    "\n",
    "- 역시 이번 추천시스템을 진행하면서 느낀 것 중에 하나는 '도메인에 대한 이해'와 '데이터에 대한 이해'가 절실하게 필요하다는 것이었다.  \n",
    "- 데이터 사이언티스트를 하건, 인공지능 엔지니어를 하건간에 전체 분야에 대한 기본적인 통찰력과 도메인에 대한 어느정도의 전문지식이 필요다다는 것을 다시한번 깨닳은 프로젝트였다.  \n",
    "- 아무생각 없이 재미있게 보았던 그리고 어떻게 내가 좋아 하는 스타일의 영화를 저렇게도 콕콕 집어서 추천해줄까 궁금했던 넷플렉스의 추천시스템에 대해서 제대로 이해 할 수 있는 시간이었다.\n",
    "- 오래전에 재미 있게 보았던 부루스윌리스 주연의 Die Hard 2 (1990)를 선택했고 결과적으로 전반적으로 비슷한 영화를 찾아주었고, 제대로 된 추천을 진행한 것 같이 보인다. "
   ]
  },
  {
   "cell_type": "code",
   "execution_count": null,
   "id": "d77e457e",
   "metadata": {},
   "outputs": [],
   "source": []
  },
  {
   "cell_type": "code",
   "execution_count": null,
   "id": "ad7f4a45",
   "metadata": {},
   "outputs": [],
   "source": []
  },
  {
   "cell_type": "code",
   "execution_count": null,
   "id": "93c2b0c7",
   "metadata": {},
   "outputs": [],
   "source": []
  },
  {
   "cell_type": "code",
   "execution_count": null,
   "id": "b3367b96",
   "metadata": {},
   "outputs": [],
   "source": []
  },
  {
   "cell_type": "code",
   "execution_count": null,
   "id": "d62b886d",
   "metadata": {},
   "outputs": [],
   "source": []
  },
  {
   "cell_type": "code",
   "execution_count": null,
   "id": "e9407509",
   "metadata": {},
   "outputs": [],
   "source": []
  },
  {
   "cell_type": "code",
   "execution_count": null,
   "id": "a74ccc13",
   "metadata": {},
   "outputs": [],
   "source": []
  },
  {
   "cell_type": "code",
   "execution_count": null,
   "id": "36a4b57d",
   "metadata": {},
   "outputs": [],
   "source": []
  }
 ],
 "metadata": {
  "kernelspec": {
   "display_name": "Python 3 (ipykernel)",
   "language": "python",
   "name": "python3"
  },
  "language_info": {
   "codemirror_mode": {
    "name": "ipython",
    "version": 3
   },
   "file_extension": ".py",
   "mimetype": "text/x-python",
   "name": "python",
   "nbconvert_exporter": "python",
   "pygments_lexer": "ipython3",
   "version": "3.9.7"
  }
 },
 "nbformat": 4,
 "nbformat_minor": 5
}
