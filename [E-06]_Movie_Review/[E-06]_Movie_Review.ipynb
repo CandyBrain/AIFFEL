{
 "cells": [
  {
   "cell_type": "code",
   "execution_count": 9,
   "id": "072efa95",
   "metadata": {},
   "outputs": [],
   "source": [
    "import os\n",
    "import warnings\n",
    "from collections import Counter\n",
    "\n",
    "import numpy as np\n",
    "import pandas as pd\n",
    "from tensorflow import keras\n",
    "import matplotlib.pyplot as plt\n",
    "from konlpy.tag import Okt, Mecab\n",
    "from gensim.models import Word2Vec\n",
    "from gensim.models import KeyedVectors\n",
    "from tensorflow.keras.initializers import Constant\n",
    "from gensim.models.keyedvectors import Word2VecKeyedVectors"
   ]
  },
  {
   "cell_type": "code",
   "execution_count": 10,
   "id": "51353b0e",
   "metadata": {},
   "outputs": [],
   "source": [
    "os.environ['TF_FORCE_GPU_ALLOW_GROWTH'] = 'true'\n",
    "warnings.filterwarnings(\"ignore\", category=np.VisibleDeprecationWarning)"
   ]
  },
  {
   "cell_type": "markdown",
   "id": "354d6bed",
   "metadata": {},
   "source": [
    "## 1. 데이터 로딩 (훈련데이터. 테스트 데이터)"
   ]
  },
  {
   "cell_type": "code",
   "execution_count": 11,
   "id": "b504ebee",
   "metadata": {},
   "outputs": [],
   "source": [
    "# 훈련데이터와 테스트 데이터를 로딩\n",
    "train_data = pd.read_table('~/aiffel/workplace/E-06_Movie_Review/sentiment_classification/data/ratings_train.txt')\n",
    "test_data = pd.read_table('~/aiffel/workplace/E-06_Movie_Review/sentiment_classification/data/ratings_test.txt')"
   ]
  },
  {
   "cell_type": "code",
   "execution_count": 12,
   "id": "a0e3d82f",
   "metadata": {},
   "outputs": [
    {
     "data": {
      "text/html": [
       "<div>\n",
       "<style scoped>\n",
       "    .dataframe tbody tr th:only-of-type {\n",
       "        vertical-align: middle;\n",
       "    }\n",
       "\n",
       "    .dataframe tbody tr th {\n",
       "        vertical-align: top;\n",
       "    }\n",
       "\n",
       "    .dataframe thead th {\n",
       "        text-align: right;\n",
       "    }\n",
       "</style>\n",
       "<table border=\"1\" class=\"dataframe\">\n",
       "  <thead>\n",
       "    <tr style=\"text-align: right;\">\n",
       "      <th></th>\n",
       "      <th>id</th>\n",
       "      <th>document</th>\n",
       "      <th>label</th>\n",
       "    </tr>\n",
       "  </thead>\n",
       "  <tbody>\n",
       "    <tr>\n",
       "      <th>0</th>\n",
       "      <td>9976970</td>\n",
       "      <td>아 더빙.. 진짜 짜증나네요 목소리</td>\n",
       "      <td>0</td>\n",
       "    </tr>\n",
       "    <tr>\n",
       "      <th>1</th>\n",
       "      <td>3819312</td>\n",
       "      <td>흠...포스터보고 초딩영화줄....오버연기조차 가볍지 않구나</td>\n",
       "      <td>1</td>\n",
       "    </tr>\n",
       "    <tr>\n",
       "      <th>2</th>\n",
       "      <td>10265843</td>\n",
       "      <td>너무재밓었다그래서보는것을추천한다</td>\n",
       "      <td>0</td>\n",
       "    </tr>\n",
       "    <tr>\n",
       "      <th>3</th>\n",
       "      <td>9045019</td>\n",
       "      <td>교도소 이야기구먼 ..솔직히 재미는 없다..평점 조정</td>\n",
       "      <td>0</td>\n",
       "    </tr>\n",
       "    <tr>\n",
       "      <th>4</th>\n",
       "      <td>6483659</td>\n",
       "      <td>사이몬페그의 익살스런 연기가 돋보였던 영화!스파이더맨에서 늙어보이기만 했던 커스틴 ...</td>\n",
       "      <td>1</td>\n",
       "    </tr>\n",
       "  </tbody>\n",
       "</table>\n",
       "</div>"
      ],
      "text/plain": [
       "         id                                           document  label\n",
       "0   9976970                                아 더빙.. 진짜 짜증나네요 목소리      0\n",
       "1   3819312                  흠...포스터보고 초딩영화줄....오버연기조차 가볍지 않구나      1\n",
       "2  10265843                                  너무재밓었다그래서보는것을추천한다      0\n",
       "3   9045019                      교도소 이야기구먼 ..솔직히 재미는 없다..평점 조정      0\n",
       "4   6483659  사이몬페그의 익살스런 연기가 돋보였던 영화!스파이더맨에서 늙어보이기만 했던 커스틴 ...      1"
      ]
     },
     "execution_count": 12,
     "metadata": {},
     "output_type": "execute_result"
    }
   ],
   "source": [
    "# train 데이터 확인\n",
    "train_data.head(5)"
   ]
  },
  {
   "cell_type": "code",
   "execution_count": 10,
   "id": "1ad1ac1c",
   "metadata": {},
   "outputs": [
    {
     "data": {
      "text/html": [
       "<div>\n",
       "<style scoped>\n",
       "    .dataframe tbody tr th:only-of-type {\n",
       "        vertical-align: middle;\n",
       "    }\n",
       "\n",
       "    .dataframe tbody tr th {\n",
       "        vertical-align: top;\n",
       "    }\n",
       "\n",
       "    .dataframe thead th {\n",
       "        text-align: right;\n",
       "    }\n",
       "</style>\n",
       "<table border=\"1\" class=\"dataframe\">\n",
       "  <thead>\n",
       "    <tr style=\"text-align: right;\">\n",
       "      <th></th>\n",
       "      <th>id</th>\n",
       "      <th>document</th>\n",
       "      <th>label</th>\n",
       "    </tr>\n",
       "  </thead>\n",
       "  <tbody>\n",
       "    <tr>\n",
       "      <th>0</th>\n",
       "      <td>6270596</td>\n",
       "      <td>굳 ㅋ</td>\n",
       "      <td>1</td>\n",
       "    </tr>\n",
       "    <tr>\n",
       "      <th>1</th>\n",
       "      <td>9274899</td>\n",
       "      <td>GDNTOPCLASSINTHECLUB</td>\n",
       "      <td>0</td>\n",
       "    </tr>\n",
       "    <tr>\n",
       "      <th>2</th>\n",
       "      <td>8544678</td>\n",
       "      <td>뭐야 이 평점들은.... 나쁘진 않지만 10점 짜리는 더더욱 아니잖아</td>\n",
       "      <td>0</td>\n",
       "    </tr>\n",
       "    <tr>\n",
       "      <th>3</th>\n",
       "      <td>6825595</td>\n",
       "      <td>지루하지는 않은데 완전 막장임... 돈주고 보기에는....</td>\n",
       "      <td>0</td>\n",
       "    </tr>\n",
       "    <tr>\n",
       "      <th>4</th>\n",
       "      <td>6723715</td>\n",
       "      <td>3D만 아니었어도 별 다섯 개 줬을텐데.. 왜 3D로 나와서 제 심기를 불편하게 하죠??</td>\n",
       "      <td>0</td>\n",
       "    </tr>\n",
       "  </tbody>\n",
       "</table>\n",
       "</div>"
      ],
      "text/plain": [
       "        id                                           document  label\n",
       "0  6270596                                                굳 ㅋ      1\n",
       "1  9274899                               GDNTOPCLASSINTHECLUB      0\n",
       "2  8544678             뭐야 이 평점들은.... 나쁘진 않지만 10점 짜리는 더더욱 아니잖아      0\n",
       "3  6825595                   지루하지는 않은데 완전 막장임... 돈주고 보기에는....      0\n",
       "4  6723715  3D만 아니었어도 별 다섯 개 줬을텐데.. 왜 3D로 나와서 제 심기를 불편하게 하죠??      0"
      ]
     },
     "execution_count": 10,
     "metadata": {},
     "output_type": "execute_result"
    }
   ],
   "source": [
    "# test 데이터 확인\n",
    "test_data.head(5)"
   ]
  },
  {
   "cell_type": "code",
   "execution_count": 64,
   "id": "6122fec7",
   "metadata": {},
   "outputs": [
    {
     "name": "stdout",
     "output_type": "stream",
     "text": [
      "train set: 150000개\n",
      "test set: 50000개\n"
     ]
    }
   ],
   "source": [
    "# 데이터의 개수 확인\n",
    "print(\"train set: {}개\".format(len(train_data)))\n",
    "print(\"test set: {}개\".format(len(test_data)))"
   ]
  },
  {
   "cell_type": "code",
   "execution_count": 14,
   "id": "d73e6e1a",
   "metadata": {},
   "outputs": [
    {
     "data": {
      "text/plain": [
       "<AxesSubplot:>"
      ]
     },
     "execution_count": 14,
     "metadata": {},
     "output_type": "execute_result"
    },
    {
     "data": {
      "image/png": "[encoded data removed]",
      "text/plain": [
       "<Figure size 432x288 with 1 Axes>"
      ]
     },
     "metadata": {
      "needs_background": "light"
     },
     "output_type": "display_data"
    }
   ],
   "source": [
    "# 라벨들을 확인\n",
    "train_data['label'].value_counts().plot(kind = 'bar')"
   ]
  },
  {
   "cell_type": "code",
   "execution_count": 12,
   "id": "89e7d46a",
   "metadata": {},
   "outputs": [],
   "source": [
    "from konlpy.tag import Mecab\n",
    "tokenizer = Mecab()\n",
    "stopwords = ['의','가','이','은','들','는','좀','잘','걍','과','도','를','으로','자','에','와','한','하다']"
   ]
  },
  {
   "cell_type": "code",
   "execution_count": 13,
   "id": "f099ab02",
   "metadata": {},
   "outputs": [],
   "source": [
    "def load_data(train_data, test_data, num_words=10000):\n",
    "    train_data.drop_duplicates(subset=['document'], inplace=True)\n",
    "    train_data = train_data.dropna(how = 'any') \n",
    "    test_data.drop_duplicates(subset=['document'], inplace=True)\n",
    "    test_data = test_data.dropna(how = 'any') \n",
    "\n",
    "    x_train = []\n",
    "    for sentence in train_data['document']:\n",
    "        temp_x = tokenizer.morphs(sentence) # 토큰화\n",
    "        temp_x = [word for word in temp_x if word not in stopwords] # 불용어 제거\n",
    "        x_train.append(temp_x)\n",
    "\n",
    "    x_test = []\n",
    "    for sentence in test_data['document']:\n",
    "        temp_x = tokenizer.morphs(sentence) # 토큰화\n",
    "        temp_x = [word for word in temp_x if word not in stopwords] # 불용어 제거\n",
    "        x_test.append(temp_x)\n",
    "\n",
    "    words = np.concatenate(x_train).tolist()\n",
    "    counter = Counter(words)\n",
    "    counter = counter.most_common(10000-4)\n",
    "    vocab = ['<PAD>', '<BOS>', '<UNK>', '<UNUSED>'] + [key for key, _ in counter]\n",
    "    word_to_index = {word:index for index, word in enumerate(vocab)}\n",
    "\n",
    "    def wordlist_to_indexlist(wordlist):\n",
    "        return [word_to_index[word] if word in word_to_index else word_to_index['<UNK>'] for word in wordlist]\n",
    "\n",
    "    x_train = list(map(wordlist_to_indexlist, x_train))\n",
    "    x_test = list(map(wordlist_to_indexlist, x_test))\n",
    "\n",
    "    return x_train, np.array(list(train_data['label'])), x_test, np.array(list(test_data['label'])), word_to_index\n",
    "\n",
    "x_train, y_train, x_test, y_test, word_to_index = load_data(train_data, test_data)"
   ]
  },
  {
   "cell_type": "code",
   "execution_count": 14,
   "id": "7441991d",
   "metadata": {},
   "outputs": [],
   "source": [
    "# index와 word 항목 전환\n",
    "index_to_word = {index:word for word, index in word_to_index.items()}"
   ]
  },
  {
   "cell_type": "code",
   "execution_count": 15,
   "id": "53f32ee3",
   "metadata": {},
   "outputs": [],
   "source": [
    "# 문장 1개를 활용할 딕셔너리와 함께 주면, 단어 인덱스 리스트 벡터로 변환해 주는 함수입니다. \n",
    "# 단, 모든 문장은 <BOS>로 시작하는 것으로 합니다. \n",
    "def get_encoded_sentence(sentence, word_to_index):\n",
    "    return [word_to_index['<BOS>']]+[word_to_index[word] if word in word_to_index else word_to_index['<UNK>'] for word in sentence.split()]\n",
    "\n",
    "# 여러 개의 문장 리스트를 한꺼번에 단어 인덱스 리스트 벡터로 encode해 주는 함수입니다. \n",
    "def get_encoded_sentences(sentences, word_to_index):\n",
    "    return [get_encoded_sentence(sentence, word_to_index) for sentence in sentences]\n",
    "\n",
    "# 숫자 벡터로 encode된 문장을 원래대로 decode하는 함수입니다. \n",
    "def get_decoded_sentence(encoded_sentence, index_to_word):\n",
    "    return ' '.join(index_to_word[index] if index in index_to_word else '<UNK>' for index in encoded_sentence[1:])  #[1:]를 통해 <BOS>를 제외\n",
    "\n",
    "# 여러개의 숫자 벡터로 encode된 문장을 한꺼번에 원래대로 decode하는 함수입니다. \n",
    "def get_decoded_sentences(encoded_sentences, index_to_word):\n",
    "    return [get_decoded_sentence(encoded_sentence, index_to_word) for encoded_sentence in encoded_sentences]"
   ]
  },
  {
   "cell_type": "code",
   "execution_count": 69,
   "id": "53df5e84",
   "metadata": {},
   "outputs": [
    {
     "name": "stdout",
     "output_type": "stream",
     "text": [
      "훈련 샘플 개수: 146182, 테스트 개수: 49157\n"
     ]
    }
   ],
   "source": [
    "# 샘플개수 확인\n",
    "print(\"훈련 샘플 개수: {}, 테스트 개수: {}\".format(len(x_train), len(x_test)))"
   ]
  },
  {
   "cell_type": "code",
   "execution_count": 70,
   "id": "aa092df0",
   "metadata": {},
   "outputs": [
    {
     "name": "stdout",
     "output_type": "stream",
     "text": [
      "더 빙 . . 진짜 짜증 나 네요 목소리\n",
      "라벨:  0\n"
     ]
    }
   ],
   "source": [
    "# decoding\n",
    "print(get_decoded_sentence(x_train[0], index_to_word))\n",
    "print('라벨: ', y_train[0])  # 1번째 리뷰데이터의 라벨"
   ]
  },
  {
   "cell_type": "code",
   "execution_count": 16,
   "id": "138256c3",
   "metadata": {
    "scrolled": false
   },
   "outputs": [],
   "source": [
    "# 텍스트데이터 문장길이의 리스트를 생성\n",
    "total_data_text = list(x_train) + list(x_test)"
   ]
  },
  {
   "cell_type": "code",
   "execution_count": 17,
   "id": "c63453cd",
   "metadata": {},
   "outputs": [
    {
     "name": "stdout",
     "output_type": "stream",
     "text": [
      "문장길이 평균 :  15.96940191154864\n",
      "문장길이 최대 :  116\n",
      "문장길이 표준편차 :  12.843571191092\n"
     ]
    },
    {
     "data": {
      "image/png": "[encoded data removed]",
      "text/plain": [
       "<Figure size 432x288 with 1 Axes>"
      ]
     },
     "metadata": {
      "needs_background": "light"
     },
     "output_type": "display_data"
    }
   ],
   "source": [
    "# 문장길이의 평균값, 최대값, 표준편차를 계산\n",
    "num_tokens = [len(tokens) for tokens in total_data_text]\n",
    "num_tokens = np.array(num_tokens)\n",
    "\n",
    "print('문장길이 평균 : ', np.mean(num_tokens))\n",
    "print('문장길이 최대 : ', np.max(num_tokens))\n",
    "print('문장길이 표준편차 : ', np.std(num_tokens))\n",
    "plt.clf()\n",
    "\n",
    "plt.hist([len(s) for s in total_data_text], bins=100)\n",
    "plt.xlabel('length of samples')\n",
    "plt.ylabel('number of samples')\n",
    "plt.show()"
   ]
  },
  {
   "cell_type": "code",
   "execution_count": 18,
   "id": "e8e703bf",
   "metadata": {},
   "outputs": [
    {
     "name": "stdout",
     "output_type": "stream",
     "text": [
      "pad_sequences maxlen :  41\n",
      "전체 문장의 0.9342988343341575%가 maxlen 설정값 이내에 포함됩니다. \n"
     ]
    }
   ],
   "source": [
    "# 예를들어, 최대 길이를 (평균 + 2*표준편차)로 한다면,  \n",
    "max_tokens = np.mean(num_tokens) + 2 * np.std(num_tokens)\n",
    "maxlen = int(max_tokens)\n",
    "print('pad_sequences maxlen : ', maxlen)\n",
    "print('전체 문장의 {}%가 maxlen 설정값 이내에 포함됩니다. '.format(np.sum(num_tokens < max_tokens) / len(num_tokens)))"
   ]
  },
  {
   "cell_type": "code",
   "execution_count": 19,
   "id": "e159781f",
   "metadata": {},
   "outputs": [
    {
     "name": "stdout",
     "output_type": "stream",
     "text": [
      "(146182, 41)\n"
     ]
    }
   ],
   "source": [
    "# padding \n",
    "x_train = keras.preprocessing.sequence.pad_sequences(x_train,\n",
    "                                                        value=word_to_index[\"<PAD>\"],\n",
    "                                                        padding='pre', # 혹은 'pre'\n",
    "                                                        maxlen=maxlen)\n",
    "\n",
    "x_test = keras.preprocessing.sequence.pad_sequences(x_test,\n",
    "                                                       value=word_to_index[\"<PAD>\"],\n",
    "                                                       padding='pre', # 혹은 'pre'\n",
    "                                                       maxlen=maxlen)\n",
    "\n",
    "print(x_train.shape)"
   ]
  },
  {
   "cell_type": "code",
   "execution_count": 20,
   "id": "80497984",
   "metadata": {},
   "outputs": [],
   "source": [
    "vocab_size = 10000    # 어휘 사전의 크기입니다(10,000개의 단어)\n",
    "word_vector_dim = 16  # 워드 벡터의 차원수 (변경가능한 하이퍼파라미터)"
   ]
  },
  {
   "cell_type": "markdown",
   "id": "328ccb36",
   "metadata": {},
   "source": [
    "## LSTM"
   ]
  },
  {
   "cell_type": "code",
   "execution_count": 21,
   "id": "d6fe2f0d",
   "metadata": {},
   "outputs": [
    {
     "name": "stdout",
     "output_type": "stream",
     "text": [
      "Model: \"sequential\"\n",
      "_________________________________________________________________\n",
      "Layer (type)                 Output Shape              Param #   \n",
      "=================================================================\n",
      "embedding (Embedding)        (None, None, 16)          160000    \n",
      "_________________________________________________________________\n",
      "lstm (LSTM)                  (None, 16)                2112      \n",
      "_________________________________________________________________\n",
      "dense (Dense)                (None, 8)                 136       \n",
      "_________________________________________________________________\n",
      "dense_1 (Dense)              (None, 1)                 9         \n",
      "=================================================================\n",
      "Total params: 162,257\n",
      "Trainable params: 162,257\n",
      "Non-trainable params: 0\n",
      "_________________________________________________________________\n"
     ]
    }
   ],
   "source": [
    "# model 설계\n",
    "model_lstm = keras.Sequential()\n",
    "model_lstm.add(keras.layers.Embedding(vocab_size, word_vector_dim, input_shape=(None,)))\n",
    "model_lstm.add(keras.layers.LSTM(16))   # 가장 널리 쓰이는 RNN인 LSTM 레이어를 사용하였습니다. 이때 LSTM state 벡터의 차원수는 8로 하였습니다. (변경가능)\n",
    "model_lstm.add(keras.layers.Dense(8, activation='relu'))\n",
    "model_lstm.add(keras.layers.Dense(1, activation='sigmoid'))  # 최종 출력은 긍정/부정을 나타내는 1dim 입니다.\n",
    "\n",
    "\n",
    "model_lstm.summary()"
   ]
  },
  {
   "cell_type": "code",
   "execution_count": 22,
   "id": "b9833a01",
   "metadata": {},
   "outputs": [
    {
     "name": "stdout",
     "output_type": "stream",
     "text": [
      "(136182, 41)\n",
      "(136182,)\n"
     ]
    }
   ],
   "source": [
    "# validation set 10000건 분리\n",
    "x_val = x_train[:10000]   \n",
    "y_val = y_train[:10000]\n",
    "\n",
    "# validation set을 제외한 나머지 15000건\n",
    "partial_x_train = x_train[10000:]  \n",
    "partial_y_train = y_train[10000:]\n",
    "\n",
    "print(partial_x_train.shape)\n",
    "print(partial_y_train.shape)"
   ]
  },
  {
   "cell_type": "code",
   "execution_count": 23,
   "id": "16b9f02e",
   "metadata": {},
   "outputs": [
    {
     "name": "stdout",
     "output_type": "stream",
     "text": [
      "Epoch 1/10\n",
      "34/34 [==============================] - 4s 25ms/step - loss: 0.6827 - accuracy: 0.6520 - val_loss: 0.6563 - val_accuracy: 0.7405\n",
      "Epoch 2/10\n",
      "34/34 [==============================] - 0s 11ms/step - loss: 0.5689 - accuracy: 0.7795 - val_loss: 0.4831 - val_accuracy: 0.7806\n",
      "Epoch 3/10\n",
      "34/34 [==============================] - 0s 11ms/step - loss: 0.4327 - accuracy: 0.8247 - val_loss: 0.4068 - val_accuracy: 0.8285\n",
      "Epoch 4/10\n",
      "34/34 [==============================] - 0s 11ms/step - loss: 0.3753 - accuracy: 0.8482 - val_loss: 0.3716 - val_accuracy: 0.8424\n",
      "Epoch 5/10\n",
      "34/34 [==============================] - 0s 11ms/step - loss: 0.3453 - accuracy: 0.8597 - val_loss: 0.3569 - val_accuracy: 0.8468\n",
      "Epoch 6/10\n",
      "34/34 [==============================] - 0s 11ms/step - loss: 0.3293 - accuracy: 0.8657 - val_loss: 0.3502 - val_accuracy: 0.8480\n",
      "Epoch 7/10\n",
      "34/34 [==============================] - 0s 11ms/step - loss: 0.3187 - accuracy: 0.8700 - val_loss: 0.3483 - val_accuracy: 0.8486\n",
      "Epoch 8/10\n",
      "34/34 [==============================] - 0s 11ms/step - loss: 0.3109 - accuracy: 0.8733 - val_loss: 0.3475 - val_accuracy: 0.8501\n",
      "Epoch 9/10\n",
      "34/34 [==============================] - 0s 11ms/step - loss: 0.3066 - accuracy: 0.8745 - val_loss: 0.3477 - val_accuracy: 0.8518\n",
      "Epoch 10/10\n",
      "34/34 [==============================] - 0s 12ms/step - loss: 0.3020 - accuracy: 0.8763 - val_loss: 0.3543 - val_accuracy: 0.8493\n"
     ]
    }
   ],
   "source": [
    "# 모델 학습\n",
    "model_lstm.compile(optimizer='adam',\n",
    "              loss='binary_crossentropy',\n",
    "              metrics=['accuracy'])\n",
    "              \n",
    "epochs=10  # 몇 epoch를 훈련하면 좋을지 결과를 보면서 바꾸어 봅시다. \n",
    "\n",
    "history = model_lstm.fit(partial_x_train,\n",
    "                    partial_y_train,\n",
    "                    epochs=epochs,\n",
    "                    batch_size=4096,\n",
    "                    validation_data=(x_val, y_val),\n",
    "                    verbose=1)"
   ]
  },
  {
   "cell_type": "code",
   "execution_count": 24,
   "id": "d4e72da2",
   "metadata": {},
   "outputs": [
    {
     "name": "stdout",
     "output_type": "stream",
     "text": [
      "1537/1537 - 3s - loss: 0.3679 - accuracy: 0.8411\n",
      "[0.3679410517215729, 0.8411213159561157]\n"
     ]
    }
   ],
   "source": [
    "# 모델 평가\n",
    "results = model_lstm.evaluate(x_test,  y_test, verbose=2)\n",
    "\n",
    "print(results)"
   ]
  },
  {
   "cell_type": "code",
   "execution_count": 25,
   "id": "28f666fc",
   "metadata": {},
   "outputs": [
    {
     "name": "stdout",
     "output_type": "stream",
     "text": [
      "dict_keys(['loss', 'accuracy', 'val_loss', 'val_accuracy'])\n"
     ]
    }
   ],
   "source": [
    "# 모델의 fitting 과정 중의 정보들이 history 변수에 저장\n",
    "history_dict = history.history\n",
    "print(history_dict.keys()) # epoch에 따른 그래프를 그려볼 수 있는 항목들"
   ]
  },
  {
   "cell_type": "code",
   "execution_count": 26,
   "id": "cdafbcf5",
   "metadata": {},
   "outputs": [],
   "source": [
    "acc = history_dict['accuracy']\n",
    "val_acc = history_dict['val_accuracy']\n",
    "loss = history_dict['loss']\n",
    "val_loss = history_dict['val_loss']\n",
    "\n",
    "epochs = range(1, len(acc) + 1)"
   ]
  },
  {
   "cell_type": "code",
   "execution_count": 27,
   "id": "5e26d0a5",
   "metadata": {},
   "outputs": [
    {
     "data": {
      "image/png": "[encoded data removed]",
      "text/plain": [
       "<Figure size 432x288 with 1 Axes>"
      ]
     },
     "metadata": {
      "needs_background": "light"
     },
     "output_type": "display_data"
    }
   ],
   "source": [
    "# \"bo\"는 \"파란색 점\"입니다\n",
    "plt.plot(epochs, loss, 'bo', label='Training loss')\n",
    "# b는 \"파란 실선\"입니다\n",
    "plt.plot(epochs, val_loss, 'b', label='Validation loss')\n",
    "plt.title('Training and validation loss')\n",
    "plt.xlabel('Epochs')\n",
    "plt.ylabel('Loss')\n",
    "plt.legend()\n",
    "\n",
    "plt.show()"
   ]
  },
  {
   "cell_type": "code",
   "execution_count": 28,
   "id": "c3558c0b",
   "metadata": {},
   "outputs": [
    {
     "data": {
      "image/png": "[encoded data removed]",
      "text/plain": [
       "<Figure size 432x288 with 1 Axes>"
      ]
     },
     "metadata": {
      "needs_background": "light"
     },
     "output_type": "display_data"
    }
   ],
   "source": [
    "# Training and Validation accuracy\n",
    "plt.clf()   # 그림을 초기화합니다\n",
    "\n",
    "plt.plot(epochs, acc, 'bo', label='Training acc')\n",
    "plt.plot(epochs, val_acc, 'b', label='Validation acc')\n",
    "plt.title('Training and validation accuracy')\n",
    "plt.xlabel('Epochs')\n",
    "plt.ylabel('Accuracy')\n",
    "plt.legend()\n",
    "\n",
    "plt.show()"
   ]
  },
  {
   "cell_type": "markdown",
   "id": "a7466cd7",
   "metadata": {},
   "source": [
    "## 1-D Conv"
   ]
  },
  {
   "cell_type": "code",
   "execution_count": 29,
   "id": "cbd47791",
   "metadata": {},
   "outputs": [
    {
     "name": "stdout",
     "output_type": "stream",
     "text": [
      "Model: \"sequential_1\"\n",
      "_________________________________________________________________\n",
      "Layer (type)                 Output Shape              Param #   \n",
      "=================================================================\n",
      "embedding_1 (Embedding)      (None, None, 16)          160000    \n",
      "_________________________________________________________________\n",
      "conv1d (Conv1D)              (None, None, 16)          1808      \n",
      "_________________________________________________________________\n",
      "max_pooling1d (MaxPooling1D) (None, None, 16)          0         \n",
      "_________________________________________________________________\n",
      "conv1d_1 (Conv1D)            (None, None, 16)          1808      \n",
      "_________________________________________________________________\n",
      "global_max_pooling1d (Global (None, 16)                0         \n",
      "_________________________________________________________________\n",
      "dense_2 (Dense)              (None, 8)                 136       \n",
      "_________________________________________________________________\n",
      "dense_3 (Dense)              (None, 1)                 9         \n",
      "=================================================================\n",
      "Total params: 163,761\n",
      "Trainable params: 163,761\n",
      "Non-trainable params: 0\n",
      "_________________________________________________________________\n"
     ]
    }
   ],
   "source": [
    "model_1Dconv = keras.Sequential()\n",
    "model_1Dconv.add(keras.layers.Embedding(vocab_size, word_vector_dim, input_shape=(None,)))\n",
    "model_1Dconv.add(keras.layers.Conv1D(16, 7, activation='relu'))\n",
    "model_1Dconv.add(keras.layers.MaxPooling1D(5))\n",
    "model_1Dconv.add(keras.layers.Conv1D(16, 7, activation='relu'))\n",
    "model_1Dconv.add(keras.layers.GlobalMaxPooling1D())\n",
    "model_1Dconv.add(keras.layers.Dense(8, activation='relu'))\n",
    "model_1Dconv.add(keras.layers.Dense(1, activation='sigmoid'))  # 최종 출력은 긍정/부정을 나타내는 1dim 입니다.\n",
    "\n",
    "model_1Dconv.summary()"
   ]
  },
  {
   "cell_type": "code",
   "execution_count": 30,
   "id": "2491ce1a",
   "metadata": {},
   "outputs": [
    {
     "name": "stdout",
     "output_type": "stream",
     "text": [
      "Epoch 1/10\n",
      "34/34 [==============================] - 2s 20ms/step - loss: 0.6901 - accuracy: 0.5717 - val_loss: 0.6780 - val_accuracy: 0.7114\n",
      "Epoch 2/10\n",
      "34/34 [==============================] - 0s 10ms/step - loss: 0.6138 - accuracy: 0.7621 - val_loss: 0.5063 - val_accuracy: 0.7996\n",
      "Epoch 3/10\n",
      "34/34 [==============================] - 0s 10ms/step - loss: 0.4236 - accuracy: 0.8213 - val_loss: 0.3789 - val_accuracy: 0.8342\n",
      "Epoch 4/10\n",
      "34/34 [==============================] - 0s 10ms/step - loss: 0.3489 - accuracy: 0.8524 - val_loss: 0.3517 - val_accuracy: 0.8477\n",
      "Epoch 5/10\n",
      "34/34 [==============================] - 0s 10ms/step - loss: 0.3229 - accuracy: 0.8648 - val_loss: 0.3456 - val_accuracy: 0.8514\n",
      "Epoch 6/10\n",
      "34/34 [==============================] - 0s 10ms/step - loss: 0.3081 - accuracy: 0.8718 - val_loss: 0.3467 - val_accuracy: 0.8472\n",
      "Epoch 7/10\n",
      "34/34 [==============================] - 0s 10ms/step - loss: 0.2979 - accuracy: 0.8763 - val_loss: 0.3443 - val_accuracy: 0.8504\n",
      "Epoch 8/10\n",
      "34/34 [==============================] - 0s 10ms/step - loss: 0.2883 - accuracy: 0.8814 - val_loss: 0.3468 - val_accuracy: 0.8525\n",
      "Epoch 9/10\n",
      "34/34 [==============================] - 0s 10ms/step - loss: 0.2806 - accuracy: 0.8856 - val_loss: 0.3457 - val_accuracy: 0.8510\n",
      "Epoch 10/10\n",
      "34/34 [==============================] - 0s 10ms/step - loss: 0.2719 - accuracy: 0.8901 - val_loss: 0.3488 - val_accuracy: 0.8498\n"
     ]
    }
   ],
   "source": [
    "# 모델 학습\n",
    "model_1Dconv.compile(optimizer='adam',\n",
    "              loss='binary_crossentropy',\n",
    "              metrics=['accuracy'])\n",
    "              \n",
    "epochs=10  # 몇 epoch를 훈련하면 좋을지 결과를 보면서 바꾸어 봅시다. \n",
    "\n",
    "history = model_1Dconv.fit(partial_x_train,\n",
    "                    partial_y_train,\n",
    "                    epochs=epochs,\n",
    "                    batch_size=4096,\n",
    "                    validation_data=(x_val, y_val),\n",
    "                    verbose=1)"
   ]
  },
  {
   "cell_type": "code",
   "execution_count": 31,
   "id": "e38fbf16",
   "metadata": {},
   "outputs": [
    {
     "name": "stdout",
     "output_type": "stream",
     "text": [
      "1537/1537 - 2s - loss: 0.3619 - accuracy: 0.8478\n",
      "[0.3619474470615387, 0.8477938175201416]\n"
     ]
    }
   ],
   "source": [
    "# 모델 평가\n",
    "results = model_1Dconv.evaluate(x_test,  y_test, verbose=2)\n",
    "\n",
    "print(results)"
   ]
  },
  {
   "cell_type": "markdown",
   "id": "a464fc9f",
   "metadata": {},
   "source": [
    "## GlobalMaxPooling"
   ]
  },
  {
   "cell_type": "code",
   "execution_count": 32,
   "id": "092e4f89",
   "metadata": {},
   "outputs": [
    {
     "name": "stdout",
     "output_type": "stream",
     "text": [
      "Model: \"sequential_2\"\n",
      "_________________________________________________________________\n",
      "Layer (type)                 Output Shape              Param #   \n",
      "=================================================================\n",
      "embedding_2 (Embedding)      (None, None, 16)          160000    \n",
      "_________________________________________________________________\n",
      "global_max_pooling1d_1 (Glob (None, 16)                0         \n",
      "_________________________________________________________________\n",
      "dense_4 (Dense)              (None, 8)                 136       \n",
      "_________________________________________________________________\n",
      "dense_5 (Dense)              (None, 1)                 9         \n",
      "=================================================================\n",
      "Total params: 160,145\n",
      "Trainable params: 160,145\n",
      "Non-trainable params: 0\n",
      "_________________________________________________________________\n"
     ]
    }
   ],
   "source": [
    "model_maxpool = keras.Sequential()\n",
    "model_maxpool.add(keras.layers.Embedding(vocab_size, word_vector_dim, input_shape=(None,)))\n",
    "model_maxpool.add(keras.layers.GlobalMaxPooling1D())\n",
    "model_maxpool.add(keras.layers.Dense(8, activation='relu'))\n",
    "model_maxpool.add(keras.layers.Dense(1, activation='sigmoid'))  # 최종 출력은 긍정/부정을 나타내는 1dim 입니다.\n",
    "\n",
    "model_maxpool.summary()"
   ]
  },
  {
   "cell_type": "code",
   "execution_count": 33,
   "id": "02123397",
   "metadata": {},
   "outputs": [
    {
     "name": "stdout",
     "output_type": "stream",
     "text": [
      "Epoch 1/10\n",
      "34/34 [==============================] - 1s 8ms/step - loss: 0.6869 - accuracy: 0.6727 - val_loss: 0.6772 - val_accuracy: 0.7711\n",
      "Epoch 2/10\n",
      "34/34 [==============================] - 0s 5ms/step - loss: 0.6591 - accuracy: 0.7901 - val_loss: 0.6353 - val_accuracy: 0.8040\n",
      "Epoch 3/10\n",
      "34/34 [==============================] - 0s 5ms/step - loss: 0.6018 - accuracy: 0.8181 - val_loss: 0.5664 - val_accuracy: 0.8185\n",
      "Epoch 4/10\n",
      "34/34 [==============================] - 0s 5ms/step - loss: 0.5239 - accuracy: 0.8327 - val_loss: 0.4877 - val_accuracy: 0.8283\n",
      "Epoch 5/10\n",
      "34/34 [==============================] - 0s 4ms/step - loss: 0.4481 - accuracy: 0.8425 - val_loss: 0.4254 - val_accuracy: 0.8338\n",
      "Epoch 6/10\n",
      "34/34 [==============================] - 0s 4ms/step - loss: 0.3934 - accuracy: 0.8499 - val_loss: 0.3885 - val_accuracy: 0.8378\n",
      "Epoch 7/10\n",
      "34/34 [==============================] - 0s 4ms/step - loss: 0.3594 - accuracy: 0.8567 - val_loss: 0.3690 - val_accuracy: 0.8409\n",
      "Epoch 8/10\n",
      "34/34 [==============================] - 0s 4ms/step - loss: 0.3380 - accuracy: 0.8624 - val_loss: 0.3588 - val_accuracy: 0.8432\n",
      "Epoch 9/10\n",
      "34/34 [==============================] - 0s 4ms/step - loss: 0.3230 - accuracy: 0.8676 - val_loss: 0.3530 - val_accuracy: 0.8452\n",
      "Epoch 10/10\n",
      "34/34 [==============================] - 0s 4ms/step - loss: 0.3115 - accuracy: 0.8722 - val_loss: 0.3498 - val_accuracy: 0.8462\n"
     ]
    }
   ],
   "source": [
    "# 모델 학습\n",
    "model_maxpool.compile(optimizer='adam',\n",
    "              loss='binary_crossentropy',\n",
    "              metrics=['accuracy'])\n",
    "              \n",
    "epochs=10  # 몇 epoch를 훈련하면 좋을지 결과를 보면서 바꾸어 봅시다. \n",
    "\n",
    "history = model_maxpool.fit(partial_x_train,\n",
    "                    partial_y_train,\n",
    "                    epochs=epochs,\n",
    "                    batch_size=4096,\n",
    "                    validation_data=(x_val, y_val),\n",
    "                    verbose=1)"
   ]
  },
  {
   "cell_type": "code",
   "execution_count": 34,
   "id": "2c045ee1",
   "metadata": {},
   "outputs": [
    {
     "name": "stdout",
     "output_type": "stream",
     "text": [
      "1537/1537 - 2s - loss: 0.3620 - accuracy: 0.8413\n",
      "[0.3619559705257416, 0.8413247466087341]\n"
     ]
    }
   ],
   "source": [
    "# 모델 평가\n",
    "results = model_maxpool.evaluate(x_test,  y_test, verbose=2)\n",
    "\n",
    "print(results)"
   ]
  },
  {
   "cell_type": "code",
   "execution_count": 35,
   "id": "19b550ac",
   "metadata": {},
   "outputs": [
    {
     "data": {
      "text/plain": [
       "[('고양이', 0.7290452718734741),\n",
       " ('거위', 0.7185635566711426),\n",
       " ('토끼', 0.7056223154067993),\n",
       " ('멧돼지', 0.6950401067733765),\n",
       " ('엄마', 0.6934334635734558),\n",
       " ('난쟁이', 0.6806551218032837),\n",
       " ('한마리', 0.6770296096801758),\n",
       " ('아가씨', 0.6750352382659912),\n",
       " ('아빠', 0.6729634404182434),\n",
       " ('목걸이', 0.6512460708618164)]"
      ]
     },
     "execution_count": 35,
     "metadata": {},
     "output_type": "execute_result"
    }
   ],
   "source": [
    "import gensim\n",
    "word2vec_path = os.getenv('HOME') +'/aiffel/workplace/E-06_Movie_Review/sentiment_classification/data/ko.bin'\n",
    "pre_word2vec = gensim.models.Word2Vec.load(word2vec_path)\n",
    "vector = pre_word2vec.wv.most_similar(\"강아지\")\n",
    "vector"
   ]
  },
  {
   "cell_type": "code",
   "execution_count": 36,
   "id": "2d5a520c",
   "metadata": {},
   "outputs": [
    {
     "name": "stderr",
     "output_type": "stream",
     "text": [
      "/tmp/ipykernel_740/3111700179.py:1: DeprecationWarning: Call to deprecated `__getitem__` (Method will be removed in 4.0.0, use self.wv.__getitem__() instead).\n",
      "  pre_word2vec['강아지'].shape\n"
     ]
    },
    {
     "data": {
      "text/plain": [
       "(200,)"
      ]
     },
     "execution_count": 36,
     "metadata": {},
     "output_type": "execute_result"
    }
   ],
   "source": [
    "pre_word2vec['강아지'].shape"
   ]
  },
  {
   "cell_type": "code",
   "execution_count": 37,
   "id": "90aadaed",
   "metadata": {},
   "outputs": [
    {
     "name": "stderr",
     "output_type": "stream",
     "text": [
      "/tmp/ipykernel_740/2169394076.py:9: DeprecationWarning: Call to deprecated `__contains__` (Method will be removed in 4.0.0, use self.wv.__contains__() instead).\n",
      "  if index_to_word[i] in pre_word2vec:\n",
      "/tmp/ipykernel_740/2169394076.py:10: DeprecationWarning: Call to deprecated `__getitem__` (Method will be removed in 4.0.0, use self.wv.__getitem__() instead).\n",
      "  embedding_matrix[i] = pre_word2vec[index_to_word[i]]\n"
     ]
    }
   ],
   "source": [
    "# 임베딩 레이어 변경\n",
    "vocab_size = 10000    # 어휘 사전의 크기입니다(10,000개의 단어)\n",
    "word_vector_dim = 200  # 워드 벡터의 차원수 (변경가능한 하이퍼파라미터)\n",
    "\n",
    "embedding_matrix = np.random.rand(vocab_size, word_vector_dim)\n",
    "\n",
    "# embedding_matrix에 Word2Vec 워드벡터를 단어 하나씩마다 차례차례 카피한다.\n",
    "for i in range(4,vocab_size):\n",
    "    if index_to_word[i] in pre_word2vec:\n",
    "        embedding_matrix[i] = pre_word2vec[index_to_word[i]]"
   ]
  },
  {
   "cell_type": "code",
   "execution_count": 38,
   "id": "e1eb8721",
   "metadata": {},
   "outputs": [
    {
     "name": "stdout",
     "output_type": "stream",
     "text": [
      "Model: \"sequential_3\"\n",
      "_________________________________________________________________\n",
      "Layer (type)                 Output Shape              Param #   \n",
      "=================================================================\n",
      "embedding_3 (Embedding)      (None, 41, 200)           2000000   \n",
      "_________________________________________________________________\n",
      "lstm_1 (LSTM)                (None, 16)                13888     \n",
      "_________________________________________________________________\n",
      "dense_6 (Dense)              (None, 8)                 136       \n",
      "_________________________________________________________________\n",
      "dense_7 (Dense)              (None, 1)                 9         \n",
      "=================================================================\n",
      "Total params: 2,014,033\n",
      "Trainable params: 2,014,033\n",
      "Non-trainable params: 0\n",
      "_________________________________________________________________\n"
     ]
    }
   ],
   "source": [
    "# 모델 설계\n",
    "from tensorflow.keras.initializers import Constant\n",
    "\n",
    "vocab_size = 10000    # 어휘 사전의 크기입니다(10,000개의 단어)\n",
    "word_vector_dim = 200  # 워드 벡터의 차원수 (변경가능한 하이퍼파라미터)\n",
    "\n",
    "# 모델 구성\n",
    "model = keras.Sequential()\n",
    "model.add(keras.layers.Embedding(vocab_size, \n",
    "                                 word_vector_dim, \n",
    "                                 embeddings_initializer=Constant(embedding_matrix),  # 카피한 임베딩을 여기서 활용\n",
    "                                 input_length=maxlen, \n",
    "                                 trainable=True))   # trainable을 True로 주면 Fine-tuning\n",
    "model.add(keras.layers.LSTM(16))   # 가장 널리 쓰이는 RNN인 LSTM 레이어를 사용하였습니다. 이때 LSTM state 벡터의 차원수는 8로 하였습니다. (변경가능)\n",
    "model.add(keras.layers.Dense(8, activation='relu'))\n",
    "model.add(keras.layers.Dense(1, activation='sigmoid'))  # 최종 출력은 긍정/부정을 나타내는 1dim 입니다.\n",
    "\n",
    "model.summary()"
   ]
  },
  {
   "cell_type": "code",
   "execution_count": 39,
   "id": "735ae57e",
   "metadata": {},
   "outputs": [
    {
     "name": "stdout",
     "output_type": "stream",
     "text": [
      "Epoch 1/15\n",
      "34/34 [==============================] - 2s 33ms/step - loss: 0.6527 - accuracy: 0.6100 - val_loss: 0.5990 - val_accuracy: 0.6807\n",
      "Epoch 2/15\n",
      "34/34 [==============================] - 1s 20ms/step - loss: 0.5396 - accuracy: 0.7321 - val_loss: 0.4778 - val_accuracy: 0.7758\n",
      "Epoch 3/15\n",
      "34/34 [==============================] - 1s 20ms/step - loss: 0.4361 - accuracy: 0.8015 - val_loss: 0.4040 - val_accuracy: 0.8168\n",
      "Epoch 4/15\n",
      "34/34 [==============================] - 1s 20ms/step - loss: 0.3774 - accuracy: 0.8361 - val_loss: 0.3738 - val_accuracy: 0.8336\n",
      "Epoch 5/15\n",
      "34/34 [==============================] - 1s 20ms/step - loss: 0.3441 - accuracy: 0.8543 - val_loss: 0.3580 - val_accuracy: 0.8435\n",
      "Epoch 6/15\n",
      "34/34 [==============================] - 1s 20ms/step - loss: 0.3220 - accuracy: 0.8653 - val_loss: 0.3527 - val_accuracy: 0.8470\n",
      "Epoch 7/15\n",
      "34/34 [==============================] - 1s 20ms/step - loss: 0.3070 - accuracy: 0.8729 - val_loss: 0.3506 - val_accuracy: 0.8473\n",
      "Epoch 8/15\n",
      "34/34 [==============================] - 1s 20ms/step - loss: 0.2945 - accuracy: 0.8791 - val_loss: 0.3413 - val_accuracy: 0.8521\n",
      "Epoch 9/15\n",
      "34/34 [==============================] - 1s 20ms/step - loss: 0.2837 - accuracy: 0.8845 - val_loss: 0.3401 - val_accuracy: 0.8542\n",
      "Epoch 10/15\n",
      "34/34 [==============================] - 1s 20ms/step - loss: 0.2747 - accuracy: 0.8889 - val_loss: 0.3437 - val_accuracy: 0.8512\n",
      "Epoch 11/15\n",
      "34/34 [==============================] - 1s 20ms/step - loss: 0.2673 - accuracy: 0.8922 - val_loss: 0.3435 - val_accuracy: 0.8537\n",
      "Epoch 12/15\n",
      "34/34 [==============================] - 1s 20ms/step - loss: 0.2610 - accuracy: 0.8956 - val_loss: 0.3428 - val_accuracy: 0.8534\n",
      "Epoch 13/15\n",
      "34/34 [==============================] - 1s 20ms/step - loss: 0.2525 - accuracy: 0.8997 - val_loss: 0.3455 - val_accuracy: 0.8533\n",
      "Epoch 14/15\n",
      "34/34 [==============================] - 1s 20ms/step - loss: 0.2460 - accuracy: 0.9030 - val_loss: 0.3506 - val_accuracy: 0.8518\n",
      "Epoch 15/15\n",
      "34/34 [==============================] - 1s 20ms/step - loss: 0.2412 - accuracy: 0.9052 - val_loss: 0.3562 - val_accuracy: 0.8510\n"
     ]
    }
   ],
   "source": [
    "# 모델 학습\n",
    "model.compile(optimizer='adam',\n",
    "              loss='binary_crossentropy',\n",
    "              metrics=['accuracy'])\n",
    "              \n",
    "epochs=15  # 몇 epoch를 훈련하면 좋을지 결과를 보면서 바꾸어 봅시다. \n",
    "\n",
    "history = model.fit(partial_x_train,\n",
    "                    partial_y_train,\n",
    "                    epochs=epochs,\n",
    "                    batch_size=4096,\n",
    "                    validation_data=(x_val, y_val),\n",
    "                    verbose=1)"
   ]
  },
  {
   "cell_type": "code",
   "execution_count": 40,
   "id": "e5ab748d",
   "metadata": {},
   "outputs": [
    {
     "name": "stdout",
     "output_type": "stream",
     "text": [
      "1537/1537 - 3s - loss: 0.3678 - accuracy: 0.8474\n",
      "[0.3678380846977234, 0.8474276065826416]\n"
     ]
    }
   ],
   "source": [
    "# 모델 평가\n",
    "results = model.evaluate(x_test,  y_test, verbose=2)\n",
    "\n",
    "print(results)"
   ]
  },
  {
   "cell_type": "code",
   "execution_count": 41,
   "id": "4d330bea",
   "metadata": {},
   "outputs": [
    {
     "name": "stdout",
     "output_type": "stream",
     "text": [
      "dict_keys(['loss', 'accuracy', 'val_loss', 'val_accuracy'])\n"
     ]
    }
   ],
   "source": [
    "# 모델의 fitting 과정 중의 정보들이 history 변수에 저장\n",
    "history_dict = history.history\n",
    "print(history_dict.keys()) # epoch에 따른 그래프를 그려볼 수 있는 항목들"
   ]
  },
  {
   "cell_type": "code",
   "execution_count": 42,
   "id": "a47a0a8b",
   "metadata": {},
   "outputs": [],
   "source": [
    "# 도식화 Training and Validation loss\n",
    "import matplotlib.pyplot as plt\n",
    "\n",
    "acc = history_dict['accuracy']\n",
    "val_acc = history_dict['val_accuracy']\n",
    "loss = history_dict['loss']\n",
    "val_loss = history_dict['val_loss']\n",
    "\n",
    "epochs = range(1, len(acc) + 1)"
   ]
  },
  {
   "cell_type": "code",
   "execution_count": 43,
   "id": "3ff4328a",
   "metadata": {},
   "outputs": [
    {
     "data": {
      "image/png": "[encoded data removed]",
      "text/plain": [
       "<Figure size 432x288 with 1 Axes>"
      ]
     },
     "metadata": {
      "needs_background": "light"
     },
     "output_type": "display_data"
    }
   ],
   "source": [
    "# \"bo\"는 \"파란색 점\"입니다\n",
    "plt.plot(epochs, loss, 'bo', label='Training loss')\n",
    "# b는 \"파란 실선\"입니다\n",
    "plt.plot(epochs, val_loss, 'b', label='Validation loss')\n",
    "plt.title('Training and validation loss')\n",
    "plt.xlabel('Epochs')\n",
    "plt.ylabel('Loss')\n",
    "plt.legend()\n",
    "\n",
    "plt.show()"
   ]
  },
  {
   "cell_type": "code",
   "execution_count": 44,
   "id": "af972b46",
   "metadata": {},
   "outputs": [
    {
     "data": {
      "image/png": "[encoded data removed]",
      "text/plain": [
       "<Figure size 432x288 with 1 Axes>"
      ]
     },
     "metadata": {
      "needs_background": "light"
     },
     "output_type": "display_data"
    }
   ],
   "source": [
    "# Training and Validation accuracy\n",
    "plt.clf()   # 그림을 초기화합니다\n",
    "\n",
    "plt.plot(epochs, acc, 'bo', label='Training acc')\n",
    "plt.plot(epochs, val_acc, 'b', label='Validation acc')\n",
    "plt.title('Training and validation accuracy')\n",
    "plt.xlabel('Epochs')\n",
    "plt.ylabel('Accuracy')\n",
    "plt.legend()\n",
    "\n",
    "plt.show()"
   ]
  },
  {
   "cell_type": "markdown",
   "id": "1aa2c038",
   "metadata": {},
   "source": [
    "# 회고"
   ]
  },
  {
   "cell_type": "markdown",
   "id": "1c387038",
   "metadata": {},
   "source": [
    "자연어 처리에 대해서 정말 시작 할 수 있을정도의 감을 잡은 것 같다. 자연어 처리가 생각보다 재미 있다는 생각을 했다.  \n",
    "단어간의 단편적인 유사도와 문법적인 관계 뿐만 아니라. 개인의 해당 단어에 대한 사상도 투영시킬 수 있을 것 같다는 생각을 했다.  \n",
    "어차피 개인의 경험은 사람마다 전부 다 다르고 단어에 대한 경험도 사람마다 다 다르기 때문에 우리가 어떤 단어를 받아들일때 느끼는 느낌은 전부 다르다고 생각한다.  \n",
    "그러한 단어와 연결된 개개인의 이미지들, 느낌들을 벡터로 표현해서 학습 시킨다면 또다른 재미 있는 결과를 도출 할  수 있을 것이라는 생각이 든다.  \n",
    "이부분은 아이펠을 하는 동안 꾸준하게 한번 고민해보고 연구해봐야 할 주제로 삼으면 좋겠다는 생각을 했다.\n",
    "\n",
    "사실 구현하는데 급급해서 역시 여기저기서 컨닝하고 지식을 얻어 오는데 급급한 익스였다. \n",
    "언제쯤 완벽하게 나의 생각과 계획대로 진행할 수 있을지는 모르지만 일단 전반적인 프로세스들을 이해 할 수 있다는 것으로 만족한다.  \n",
    "일단 촉박한 시간 때문에 전처리를 진행하지 못했다. 아래에는 진행하고 있는 전처리들을 빼놓은 상태이다.  \n",
    "시간이 된다면 전처리까지 해서 성능이 얼마나 개선되는지 확인하고 싶다. 만약에 그렇지 못하더라도 주말즘에는 전처리를 진행하고 테스트를 해볼 예정이다.  \n",
    "\n",
    "매일 프로젝트를 마무리 할 때 마다 해보고 싶은 것은 많지만 해보지 못하는 것들에 대한 후회가 밀려온다.  \n",
    "시간이 지나면 조금 괜찮아 질까?"
   ]
  },
  {
   "cell_type": "code",
   "execution_count": null,
   "id": "7ebf20e8",
   "metadata": {},
   "outputs": [],
   "source": []
  },
  {
   "cell_type": "code",
   "execution_count": null,
   "id": "36f75597",
   "metadata": {},
   "outputs": [],
   "source": []
  },
  {
   "cell_type": "code",
   "execution_count": null,
   "id": "26c03f85",
   "metadata": {},
   "outputs": [],
   "source": []
  },
  {
   "cell_type": "markdown",
   "id": "e3dc60aa",
   "metadata": {},
   "source": [
    "## 중복데이터 제거"
   ]
  },
  {
   "cell_type": "markdown",
   "id": "9f403f32",
   "metadata": {},
   "source": [
    "- ### pandas의 unique(), value_counts() 함수는 유일한 값을 찾거나, 유일한 값별로 개수를 세준다."
   ]
  },
  {
   "cell_type": "markdown",
   "id": "f5e81ac7",
   "metadata": {},
   "source": [
    "### train_data 의 중복개수 확인"
   ]
  },
  {
   "cell_type": "code",
   "execution_count": 29,
   "id": "e169a307",
   "metadata": {},
   "outputs": [
    {
     "data": {
      "text/plain": [
       "0                                  아 더빙.. 진짜 짜증나네요 목소리\n",
       "1                    흠...포스터보고 초딩영화줄....오버연기조차 가볍지 않구나\n",
       "2                                    너무재밓었다그래서보는것을추천한다\n",
       "3                        교도소 이야기구먼 ..솔직히 재미는 없다..평점 조정\n",
       "4    사이몬페그의 익살스런 연기가 돋보였던 영화!스파이더맨에서 늙어보이기만 했던 커스틴 ...\n",
       "5        막 걸음마 뗀 3세부터 초등학교 1학년생인 8살용영화.ㅋㅋㅋ...별반개도 아까움.\n",
       "6                                원작의 긴장감을 제대로 살려내지못했다.\n",
       "7    별 반개도 아깝다 욕나온다 이응경 길용우 연기생활이몇년인지..정말 발로해도 그것보단...\n",
       "8                               액션이 없는데도 재미 있는 몇안되는 영화\n",
       "9        왜케 평점이 낮은건데? 꽤 볼만한데.. 헐리우드식 화려함에만 너무 길들여져 있나?\n",
       "Name: document, dtype: object"
      ]
     },
     "execution_count": 29,
     "metadata": {},
     "output_type": "execute_result"
    },
    {
     "name": "stdout",
     "output_type": "stream",
     "text": [
      "time: 3.11 ms (started: 2022-01-23 10:59:18 +00:00)\n"
     ]
    }
   ],
   "source": [
    "# train_data의 'document' 컬럼의 내용 확인, 10개만 확인해보자\n",
    "train_data['document'].head(10)"
   ]
  },
  {
   "cell_type": "code",
   "execution_count": 30,
   "id": "e41e0890",
   "metadata": {},
   "outputs": [
    {
     "data": {
      "text/plain": [
       "150000"
      ]
     },
     "execution_count": 30,
     "metadata": {},
     "output_type": "execute_result"
    },
    {
     "name": "stdout",
     "output_type": "stream",
     "text": [
      "time: 4.24 ms (started: 2022-01-23 10:59:23 +00:00)\n"
     ]
    }
   ],
   "source": [
    "# document에 있는 내용의 수\n",
    "len(train_data['document'])"
   ]
  },
  {
   "cell_type": "code",
   "execution_count": 31,
   "id": "034e51bd",
   "metadata": {},
   "outputs": [
    {
     "data": {
      "text/plain": [
       "146182"
      ]
     },
     "execution_count": 31,
     "metadata": {},
     "output_type": "execute_result"
    },
    {
     "name": "stdout",
     "output_type": "stream",
     "text": [
      "time: 85.1 ms (started: 2022-01-23 10:59:24 +00:00)\n"
     ]
    }
   ],
   "source": [
    "# document에 있는 유니크한 내용의 수\n",
    "len(train_data['document'].value_counts())"
   ]
  },
  {
   "cell_type": "code",
   "execution_count": 32,
   "id": "0f330ff0",
   "metadata": {},
   "outputs": [
    {
     "data": {
      "text/plain": [
       "3818"
      ]
     },
     "execution_count": 32,
     "metadata": {},
     "output_type": "execute_result"
    },
    {
     "name": "stdout",
     "output_type": "stream",
     "text": [
      "time: 78.1 ms (started: 2022-01-23 10:59:26 +00:00)\n"
     ]
    }
   ],
   "source": [
    "# 중복 개수 확인\n",
    "result1 = len(train_data['document']) - len(train_data['document'].value_counts())\n",
    "result1"
   ]
  },
  {
   "cell_type": "markdown",
   "id": "d9234500",
   "metadata": {},
   "source": [
    "### test_data의 중복개수 확인"
   ]
  },
  {
   "cell_type": "code",
   "execution_count": 33,
   "id": "76f58f2f",
   "metadata": {},
   "outputs": [
    {
     "data": {
      "text/plain": [
       "0                                                  굳 ㅋ\n",
       "1                                 GDNTOPCLASSINTHECLUB\n",
       "2               뭐야 이 평점들은.... 나쁘진 않지만 10점 짜리는 더더욱 아니잖아\n",
       "3                     지루하지는 않은데 완전 막장임... 돈주고 보기에는....\n",
       "4    3D만 아니었어도 별 다섯 개 줬을텐데.. 왜 3D로 나와서 제 심기를 불편하게 하죠??\n",
       "5                                   음악이 주가 된, 최고의 음악영화\n",
       "6                                              진정한 쓰레기\n",
       "7             마치 미국애니에서 튀어나온듯한 창의력없는 로봇디자인부터가,고개를 젖게한다\n",
       "8    갈수록 개판되가는 중국영화 유치하고 내용없음 폼잡다 끝남 말도안되는 무기에 유치한c...\n",
       "9       이별의 아픔뒤에 찾아오는 새로운 인연의 기쁨 But, 모든 사람이 그렇지는 않네..\n",
       "Name: document, dtype: object"
      ]
     },
     "execution_count": 33,
     "metadata": {},
     "output_type": "execute_result"
    },
    {
     "name": "stdout",
     "output_type": "stream",
     "text": [
      "time: 3.83 ms (started: 2022-01-23 10:59:28 +00:00)\n"
     ]
    }
   ],
   "source": [
    "# test_data의 'document' 컬럼의 내용 확인, 10개만 확인해보자\n",
    "test_data['document'].head(10)"
   ]
  },
  {
   "cell_type": "code",
   "execution_count": 34,
   "id": "c530e530",
   "metadata": {},
   "outputs": [
    {
     "data": {
      "text/plain": [
       "50000"
      ]
     },
     "execution_count": 34,
     "metadata": {},
     "output_type": "execute_result"
    },
    {
     "name": "stdout",
     "output_type": "stream",
     "text": [
      "time: 1.82 ms (started: 2022-01-23 10:59:30 +00:00)\n"
     ]
    }
   ],
   "source": [
    "len(test_data['document'])"
   ]
  },
  {
   "cell_type": "code",
   "execution_count": 35,
   "id": "3eac4bdf",
   "metadata": {},
   "outputs": [
    {
     "data": {
      "text/plain": [
       "49157"
      ]
     },
     "execution_count": 35,
     "metadata": {},
     "output_type": "execute_result"
    },
    {
     "name": "stdout",
     "output_type": "stream",
     "text": [
      "time: 23.9 ms (started: 2022-01-23 10:59:32 +00:00)\n"
     ]
    }
   ],
   "source": [
    "len(test_data['document'].value_counts())"
   ]
  },
  {
   "cell_type": "code",
   "execution_count": 36,
   "id": "32cfefe8",
   "metadata": {},
   "outputs": [
    {
     "data": {
      "text/plain": [
       "843"
      ]
     },
     "execution_count": 36,
     "metadata": {},
     "output_type": "execute_result"
    },
    {
     "name": "stdout",
     "output_type": "stream",
     "text": [
      "time: 23.3 ms (started: 2022-01-23 10:59:35 +00:00)\n"
     ]
    }
   ],
   "source": [
    "result2 = len(test_data['document']) - len(test_data['document'].value_counts())\n",
    "result2"
   ]
  },
  {
   "cell_type": "markdown",
   "id": "3c1c1527",
   "metadata": {},
   "source": [
    "### 중복 데이터 제거"
   ]
  },
  {
   "cell_type": "markdown",
   "id": "0b455c6e",
   "metadata": {},
   "source": [
    "중복 제거\n",
    "중복을 제거하기 위해서는 내장함수를 활용하거나 pandas를 활용할 수 있다.  \n",
    "내장함수에는 set(순서 중요하지 않을때)을 사용하거나 for문으로 요소를 확인 후 append하는 방식을 적용할 수 있다.  \n",
    "본 프로젝트에서는 drop_duplicates 함수를 사용했다."
   ]
  },
  {
   "cell_type": "markdown",
   "id": "117792ca",
   "metadata": {},
   "source": [
    "### train_data 중복 데이터 제거, inplace=True 데이터 프레임에 덮어 씌운다"
   ]
  },
  {
   "cell_type": "code",
   "execution_count": 37,
   "id": "f15098e8",
   "metadata": {},
   "outputs": [
    {
     "name": "stdout",
     "output_type": "stream",
     "text": [
      "time: 52.1 ms (started: 2022-01-23 10:59:37 +00:00)\n"
     ]
    }
   ],
   "source": [
    "# 중복데이터는 가공한 주요 데이터가 들어 있는 document 열을 기준으로 진행한다.\n",
    "train_data.drop_duplicates(['document'],inplace = True)"
   ]
  },
  {
   "cell_type": "code",
   "execution_count": 38,
   "id": "e88e1902",
   "metadata": {},
   "outputs": [
    {
     "data": {
      "text/plain": [
       "146183"
      ]
     },
     "execution_count": 38,
     "metadata": {},
     "output_type": "execute_result"
    },
    {
     "name": "stdout",
     "output_type": "stream",
     "text": [
      "time: 4.15 ms (started: 2022-01-23 10:59:39 +00:00)\n"
     ]
    }
   ],
   "source": [
    "# 원래 150,000개에서 146,183개로 줄어 들었다.\n",
    "len(train_data['document'])"
   ]
  },
  {
   "cell_type": "markdown",
   "id": "c121d365",
   "metadata": {},
   "source": [
    "### test_data 중복 데이터 제거, inplace=True 데이터 프레임에 덮어 씌운다"
   ]
  },
  {
   "cell_type": "code",
   "execution_count": 39,
   "id": "7a63fa92",
   "metadata": {},
   "outputs": [
    {
     "name": "stdout",
     "output_type": "stream",
     "text": [
      "time: 16.3 ms (started: 2022-01-23 10:59:42 +00:00)\n"
     ]
    }
   ],
   "source": [
    "test_data.drop_duplicates(['document'],inplace = True)"
   ]
  },
  {
   "cell_type": "code",
   "execution_count": 40,
   "id": "4e50f499",
   "metadata": {},
   "outputs": [
    {
     "data": {
      "text/plain": [
       "49158"
      ]
     },
     "execution_count": 40,
     "metadata": {},
     "output_type": "execute_result"
    },
    {
     "name": "stdout",
     "output_type": "stream",
     "text": [
      "time: 2.2 ms (started: 2022-01-23 10:59:45 +00:00)\n"
     ]
    }
   ],
   "source": [
    "# 원래 50,000개에서 49,158개로 줄어 들었다.\n",
    "len(test_data['document'])"
   ]
  },
  {
   "cell_type": "markdown",
   "id": "b7080f7b",
   "metadata": {},
   "source": [
    "## 특수문자 제거"
   ]
  },
  {
   "cell_type": "markdown",
   "id": "882e242e",
   "metadata": {},
   "source": [
    "- ㄱ ~ ㅎ: 3131 ~ 314E, ㅏ ~ ㅣ: 314F ~ 3163이며 완성형 한글의 범위는 가 ~ 힣을 사용한다.\n",
    "- 한글과 공백을 제외하고 모두 제거하는 정규화를 시도한다."
   ]
  },
  {
   "cell_type": "code",
   "execution_count": 44,
   "id": "6634b19c",
   "metadata": {},
   "outputs": [
    {
     "name": "stderr",
     "output_type": "stream",
     "text": [
      "/tmp/ipykernel_13/3683645933.py:1: FutureWarning: The default value of regex will change from True to False in a future version.\n",
      "  train_data['document'] = train_data['document'].str.replace(\"[^ㄱ-ㅎㅏ-ㅣ가-힣 ]\",\"\")\n"
     ]
    },
    {
     "data": {
      "text/html": [
       "<div>\n",
       "<style scoped>\n",
       "    .dataframe tbody tr th:only-of-type {\n",
       "        vertical-align: middle;\n",
       "    }\n",
       "\n",
       "    .dataframe tbody tr th {\n",
       "        vertical-align: top;\n",
       "    }\n",
       "\n",
       "    .dataframe thead th {\n",
       "        text-align: right;\n",
       "    }\n",
       "</style>\n",
       "<table border=\"1\" class=\"dataframe\">\n",
       "  <thead>\n",
       "    <tr style=\"text-align: right;\">\n",
       "      <th></th>\n",
       "      <th>id</th>\n",
       "      <th>document</th>\n",
       "      <th>label</th>\n",
       "    </tr>\n",
       "  </thead>\n",
       "  <tbody>\n",
       "    <tr>\n",
       "      <th>0</th>\n",
       "      <td>9976970</td>\n",
       "      <td>아 더빙 진짜 짜증나네요 목소리</td>\n",
       "      <td>0</td>\n",
       "    </tr>\n",
       "    <tr>\n",
       "      <th>1</th>\n",
       "      <td>3819312</td>\n",
       "      <td>흠포스터보고 초딩영화줄오버연기조차 가볍지 않구나</td>\n",
       "      <td>1</td>\n",
       "    </tr>\n",
       "    <tr>\n",
       "      <th>2</th>\n",
       "      <td>10265843</td>\n",
       "      <td>너무재밓었다그래서보는것을추천한다</td>\n",
       "      <td>0</td>\n",
       "    </tr>\n",
       "    <tr>\n",
       "      <th>3</th>\n",
       "      <td>9045019</td>\n",
       "      <td>교도소 이야기구먼 솔직히 재미는 없다평점 조정</td>\n",
       "      <td>0</td>\n",
       "    </tr>\n",
       "    <tr>\n",
       "      <th>4</th>\n",
       "      <td>6483659</td>\n",
       "      <td>사이몬페그의 익살스런 연기가 돋보였던 영화스파이더맨에서 늙어보이기만 했던 커스틴 던...</td>\n",
       "      <td>1</td>\n",
       "    </tr>\n",
       "    <tr>\n",
       "      <th>5</th>\n",
       "      <td>5403919</td>\n",
       "      <td>막 걸음마 뗀 세부터 초등학교 학년생인 살용영화ㅋㅋㅋ별반개도 아까움</td>\n",
       "      <td>0</td>\n",
       "    </tr>\n",
       "    <tr>\n",
       "      <th>6</th>\n",
       "      <td>7797314</td>\n",
       "      <td>원작의 긴장감을 제대로 살려내지못했다</td>\n",
       "      <td>0</td>\n",
       "    </tr>\n",
       "    <tr>\n",
       "      <th>7</th>\n",
       "      <td>9443947</td>\n",
       "      <td>별 반개도 아깝다 욕나온다 이응경 길용우 연기생활이몇년인지정말 발로해도 그것보단 낫...</td>\n",
       "      <td>0</td>\n",
       "    </tr>\n",
       "    <tr>\n",
       "      <th>8</th>\n",
       "      <td>7156791</td>\n",
       "      <td>액션이 없는데도 재미 있는 몇안되는 영화</td>\n",
       "      <td>1</td>\n",
       "    </tr>\n",
       "    <tr>\n",
       "      <th>9</th>\n",
       "      <td>5912145</td>\n",
       "      <td>왜케 평점이 낮은건데 꽤 볼만한데 헐리우드식 화려함에만 너무 길들여져 있나</td>\n",
       "      <td>1</td>\n",
       "    </tr>\n",
       "  </tbody>\n",
       "</table>\n",
       "</div>"
      ],
      "text/plain": [
       "         id                                           document  label\n",
       "0   9976970                                  아 더빙 진짜 짜증나네요 목소리      0\n",
       "1   3819312                         흠포스터보고 초딩영화줄오버연기조차 가볍지 않구나      1\n",
       "2  10265843                                  너무재밓었다그래서보는것을추천한다      0\n",
       "3   9045019                          교도소 이야기구먼 솔직히 재미는 없다평점 조정      0\n",
       "4   6483659  사이몬페그의 익살스런 연기가 돋보였던 영화스파이더맨에서 늙어보이기만 했던 커스틴 던...      1\n",
       "5   5403919              막 걸음마 뗀 세부터 초등학교 학년생인 살용영화ㅋㅋㅋ별반개도 아까움      0\n",
       "6   7797314                               원작의 긴장감을 제대로 살려내지못했다      0\n",
       "7   9443947  별 반개도 아깝다 욕나온다 이응경 길용우 연기생활이몇년인지정말 발로해도 그것보단 낫...      0\n",
       "8   7156791                             액션이 없는데도 재미 있는 몇안되는 영화      1\n",
       "9   5912145          왜케 평점이 낮은건데 꽤 볼만한데 헐리우드식 화려함에만 너무 길들여져 있나      1"
      ]
     },
     "execution_count": 44,
     "metadata": {},
     "output_type": "execute_result"
    },
    {
     "name": "stdout",
     "output_type": "stream",
     "text": [
      "time: 133 ms (started: 2022-01-23 11:01:11 +00:00)\n"
     ]
    }
   ],
   "source": [
    "train_data['document'] = train_data['document'].str.replace(\"[^ㄱ-ㅎㅏ-ㅣ가-힣 ]\",\"\")\n",
    "train_data[:10]"
   ]
  },
  {
   "cell_type": "markdown",
   "id": "135f36a7",
   "metadata": {},
   "source": [
    "## NaN 결측치 제거 (추후 더 정확한 확인 필요)"
   ]
  },
  {
   "cell_type": "code",
   "execution_count": 52,
   "id": "f4b23389",
   "metadata": {},
   "outputs": [
    {
     "name": "stdout",
     "output_type": "stream",
     "text": [
      "column:         id\t NULL value 개수: 0개\n",
      "column:   document\t NULL value 개수: 1개\n",
      "column:      label\t NULL value 개수: 0개\n",
      "time: 15.8 ms (started: 2022-01-23 11:07:44 +00:00)\n"
     ]
    }
   ],
   "source": [
    "# train_data의 각 컬럼별 결측치 수량\n",
    "for col in train_data.columns:\n",
    "    print('column: {:>10}\\t NULL value 개수: {}개'.format(col, \n",
    "          train_data[col].isnull().sum()))"
   ]
  },
  {
   "cell_type": "code",
   "execution_count": 53,
   "id": "d2b75c3c",
   "metadata": {},
   "outputs": [
    {
     "name": "stdout",
     "output_type": "stream",
     "text": [
      "column:         id\t NULL value 개수: 0개\n",
      "column:   document\t NULL value 개수: 1개\n",
      "column:      label\t NULL value 개수: 0개\n",
      "time: 5.59 ms (started: 2022-01-23 11:07:45 +00:00)\n"
     ]
    }
   ],
   "source": [
    "# test_data의 각 컬럼별 결측치 수량\n",
    "for col in test_data.columns:\n",
    "    print('column: {:>10}\\t NULL value 개수: {}개'.format(col, \n",
    "          test_data[col].isnull().sum()))"
   ]
  },
  {
   "cell_type": "code",
   "execution_count": null,
   "id": "f0965030",
   "metadata": {},
   "outputs": [],
   "source": [
    "결측치가 한개 존재 하는 것으로 확인 되었다.  \n",
    "결측치의 개수는 1개 밖에 안되기 때문에 별 영향을 미치지 않을 것으로 판단되어 제거 한다."
   ]
  },
  {
   "cell_type": "code",
   "execution_count": null,
   "id": "b2eadd32",
   "metadata": {},
   "outputs": [],
   "source": []
  },
  {
   "cell_type": "code",
   "execution_count": null,
   "id": "cd585dcb",
   "metadata": {},
   "outputs": [],
   "source": []
  }
 ],
 "metadata": {
  "kernelspec": {
   "display_name": "Python 3 (ipykernel)",
   "language": "python",
   "name": "python3"
  },
  "language_info": {
   "codemirror_mode": {
    "name": "ipython",
    "version": 3
   },
   "file_extension": ".py",
   "mimetype": "text/x-python",
   "name": "python",
   "nbconvert_exporter": "python",
   "pygments_lexer": "ipython3",
   "version": "3.9.7"
  }
 },
 "nbformat": 4,
 "nbformat_minor": 5
}
