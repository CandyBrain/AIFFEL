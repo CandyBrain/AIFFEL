{
 "cells": [
  {
   "cell_type": "markdown",
   "id": "485a67d6",
   "metadata": {},
   "source": [
    "## 8.뉴스 요약봇 만들기 (Final Project)"
   ]
  },
  {
   "cell_type": "markdown",
   "id": "0df2851b",
   "metadata": {},
   "source": [
    "### 프로젝트의 목적 및 루브릭: 새로운 데이터셋에 대해서 추상적 요약과 추출적 요약을 모두 해본다."
   ]
  },
  {
   "cell_type": "markdown",
   "id": "bbc22c00",
   "metadata": {},
   "source": [
    "- 분석단계, 정제단계, 정규화와 불용어 제거, 데이터셋 분리, 인코딩 과정이 빠짐없이 체계적으로 진행되었다.\n",
    "- 모델학습이 안정적으로 수렴되었음을 그래프를 통해 확인하였으며, 실제 요약문과 유사한 요약문장을 얻을 수 있었다.\n",
    "- 두 요약 결과를 문법완성도 측면과 핵심단어 포함 측면으로 나누어 비교분석 결과를 제시하였다."
   ]
  },
  {
   "cell_type": "markdown",
   "id": "bf5e82b9",
   "metadata": {},
   "source": [
    "## 추상적 요약"
   ]
  },
  {
   "cell_type": "code",
   "execution_count": 2,
   "id": "cbaeb368",
   "metadata": {},
   "outputs": [],
   "source": [
    "# 필요한 모듈 import\n",
    "\n",
    "import nltk\n",
    "from nltk.corpus import stopwords\n",
    "\n",
    "import numpy as np\n",
    "import pandas as pd\n",
    "import os\n",
    "import re\n",
    "import matplotlib.pyplot as plt\n",
    "from bs4 import BeautifulSoup \n",
    "\n",
    "from tensorflow.keras.preprocessing.text import Tokenizer \n",
    "from tensorflow.keras.preprocessing.sequence import pad_sequences\n",
    "from attention import AttentionLayer\n",
    "from tensorflow.keras.layers import AdditiveAttention\n",
    "\n",
    "import urllib.request"
   ]
  },
  {
   "cell_type": "code",
   "execution_count": 3,
   "id": "97a88710",
   "metadata": {},
   "outputs": [
    {
     "name": "stderr",
     "output_type": "stream",
     "text": [
      "[nltk_data] Downloading package stopwords to /aiffel/nltk_data...\n",
      "[nltk_data]   Unzipping corpora/stopwords.zip.\n"
     ]
    },
    {
     "data": {
      "text/plain": [
       "True"
      ]
     },
     "execution_count": 3,
     "metadata": {},
     "output_type": "execute_result"
    }
   ],
   "source": [
    "# 불용어 사전 다운로드\n",
    "\n",
    "import nltk\n",
    "nltk.download('stopwords')"
   ]
  },
  {
   "cell_type": "code",
   "execution_count": 4,
   "id": "781d1858",
   "metadata": {},
   "outputs": [],
   "source": [
    "# 자료 다운로드\n",
    "\n",
    "urllib.request.urlretrieve(\"https://raw.githubusercontent.com/sunnysai12345/News_Summary/master/news_summary_more.csv\", filename=\"news_summary_more.csv\")\n",
    "data = pd.read_csv('news_summary_more.csv', encoding='iso-8859-1')"
   ]
  },
  {
   "cell_type": "code",
   "execution_count": 5,
   "id": "23ddb6fc",
   "metadata": {},
   "outputs": [
    {
     "data": {
      "text/html": [
       "<div>\n",
       "<style scoped>\n",
       "    .dataframe tbody tr th:only-of-type {\n",
       "        vertical-align: middle;\n",
       "    }\n",
       "\n",
       "    .dataframe tbody tr th {\n",
       "        vertical-align: top;\n",
       "    }\n",
       "\n",
       "    .dataframe thead th {\n",
       "        text-align: right;\n",
       "    }\n",
       "</style>\n",
       "<table border=\"1\" class=\"dataframe\">\n",
       "  <thead>\n",
       "    <tr style=\"text-align: right;\">\n",
       "      <th></th>\n",
       "      <th>headlines</th>\n",
       "      <th>text</th>\n",
       "    </tr>\n",
       "  </thead>\n",
       "  <tbody>\n",
       "    <tr>\n",
       "      <th>0</th>\n",
       "      <td>upGrad learner switches to career in ML &amp; Al w...</td>\n",
       "      <td>Saurav Kant, an alumnus of upGrad and IIIT-B's...</td>\n",
       "    </tr>\n",
       "    <tr>\n",
       "      <th>1</th>\n",
       "      <td>Delhi techie wins free food from Swiggy for on...</td>\n",
       "      <td>Kunal Shah's credit card bill payment platform...</td>\n",
       "    </tr>\n",
       "    <tr>\n",
       "      <th>2</th>\n",
       "      <td>New Zealand end Rohit Sharma-led India's 12-ma...</td>\n",
       "      <td>New Zealand defeated India by 8 wickets in the...</td>\n",
       "    </tr>\n",
       "    <tr>\n",
       "      <th>3</th>\n",
       "      <td>Aegon life iTerm insurance plan helps customer...</td>\n",
       "      <td>With Aegon Life iTerm Insurance plan, customer...</td>\n",
       "    </tr>\n",
       "    <tr>\n",
       "      <th>4</th>\n",
       "      <td>Have known Hirani for yrs, what if MeToo claim...</td>\n",
       "      <td>Speaking about the sexual harassment allegatio...</td>\n",
       "    </tr>\n",
       "    <tr>\n",
       "      <th>...</th>\n",
       "      <td>...</td>\n",
       "      <td>...</td>\n",
       "    </tr>\n",
       "    <tr>\n",
       "      <th>98396</th>\n",
       "      <td>CRPF jawan axed to death by Maoists in Chhatti...</td>\n",
       "      <td>A CRPF jawan was on Tuesday axed to death with...</td>\n",
       "    </tr>\n",
       "    <tr>\n",
       "      <th>98397</th>\n",
       "      <td>First song from Sonakshi Sinha's 'Noor' titled...</td>\n",
       "      <td>'Uff Yeh', the first song from the Sonakshi Si...</td>\n",
       "    </tr>\n",
       "    <tr>\n",
       "      <th>98398</th>\n",
       "      <td>'The Matrix' film to get a reboot: Reports</td>\n",
       "      <td>According to reports, a new version of the 199...</td>\n",
       "    </tr>\n",
       "    <tr>\n",
       "      <th>98399</th>\n",
       "      <td>Snoop Dogg aims gun at clown dressed as Trump ...</td>\n",
       "      <td>A new music video shows rapper Snoop Dogg aimi...</td>\n",
       "    </tr>\n",
       "    <tr>\n",
       "      <th>98400</th>\n",
       "      <td>Madhesi Morcha withdraws support to Nepalese g...</td>\n",
       "      <td>Madhesi Morcha, an alliance of seven political...</td>\n",
       "    </tr>\n",
       "  </tbody>\n",
       "</table>\n",
       "<p>98401 rows × 2 columns</p>\n",
       "</div>"
      ],
      "text/plain": [
       "                                               headlines  \\\n",
       "0      upGrad learner switches to career in ML & Al w...   \n",
       "1      Delhi techie wins free food from Swiggy for on...   \n",
       "2      New Zealand end Rohit Sharma-led India's 12-ma...   \n",
       "3      Aegon life iTerm insurance plan helps customer...   \n",
       "4      Have known Hirani for yrs, what if MeToo claim...   \n",
       "...                                                  ...   \n",
       "98396  CRPF jawan axed to death by Maoists in Chhatti...   \n",
       "98397  First song from Sonakshi Sinha's 'Noor' titled...   \n",
       "98398         'The Matrix' film to get a reboot: Reports   \n",
       "98399  Snoop Dogg aims gun at clown dressed as Trump ...   \n",
       "98400  Madhesi Morcha withdraws support to Nepalese g...   \n",
       "\n",
       "                                                    text  \n",
       "0      Saurav Kant, an alumnus of upGrad and IIIT-B's...  \n",
       "1      Kunal Shah's credit card bill payment platform...  \n",
       "2      New Zealand defeated India by 8 wickets in the...  \n",
       "3      With Aegon Life iTerm Insurance plan, customer...  \n",
       "4      Speaking about the sexual harassment allegatio...  \n",
       "...                                                  ...  \n",
       "98396  A CRPF jawan was on Tuesday axed to death with...  \n",
       "98397  'Uff Yeh', the first song from the Sonakshi Si...  \n",
       "98398  According to reports, a new version of the 199...  \n",
       "98399  A new music video shows rapper Snoop Dogg aimi...  \n",
       "98400  Madhesi Morcha, an alliance of seven political...  \n",
       "\n",
       "[98401 rows x 2 columns]"
      ]
     },
     "execution_count": 5,
     "metadata": {},
     "output_type": "execute_result"
    }
   ],
   "source": [
    "# 데이터 전체 구성 확인, 요약문인 headline과 본문인 text로 구성되어 있다. \n",
    "# 총 98401행으로 구성\n",
    "\n",
    "data"
   ]
  },
  {
   "cell_type": "markdown",
   "id": "05360037",
   "metadata": {},
   "source": [
    "- 추상적 요약을 하는 경우에는 text를 본문, headlines를 이미 요약된 데이터로 삼아서 모델을 학습\n",
    "- 추출적 요약을 하는 경우에는 오직 text열만 사용"
   ]
  },
  {
   "cell_type": "code",
   "execution_count": 6,
   "id": "18aab131",
   "metadata": {},
   "outputs": [
    {
     "data": {
      "text/plain": [
       "\"Saurav Kant, an alumnus of upGrad and IIIT-B's PG Program in Machine learning and Artificial Intelligence, was a Sr Systems Engineer at Infosys with almost 5 years of work experience. The program and upGrad's 360-degree career support helped him transition to a Data Scientist at Tech Mahindra with 90% salary hike. upGrad's Online Power Learning has powered 3 lakh+ careers.\""
      ]
     },
     "execution_count": 6,
     "metadata": {},
     "output_type": "execute_result"
    }
   ],
   "source": [
    "# text 내용 확인\n",
    "\n",
    "data['text'][0]"
   ]
  },
  {
   "cell_type": "code",
   "execution_count": 7,
   "id": "ee9a78f6",
   "metadata": {},
   "outputs": [
    {
     "name": "stdout",
     "output_type": "stream",
     "text": [
      "Text열의 유일한 샘플 수: 98360\n",
      "Headline열의 유일한 샘플 수: 98280\n"
     ]
    }
   ],
   "source": [
    "# 데이터 중복검사\n",
    "# 설마 문장 전체가 똑같은 중복이 있을까해서 검사 해보았는데 있네 ㅡㅡ;;;;\n",
    "\n",
    "print('Text열의 유일한 샘플 수:', data['text'].nunique())\n",
    "print('Headline열의 유일한 샘플 수:', data['headlines'].nunique())"
   ]
  },
  {
   "cell_type": "code",
   "execution_count": 8,
   "id": "1c54c997",
   "metadata": {},
   "outputs": [
    {
     "name": "stdout",
     "output_type": "stream",
     "text": [
      "전체 샘플수 : 98360\n"
     ]
    }
   ],
   "source": [
    "# drop_duplicates()를 이용하여 중복 샘플을 제거하자\n",
    "\n",
    "data.drop_duplicates(subset = ['text'], inplace = True)\n",
    "print('전체 샘플수 :',(len(data)))"
   ]
  },
  {
   "cell_type": "code",
   "execution_count": 9,
   "id": "1b7bbb2c",
   "metadata": {},
   "outputs": [
    {
     "name": "stdout",
     "output_type": "stream",
     "text": [
      "중복 샘플수: Saurav Kant, an alumnus of upGrad and IIIT-B's PG Program in Machine learning and Artificial Intelligence, was a Sr Systems Engineer at Infosys with almost 5 years of work experience. The program and upGrad's 360-degree career support helped him transition to a Data Scientist at Tech Mahindra with 90% salary hike. upGrad's Online Power Learning has powered 3 lakh+ careers.                   1\n",
      "BJP leader Shahnawaz Hussain has said that Congress Vice President Rahul Gandhi is afraid of Union Minister Smriti Irani's name and other female BJP leaders. Reacting to Gandhi's claims that \"BJP's thinking is that till women are silent they are good\", Hussain said, \"Rahul will take time to understand BJP and RSS... he will have to do research for it.\"                                        1\n",
      "A fire broke out on Friday at a landfill in Delhi's Ghazipur and five fire engines were rushed to the spot to contain it. Earlier in September, two people died when a portion of the garbage dump collapsed. Following this, the National Green Tribunal asked the Delhi government and civic bodies for a report on waste disposal at the site.                                                         1\n",
      "Three passengers were stuck in a lift at Delhi's Barakhamba Road metro station for around one hour on Saturday due to a technical problem. Rescue was done by Delhi Metro Rail Corporation (DMRC) officials and Delhi Fire Service personnel were also rushed to the spot.  The rope coming out of the groove of the pulley had jammed the lift's motor.                                                  1\n",
      "A tigress that had killed at least five villagers and wounded several others was found electrocuted in a farm in Maharashtra's Wardha on Saturday. The tigress was recently shifted to Bor Tiger Reserve after spending over a month at a rehab in Nagpur. She continued to attack livestock and people, after which state wildlife department ordered to shoot her dead.                                 1\n",
      "                                                                                                                                                                                                                                                                                                                                                                                                         ..\n",
      "Electric carmaker Tesla lost around $2 billion in market capitalisation after the company's CEO Elon Musk cut off analysts' questions during a conference call on Wednesday. \"Boring, bonehead questions are not cool\", Musk said after an anlyst asked about Tesla's capital requirements. When asked about Tesla 3 reservations, he added, \"These questions are so dry. They're killing me\".            1\n",
      "US President Donald Trump on Tuesday praised the crew of the Southwest flight last month that made a safe landing after its engine exploded. Trump told captain Tammie Jo Shults she did an \"incredible job,\" adding, \"I especially want to commend you for your life-saving actions.\" One person had died after the engine exploded and shrapnel shattered a window.                                     1\n",
      "Congress President Rahul Gandhi on Thursday posted Prime Minister Narendra Modi's 'report card' and gave him an 'F' in the 'subject' of agriculture in Karnataka. He added that there was no contribution by the BJP to the Congress-led state government's Ã¢ÂÂ¹8,500-crore farm loan waiver and that farmers were suffering because of the PM's crop insurance scheme.                                 1\n",
      "A group of Republican lawmakers has formally nominated US President Donald Trump for Nobel Peace Prize in a letter to the Norwegian Nobel Committee. \"President Trump has worked tirelessly to apply maximum pressure on North Korea...and bring peace to the region,\" the letter read. If Trump wins, he would be the fifth US President conferred with the honour.                                      1\n",
      "Madhesi Morcha, an alliance of seven political parties, has withdrawn support to PM Pushpa Kamal Dahal-led Nepal government after it failed to meet a seven-day ultimatum to fulfil their demands including endorsement for the revised Constitution amendment bill. The Morcha has 36 seats in the Parliament, but despite the withdrawal of support, there is no immediate threat to the government.    1\n",
      "Name: text, Length: 98360, dtype: int64\n"
     ]
    }
   ],
   "source": [
    "# .value_counts()를 사용하여 중복 샘플 수 한번 더 확인 사살\n",
    "# 없는 것으로 나온다.\n",
    "\n",
    "print('중복 샘플수:', data['text'].value_counts())"
   ]
  },
  {
   "cell_type": "code",
   "execution_count": 10,
   "id": "2ce27e7a",
   "metadata": {},
   "outputs": [
    {
     "name": "stdout",
     "output_type": "stream",
     "text": [
      "headlines    0\n",
      "text         0\n",
      "dtype: int64\n"
     ]
    }
   ],
   "source": [
    "# 결측치 확인, 확인결과 결측치 없음\n",
    "\n",
    "print(data.isnull().sum())"
   ]
  },
  {
   "cell_type": "code",
   "execution_count": 11,
   "id": "ee2d2a09",
   "metadata": {},
   "outputs": [
    {
     "name": "stdout",
     "output_type": "stream",
     "text": [
      "정규화 사전의 수:  120\n"
     ]
    }
   ],
   "source": [
    "# 텍스트 정규화\n",
    "contractions = {\"ain't\": \"is not\", \"aren't\": \"are not\",\"can't\": \"cannot\", \"'cause\": \"because\", \"could've\": \"could have\", \"couldn't\": \"could not\",\n",
    "                           \"didn't\": \"did not\",  \"doesn't\": \"does not\", \"don't\": \"do not\", \"hadn't\": \"had not\", \"hasn't\": \"has not\", \"haven't\": \"have not\",\n",
    "                           \"he'd\": \"he would\",\"he'll\": \"he will\", \"he's\": \"he is\", \"how'd\": \"how did\", \"how'd'y\": \"how do you\", \"how'll\": \"how will\", \"how's\": \"how is\",\n",
    "                           \"I'd\": \"I would\", \"I'd've\": \"I would have\", \"I'll\": \"I will\", \"I'll've\": \"I will have\",\"I'm\": \"I am\", \"I've\": \"I have\", \"i'd\": \"i would\",\n",
    "                           \"i'd've\": \"i would have\", \"i'll\": \"i will\",  \"i'll've\": \"i will have\",\"i'm\": \"i am\", \"i've\": \"i have\", \"isn't\": \"is not\", \"it'd\": \"it would\",\n",
    "                           \"it'd've\": \"it would have\", \"it'll\": \"it will\", \"it'll've\": \"it will have\",\"it's\": \"it is\", \"let's\": \"let us\", \"ma'am\": \"madam\",\n",
    "                           \"mayn't\": \"may not\", \"might've\": \"might have\",\"mightn't\": \"might not\",\"mightn't've\": \"might not have\", \"must've\": \"must have\",\n",
    "                           \"mustn't\": \"must not\", \"mustn't've\": \"must not have\", \"needn't\": \"need not\", \"needn't've\": \"need not have\",\"o'clock\": \"of the clock\",\n",
    "                           \"oughtn't\": \"ought not\", \"oughtn't've\": \"ought not have\", \"shan't\": \"shall not\", \"sha'n't\": \"shall not\", \"shan't've\": \"shall not have\",\n",
    "                           \"she'd\": \"she would\", \"she'd've\": \"she would have\", \"she'll\": \"she will\", \"she'll've\": \"she will have\", \"she's\": \"she is\",\n",
    "                           \"should've\": \"should have\", \"shouldn't\": \"should not\", \"shouldn't've\": \"should not have\", \"so've\": \"so have\",\"so's\": \"so as\",\n",
    "                           \"this's\": \"this is\",\"that'd\": \"that would\", \"that'd've\": \"that would have\", \"that's\": \"that is\", \"there'd\": \"there would\",\n",
    "                           \"there'd've\": \"there would have\", \"there's\": \"there is\", \"here's\": \"here is\",\"they'd\": \"they would\", \"they'd've\": \"they would have\",\n",
    "                           \"they'll\": \"they will\", \"they'll've\": \"they will have\", \"they're\": \"they are\", \"they've\": \"they have\", \"to've\": \"to have\",\n",
    "                           \"wasn't\": \"was not\", \"we'd\": \"we would\", \"we'd've\": \"we would have\", \"we'll\": \"we will\", \"we'll've\": \"we will have\", \"we're\": \"we are\",\n",
    "                           \"we've\": \"we have\", \"weren't\": \"were not\", \"what'll\": \"what will\", \"what'll've\": \"what will have\", \"what're\": \"what are\",\n",
    "                           \"what's\": \"what is\", \"what've\": \"what have\", \"when's\": \"when is\", \"when've\": \"when have\", \"where'd\": \"where did\", \"where's\": \"where is\",\n",
    "                           \"where've\": \"where have\", \"who'll\": \"who will\", \"who'll've\": \"who will have\", \"who's\": \"who is\", \"who've\": \"who have\",\n",
    "                           \"why's\": \"why is\", \"why've\": \"why have\", \"will've\": \"will have\", \"won't\": \"will not\", \"won't've\": \"will not have\",\n",
    "                           \"would've\": \"would have\", \"wouldn't\": \"would not\", \"wouldn't've\": \"would not have\", \"y'all\": \"you all\",\n",
    "                           \"y'all'd\": \"you all would\",\"y'all'd've\": \"you all would have\",\"y'all're\": \"you all are\",\"y'all've\": \"you all have\",\n",
    "                           \"you'd\": \"you would\", \"you'd've\": \"you would have\", \"you'll\": \"you will\", \"you'll've\": \"you will have\",\n",
    "                           \"you're\": \"you are\", \"you've\": \"you have\"}\n",
    "\n",
    "print(\"정규화 사전의 수: \",len(contractions))"
   ]
  },
  {
   "cell_type": "code",
   "execution_count": 12,
   "id": "a86fe8f9",
   "metadata": {},
   "outputs": [
    {
     "name": "stdout",
     "output_type": "stream",
     "text": [
      "불용어 개수 : 179\n",
      "['i', 'me', 'my', 'myself', 'we', 'our', 'ours', 'ourselves', 'you', \"you're\", \"you've\", \"you'll\", \"you'd\", 'your', 'yours', 'yourself', 'yourselves', 'he', 'him', 'his', 'himself', 'she', \"she's\", 'her', 'hers', 'herself', 'it', \"it's\", 'its', 'itself', 'they', 'them', 'their', 'theirs', 'themselves', 'what', 'which', 'who', 'whom', 'this', 'that', \"that'll\", 'these', 'those', 'am', 'is', 'are', 'was', 'were', 'be', 'been', 'being', 'have', 'has', 'had', 'having', 'do', 'does', 'did', 'doing', 'a', 'an', 'the', 'and', 'but', 'if', 'or', 'because', 'as', 'until', 'while', 'of', 'at', 'by', 'for', 'with', 'about', 'against', 'between', 'into', 'through', 'during', 'before', 'after', 'above', 'below', 'to', 'from', 'up', 'down', 'in', 'out', 'on', 'off', 'over', 'under', 'again', 'further', 'then', 'once', 'here', 'there', 'when', 'where', 'why', 'how', 'all', 'any', 'both', 'each', 'few', 'more', 'most', 'other', 'some', 'such', 'no', 'nor', 'not', 'only', 'own', 'same', 'so', 'than', 'too', 'very', 's', 't', 'can', 'will', 'just', 'don', \"don't\", 'should', \"should've\", 'now', 'd', 'll', 'm', 'o', 're', 've', 'y', 'ain', 'aren', \"aren't\", 'couldn', \"couldn't\", 'didn', \"didn't\", 'doesn', \"doesn't\", 'hadn', \"hadn't\", 'hasn', \"hasn't\", 'haven', \"haven't\", 'isn', \"isn't\", 'ma', 'mightn', \"mightn't\", 'mustn', \"mustn't\", 'needn', \"needn't\", 'shan', \"shan't\", 'shouldn', \"shouldn't\", 'wasn', \"wasn't\", 'weren', \"weren't\", 'won', \"won't\", 'wouldn', \"wouldn't\"]\n"
     ]
    }
   ],
   "source": [
    "# 불용어\n",
    "print('불용어 개수 :', len(stopwords.words('english') ))\n",
    "print(stopwords.words('english'))"
   ]
  },
  {
   "cell_type": "code",
   "execution_count": 13,
   "id": "471ffa87",
   "metadata": {},
   "outputs": [],
   "source": [
    "#데이터 전처리 함수\n",
    "def preprocess_sentence(sentence, remove_stopwords=True):\n",
    "    sentence = sentence.lower() # 텍스트 소문자화\n",
    "    sentence = BeautifulSoup(sentence, \"lxml\").text # <br />, <a href = ...> 등의 html 태그 제거\n",
    "    sentence = re.sub(r'\\([^)]*\\)', '', sentence) # 괄호로 닫힌 문자열 (...) 제거 Ex) my husband (and myself!) for => my husband for\n",
    "    sentence = re.sub('\"','', sentence) # 쌍따옴표 \" 제거\n",
    "    sentence = ' '.join([contractions[t] if t in contractions else t for t in sentence.split(\" \")]) # 약어 정규화\n",
    "    sentence = re.sub(r\"'s\\b\",\"\",sentence) # 소유격 제거. Ex) roland's -> roland\n",
    "    sentence = re.sub(\"[^a-zA-Z]\", \" \", sentence) # 영어 외 문자(숫자, 특수문자 등) 공백으로 변환\n",
    "    sentence = re.sub('[m]{2,}', 'mm', sentence) # m이 3개 이상이면 2개로 변경. Ex) ummmmmmm yeah -> umm yeah\n",
    "    \n",
    "    # 불용어 제거 (Text)\n",
    "    if remove_stopwords:\n",
    "        tokens = ' '.join(word for word in sentence.split() if not word in stopwords.words('english') if len(word) > 1)\n",
    "    # 불용어 미제거 (Summary)\n",
    "    else:\n",
    "        tokens = ' '.join(word for word in sentence.split() if len(word) > 1)\n",
    "    return tokens"
   ]
  },
  {
   "cell_type": "code",
   "execution_count": 14,
   "id": "d69d5969",
   "metadata": {},
   "outputs": [
    {
     "data": {
      "text/plain": [
       "['upgrad learner switches to career in ml al with salary hike',\n",
       " 'delhi techie wins free food from swiggy for one year on cred',\n",
       " 'new zealand end rohit sharma led india match winning streak',\n",
       " 'aegon life iterm insurance plan helps customers save tax',\n",
       " 'have known hirani for yrs what if metoo claims are not true sonam']"
      ]
     },
     "execution_count": 14,
     "metadata": {},
     "output_type": "execute_result"
    }
   ],
   "source": [
    "# Text 전처리\n",
    "clean_text = []\n",
    "\n",
    "# 전체 Text 데이터에 대한 전처리\n",
    "# preprocess_sentence()함수를 사용해서 전처리 진행하고 차례대로 clean_text에 집어 넣는다.\n",
    "for s in data['text']:\n",
    "    clean_text.append(preprocess_sentence(s))\n",
    "\n",
    "# 전처리 후 출력\n",
    "clean_text[:5]\n",
    "\n",
    "# Summary 전처리\n",
    "clean_summary = []\n",
    "\n",
    "# 전체 Summary 데이터에 대한 전처리\n",
    "for s in data['headlines']:\n",
    "    clean_summary.append(preprocess_sentence(s, False))\n",
    "\n",
    "clean_summary[:5]"
   ]
  },
  {
   "cell_type": "code",
   "execution_count": 15,
   "id": "7d134628",
   "metadata": {},
   "outputs": [
    {
     "name": "stdout",
     "output_type": "stream",
     "text": [
      "전체 샘플수 : 98360\n"
     ]
    }
   ],
   "source": [
    "# DataFrame에 재저장\n",
    "data['text'] = clean_text\n",
    "data['headlines'] = clean_summary\n",
    "\n",
    "# 빈 값을 Null 값으로 변환\n",
    "data.replace('', np.nan, inplace=True)\n",
    "\n",
    "# null 확인\n",
    "data.isnull().sum()\n",
    "\n",
    "# null 제거\n",
    "data.dropna(axis=0, inplace=True)\n",
    "print('전체 샘플수 :',(len(data))) #데이터 전처리 함수"
   ]
  },
  {
   "cell_type": "code",
   "execution_count": 16,
   "id": "fd387bf7",
   "metadata": {},
   "outputs": [
    {
     "name": "stdout",
     "output_type": "stream",
     "text": [
      "텍스트의 최소 길이 : 1\n",
      "텍스트의 최대 길이 : 60\n",
      "텍스트의 평균 길이 : 35.09968483123221\n",
      "텍스트의 표준편차 : 3.7993861876499637\n",
      "요약의 최소 길이 : 1\n",
      "요약의 최대 길이 : 16\n",
      "요약의 평균 길이 : 9.299532330215534\n",
      "요약의 표준편차 : 1.3900944321771693\n"
     ]
    },
    {
     "data": {
      "image/png": "[encoded data removed]",
      "text/plain": [
       "<Figure size 432x288 with 2 Axes>"
      ]
     },
     "metadata": {
      "needs_background": "light"
     },
     "output_type": "display_data"
    },
    {
     "data": {
      "image/png": "[encoded data removed]",
      "text/plain": [
       "<Figure size 432x288 with 1 Axes>"
      ]
     },
     "metadata": {
      "needs_background": "light"
     },
     "output_type": "display_data"
    },
    {
     "data": {
      "image/png": "[encoded data removed]",
      "text/plain": [
       "<Figure size 432x288 with 1 Axes>"
      ]
     },
     "metadata": {
      "needs_background": "light"
     },
     "output_type": "display_data"
    }
   ],
   "source": [
    "# 길이 분포 확인\n",
    "text_len = [len(s.split()) for s in data['text']]\n",
    "summary_len = [len(s.split()) for s in data['headlines']]\n",
    "\n",
    "print('텍스트의 최소 길이 : {}'.format(np.min(text_len)))\n",
    "print('텍스트의 최대 길이 : {}'.format(np.max(text_len)))\n",
    "print('텍스트의 평균 길이 : {}'.format(np.mean(text_len)))\n",
    "print('텍스트의 표준편차 : {}'.format(np.std(text_len)))\n",
    "print('요약의 최소 길이 : {}'.format(np.min(summary_len)))\n",
    "print('요약의 최대 길이 : {}'.format(np.max(summary_len)))\n",
    "print('요약의 평균 길이 : {}'.format(np.mean(summary_len)))\n",
    "print('요약의 표준편차 : {}'.format(np.std(summary_len)))\n",
    "\n",
    "plt.subplot(1,2,1)\n",
    "plt.boxplot(summary_len)\n",
    "plt.title('headlines')\n",
    "plt.subplot(1,2,2)\n",
    "plt.boxplot(text_len)\n",
    "plt.title('text')\n",
    "plt.tight_layout()\n",
    "plt.show()\n",
    "\n",
    "plt.title('headlines')\n",
    "plt.hist(summary_len, bins = 40)\n",
    "plt.xlabel('length of samples')\n",
    "plt.ylabel('number of samples')\n",
    "plt.show()\n",
    "\n",
    "plt.title('text')\n",
    "plt.hist(text_len, bins = 40)\n",
    "plt.xlabel('length of samples')\n",
    "plt.ylabel('number of samples')\n",
    "plt.show()"
   ]
  },
  {
   "cell_type": "code",
   "execution_count": 17,
   "id": "911d6936",
   "metadata": {},
   "outputs": [
    {
     "name": "stdout",
     "output_type": "stream",
     "text": [
      "42 12\n"
     ]
    }
   ],
   "source": [
    "# 최대 길이 (평균 + 표준편차 * 2)\n",
    "text_max_len = int(np.mean(text_len) + np.std(text_len) * 2)\n",
    "summary_max_len = int(np.mean(summary_len) + np.std(summary_len) * 2)\n",
    "\n",
    "print(text_max_len, summary_max_len)"
   ]
  },
  {
   "cell_type": "code",
   "execution_count": 18,
   "id": "a87cc8c4",
   "metadata": {},
   "outputs": [
    {
     "name": "stdout",
     "output_type": "stream",
     "text": [
      "전체 샘플 중 길이가 42 이하인 샘플의 비율: 0.9750305002033347\n",
      "전체 샘플 중 길이가 12 이하인 샘플의 비율: 0.9880337535583571\n",
      "전체 샘플수 : 94754\n"
     ]
    }
   ],
   "source": [
    "# 데이터의 몇 %의 해당하는지 계산\n",
    "def below_threshold_len(max_len, nested_list):\n",
    "    cnt = 0\n",
    "    for s in nested_list:\n",
    "        if(len(s.split()) <= max_len):\n",
    "            cnt = cnt + 1\n",
    "    print('전체 샘플 중 길이가 %s 이하인 샘플의 비율: %s'%(max_len, (cnt / len(nested_list))))\n",
    "\n",
    "below_threshold_len(text_max_len, data['text'])\n",
    "below_threshold_len(summary_max_len,  data['headlines'])\n",
    "\n",
    "# 정해진 길이보다 길면 제외\n",
    "data = data[data['text'].apply(lambda x: len(x.split()) <= text_max_len)]\n",
    "data = data[data['headlines'].apply(lambda x: len(x.split()) <= summary_max_len)]\n",
    "print('전체 샘플수 :',(len(data)))"
   ]
  },
  {
   "cell_type": "code",
   "execution_count": 19,
   "id": "d0312278",
   "metadata": {},
   "outputs": [
    {
     "data": {
      "text/html": [
       "<div>\n",
       "<style scoped>\n",
       "    .dataframe tbody tr th:only-of-type {\n",
       "        vertical-align: middle;\n",
       "    }\n",
       "\n",
       "    .dataframe tbody tr th {\n",
       "        vertical-align: top;\n",
       "    }\n",
       "\n",
       "    .dataframe thead th {\n",
       "        text-align: right;\n",
       "    }\n",
       "</style>\n",
       "<table border=\"1\" class=\"dataframe\">\n",
       "  <thead>\n",
       "    <tr style=\"text-align: right;\">\n",
       "      <th></th>\n",
       "      <th>headlines</th>\n",
       "      <th>text</th>\n",
       "      <th>decoder_input</th>\n",
       "      <th>decoder_target</th>\n",
       "    </tr>\n",
       "  </thead>\n",
       "  <tbody>\n",
       "    <tr>\n",
       "      <th>0</th>\n",
       "      <td>upgrad learner switches to career in ml al wit...</td>\n",
       "      <td>saurav kant alumnus upgrad iiit pg program mac...</td>\n",
       "      <td>sostoken upgrad learner switches to career in ...</td>\n",
       "      <td>upgrad learner switches to career in ml al wit...</td>\n",
       "    </tr>\n",
       "    <tr>\n",
       "      <th>2</th>\n",
       "      <td>new zealand end rohit sharma led india match w...</td>\n",
       "      <td>new zealand defeated india wickets fourth odi ...</td>\n",
       "      <td>sostoken new zealand end rohit sharma led indi...</td>\n",
       "      <td>new zealand end rohit sharma led india match w...</td>\n",
       "    </tr>\n",
       "    <tr>\n",
       "      <th>3</th>\n",
       "      <td>aegon life iterm insurance plan helps customer...</td>\n",
       "      <td>aegon life iterm insurance plan customers enjo...</td>\n",
       "      <td>sostoken aegon life iterm insurance plan helps...</td>\n",
       "      <td>aegon life iterm insurance plan helps customer...</td>\n",
       "    </tr>\n",
       "    <tr>\n",
       "      <th>5</th>\n",
       "      <td>rahat fateh ali khan denies getting notice for...</td>\n",
       "      <td>pakistani singer rahat fateh ali khan denied r...</td>\n",
       "      <td>sostoken rahat fateh ali khan denies getting n...</td>\n",
       "      <td>rahat fateh ali khan denies getting notice for...</td>\n",
       "    </tr>\n",
       "    <tr>\n",
       "      <th>6</th>\n",
       "      <td>india get all out for their lowest odi total i...</td>\n",
       "      <td>india recorded lowest odi total new zealand ge...</td>\n",
       "      <td>sostoken india get all out for their lowest od...</td>\n",
       "      <td>india get all out for their lowest odi total i...</td>\n",
       "    </tr>\n",
       "  </tbody>\n",
       "</table>\n",
       "</div>"
      ],
      "text/plain": [
       "                                           headlines  \\\n",
       "0  upgrad learner switches to career in ml al wit...   \n",
       "2  new zealand end rohit sharma led india match w...   \n",
       "3  aegon life iterm insurance plan helps customer...   \n",
       "5  rahat fateh ali khan denies getting notice for...   \n",
       "6  india get all out for their lowest odi total i...   \n",
       "\n",
       "                                                text  \\\n",
       "0  saurav kant alumnus upgrad iiit pg program mac...   \n",
       "2  new zealand defeated india wickets fourth odi ...   \n",
       "3  aegon life iterm insurance plan customers enjo...   \n",
       "5  pakistani singer rahat fateh ali khan denied r...   \n",
       "6  india recorded lowest odi total new zealand ge...   \n",
       "\n",
       "                                       decoder_input  \\\n",
       "0  sostoken upgrad learner switches to career in ...   \n",
       "2  sostoken new zealand end rohit sharma led indi...   \n",
       "3  sostoken aegon life iterm insurance plan helps...   \n",
       "5  sostoken rahat fateh ali khan denies getting n...   \n",
       "6  sostoken india get all out for their lowest od...   \n",
       "\n",
       "                                      decoder_target  \n",
       "0  upgrad learner switches to career in ml al wit...  \n",
       "2  new zealand end rohit sharma led india match w...  \n",
       "3  aegon life iterm insurance plan helps customer...  \n",
       "5  rahat fateh ali khan denies getting notice for...  \n",
       "6  india get all out for their lowest odi total i...  "
      ]
     },
     "execution_count": 19,
     "metadata": {},
     "output_type": "execute_result"
    }
   ],
   "source": [
    "#요약 데이터에는 시작 토큰과 종료 토큰을 추가\n",
    "data['decoder_input'] = data['headlines'].apply(lambda x : 'sostoken '+ x)\n",
    "data['decoder_target'] = data['headlines'].apply(lambda x : x + ' eostoken')\n",
    "data.head()"
   ]
  },
  {
   "cell_type": "code",
   "execution_count": 20,
   "id": "4686f5b2",
   "metadata": {},
   "outputs": [],
   "source": [
    "# numpy로 저장\n",
    "encoder_input = np.array(data['text']) # 인코더의 입력\n",
    "decoder_input = np.array(data['decoder_input']) # 디코더의 입력\n",
    "decoder_target = np.array(data['decoder_target']) # 디코더의 레이블"
   ]
  },
  {
   "cell_type": "code",
   "execution_count": 21,
   "id": "ccc610e1",
   "metadata": {},
   "outputs": [
    {
     "name": "stdout",
     "output_type": "stream",
     "text": [
      "[51057 48251 89938 ... 68196 76480 19087]\n"
     ]
    }
   ],
   "source": [
    "# 데이터 분리\n",
    "indices = np.arange(encoder_input.shape[0])\n",
    "np.random.shuffle(indices)\n",
    "print(indices)\n",
    "\n",
    "encoder_input = encoder_input[indices]\n",
    "decoder_input = decoder_input[indices]\n",
    "decoder_target = decoder_target[indices]"
   ]
  },
  {
   "cell_type": "code",
   "execution_count": 22,
   "id": "2cb921a0",
   "metadata": {},
   "outputs": [
    {
     "data": {
      "text/plain": [
       "'fire broke sets two tv serials cinevista studios mumbai saturday evening eight fire tenders spot report casualty far incident comes days fire claimed lives kamala mills compound area mumbai'"
      ]
     },
     "execution_count": 22,
     "metadata": {},
     "output_type": "execute_result"
    }
   ],
   "source": [
    "encoder_input[0]"
   ]
  },
  {
   "cell_type": "code",
   "execution_count": 23,
   "id": "d0f2250f",
   "metadata": {},
   "outputs": [
    {
     "name": "stdout",
     "output_type": "stream",
     "text": [
      "테스트 데이터의 수 : 18950\n",
      "훈련 데이터의 개수 : 75804\n",
      "훈련 레이블의 개수 : 75804\n",
      "테스트 데이터의 개수 : 18950\n",
      "테스트 레이블의 개수 : 18950\n"
     ]
    }
   ],
   "source": [
    "# 8:2 로 분리\n",
    "n_of_val = int(len(encoder_input)*0.2)\n",
    "print('테스트 데이터의 수 :',n_of_val)\n",
    "\n",
    "encoder_input_train = encoder_input[:-n_of_val]\n",
    "decoder_input_train = decoder_input[:-n_of_val]\n",
    "decoder_target_train = decoder_target[:-n_of_val]\n",
    "\n",
    "encoder_input_test = encoder_input[-n_of_val:]\n",
    "decoder_input_test = decoder_input[-n_of_val:]\n",
    "decoder_target_test = decoder_target[-n_of_val:]\n",
    "\n",
    "print('훈련 데이터의 개수 :', len(encoder_input_train))\n",
    "print('훈련 레이블의 개수 :',len(decoder_input_train))\n",
    "print('테스트 데이터의 개수 :',len(encoder_input_test))\n",
    "print('테스트 레이블의 개수 :',len(decoder_input_test))"
   ]
  },
  {
   "cell_type": "code",
   "execution_count": 24,
   "id": "ce1c5aa7",
   "metadata": {},
   "outputs": [],
   "source": [
    "# Keras의 Tokenizer 사용\n",
    "# text 데이터 Tokenize\n",
    "src_tokenizer = Tokenizer() # 토크나이저 정의\n",
    "src_tokenizer.fit_on_texts(encoder_input_train) # 입력된 데이터로부터 단어 집합 생성"
   ]
  },
  {
   "cell_type": "code",
   "execution_count": 25,
   "id": "bdf1e13d",
   "metadata": {},
   "outputs": [],
   "source": [
    "threshold = 7\n",
    "total_cnt = len(src_tokenizer.word_index) # 단어의 수\n",
    "rare_cnt = 0 # 등장 빈도수가 threshold보다 작은 단어의 개수를 카운트\n",
    "total_freq = 0 # 훈련 데이터의 전체 단어 빈도수 총 합\n",
    "rare_freq = 0 # 등장 빈도수가 threshold보다 작은 단어의 등장 빈도수의 총 합"
   ]
  },
  {
   "cell_type": "code",
   "execution_count": 26,
   "id": "28c6eb28",
   "metadata": {},
   "outputs": [
    {
     "name": "stdout",
     "output_type": "stream",
     "text": [
      "단어 집합(vocabulary)의 크기 : 67863\n",
      "등장 빈도가 6번 이하인 희귀 단어의 수: 46156\n",
      "단어 집합에서 희귀 단어를 제외시킬 경우의 단어 집합의 크기 21707\n",
      "단어 집합에서 희귀 단어의 비율: 68.01349778229668\n",
      "전체 등장 빈도에서 희귀 단어 등장 빈도 비율: 3.537319274204069\n"
     ]
    }
   ],
   "source": [
    "# 단어와 빈도수의 쌍(pair)을 key와 value로 받는다.\n",
    "for key, value in src_tokenizer.word_counts.items():\n",
    "    total_freq = total_freq + value\n",
    "\n",
    "    # 단어의 등장 빈도수가 threshold보다 작으면\n",
    "    if(value < threshold):\n",
    "        rare_cnt = rare_cnt + 1\n",
    "        rare_freq = rare_freq + value\n",
    "\n",
    "print('단어 집합(vocabulary)의 크기 :',total_cnt)\n",
    "print('등장 빈도가 %s번 이하인 희귀 단어의 수: %s'%(threshold - 1, rare_cnt))\n",
    "print('단어 집합에서 희귀 단어를 제외시킬 경우의 단어 집합의 크기 %s'%(total_cnt - rare_cnt))\n",
    "print(\"단어 집합에서 희귀 단어의 비율:\", (rare_cnt / total_cnt)*100)\n",
    "print(\"전체 등장 빈도에서 희귀 단어 등장 빈도 비율:\", (rare_freq / total_freq)*100)"
   ]
  },
  {
   "cell_type": "code",
   "execution_count": 27,
   "id": "4e756e2c",
   "metadata": {},
   "outputs": [],
   "source": [
    "# 집합 크기 제한\n",
    "src_vocab = 21000\n",
    "src_tokenizer = Tokenizer(num_words = src_vocab) # 단어 집합의 크기를 21000으로 제한\n",
    "src_tokenizer.fit_on_texts(encoder_input_train) # 단어 집합 재생성."
   ]
  },
  {
   "cell_type": "code",
   "execution_count": 28,
   "id": "f4c6bffd",
   "metadata": {},
   "outputs": [
    {
     "name": "stdout",
     "output_type": "stream",
     "text": [
      "[[284, 726, 1663, 11, 714, 10482, 5801, 74, 88, 2788, 363, 284, 6032, 806, 143, 13022, 656, 144, 61, 122, 284, 40, 964, 8905, 7262, 5689, 443, 74], [15002, 5551, 834, 1681, 15606, 123, 507, 4301, 6102, 100, 3029, 391, 5551, 1188, 1247, 828, 780, 1189, 1837, 419, 4891, 1726, 12621, 5551, 3891, 100, 524, 2359, 81, 1727, 17971], [9, 3673, 37, 534, 4977, 11, 482, 5626, 19020, 4332, 231, 351, 5506, 3122, 6858, 5858, 707, 524, 76, 3405, 16297, 87, 5627, 1224, 1353, 19021, 1698, 3123]]\n"
     ]
    }
   ],
   "source": [
    "# 텍스트 시퀀스를 정수 시퀀스로 변환\n",
    "encoder_input_train = src_tokenizer.texts_to_sequences(encoder_input_train) \n",
    "encoder_input_test = src_tokenizer.texts_to_sequences(encoder_input_test)\n",
    "\n",
    "#잘 진행되었는지 샘플 출력\n",
    "print(encoder_input_train[:3])"
   ]
  },
  {
   "cell_type": "code",
   "execution_count": 29,
   "id": "59714060",
   "metadata": {},
   "outputs": [],
   "source": [
    "# headlines 데이터 Tokenize\n",
    "tar_tokenizer = Tokenizer()\n",
    "tar_tokenizer.fit_on_texts(decoder_input_train)"
   ]
  },
  {
   "cell_type": "code",
   "execution_count": 30,
   "id": "55fa4195",
   "metadata": {},
   "outputs": [],
   "source": [
    "threshold = 4\n",
    "total_cnt = len(tar_tokenizer.word_index) # 단어의 수\n",
    "rare_cnt = 0 # 등장 빈도수가 threshold보다 작은 단어의 개수를 카운트\n",
    "total_freq = 0 # 훈련 데이터의 전체 단어 빈도수 총 합\n",
    "rare_freq = 0 # 등장 빈도수가 threshold보다 작은 단어의 등장 빈도수의 총 합"
   ]
  },
  {
   "cell_type": "code",
   "execution_count": 31,
   "id": "1c7e8bab",
   "metadata": {},
   "outputs": [
    {
     "name": "stdout",
     "output_type": "stream",
     "text": [
      "단어 집합(vocabulary)의 크기 : 29580\n",
      "등장 빈도가 3번 이하인 희귀 단어의 수: 16676\n",
      "단어 집합에서 희귀 단어를 제외시킬 경우의 단어 집합의 크기 12904\n",
      "단어 집합에서 희귀 단어의 비율: 56.375929682217716\n",
      "전체 등장 빈도에서 희귀 단어 등장 빈도 비율: 3.2461156133489313\n"
     ]
    }
   ],
   "source": [
    "# 단어와 빈도수의 쌍(pair)을 key와 value로 받는다.\n",
    "for key, value in tar_tokenizer.word_counts.items():\n",
    "    total_freq = total_freq + value\n",
    "\n",
    "    # 단어의 등장 빈도수가 threshold보다 작으면\n",
    "    if(value < threshold):\n",
    "        rare_cnt = rare_cnt + 1\n",
    "        rare_freq = rare_freq + value\n",
    "\n",
    "print('단어 집합(vocabulary)의 크기 :',total_cnt)\n",
    "print('등장 빈도가 %s번 이하인 희귀 단어의 수: %s'%(threshold - 1, rare_cnt))\n",
    "print('단어 집합에서 희귀 단어를 제외시킬 경우의 단어 집합의 크기 %s'%(total_cnt - rare_cnt))\n",
    "print(\"단어 집합에서 희귀 단어의 비율:\", (rare_cnt / total_cnt)*100)\n",
    "print(\"전체 등장 빈도에서 희귀 단어 등장 빈도 비율:\", (rare_freq / total_freq)*100)"
   ]
  },
  {
   "cell_type": "code",
   "execution_count": 32,
   "id": "990f4d9e",
   "metadata": {},
   "outputs": [],
   "source": [
    "# 집합 크기 제한\n",
    "tar_vocab = 12000\n",
    "tar_tokenizer = Tokenizer(num_words = tar_vocab) \n",
    "tar_tokenizer.fit_on_texts(decoder_input_train)\n",
    "tar_tokenizer.fit_on_texts(decoder_target_train)"
   ]
  },
  {
   "cell_type": "code",
   "execution_count": 33,
   "id": "95845982",
   "metadata": {},
   "outputs": [
    {
     "name": "stdout",
     "output_type": "stream",
     "text": [
      "input\n",
      "input  [[1, 193, 449, 53, 7, 381, 6, 318, 3681, 45, 7486, 1737], [1, 10229, 5765, 255, 3, 1912, 3, 6045, 5521, 326], [1, 3482, 47, 7087, 929, 132], [1, 60, 340, 355, 175, 711, 439, 51, 4, 52], [1, 15, 91, 1974, 472, 8, 30, 715, 1457, 601, 1653]]\n",
      "target\n",
      "decoder  [[193, 449, 53, 7, 381, 6, 318, 3681, 45, 7486, 1737, 2], [10229, 5765, 255, 3, 1912, 3, 6045, 5521, 326, 2], [3482, 47, 7087, 929, 132, 2], [60, 340, 355, 175, 711, 439, 51, 4, 52, 2], [15, 91, 1974, 472, 8, 30, 715, 1457, 601, 1653, 2]]\n"
     ]
    }
   ],
   "source": [
    "# 텍스트 시퀀스를 정수 시퀀스로 변환\n",
    "decoder_input_train = tar_tokenizer.texts_to_sequences(decoder_input_train) \n",
    "decoder_target_train = tar_tokenizer.texts_to_sequences(decoder_target_train)\n",
    "decoder_input_test = tar_tokenizer.texts_to_sequences(decoder_input_test)\n",
    "decoder_target_test = tar_tokenizer.texts_to_sequences(decoder_target_test)\n",
    "\n",
    "#잘 변환되었는지 확인\n",
    "print('input')\n",
    "print('input ',decoder_input_train[:5])\n",
    "print('target')\n",
    "print('decoder ',decoder_target_train[:5])"
   ]
  },
  {
   "cell_type": "code",
   "execution_count": 34,
   "id": "ae65b04a",
   "metadata": {},
   "outputs": [
    {
     "name": "stdout",
     "output_type": "stream",
     "text": [
      "삭제할 훈련 데이터의 개수 : 0\n",
      "삭제할 테스트 데이터의 개수 : 0\n",
      "훈련 데이터의 개수 : 75804\n",
      "훈련 레이블의 개수 : 75804\n",
      "테스트 데이터의 개수 : 18950\n",
      "테스트 레이블의 개수 : 18950\n"
     ]
    },
    {
     "name": "stderr",
     "output_type": "stream",
     "text": [
      "/opt/conda/lib/python3.9/site-packages/numpy/lib/function_base.py:4454: VisibleDeprecationWarning: Creating an ndarray from ragged nested sequences (which is a list-or-tuple of lists-or-tuples-or ndarrays with different lengths or shapes) is deprecated. If you meant to do this, you must specify 'dtype=object' when creating the ndarray.\n",
      "  arr = asarray(arr)\n"
     ]
    }
   ],
   "source": [
    "# 빈 샘플 제거\n",
    "drop_train = [index for index, sentence in enumerate(decoder_input_train) if len(sentence) == 1]\n",
    "drop_test = [index for index, sentence in enumerate(decoder_input_test) if len(sentence) == 1]\n",
    "\n",
    "print('삭제할 훈련 데이터의 개수 :',len(drop_train))\n",
    "print('삭제할 테스트 데이터의 개수 :',len(drop_test))\n",
    "\n",
    "encoder_input_train = np.delete(encoder_input_train, drop_train, axis=0)\n",
    "decoder_input_train = np.delete(decoder_input_train, drop_train, axis=0)\n",
    "decoder_target_train = np.delete(decoder_target_train, drop_train, axis=0)\n",
    "\n",
    "encoder_input_test = np.delete(encoder_input_test, drop_test, axis=0)\n",
    "decoder_input_test = np.delete(decoder_input_test, drop_test, axis=0)\n",
    "decoder_target_test = np.delete(decoder_target_test, drop_test, axis=0)\n",
    "\n",
    "print('훈련 데이터의 개수 :', len(encoder_input_train))\n",
    "print('훈련 레이블의 개수 :',len(decoder_input_train))\n",
    "print('테스트 데이터의 개수 :',len(encoder_input_test))\n",
    "print('테스트 레이블의 개수 :',len(decoder_input_test))"
   ]
  },
  {
   "cell_type": "code",
   "execution_count": 35,
   "id": "5d134c68",
   "metadata": {},
   "outputs": [],
   "source": [
    "# padding\n",
    "encoder_input_train = pad_sequences(encoder_input_train, maxlen = text_max_len, padding='post')\n",
    "encoder_input_test = pad_sequences(encoder_input_test, maxlen = text_max_len, padding='post')\n",
    "decoder_input_train = pad_sequences(decoder_input_train, maxlen = summary_max_len, padding='post')\n",
    "decoder_target_train = pad_sequences(decoder_target_train, maxlen = summary_max_len, padding='post')\n",
    "decoder_input_test = pad_sequences(decoder_input_test, maxlen = summary_max_len, padding='post')\n",
    "decoder_target_test = pad_sequences(decoder_target_test, maxlen = summary_max_len, padding='post')"
   ]
  },
  {
   "cell_type": "code",
   "execution_count": 36,
   "id": "9dae65d6",
   "metadata": {},
   "outputs": [],
   "source": [
    "# 모델 설계하기\n",
    "from tensorflow.keras.layers import Input, LSTM, Embedding, Dense, Concatenate, TimeDistributed\n",
    "from tensorflow.keras.models import Model\n",
    "from tensorflow.keras.callbacks import EarlyStopping, ModelCheckpoint\n",
    "from tensorflow.keras.layers import AdditiveAttention\n"
   ]
  },
  {
   "cell_type": "code",
   "execution_count": 39,
   "id": "38ca2a10",
   "metadata": {},
   "outputs": [
    {
     "data": {
      "text/plain": [
       "('attention.py', <http.client.HTTPMessage at 0x7f76ff3df8e0>)"
      ]
     },
     "execution_count": 39,
     "metadata": {},
     "output_type": "execute_result"
    }
   ],
   "source": [
    "urllib.request.urlretrieve(\"https://raw.githubusercontent.com/thushv89/attention_keras/master/src/layers/attention.py\", filename=\"attention.py\")"
   ]
  },
  {
   "cell_type": "code",
   "execution_count": 37,
   "id": "a4108127",
   "metadata": {},
   "outputs": [
    {
     "name": "stdout",
     "output_type": "stream",
     "text": [
      "WARNING:tensorflow:Layer lstm will not use cuDNN kernels since it doesn't meet the criteria. It will use a generic GPU kernel as fallback when running on GPU.\n",
      "WARNING:tensorflow:Layer lstm_1 will not use cuDNN kernels since it doesn't meet the criteria. It will use a generic GPU kernel as fallback when running on GPU.\n",
      "WARNING:tensorflow:Layer lstm_2 will not use cuDNN kernels since it doesn't meet the criteria. It will use a generic GPU kernel as fallback when running on GPU.\n"
     ]
    }
   ],
   "source": [
    "# 인코더 설계 시작\n",
    "embedding_dim = 128\n",
    "hidden_size = 256\n",
    "\n",
    "# 인코더\n",
    "encoder_inputs = Input(shape=(text_max_len,))\n",
    "\n",
    "# 인코더의 임베딩 층\n",
    "enc_emb = Embedding(src_vocab, embedding_dim)(encoder_inputs)\n",
    "\n",
    "# 인코더의 LSTM 1\n",
    "encoder_lstm1 = LSTM(hidden_size, return_sequences=True, return_state=True ,dropout = 0.4, recurrent_dropout = 0.4)\n",
    "encoder_output1, state_h1, state_c1 = encoder_lstm1(enc_emb)\n",
    "\n",
    "# 인코더의 LSTM 2\n",
    "encoder_lstm2 = LSTM(hidden_size, return_sequences=True, return_state=True, dropout=0.4, recurrent_dropout=0.4)\n",
    "encoder_output2, state_h2, state_c2 = encoder_lstm2(encoder_output1)\n",
    "\n",
    "# 인코더의 LSTM 3\n",
    "encoder_lstm3 = LSTM(hidden_size, return_state=True, return_sequences=True, dropout=0.4, recurrent_dropout=0.4)\n",
    "encoder_outputs, state_h, state_c= encoder_lstm3(encoder_output2)"
   ]
  },
  {
   "cell_type": "code",
   "execution_count": 38,
   "id": "385d3236",
   "metadata": {},
   "outputs": [
    {
     "name": "stdout",
     "output_type": "stream",
     "text": [
      "WARNING:tensorflow:Layer lstm_3 will not use cuDNN kernels since it doesn't meet the criteria. It will use a generic GPU kernel as fallback when running on GPU.\n"
     ]
    }
   ],
   "source": [
    "# 디코더 설계\n",
    "decoder_inputs = Input(shape=(None,))\n",
    "\n",
    "# 디코더의 임베딩 층\n",
    "dec_emb_layer = Embedding(tar_vocab, embedding_dim)\n",
    "dec_emb = dec_emb_layer(decoder_inputs)\n",
    "\n",
    "# 디코더의 LSTM\n",
    "decoder_lstm = LSTM(hidden_size, return_sequences = True, return_state = True, dropout = 0.4, recurrent_dropout=0.2)\n",
    "decoder_outputs, _, _ = decoder_lstm(dec_emb, initial_state = [state_h, state_c])"
   ]
  },
  {
   "cell_type": "code",
   "execution_count": 41,
   "id": "dfd8e7b7",
   "metadata": {
    "scrolled": false
   },
   "outputs": [],
   "source": [
    "# 어텐션 층(어텐션 함수)\n",
    "#attn_layer = AttentionLayer(name='attention_layer')\n",
    "attn_layer = AdditiveAttention(name='attention_layer')\n",
    "\n",
    "# 인코더와 디코더의 모든 time step의 hidden state를 어텐션 층에 전달하고 결과를 리턴\n",
    "#attn_out, attn_states = attn_layer([encoder_outputs, decoder_outputs])\n",
    "attn_out = attn_layer([decoder_outputs, encoder_outputs])\n",
    "\n",
    "# 어텐션의 결과와 디코더의 hidden state들을 연결\n",
    "decoder_concat_input = Concatenate(axis = -1, name='concat_layer')([decoder_outputs, attn_out])\n",
    "\n",
    "# 디코더의 출력층\n",
    "decoder_softmax_layer = Dense(tar_vocab, activation='softmax')\n",
    "decoder_softmax_outputs = decoder_softmax_layer(decoder_concat_input)"
   ]
  },
  {
   "cell_type": "code",
   "execution_count": 43,
   "id": "e489fdd6",
   "metadata": {},
   "outputs": [
    {
     "name": "stdout",
     "output_type": "stream",
     "text": [
      "Model: \"model_2\"\n",
      "__________________________________________________________________________________________________\n",
      "Layer (type)                    Output Shape         Param #     Connected to                     \n",
      "==================================================================================================\n",
      "input_1 (InputLayer)            [(None, 42)]         0                                            \n",
      "__________________________________________________________________________________________________\n",
      "embedding (Embedding)           (None, 42, 128)      2688000     input_1[0][0]                    \n",
      "__________________________________________________________________________________________________\n",
      "lstm (LSTM)                     [(None, 42, 256), (N 394240      embedding[0][0]                  \n",
      "__________________________________________________________________________________________________\n",
      "input_2 (InputLayer)            [(None, None)]       0                                            \n",
      "__________________________________________________________________________________________________\n",
      "lstm_1 (LSTM)                   [(None, 42, 256), (N 525312      lstm[0][0]                       \n",
      "__________________________________________________________________________________________________\n",
      "embedding_1 (Embedding)         (None, None, 128)    1536000     input_2[0][0]                    \n",
      "__________________________________________________________________________________________________\n",
      "lstm_2 (LSTM)                   [(None, 42, 256), (N 525312      lstm_1[0][0]                     \n",
      "__________________________________________________________________________________________________\n",
      "lstm_3 (LSTM)                   [(None, None, 256),  394240      embedding_1[0][0]                \n",
      "                                                                 lstm_2[0][1]                     \n",
      "                                                                 lstm_2[0][2]                     \n",
      "__________________________________________________________________________________________________\n",
      "attention_layer (AdditiveAttent (None, None, 256)    256         lstm_3[0][0]                     \n",
      "                                                                 lstm_2[0][0]                     \n",
      "__________________________________________________________________________________________________\n",
      "concat_layer (Concatenate)      (None, None, 512)    0           lstm_3[0][0]                     \n",
      "                                                                 attention_layer[0][0]            \n",
      "__________________________________________________________________________________________________\n",
      "dense_1 (Dense)                 (None, None, 12000)  6156000     concat_layer[0][0]               \n",
      "==================================================================================================\n",
      "Total params: 12,219,360\n",
      "Trainable params: 12,219,360\n",
      "Non-trainable params: 0\n",
      "__________________________________________________________________________________________________\n"
     ]
    }
   ],
   "source": [
    "# 모델 정의\n",
    "model = Model([encoder_inputs, decoder_inputs], decoder_softmax_outputs)\n",
    "model.summary()"
   ]
  },
  {
   "cell_type": "code",
   "execution_count": 44,
   "id": "e8abe797",
   "metadata": {},
   "outputs": [
    {
     "name": "stdout",
     "output_type": "stream",
     "text": [
      "Epoch 1/50\n",
      "297/297 [==============================] - 211s 651ms/step - loss: 5.7673 - val_loss: 5.3505\n",
      "Epoch 2/50\n",
      "297/297 [==============================] - 190s 640ms/step - loss: 5.2011 - val_loss: 4.9791\n",
      "Epoch 3/50\n",
      "297/297 [==============================] - 190s 638ms/step - loss: 4.8553 - val_loss: 4.7477\n",
      "Epoch 4/50\n",
      "297/297 [==============================] - 190s 639ms/step - loss: 4.3786 - val_loss: 4.3808\n",
      "Epoch 6/50\n",
      "297/297 [==============================] - 189s 638ms/step - loss: 4.2094 - val_loss: 4.2801\n",
      "Epoch 7/50\n",
      "297/297 [==============================] - 190s 639ms/step - loss: 4.0648 - val_loss: 4.1813\n",
      "Epoch 8/50\n",
      "297/297 [==============================] - 189s 638ms/step - loss: 3.9405 - val_loss: 4.1068\n",
      "Epoch 9/50\n",
      "297/297 [==============================] - 190s 640ms/step - loss: 3.8303 - val_loss: 4.0465\n",
      "Epoch 10/50\n",
      "297/297 [==============================] - 190s 639ms/step - loss: 3.7313 - val_loss: 3.9912\n",
      "Epoch 11/50\n",
      "297/297 [==============================] - 190s 640ms/step - loss: 3.6445 - val_loss: 3.9484\n",
      "Epoch 12/50\n",
      "297/297 [==============================] - 192s 648ms/step - loss: 3.5637 - val_loss: 3.9184\n",
      "Epoch 13/50\n",
      "297/297 [==============================] - 192s 648ms/step - loss: 3.4868 - val_loss: 3.8738\n",
      "Epoch 14/50\n",
      "297/297 [==============================] - 193s 649ms/step - loss: 3.4196 - val_loss: 3.8436\n",
      "Epoch 15/50\n",
      "297/297 [==============================] - 193s 650ms/step - loss: 3.3577 - val_loss: 3.8224\n",
      "Epoch 16/50\n",
      "297/297 [==============================] - 192s 648ms/step - loss: 3.3024 - val_loss: 3.7963\n",
      "Epoch 17/50\n",
      "297/297 [==============================] - 192s 646ms/step - loss: 3.2507 - val_loss: 3.7884\n",
      "Epoch 18/50\n",
      "297/297 [==============================] - 192s 647ms/step - loss: 3.1533 - val_loss: 3.7651\n",
      "Epoch 20/50\n",
      "297/297 [==============================] - 193s 649ms/step - loss: 3.1106 - val_loss: 3.7531\n",
      "Epoch 21/50\n",
      "297/297 [==============================] - 192s 647ms/step - loss: 3.0681 - val_loss: 3.7386\n",
      "Epoch 22/50\n",
      "297/297 [==============================] - 193s 649ms/step - loss: 3.0233 - val_loss: 3.7290\n",
      "Epoch 23/50\n",
      "297/297 [==============================] - 192s 648ms/step - loss: 2.9893 - val_loss: 3.7245\n",
      "Epoch 24/50\n",
      "297/297 [==============================] - 192s 648ms/step - loss: 2.9548 - val_loss: 3.7206\n",
      "Epoch 25/50\n",
      "297/297 [==============================] - 192s 646ms/step - loss: 2.9239 - val_loss: 3.7107\n",
      "Epoch 26/50\n",
      "297/297 [==============================] - 192s 647ms/step - loss: 2.8883 - val_loss: 3.7236\n",
      "Epoch 27/50\n",
      "297/297 [==============================] - 192s 647ms/step - loss: 2.8534 - val_loss: 3.7084\n",
      "Epoch 28/50\n",
      "297/297 [==============================] - 192s 647ms/step - loss: 2.8242 - val_loss: 3.6990\n",
      "Epoch 29/50\n",
      "297/297 [==============================] - 191s 642ms/step - loss: 2.7961 - val_loss: 3.6959\n",
      "Epoch 30/50\n",
      "297/297 [==============================] - 192s 647ms/step - loss: 2.7686 - val_loss: 3.7032\n",
      "Epoch 31/50\n",
      "297/297 [==============================] - 193s 649ms/step - loss: 2.7385 - val_loss: 3.7080\n",
      "Epoch 00031: early stopping\n"
     ]
    }
   ],
   "source": [
    "# 모델 훈련\n",
    "model.compile(optimizer='rmsprop', loss='sparse_categorical_crossentropy')\n",
    "es = EarlyStopping(monitor='val_loss', mode='min', verbose=1, patience = 2)\n",
    "history = model.fit(x = [encoder_input_train, decoder_input_train], y = decoder_target_train, \\\n",
    "          validation_data = ([encoder_input_test, decoder_input_test], decoder_target_test),\n",
    "          batch_size = 256, callbacks=[es], epochs = 50)"
   ]
  },
  {
   "cell_type": "code",
   "execution_count": 45,
   "id": "ccd9cf5e",
   "metadata": {},
   "outputs": [
    {
     "data": {
      "image/png": "[encoded data removed]",
      "text/plain": [
       "<Figure size 432x288 with 1 Axes>"
      ]
     },
     "metadata": {
      "needs_background": "light"
     },
     "output_type": "display_data"
    }
   ],
   "source": [
    "# 시각화\n",
    "plt.plot(history.history['loss'], label='train')\n",
    "plt.plot(history.history['val_loss'], label='test')\n",
    "plt.legend()\n",
    "plt.show()"
   ]
  },
  {
   "cell_type": "code",
   "execution_count": 59,
   "id": "cb43828a",
   "metadata": {},
   "outputs": [],
   "source": [
    "# 인퍼런스 모델 구현\n",
    "src_index_to_word = src_tokenizer.index_word # 원문 단어 집합에서 정수 -> 단어를 얻음\n",
    "tar_word_to_index = tar_tokenizer.word_index # 요약 단어 집합에서 단어 -> 정수를 얻음\n",
    "tar_index_to_word = tar_tokenizer.index_word # 요약 단어 집합에서 정수 -> 단어를 얻음"
   ]
  },
  {
   "cell_type": "code",
   "execution_count": 61,
   "id": "766b2973",
   "metadata": {},
   "outputs": [],
   "source": [
    "# 인코더 설계\n",
    "encoder_model = Model(inputs=encoder_inputs, outputs=[encoder_outputs, state_h, state_c])\n",
    "\n",
    "\n",
    "# 이전 시점의 상태들을 저장하는 텐서\n",
    "decoder_state_input_h = Input(shape=(hidden_size,))\n",
    "decoder_state_input_c = Input(shape=(hidden_size,))\n",
    "\n",
    "dec_emb2 = dec_emb_layer(decoder_inputs)\n",
    "\n",
    "# 문장의 다음 단어를 예측하기 위해서 초기 상태(initial_state)를 이전 시점의 상태로 사용. 이는 뒤의 함수 decode_sequence()에 구현\n",
    "# 훈련 과정에서와 달리 LSTM의 리턴하는 은닉 상태와 셀 상태인 state_h와 state_c를 버리지 않음.\n",
    "decoder_outputs2, state_h2, state_c2 = decoder_lstm(dec_emb2, initial_state=[decoder_state_input_h, decoder_state_input_c])\n",
    "\n",
    "# 어텐션 함수\n",
    "decoder_hidden_state_input = Input(shape=(text_max_len, hidden_size))\n",
    "#attn_out_inf, attn_states_inf = attn_layer([decoder_hidden_state_input, decoder_outputs2])\n",
    "attn_out_inf = attn_layer([decoder_outputs2, decoder_hidden_state_input])\n",
    "decoder_inf_concat = Concatenate(axis=-1, name='concat')([decoder_outputs2, attn_out_inf])\n",
    "\n",
    "# 디코더의 출력층\n",
    "decoder_outputs2 = decoder_softmax_layer(decoder_inf_concat) \n",
    "\n",
    "# 최종 디코더 모델\n",
    "decoder_model = Model(\n",
    "    [decoder_inputs] + [decoder_hidden_state_input,decoder_state_input_h, decoder_state_input_c],\n",
    "    [decoder_outputs2] + [state_h2, state_c2])"
   ]
  },
  {
   "cell_type": "code",
   "execution_count": 62,
   "id": "b8bbb2a5",
   "metadata": {},
   "outputs": [],
   "source": [
    "# 단어 시퀀스를 완성하는 함수\n",
    "def decode_sequence(input_seq):\n",
    "    # 입력으로부터 인코더의 상태를 얻음\n",
    "    e_out, e_h, e_c = encoder_model.predict(input_seq)\n",
    "\n",
    "     # <SOS>에 해당하는 토큰 생성\n",
    "    target_seq = np.zeros((1,1))\n",
    "    target_seq[0, 0] = tar_word_to_index['sostoken']\n",
    "\n",
    "    stop_condition = False\n",
    "    decoded_sentence = ''\n",
    "    while not stop_condition: # stop_condition이 True가 될 때까지 루프 반복\n",
    "\n",
    "        output_tokens, h, c = decoder_model.predict([target_seq] + [e_out, e_h, e_c])\n",
    "        sampled_token_index = np.argmax(output_tokens[0, -1, :])\n",
    "        sampled_token = tar_index_to_word[sampled_token_index]\n",
    "\n",
    "        if(sampled_token!='eostoken'):\n",
    "            decoded_sentence += ' '+sampled_token\n",
    "\n",
    "        #  <eos>에 도달하거나 최대 길이를 넘으면 중단.\n",
    "        if (sampled_token == 'eostoken'  or len(decoded_sentence.split()) >= (summary_max_len-1)):\n",
    "            stop_condition = True\n",
    "\n",
    "        # 길이가 1인 타겟 시퀀스를 업데이트\n",
    "        target_seq = np.zeros((1,1))\n",
    "        target_seq[0, 0] = sampled_token_index\n",
    "\n",
    "        # 상태를 업데이트 합니다.\n",
    "        e_h, e_c = h, c\n",
    "\n",
    "    return decoded_sentence"
   ]
  },
  {
   "cell_type": "code",
   "execution_count": 63,
   "id": "284e293f",
   "metadata": {},
   "outputs": [],
   "source": [
    "# 원문의 정수 시퀀스를 텍스트 시퀀스로 변환\n",
    "def seq2text(input_seq):\n",
    "    temp=''\n",
    "    for i in input_seq:\n",
    "        if(i!=0):\n",
    "            temp = temp + src_index_to_word[i]+' '\n",
    "    return temp"
   ]
  },
  {
   "cell_type": "code",
   "execution_count": 64,
   "id": "ab85f313",
   "metadata": {},
   "outputs": [],
   "source": [
    "# 요약문의 정수 시퀀스를 텍스트 시퀀스로 변환\n",
    "def seq2summary(input_seq):\n",
    "    temp=''\n",
    "    for i in input_seq:\n",
    "        if((i!=0 and i!=tar_word_to_index['sostoken']) and i!=tar_word_to_index['eostoken']):\n",
    "            temp = temp + tar_index_to_word[i] + ' '\n",
    "    return temp"
   ]
  },
  {
   "cell_type": "code",
   "execution_count": 65,
   "id": "71c72714",
   "metadata": {
    "scrolled": false
   },
   "outputs": [
    {
     "name": "stdout",
     "output_type": "stream",
     "text": [
      "원문 : video shows fans american baseball team houston working together return woman hat fell seven floors parking lot fans tossed hat one floor time reached woman incident took place world series victory parade united states houston \n",
      "실제 요약 : fans throw woman hat from floor to floor to return it \n",
      "예측 요약 :  video shows baseball player with helicopter runs in england\n",
      "\n",
      "\n",
      "원문 : song sexy barbie girl arbaaz khan sunny leone starrer tera cleared delhi high court word barbie replaced baby film makers sued inc manufacturer barbie dolls using word barbie song without company permission \n",
      "실제 요약 : sexy barbie girl song cleared after barbie changed to baby \n",
      "예측 요약 :  sunny leone starrer sunny deol starrer raazi\n",
      "\n",
      "\n",
      "원문 : telugu actor comedian vijay sai found hanging residence hyderabad monday morning reports claimed actor committed suicide police yet confirm also reported vijay wife staying separately last one year actor treated depression \n",
      "실제 요약 : telugu actor vijay found dead suicide suspected \n",
      "예측 요약 :  tv actress found guilty of suicide in suicide\n",
      "\n",
      "\n",
      "원문 : delhi police tuesday rubbished media reports claiming missing jnu student najeeb ahmad browsing information islamic state disappearance association isis come delhi police investigation delhi police spokesperson pathak said according reports najeeb search history also included ways join terror group \n",
      "실제 요약 : no association of missing jnu student with is police \n",
      "예측 요약 :  delhi police issues arrest of isis links to isis\n",
      "\n",
      "\n",
      "원문 : australian professor george discovered hidden region human brain called nucleus might responsible fine motor control discovery could help find diseases including parkinson disease motor disease found area brain connects spinal cord said \n",
      "실제 요약 : hidden region in brain that may help cure found \n",
      "예측 요약 :  human brain edited to study discovered in mice\n",
      "\n",
      "\n",
      "원문 : project initiative district administration bihar collaboration mobile based social learning platform prime minister excellence award best innovation project aims providing quality education government schools using platform project started august last year \n",
      "실제 요약 : startup wins pm excellence award for innovation \n",
      "예측 요약 :  up to launch india program for students\n",
      "\n",
      "\n",
      "원문 : investors wealth measured terms bse listed companies market value fell trillion two days indian equity benchmark sensex fell nearly points index ended one month low tuesday falling points rupee fell paise new low dollar tuesday \n",
      "실제 요약 : investors lose trillion in days as sensex falls pts \n",
      "예측 요약 :  sensex hit trillion in one day of jio\n",
      "\n",
      "\n",
      "원문 : iranian city country war iraq using photoshopped image israeli soldiers billboard image taken locals spotted men picture wearing israeli uniforms carrying rifles council leader ordered investigation incident \n",
      "실제 요약 : iran city marks war with iraq with images of israeli soldiers \n",
      "예측 요약 :  iran iraq border war with iran\n",
      "\n",
      "\n",
      "원문 : mumbai police official twitter account shared post urging people dial always helps citing india opener prithvi shaw hundred test debut always good start best dial tweet read shaw plays mumbai domestic cricket made international debut today \n",
      "실제 요약 : mumbai police cites shaw debut ton to urge people to dial \n",
      "예측 요약 :  mumbai police tweets about tweets on women completing years\n",
      "\n",
      "\n",
      "원문 : german court ruled comedian comments terming far right politician nazi slut television satirical thus perfectly acceptable court ruling pointed satirical protected german laws freedom speech politician initiated legal action comedian saying words defamatory put danger \n",
      "실제 요약 : german court rules nazi insult is acceptable \n",
      "예측 요약 :  wikileaks founder compares vatican to remove gay riots\n",
      "\n",
      "\n",
      "원문 : claiming government runs values constitution maharashtra cm devendra fadnavis thursday said constitution shows us way better manner gita bible quran serve people said indian constitution best constitution world important us religious book \n",
      "실제 요약 : constitution more important for govt than gita quran maha cm \n",
      "예측 요약 :  jayalalithaa has nothing to prove karnataka cm\n",
      "\n",
      "\n",
      "원문 : stand comedian atul took twitter point news outlets using name instead sexual harassment accused jnu professor atul johri one headlines read jnu professor atul arrested sexual misconduct days student protests sharing erroneous news tweeted \n",
      "실제 요약 : media uses comedian name instead of accused jnu professor \n",
      "예측 요약 :  comedian of alleged harassment by alleged alleged abuse\n",
      "\n",
      "\n",
      "원문 : google rolling personalised features maps recommend location based restaurants cafes bars users explore tab make recommendations tab keeps track places users google also introduced match scores ratings restaurants bars depending users previous choices ratings \n",
      "실제 요약 : google maps now recommends location based restaurants \n",
      "예측 요약 :  google maps adds feature to feature in maps\n",
      "\n",
      "\n",
      "원문 : video showing woman mumbai claiming tortured husband asking help surfaced online woman alleged electrocuted police helped though filed case claiming husband woman said life danger \n",
      "실제 요약 : video woman claims husband electrocuted her seeks rescue \n",
      "예측 요약 :  couple thrashed by woman for opposing harassment\n",
      "\n",
      "\n",
      "원문 : gangster munna bajrangi accused killing bjp leader rai shot dead inside uttar pradesh jail gangster brawl inmates opened fire reports said earlier wife held press conference accusing special task force planning fake encounter murder \n",
      "실제 요약 : gangster accused of killing bjp leader shot dead inside jail \n",
      "예측 요약 :  gangster shot dead in bihar gangster murder case\n",
      "\n",
      "\n",
      "원문 : defence minister nirmala sitharaman shared updates relief operations amid kerala worst floods nearly century sitharaman tweeted army navy coast guard deployed total eight helicopters boats eight task forces rescue teams indian armed forces also distributed food packets august noon added \n",
      "실제 요약 : sent choppers boats for kerala rescue ops defence minister \n",
      "예측 요약 :  army to rescue indian fishermen in yemen\n",
      "\n",
      "\n",
      "원문 : actor anil kapoor shared picture golden jubilee celebrations cisf mumbai tweeting makes even proud jawans present today female thanking dedication protect people anil wrote jawans families sacrifice much keep us safe \n",
      "실제 요약 : proud that of cisf mumbai jawans are female anil \n",
      "예측 요약 :  sonam kapoor shares pic of women daughters at airport\n",
      "\n",
      "\n",
      "원문 : hugging corpses father daughter found earthquake tsunami hit indonesia corpses found deceased man son said able save people unable save family death toll earthquake tsunami hit country last week risen \n",
      "실제 요약 : hugging corpses of father daughter found in indonesia \n",
      "예측 요약 :  father of newborn girl found dead in indonesia\n",
      "\n",
      "\n",
      "원문 : nearly dead live tortoises native africa madagascar recovered house last week officials said critically endangered species likely smuggling southeast asia china sold reptile collectors rescue efforts underway tortoises died either dehydration infection \n",
      "실제 요약 : stolen endangered found in house \n",
      "예측 요약 :  dead found in china after eating\n",
      "\n",
      "\n",
      "원문 : delhi year received highest rainfall month september last seven years data india meteorological department showed till september national capital recorded mm rainfall whole month last year received mm september received mm rainfall \n",
      "실제 요약 : delhi gets highest rainfall in september in years \n",
      "예측 요약 :  delhi records highest dengue cases in years\n",
      "\n",
      "\n",
      "원문 : tonnes plastic used lay km length roads tamil nadu last five years municipal administration minister sp revealed initiative part government emphasis creating plastic free environment self help groups trained promote collection segregation plastic \n",
      "실제 요약 : tonnes waste plastic used to lay km roads in tn \n",
      "예측 요약 :  goa to make plastic waste to curb pollution\n",
      "\n",
      "\n",
      "원문 : union minister nitin gadkari said companies offered invest crore special economic zone adjoining india largest container port jawaharlal nehru port mumbai investment create employment lakh people gadkari said one firm said affidavit invest crore create employment people \n",
      "실제 요약 : firms to invest cr in next to largest port \n",
      "예측 요약 :  govt plans to invest crore in invest in india\n",
      "\n",
      "\n",
      "원문 : serbian barber mario liking celebrity portraits released video shaving image north korean leader kim jong un one client great poster north korean culture language honoured head hair tattoo portrait jong un read video caption \n",
      "실제 요약 : barber shaves kim jong un face on client \n"
     ]
    },
    {
     "name": "stdout",
     "output_type": "stream",
     "text": [
      "예측 요약 :  video shows north korean president photo with kim jong un\n",
      "\n",
      "\n",
      "원문 : rajasthan high court acquitted woman accused murdering child grounds suffering triggered stress syndrome time crime kumari chandra accused pushing three children two boys girl well august killing one boy \n",
      "실제 요약 : rajasthan hc clears woman who killed boy while due to pms \n",
      "예측 요약 :  rajasthan woman found guilty of killing woman in rajasthan\n",
      "\n",
      "\n",
      "원문 : widening scope probe billion pnb fraud cbi questioning senior officers indian banks agency reportedly questioned general managers deputy general managers allahabad bank axis bank bank india whose overseas branches issued fraudulent guarantees pnb five bank officers questioned far \n",
      "실제 요약 : cbi questions other banks senior executives in pnb fraud \n",
      "예측 요약 :  banks are not fraud fraud accused pnb fraud case\n",
      "\n",
      "\n",
      "원문 : indian spinner ravichandran ashwin revealed virender sehwag hit harbhajan singh sixes game rohtak fever ashwin added sehwag consider spinners bowlers found easy playing realised one fine day sehwag ego needed bowl said ashwin \n",
      "실제 요약 : sick sehwag once hit harbhajan for sixes reveals ashwin \n",
      "예측 요약 :  ashwin has rohit record of the best odi ashwin\n",
      "\n",
      "\n",
      "원문 : delhi police today arrested year old man accused beating former international anil sharma delhi last week accused identified ashwini alias told police accused heated argument sharma attacked confessed unaware intensity sharma injuries \n",
      "실제 요약 : one arrested for attack on former int athlete in delhi \n",
      "예측 요약 :  delhi police arrests man who assaulted himself in ipl\n",
      "\n",
      "\n",
      "원문 : jawan allegedly committed suicide shooting service rifle army camp near line control jammu kashmir police officials said jawan pressed trigger pointing rifle beneath chin army ordered court inquiry incident \n",
      "실제 요약 : jawan shoots self with service rifle at army camp \n",
      "예측 요약 :  jawan killed in suicide attack on army camp in kashmir\n",
      "\n",
      "\n",
      "원문 : spy ship part russia black sea fleet sunk turkish coast collision prompting evacuation crew members turkish coastal authority said cause collision established however russia defence ministry said vessel hole result incident \n",
      "실제 요약 : russian spy ship sinks off turkey coast after collision \n",
      "예측 요약 :  russian spy ship crew lands on runway in russia\n",
      "\n",
      "\n",
      "원문 : year old woman pune gave birth baby boy ola cab way hospital monday morning ola later announced woman son avail free rides next five years gift driver cab yashwant also felicitated ola \n",
      "실제 요약 : pune woman delivers in ola cab gets free rides for years \n",
      "예측 요약 :  woman gives birth to mother of mother in law\n",
      "\n",
      "\n",
      "원문 : former actress amrita arora took instagram share series pictures videos workout session actress kareena kapoor khan duo seen using bell among exercises videos gym together lose weight together read caption one pictures shared amrita \n",
      "실제 요약 : amrita arora shares workout video with kareena kapoor \n",
      "예측 요약 :  alia shares pic with katrina from her th film\n",
      "\n",
      "\n",
      "원문 : uttar pradesh chief minister yogi adityanath tuesday said justice delayed sometimes justice denied speaking supreme court order ayodhya case till january every peace loving individual country expecting instant solution case added advocate general also appealed sc said \n",
      "실제 요약 : justice delayed is sometimes justice denied yogi on ayodhya \n",
      "예측 요약 :  sc verdict on ayodhya dispute will be built up cm yogi\n",
      "\n",
      "\n",
      "원문 : former yahoo ceo mayer apologised data breaches faced internet company tenure mayer added yahoo able identify intrusion leading breach last month yahoo revealed three billion users accounts hacked world biggest data breach occurred \n",
      "실제 요약 : former yahoo ceo mayer apologises for data breaches \n",
      "예측 요약 :  ex ceo sues ex employee for stealing data scandal\n",
      "\n",
      "\n",
      "원문 : uk year old prince philip underwent successful hip replacement operation good spirits buckingham palace said underwent procedure trouble standing leaning wall month prince retired public duty august last year serving years captain general royal marines \n",
      "실제 요약 : prince philip in good spirits post hip replacement surgery \n",
      "예측 요약 :  uk queen elizabeth ii claims to uk after years\n",
      "\n",
      "\n",
      "원문 : rajya sabha mp jaya bachchan friday declared husband amitabh assets worth crore according affidavit filed mp couple immovable assets worth crore movable assets worth crore jaya declared assets worth crore filed nomination rajya sabha \n",
      "실제 요약 : rajya sabha mp jaya bachchan declares assets worth crore \n",
      "예측 요약 :  sibal daughter md worth cr in his assets to cr\n",
      "\n",
      "\n",
      "원문 : malaysian state plans run conversion therapy course transgender women officials said adding course would voluntary officials said would also include medical psychological religious experts human rights watch claimed report discrimination lgbt people malaysia \n",
      "실제 요약 : malaysian state plans conversion therapy for transgenders \n",
      "예측 요약 :  malaysia scraps its first ever marriage neutral\n",
      "\n",
      "\n",
      "원문 : former college principal telangana duped men lakh posting pictures actresses south indian film industry labelled online approached given rate card services actresses allegedly asked customers deposit money account later stopped responding calls \n",
      "실제 요약 : ex principal posts pics of actresses as to dupe men \n",
      "예측 요약 :  ex assam engineer booked for cheating in cheating\n",
      "\n",
      "\n",
      "원문 : jammu kashmir police confirmed two militants including lashkar taiba commander bashir killed anantnag following encounter security forces saturday two civilians also killed ten injured one wanted lashkar commanders carried bounty lakh \n",
      "실제 요약 : militants civilians die in in anantnag \n",
      "예측 요약 :  security forces killed in encounter in encounter\n",
      "\n",
      "\n",
      "원문 : germany test launched surveillance cameras biometric face recognition capability one berlin railway stations test aims determine whether cameras automatically recognise faces specific persons single crowd officials said potential threats could exposed averted ahead planned attacks use technology \n",
      "실제 요약 : germany begins testing surveillance through face recognition \n",
      "예측 요약 :  japan to use robots to track robots from using drones\n",
      "\n",
      "\n",
      "원문 : female passenger removed american airlines atlanta chicago flight wednesday yelling flight attendant letting dog run cabin fellow passenger added seat plane preparing take yelled asked stop incident led four hour delay \n",
      "실제 요약 : woman with loose dog on flight at crew causes delay \n",
      "예측 요약 :  woman jumps off plane to escape plane gets stuck in uk\n",
      "\n",
      "\n",
      "원문 : authorities australia thursday seized tons drug methamphetamine worth nearly crore biggest ever haul drugs uncovered police raided dock port western australia officials said eight men arrested connection haul facing maximum penalty life imprisonment \n",
      "실제 요약 : meth worth crore seized in australia \n",
      "예측 요약 :  drug drug mining seized in south africa\n",
      "\n",
      "\n",
      "원문 : pm narendra modi president ram nath kovind saturday attended dussehra celebrations organised shri leela committee delhi event pm modi said festivals medium education teach people unity event also attended vice president venkaiah naidu former pm manmohan singh \n",
      "실제 요약 : pm modi prez kovind attend dussehra celebrations in delhi \n",
      "예측 요약 :  pm modi prez kovind extend greetings on his birthday\n",
      "\n",
      "\n",
      "원문 : actress anushka sharma said one cannot blame actors star kids nepotism working star kid non star kid thinking person working less added anushka said people want acknowledgement yes sense beyond useless conversation \n",
      "실제 요약 : you can blame actors or star kids for nepotism anushka \n",
      "예측 요약 :  have no need to change nepotism anushka on dating rumours\n",
      "\n",
      "\n",
      "원문 : italy year old motorcycle racer apologised behaviour sacked team pulling rival stefano brake lever riding speed kmph race wish bad dream made disgraceful gesture man said \n",
      "실제 요약 : was not man racer on pulling rival brake \n",
      "예측 요약 :  italian firm apologises for not removing hijab\n",
      "\n",
      "\n",
      "원문 : world bank thursday committed million development tourism facilities indian state uttar pradesh five year programme focus agra region despite two prime tourist pilgrimage destinations state highest poverty rates nn \n",
      "실제 요약 : world bank commits over cr to uttar pradesh for tourism \n",
      "예측 요약 :  world bank pledges to up world bank for cr\n",
      "\n",
      "\n",
      "원문 : former australian pacer revealed spot fixing practices bangladesh premier league included owners play said team managers used ask owners next match said spot fixers microphones mobiles crowd even security could anything \n",
      "실제 요약 : former aus pacer reveals spot fixing in bangladesh league \n"
     ]
    },
    {
     "name": "stdout",
     "output_type": "stream",
     "text": [
      "예측 요약 :  bumrah once bowled out of him to dismiss bumrah\n",
      "\n",
      "\n",
      "원문 : punjab national bank saturday said department financial services report ranked best state owned bank terms digital transactions bank fully committed digital india initiative pnb said statement rated sixth best overall category amongst banks india digital performance \n",
      "실제 요약 : govt ranks pnb as best state run bank for digital transactions \n",
      "예측 요약 :  pnb to merge with world bank for pnb fraud\n",
      "\n",
      "\n",
      "원문 : three african women man arrested narcotics control bureau allegedly trying smuggle kg drugs worth lakh three separate operations arrested indira gandhi international airport trying fly foreign destinations drugs concealed bags official said \n",
      "실제 요약 : foreign nationals held with drugs worth lakh in delhi \n",
      "예측 요약 :  man arrested for smuggling kg of gold in mumbai\n",
      "\n",
      "\n",
      "원문 : five time tamil nadu cm dmk chief karunanidhi passed away aged laid rest state honours chennai marina beach wednesday karunanidhi laid rest adjacent mausoleum mentor cn words rests man worked without taking rest engraved \n",
      "실제 요약 : five time tamil nadu cm karunanidhi laid to rest at marina beach \n",
      "예측 요약 :  tn cm karunanidhi passes away at\n",
      "\n",
      "\n",
      "원문 : indian meteorological department regional centre mumbai issued warnings cyclonic northeast arabian sea north gujarat coast east central arabian sea south maharashtra coast situation likely cause heavy heavy rainfall along west coast india parts gujarat department said \n",
      "실제 요약 : imd issues cyclone warnings for gujarat maharashtra \n",
      "예측 요약 :  imd issues alert in nepal for cyclone ockhi\n",
      "\n",
      "\n"
     ]
    }
   ],
   "source": [
    "# 결과 비교\n",
    "for i in range(50):\n",
    "    print(\"원문 :\", seq2text(encoder_input_test[i]))\n",
    "    print(\"실제 요약 :\", seq2summary(decoder_input_test[i]))\n",
    "    print(\"예측 요약 :\", decode_sequence(encoder_input_test[i].reshape(1, text_max_len)))\n",
    "    print(\"\\n\")"
   ]
  },
  {
   "cell_type": "code",
   "execution_count": null,
   "id": "66a02af1",
   "metadata": {},
   "outputs": [],
   "source": [
    "## 추출적 요약"
   ]
  },
  {
   "cell_type": "code",
   "execution_count": 66,
   "id": "f1622839",
   "metadata": {},
   "outputs": [],
   "source": [
    "import requests\n",
    "from summa.summarizer import summarize"
   ]
  },
  {
   "cell_type": "code",
   "execution_count": 67,
   "id": "6ca37d95",
   "metadata": {},
   "outputs": [],
   "source": [
    "summa_data = pd.read_csv('news_summary_more.csv', encoding='iso-8859-1')"
   ]
  },
  {
   "cell_type": "code",
   "execution_count": 68,
   "id": "810521bd",
   "metadata": {
    "scrolled": false
   },
   "outputs": [
    {
     "name": "stdout",
     "output_type": "stream",
     "text": [
      "원문     : Saurav Kant, an alumnus of upGrad and IIIT-B's PG Program in Machine learning and Artificial Intelligence, was a Sr Systems Engineer at Infosys with almost 5 years of work experience. The program and upGrad's 360-degree career support helped him transition to a Data Scientist at Tech Mahindra with 90% salary hike. upGrad's Online Power Learning has powered 3 lakh+ careers.\n",
      "실제 요약 : upGrad learner switches to career in ML & Al with 90% salary hike\n",
      "예측 요약 : upGrad's Online Power Learning has powered 3 lakh+ careers.\n",
      "\n",
      "\n",
      "원문     : Kunal Shah's credit card bill payment platform, CRED, gave users a chance to win free food from Swiggy for one year. Pranav Kaushik, a Delhi techie, bagged this reward after spending 2000 CRED coins. Users get one CRED coin per rupee of bill paid, which can be used to avail rewards from brands like Ixigo, BookMyShow, UberEats, Cult.Fit and more.\n",
      "실제 요약 : Delhi techie wins free food from Swiggy for one year on CRED\n",
      "예측 요약 : Users get one CRED coin per rupee of bill paid, which can be used to avail rewards from brands like Ixigo, BookMyShow, UberEats, Cult.Fit and more.\n",
      "\n",
      "\n",
      "원문     : New Zealand defeated India by 8 wickets in the fourth ODI at Hamilton on Thursday to win their first match of the five-match ODI series. India lost an international match under Rohit Sharma's captaincy after 12 consecutive victories dating back to March 2018. The match witnessed India getting all out for 92, their seventh lowest total in ODI cricket history.\n",
      "실제 요약 : New Zealand end Rohit Sharma-led India's 12-match winning streak\n",
      "예측 요약 : The match witnessed India getting all out for 92, their seventh lowest total in ODI cricket history.\n",
      "\n",
      "\n",
      "원문     : With Aegon Life iTerm Insurance plan, customers can enjoy tax benefits on your premiums paid and save up to Ã¢ÂÂ¹46,800^ on taxes. The plan provides life cover up to the age of 100 years. Also, customers have options to insure against Critical Illnesses, Disability and Accidental Death Benefit Rider with a life cover up to the age of 80 years.\n",
      "실제 요약 : Aegon life iTerm insurance plan helps customers save tax\n",
      "예측 요약 : Also, customers have options to insure against Critical Illnesses, Disability and Accidental Death Benefit Rider with a life cover up to the age of 80 years.\n",
      "\n",
      "\n",
      "원문     : Speaking about the sexual harassment allegations against Rajkumar Hirani, Sonam Kapoor said, \"I've known Hirani for many years...What if it's not true, the [#MeToo] movement will get derailed.\" \"In the #MeToo movement, I always believe a woman. But in this case, we need to reserve our judgment,\" she added. Hirani has been accused by an assistant who worked in 'Sanju'.\n",
      "실제 요약 : Have known Hirani for yrs, what if MeToo claims are not true: Sonam\n",
      "예측 요약 : \n",
      "\n",
      "\n",
      "원문     : Pakistani singer Rahat Fateh Ali Khan has denied receiving any notice from the Enforcement Directorate over allegedly smuggling foreign currency out of India. \"It would have been better if the authorities would have served the notice first if any and then publicised this,\" reads a press release issued on behalf of Rahat. The statement further called the allegation \"bizarre\".\n",
      "실제 요약 : Rahat Fateh Ali Khan denies getting notice for smuggling currency\n",
      "예측 요약 : Pakistani singer Rahat Fateh Ali Khan has denied receiving any notice from the Enforcement Directorate over allegedly smuggling foreign currency out of India.\n",
      "\n",
      "\n",
      "원문     : India recorded their lowest ODI total in New Zealand after getting all out for 92 runs in 30.5 overs in the fourth ODI at Hamilton on Thursday. Seven of India's batsmen were dismissed for single-digit scores, while their number ten batsman Yuzvendra Chahal top-scored with 18*(37). India's previous lowest ODI total in New Zealand was 108.\n",
      "실제 요약 : India get all out for 92, their lowest ODI total in New Zealand\n",
      "예측 요약 : India's previous lowest ODI total in New Zealand was 108.\n",
      "\n",
      "\n",
      "원문     : Weeks after ex-CBI Director Alok Verma told the Department of Personnel and Training to consider him retired, the Home Ministry asked him to join work on the last day of his fixed tenure as Director on Thursday. The ministry directed him to immediately join as DG, Fire Services, the post he was transferred to after his removal as CBI chief.\n",
      "실제 요약 : Govt directs Alok Verma to join work 1 day before his retirement\n",
      "예측 요약 : \n",
      "\n",
      "\n",
      "원문     : Andhra Pradesh CM N Chandrababu Naidu has said, \"When I met then US President Bill Clinton, I addressed him as Mr Clinton, not as 'sir'. (PM Narendra) Modi is my junior in politics...I addressed him as sir 10 times.\" \"I did this...to satisfy his ego in the hope that he will do justice to the state,\" he added.\n",
      "실제 요약 : Called PM Modi 'sir' 10 times to satisfy his ego: Andhra CM\n",
      "예측 요약 : Andhra Pradesh CM N Chandrababu Naidu has said, \"When I met then US President Bill Clinton, I addressed him as Mr Clinton, not as 'sir'.\n",
      "\n",
      "\n",
      "원문     : Congress candidate Shafia Zubair won the Ramgarh Assembly seat in Rajasthan, by defeating BJP's Sukhwant Singh with a margin of 12,228 votes in the bypoll. With this victory, Congress has taken its total to 100 seats in the 200-member assembly. The election to the Ramgarh seat was delayed due to the death of sitting MLA and BSP candidate Laxman Singh.\n",
      "실제 요약 : Cong wins Ramgarh bypoll in Rajasthan, takes total to 100 seats\n",
      "예측 요약 : Congress candidate Shafia Zubair won the Ramgarh Assembly seat in Rajasthan, by defeating BJP's Sukhwant Singh with a margin of 12,228 votes in the bypoll.\n",
      "\n",
      "\n",
      "원문     : Two minor cousins in Uttar Pradesh's Gorakhpur were allegedly repeatedly burnt with tongs and forced to eat human excreta by their family for being friends with two boys from the same school. The cousins revealed their ordeal to the police and Child Welfare Committee after being brought back to Gorakhpur from Nepal, where they had fled to escape the torture.\n",
      "실제 요약 : UP cousins fed human excreta for friendship with boys\n",
      "예측 요약 : \n",
      "\n",
      "\n",
      "원문     : Isha Ghosh, an 81-year-old member of Bharat Scouts and Guides (BSG), has been imparting physical and mental training to schoolchildren in Jharkhand for several decades. Chaibasa-based Ghosh reportedly walks seven kilometres daily and spends eight hours conducting physical training, apart from climbing and yoga sessions. She says, \"One should do something for society till one's last breath.\"\n",
      "실제 요약 : 81-yr-old woman conducts physical training in J'khand schools\n",
      "예측 요약 : Isha Ghosh, an 81-year-old member of Bharat Scouts and Guides (BSG), has been imparting physical and mental training to schoolchildren in Jharkhand for several decades.\n",
      "\n",
      "\n",
      "원문     : Urging saints and seers at the Kumbh Mela to quit smoking, Yoga guru Ramdev said, \"We follow Ram and Krishna who never smoked in their life then why should we?\" Making them take a pledge to quit tobacco, he collected chillum (clay pipe) from several sadhus. He said he will deposit the chillums for display at a museum he'll build.\n",
      "실제 요약 : Ram, Krishna didn't smoke, why should we: Ramdev to sadhus at Kumbh\n",
      "예측 요약 : \n",
      "\n",
      "\n",
      "원문     : Former stripper and regional sales director of a pharmaceutical company, Sunrise Lee, gave a doctor a lap dance in a nightclub to persuade him to prescribe an addictive fentanyl spray in 2012, the company's sales representative told a US court. She said she saw Lee \"sitting on [doctor's] lap, kind of bouncing around.\" Lee has been accused of bribing doctors.\n",
      "실제 요약 : Pharma exec gave doctor a lap dance to sell medicine in US: Witness\n",
      "예측 요약 : \n",
      "\n",
      "\n",
      "원문     : Reliance Industries' Chairman Mukesh Ambani's daughter Isha Ambani, who got married last month, said she only cried at her 'bidaai' because she felt peer pressure as everyone was crying, especially her parents. \"I was emotional too but everyone around me would cry all the time,\" she added. \"It was a very emotional affair for everyone in my family,\" said Isha.\n",
      "실제 요약 :  I only cried at my 'bidaai' as I felt peer pressure: Isha Ambani\n",
      "예측 요약 : \"It was a very emotional affair for everyone in my family,\" said Isha.\n",
      "\n",
      "\n",
      "원문     : Louis Vuitton owner LVMH, which makes high-end beverages like MoÃÂ«t & Chandon champagne and Hennessy cognac, said it's stockpiling four months' worth of wine and spirits in UK in preparation for Brexit. \"We're ready for worst case scenario if there are difficulties with deliveries,\" the French luxury giant said. The UK is scheduled to leave the EU on March 29.\n",
      "실제 요약 : Louis Vuitton owner to stockpile 4 months of wine, spirits in UK\n",
      "예측 요약 : \n",
      "\n",
      "\n",
      "원문     : Filmmaker Karan Johar and actress Tabu turned showstoppers for Gaurav Gupta on the opening night of LakmÃÂ© Fashion Week Summer/ Resort 2019. While Johar wore a red sequinned jacket with black pants, Tabu walked the ramp in a grey embellished gown. The fashion show, which began on January 29, will continue till February 3.\n",
      "실제 요약 : Karan Johar, Tabu turn showstoppers on opening night of LFW\n",
      "예측 요약 : Filmmaker Karan Johar and actress Tabu turned showstoppers for Gaurav Gupta on the opening night of LakmÃÂ© Fashion Week Summer/ Resort 2019.\n",
      "\n",
      "\n",
      "원문     : In a jibe at Congress President Rahul Gandhi, PM Narendra Modi on Wednesday said those on \"bail will have to go to jail.\" PM Modi added, \"He is out on bail and his associates too are facing charges...I know they will be convicted one day.\" The PM claimed he'd waged a war on corruption because he's from a common household. \n",
      "실제 요약 : Those on bail will go to jail: PM Modi takes jibe at Rahul\n",
      "예측 요약 : \n",
      "\n",
      "\n",
      "원문     : Days after he threatened to step down from his post if Congress MLAs continue \"crossing the line,\" Karnataka Chief Minister HD Kumaraswamy accused them of taking potshots and asked, \"How many more days can I tolerate such stuff?\" Kumaraswamy, who made the statements after a Congress MLA demanded that Siddaramaiah be made CM again, said, \"Power is ephemeral.\"\n",
      "실제 요약 : How long can I tolerate Congress leaders' potshots: K'taka CM\n",
      "예측 요약 : \n",
      "\n",
      "\n",
      "원문     : Union Minister Dharmendra Pradhan on Wednesday claimed the illegal mining mafia in Odisha operates under the control of CM Naveen Patnaik and state Congress chief Niranjan Patnaik. He added, \"The time has come for the people of Odisha to put a full stop to their activities...The time has come for us to ask for an explanation from this corrupt government.\"\n",
      "실제 요약 : Odisha CM Patnaik controls mining mafia: Union Minister\n",
      "예측 요약 : Union Minister Dharmendra Pradhan on Wednesday claimed the illegal mining mafia in Odisha operates under the control of CM Naveen Patnaik and state Congress chief Niranjan Patnaik.\n",
      "\n",
      "\n",
      "원문     : Claiming there is a dearth of ideas among opposition parties, Prime Minister Narendra Modi on Wednesday said, \"The opposition talks only about Modi the whole day, I suspect they even dream about me.\" PM Modi, who was addressing the New India Youth Conclave inÃ¢ÂÂ Surat, added that the opposition parties have only one agenda which is \"Modi\". \n",
      "실제 요약 : I think the opposition even dreams about me: PM Modi\n",
      "예측 요약 : \n",
      "\n",
      "\n",
      "원문     : The Indian Space Research Organisation on Wednesday unveiled Human Space Flight Centre in Bengaluru for its Ã¢ÂÂ¹10,000-crore manned space mission 'Gaganyaan' scheduled for 2021. ISRO said the centre will be responsible for development of engineering systems for crew survival in space and crew selection and training. It'll also pursue activities for sustained human space flight missions, ISRO added.\n",
      "실제 요약 : ISRO unveils Bengaluru centre for manned space mission \n",
      "예측 요약 : It'll also pursue activities for sustained human space flight missions, ISRO added.\n",
      "\n",
      "\n",
      "원문     : At least 12 people have been killed and 170 others have been injured in Saudi Arabia this week due to flooding from heavy rain. The emergency services rescued 271 people from the flooded areas, more than half of them in Tabuk. Heavy rains hit mainly western and northwestern parts of Saudi Arabia, near its border with Jordan.\n",
      "실제 요약 : 12 killed, 170 injured in Saudi Arabia floods\n",
      "예측 요약 : At least 12 people have been killed and 170 others have been injured in Saudi Arabia this week due to flooding from heavy rain.\n",
      "\n",
      "\n",
      "원문     : Reliance Industries' Chairman Mukesh Ambani's daughter Isha Ambani has featured on the cover of the February edition of Vogue India. She's dressed in a white shirt dress and black ruffled skirt by Australian designer Toni Maticevski, while accessorising her look with a Misho ring. In the cover story on her, Isha has spoken about her work and life after marriage.\n",
      " \n",
      "실제 요약 : Isha Ambani features on February cover of Vogue magazine\n",
      "예측 요약 : Reliance Industries' Chairman Mukesh Ambani's daughter Isha Ambani has featured on the cover of the February edition of Vogue India.\n",
      "\n",
      "\n",
      "원문     : Indian Oil Corporation on Wednesday said it's looking for an annual deal to buy US crude as it seeks to broaden oil purchasing options. This comes amid uncertainties over Iran imports. The US had in November granted a six-month waiver to India from sanctions against Iran and restricted the country's monthly intake of Iranian oil to 3,00,000 barrels per day.\n",
      "\n",
      "\n",
      "실제 요약 : Indian Oil looking for annual deal to buy crude from US\n",
      "예측 요약 : The US had in November granted a six-month waiver to India from sanctions against Iran and restricted the country's monthly intake of Iranian oil to 3,00,000 barrels per day.\n",
      "\n",
      "\n",
      "원문     : Former Windies fast bowler Curtly Ambrose dismissed seven Australian batsmen within a span of 32 balls giving away just one run, in a Test match on January 30, 1993. Ambrose's spell helped his team bowl out Australia for 119 in the first innings, after being 85 for 2 at one point. Ambrose ended with first-innings figures of 18-9-25-7.\n",
      "실제 요약 : Pacer once took 7 wickets for just 1 run in 32 balls in a Test\n",
      "예측 요약 : Ambrose ended with first-innings figures of 18-9-25-7.\n",
      "\n",
      "\n",
      "원문     : A London zoo is offering people to name a cockroach after their exes on Valentine's Day for ÃÂ£1.50 (nearly Ã¢ÂÂ¹140). \"For those that don't quite require revenge, there's another way to make you feel better about getting back at your ex,\" the zoo said in a statement. The names will appear on zoo's 'roach board' on February 14. \n",
      "실제 요약 : UK zoo offers people to name cockroach after their ex on Valentine's\n",
      "예측 요약 : The names will appear on zoo's 'roach board' on February 14.\n",
      "\n",
      "\n",
      "원문     : Stand-in captain Rohit Sharma has become the 14th Indian cricketer to play 200 ODIs, achieving the feat after taking the field against New Zealand in fourth ODI at Hamilton on Thursday. The 31-year-old had made his ODI debut on June 23, 2007, against Ireland in Belfast. Rohit scored 7,799 runs in his first 199 ODIs at an average of 48.14.\n",
      "실제 요약 : Rohit Sharma becomes 14th Indian cricketer to play 200 ODIs\n",
      "예측 요약 : Rohit scored 7,799 runs in his first 199 ODIs at an average of 48.14.\n",
      "\n",
      "\n",
      "원문     : Batsman Shubman Gill has become the 227th cricketer to represent India in ODI cricket, achieving the feat against New Zealand in the fourth ODI at Hamilton on Thursday. The 19-year-old received his maiden ODI cap from former captain MS Dhoni. Notably, Shubman was named Player of the Under-19 World Cup in New Zealand last year.\n",
      "실제 요약 : 19-year-old Shubman Gill becomes India's 227th ODI cricketer\n",
      "예측 요약 : Notably, Shubman was named Player of the Under-19 World Cup in New Zealand last year.\n",
      "\n",
      "\n",
      "원문     : Investigators searching for a lost plane carrying Argentine forward Emiliano Sala found two seat cushions on French coast that \"likely\" belonged to the aircraft. The investigators said they'll now launch an underwater seabed search for aircraft wreckage. The Cardiff City footballer was travelling from France's Nantes to Wales' Cardiff when his plane disappeared over English Channel on January 21.\n",
      "실제 요약 : 2 seat cushions from 'missing plane carrying footballer' found\n",
      "예측 요약 : Investigators searching for a lost plane carrying Argentine forward Emiliano Sala found two seat cushions on French coast that \"likely\" belonged to the aircraft.\n",
      "\n",
      "\n",
      "원문     : Italian third division football side Lucchese's head coach Giancarlo Favarin has been banned for five months for headbutting Alessandria's assistant coach Gaetano Mancino during a brawl following the teams' 2-2 draw on Sunday. Mancino was caught off-balance and knocked to the ground after the headbutt. Earlier in the match, Favarin had told his own player to break an opponent's legs.\n",
      "실제 요약 : Italian coach knocks rival down with headbutt, banned for 5 months\n",
      "예측 요약 : \n",
      "\n",
      "\n",
      "원문     : Cyclists taking part in National Track Cycling Championship in Jaipur opted to sleep on the floor inside the stadium instead of hotels over expensive cycles. The organisers had booked hotels but they didn't have the provision for cyclists to keep their bikes inside. A national gold medallist said their cycles cost between Ã¢ÂÂ¹5-9 lakh and once damaged, they become non-repairable. \n",
      "실제 요약 : Cyclists sleep on stadium floor instead of hotel over costly cycles\n",
      "예측 요약 : Cyclists taking part in National Track Cycling Championship in Jaipur opted to sleep on the floor inside the stadium instead of hotels over expensive cycles.\n",
      "\n",
      "\n",
      "원문     : Silvia Grecco, a 56-year-old Brazilian mother narrates her local football team Palmeiras' matches live to her 12-year-old blind and autistic son Nickollas from the stands. \"I describe details: this player is wearing short sleeves...colour of...football boots, hair colour...Everything I see and feel, I tell him, even when I need to curse the referee!\" Grecco said after a recent match.\n",
      "실제 요약 : Brazilian mother narrates football matches to blind son from stands\n",
      "예측 요약 : Silvia Grecco, a 56-year-old Brazilian mother narrates her local football team Palmeiras' matches live to her 12-year-old blind and autistic son Nickollas from the stands.\n",
      "\n",
      "\n",
      "원문     : A TechCrunch report has claimed that IndiaÃ¢ÂÂs largest bank SBI secured a passwordless server \"overnight\" on being alerted it allowed anyone to access phone numbers, bank balances, and transactions of millions of its customers. The Mumbai-based server was containing two months of data from SBI Quick, an SMS and call-based system used to request basic information about accounts, TechCrunch revealed.\n",
      "실제 요약 : SBI left account data of millions of users unprotected: Report\n",
      "예측 요약 : \n",
      "\n",
      "\n",
      "원문     : Rahul Gandhi has replied to Goa CM Manohar Parrikar's letter, which accused the Congress President of using his \"visit to an ailing man for political gains\". \"He's under immense pressure from the PM after our meeting and needs to demonstrate his loyalty by attacking me,\" Gandhi wrote in his letter. Parrikar had clarified he didn't discuss Rafale deal with Rahul.\n",
      "실제 요약 : CM Parrikar under pressure from PM after our Goa meet: Rahul\n",
      "예측 요약 : Rahul Gandhi has replied to Goa CM Manohar Parrikar's letter, which accused the Congress President of using his \"visit to an ailing man for political gains\".\n",
      "\n",
      "\n",
      "원문     : Twenty-seven-year-old Mohammed Mahuwala was arrested in Indore on Wednesday for allegedly cheating e-commerce giant Amazon of nearly Ã¢ÂÂ¹30 lakh. Mahuwala was a member of a gang who ordered costly gadgets from Amazon. \"[They] used to get refund of the amount paid...by saying the parcel...was empty. In reality, these devices were taken out from parcel and sold...to local shopkeepers,\" said police.\n",
      "실제 요약 : Man arrested for cheating Amazon of Ã¢ÂÂ¹30 lakh by taking refunds\n",
      "예측 요약 : Mahuwala was a member of a gang who ordered costly gadgets from Amazon.\n",
      "\n",
      "\n",
      "원문     : AgustaWestland chopper scam co-accused Rajiv Saxena was extradited to India from UAE on Wednesday. He had been evading the Enforcement Directorate's summons claiming he was suffering from leukaemia but had moved an anti-money laundering court for anticipatory bail in December, stating he had never been summoned at his Dubai address. Saxena's lawyers alleged he had been \"illegally extradited\". \n",
      "실제 요약 : AgustaWestland scam accused Rajiv Saxena extradited to India\n",
      "예측 요약 : AgustaWestland chopper scam co-accused Rajiv Saxena was extradited to India from UAE on Wednesday.\n",
      "\n",
      "\n",
      "원문     : Afghan President Ashraf Ghani has said the \"keys to war\" are in Pakistan's Islamabad, Quetta and Rawalpindi, accusing the country of providing safe havens to militants, including those belonging to the Taliban. Ghani added the \"key to peace was in Afghanistan\". His comments came amid the talks between the US and the Taliban to end the 17-year war in Afghanistan.\n",
      "실제 요약 : Pakistan holds 'keys to war': Afghanistan\n",
      "예측 요약 : \n",
      "\n",
      "\n",
      "원문     : A Singapore-based insurance agent has been jailed for two years and five months for threatening to harm his clients unless they paid him in bitcoins. The 36-year-old set up an email account, and signed the messages as 'Lord Voldemort', a fictional character from the Harry Potter series. Ye Lin Myint targeted about 33 people, including those who cancelled insurance policies.\n",
      "실제 요약 : Insurance agent 'Lord Voldemort' jailed for threatening clients\n",
      "예측 요약 : A Singapore-based insurance agent has been jailed for two years and five months for threatening to harm his clients unless they paid him in bitcoins.\n",
      "\n",
      "\n",
      "원문     : Gabrielle Reilly, a 22-year-old US woman, created earrings for her Apple AirPods and put it up for sale online for $20 (about Ã¢ÂÂ¹1,500). \"I absolutely refuse to lose them (AirPods)...So I made earrings,\" she explained. The earrings, which took her over an hour to make, debuted in a video on Twitter that has since garnered over three million views.\n",
      "실제 요약 : Woman turns Apple AirPods into earrings to avoid losing them\n",
      "예측 요약 : \"I absolutely refuse to lose them (AirPods)...So I made earrings,\" she explained.\n",
      "\n",
      "\n",
      "원문     : Ex-ICICI Bank CEO Chanda Kochhar said she's \"utterly disappointed, hurt and shocked\" by the bank's decision to terminate her. Kochhar said she served ICICI for 34 years with utmost honesty and integrity and that ultimately truth will prevail. Adding that she hasn't been given a copy of the independent probe report, Kochhar said none of ICICI's credit decisions are unilateral\n",
      "실제 요약 : Shocked, hurt by ICICI's decision, truth will prevail: Kochhar\n",
      "예측 요약 : Adding that she hasn't been given a copy of the independent probe report, Kochhar said none of ICICI's credit decisions are unilateral\n",
      "\n",
      "\n",
      "원문     : Swedish multinational fast-fashion brand Hennes & Mauritz AB (H&M) has hired Christopher Wylie, the whistleblower who exposed Facebook's Cambridge Analytica data scandal. WylieÃ¢ÂÂs focus will be to help get better insights on customers, products and markets and support work on sustainable and ethical artificial intelligence, H&M spokesperson said. Wylie is a former employee of Cambridge Analytica.\n",
      "실제 요약 : Fashion brand H&M hires Facebook data scandal whistleblower\n",
      "예측 요약 : Swedish multinational fast-fashion brand Hennes & Mauritz AB (H&M) has hired Christopher Wylie, the whistleblower who exposed Facebook's Cambridge Analytica data scandal.\n",
      "\n",
      "\n",
      "원문     : Micro-blogging platform Twitter is testing a new feature on Android to put news on the top of a user's timeline. \"With this update, weÃ¢ÂÂre making it easier for people to see news and stories their followers have been discussing,\" Product Manager Walter Gurzynski said. The feature comes alongside a prompt saying, \"Catch up on what's happened while you were away.\"\n",
      "실제 요약 : Twitter testing news-first timeline feature on Android\n",
      "예측 요약 : Micro-blogging platform Twitter is testing a new feature on Android to put news on the top of a user's timeline.\n",
      "\n",
      "\n",
      "원문     : Samsung has started mass producing its one terabyte 'embedded Universal Flash Storage (eUFS) 2.1' technology for \"use in next-generation mobile applications\", which it claims is the industry's first such eUFS. The company added the new eUFS will let smartphones store 260 10-minute videos shot in 4K UHD format. It'll be sized the same as the previous 512GB version, Samsung said.\n",
      "실제 요약 : Samsung builds world's first 1TB storage chip for smartphones \n",
      "예측 요약 : Samsung has started mass producing its one terabyte 'embedded Universal Flash Storage (eUFS) 2.1' technology for \"use in next-generation mobile applications\", which it claims is the industry's first such eUFS.\n",
      "\n",
      "\n",
      "원문     : Prime Minister Narendra Modi on Wednesday said the people with 'negative mindset' are questioning him and his government for floating pro-poor schemes. He added negative mindset people are raising doubts about schemes such as building toilets and providing free gas connections to the poor. He further said that negative mentality laced with a vested interest still exists in the country.\n",
      "실제 요약 : People with 'negative mindset' quizzing pro-poor schemes: PM\n",
      "예측 요약 : Prime Minister Narendra Modi on Wednesday said the people with 'negative mindset' are questioning him and his government for floating pro-poor schemes.\n",
      "\n",
      "\n",
      "원문     : Union Minister Anantkumar Hegde took a dig at Congress President Rahul Gandhi by calling him a \"hybrid specimen\" who has no clue about religion. \"A father who's...Muslim, a mother who's...Christian and the son is supposed to be...Brahmin. How is that even possible?\" he said. He added such \"hybrid specimen\" cannot be found in any laboratory in the world.\n",
      "실제 요약 : Rahul is hybrid specimen, has no clue about religion: Hegde\n",
      "예측 요약 : Union Minister Anantkumar Hegde took a dig at Congress President Rahul Gandhi by calling him a \"hybrid specimen\" who has no clue about religion.\n",
      "\n",
      "\n",
      "원문     : Several parts of the US are set to experience record low temperatures as the polar vortex hit the Upper Midwest, with more than 200 million people expected to experience below-freezing temperatures this week. Temperatures throughout the Upper Midwest are expected to be at least 20-40Ã¢ÂÂ below zero. Government offices and schools have been closed in several areas.\n",
      "실제 요약 : Extreme cold to affect 200 million people as polar vortex hits US\n",
      "예측 요약 : \n",
      "\n",
      "\n",
      "원문     : The police on Wednesday registered cases against 13 persons, including a woman leader of Hindu Mahasabha, in Aligarh for firing at an effigy of Mahatma Gandhi with an air pistol. \"The incident took place in a house in Naurangabad locality of the city,\" Senior Superintendent of Police said. The video of the event went viral on social media, he added.\n",
      "실제 요약 : 13 booked for firing air shots at Mahatma Gandhi's effigy\n",
      "예측 요약 : The police on Wednesday registered cases against 13 persons, including a woman leader of Hindu Mahasabha, in Aligarh for firing at an effigy of Mahatma Gandhi with an air pistol.\n",
      "\n",
      "\n",
      "원문     : Railway police has rescued a woman travelling on a train in Chennai who got her leg stuck inside the commode of a toilet. After being caught inside the commode hole, she struggled to remove her leg and following failed attempts, she shouted for help, reports said. Railway police used a cutter to pry open the commode and freed her leg.\n",
      "실제 요약 : Railway police rescues woman with leg stuck in train toilet\n",
      "예측 요약 : Railway police has rescued a woman travelling on a train in Chennai who got her leg stuck inside the commode of a toilet.\n",
      "\n",
      "\n",
      "원문     : The US on Tuesday began returning asylum seekers to Mexico, sending back a migrant from a Central American nation and called the move a \"response to the illegal migration crisis\" faced by it. Under its Migrant Protection Protocols policy, the US will return certain migrants who cross into the country illegally back to Mexico while their asylum requests are processed.\n",
      "실제 요약 : US begins sending back asylum seekers to Mexico\n",
      "예측 요약 : \n",
      "\n",
      "\n"
     ]
    }
   ],
   "source": [
    "for i in range(50):\n",
    "    print('원문     : {}'.format(summa_data['text'][i]))\n",
    "    print('실제 요약 : {}'.format(summa_data['headlines'][i]))\n",
    "    print('예측 요약 : {}'.format(summarize(summa_data['text'][i], words=15)))\n",
    "    print('\\n')"
   ]
  },
  {
   "cell_type": "markdown",
   "id": "bc139604",
   "metadata": {},
   "source": [
    "## 회고"
   ]
  },
  {
   "cell_type": "markdown",
   "id": "0ed44727",
   "metadata": {},
   "source": [
    "#### 추상적 요약 기법의 경우\n",
    "- 모두다 확인하지는 못했지만 어텐션을 이용하여 추상적 요약 기법으로 뉴스 기사를 요약한 경우를 보면 키워드는 어느정도 제대로 추출된 것 같음  \n",
    "- 하지만 문장 구사가 무엇인가 어색하게 느껴짐(영문법에 정통한 것이 아니라 일반적으로 훑어 본 느낌)  \n",
    "- 요약된 문장을 보면 실제적인 상황을 잘 요약한 것은 아니라는 판단이다. 무엇인가 애매한 느낌이다. 문맥의 일치도 정도가 매우 낮다고 본다."
   ]
  },
  {
   "cell_type": "markdown",
   "id": "ccc300b6",
   "metadata": {},
   "source": [
    "#### 추출적 요약 기법의 경우  \n",
    "- 뉴스 기사 속에 있는 문장을 추출하여 예측 결과로 내놓았기 때문에 추상적 요약 기법보다는 좀 덜 어색한 느낌이다.  \n",
    "- 추상적 요약기법 보다는 문맥상의 일치도도 높다는 느낌이다.\n",
    "- 그러나 요약결과가 출력되지 않는 문제가 확인된다. 이는 summa를 이용하여 summarize 하는 과정에서 문장의 길이가 주어진 ratio나 words보다 적은 경우에 발생하는 결과라고 생각된다."
   ]
  },
  {
   "cell_type": "markdown",
   "id": "d4cb7919",
   "metadata": {},
   "source": [
    "- 각 레이어들 간의 관계와 어탠션에 대해서 조금 더 이해할 수 있었지만 아직 더 많은 공부가 필요한 것 같다. "
   ]
  },
  {
   "cell_type": "code",
   "execution_count": null,
   "id": "370e2639",
   "metadata": {},
   "outputs": [],
   "source": []
  },
  {
   "cell_type": "code",
   "execution_count": null,
   "id": "11c64f2d",
   "metadata": {},
   "outputs": [],
   "source": []
  },
  {
   "cell_type": "code",
   "execution_count": null,
   "id": "dc7e2528",
   "metadata": {},
   "outputs": [],
   "source": []
  },
  {
   "cell_type": "markdown",
   "id": "8f2c4d66",
   "metadata": {},
   "source": [
    "## 테스트 공간"
   ]
  },
  {
   "cell_type": "code",
   "execution_count": null,
   "id": "a713178b",
   "metadata": {},
   "outputs": [],
   "source": [
    "# 문장 전체가 똑같을 수 있는가? 있네..... 이놈들 무슨 생각으로 똑같은 문장을 복사 한거야.....\n",
    "\n",
    "df = pd.DataFrame([\"Virender Sehwag was captaining India when he hit 219 runs against Windies on December 8, 2011, becoming the second cricketer after Sachin Tendulkar to score a double hundred in ODIs. Sehwag's 219(149) is the highest individual score by a captain in ODI cricket history. Sehwag's knock helped India pile up their highest ODI total of 418/5.\", 2, \"Virender Sehwag was captaining India when he hit 219 runs against Windies on December 8, 2011, becoming the second cricketer after Sachin Tendulkar to score a double hundred in ODIs. Sehwag's 219(149) is the highest individual score by a captain in ODI cricket history. Sehwag's knock helped India pile up their highest ODI total of 418/5.\", 4, 3, 2, 1, \"Virender Sehwag was captaining India when he hit 219 runs against Windies on December 8, 2011, becoming the second cricketer after Sachin Tendulkar to score a double hundred in ODIs. Sehwag's 219(149) is the highest individual score by a captain in ODI cricket history. Sehwag's knock helped India pile up their highest ODI total of 418/5.\", 5, 8, 8, 5, 0, 2, 4, 3, 6, 8, 11, 3, 4, 22, 5,4, 65, 4, 5])\n",
    "df.value_counts()"
   ]
  },
  {
   "cell_type": "code",
   "execution_count": null,
   "id": "d945a863",
   "metadata": {},
   "outputs": [],
   "source": []
  },
  {
   "cell_type": "code",
   "execution_count": null,
   "id": "9b1f82ff",
   "metadata": {},
   "outputs": [],
   "source": []
  }
 ],
 "metadata": {
  "kernelspec": {
   "display_name": "Python 3 (ipykernel)",
   "language": "python",
   "name": "python3"
  },
  "language_info": {
   "codemirror_mode": {
    "name": "ipython",
    "version": 3
   },
   "file_extension": ".py",
   "mimetype": "text/x-python",
   "name": "python",
   "nbconvert_exporter": "python",
   "pygments_lexer": "ipython3",
   "version": "3.9.7"
  }
 },
 "nbformat": 4,
 "nbformat_minor": 5
}
