{
 "cells": [
  {
   "cell_type": "markdown",
   "id": "a5eb9957",
   "metadata": {},
   "source": [
    "# 16. 다음에 볼 영화 예측하기"
   ]
  },
  {
   "cell_type": "markdown",
   "id": "39f2668c",
   "metadata": {},
   "source": [
    "## 루브릭\n",
    "- Movielens 데이터셋을 session based recommendation 관점으로 전처리하는 과정이 체계적으로 진행되었다.\n",
    "- RNN 기반의 예측 모델이 정상적으로 구성되어 안정적으로 훈련이 진행되었다\n",
    "- 세션정의, 모델구조, 하이퍼파라미터 등을 변경해서 실험하여 Recall, MRR 등의 변화추이를 관찰하였다."
   ]
  },
  {
   "cell_type": "markdown",
   "id": "762880c6",
   "metadata": {},
   "source": [
    "## 1. Session-Based Recommendation"
   ]
  },
  {
   "cell_type": "markdown",
   "id": "e50f7871",
   "metadata": {},
   "source": [
    "Movielens 1M Dataset을 기반으로 Session-Based Recommendation 시스템 제작하기"
   ]
  },
  {
   "cell_type": "code",
   "execution_count": 1,
   "id": "9aa1bc09",
   "metadata": {
    "scrolled": false
   },
   "outputs": [
    {
     "name": "stdout",
     "output_type": "stream",
     "text": [
      "Setup completed ^_____^\n"
     ]
    }
   ],
   "source": [
    "# 모듈 import\n",
    "import datetime as dt\n",
    "from pathlib import Path\n",
    "import os\n",
    "import time\n",
    "from datetime import datetime\n",
    "from IPython.display import display\n",
    "\n",
    "import numpy as np\n",
    "import pandas as pd\n",
    "import matplotlib.pyplot as plt\n",
    "import warnings\n",
    "warnings.filterwarnings('ignore')\n",
    "\n",
    "print('Setup completed ^_____^')"
   ]
  },
  {
   "cell_type": "code",
   "execution_count": 2,
   "id": "6f824541",
   "metadata": {},
   "outputs": [
    {
     "name": "stdout",
     "output_type": "stream",
     "text": [
      "1.4.1\n",
      "2.6.0\n"
     ]
    }
   ],
   "source": [
    "import pandas\n",
    "import tensorflow\n",
    "\n",
    "print(pandas.__version__)\n",
    "print(tensorflow.__version__)"
   ]
  },
  {
   "cell_type": "markdown",
   "id": "ff6cd9a7",
   "metadata": {},
   "source": [
    "## 1. 데이터 전처리"
   ]
  },
  {
   "cell_type": "markdown",
   "id": "33fa0d8e",
   "metadata": {},
   "source": [
    "### (1) Data Load"
   ]
  },
  {
   "cell_type": "code",
   "execution_count": 3,
   "id": "c548a7a0",
   "metadata": {},
   "outputs": [
    {
     "data": {
      "text/html": [
       "<div>\n",
       "<style scoped>\n",
       "    .dataframe tbody tr th:only-of-type {\n",
       "        vertical-align: middle;\n",
       "    }\n",
       "\n",
       "    .dataframe tbody tr th {\n",
       "        vertical-align: top;\n",
       "    }\n",
       "\n",
       "    .dataframe thead th {\n",
       "        text-align: right;\n",
       "    }\n",
       "</style>\n",
       "<table border=\"1\" class=\"dataframe\">\n",
       "  <thead>\n",
       "    <tr style=\"text-align: right;\">\n",
       "      <th></th>\n",
       "      <th>UserId</th>\n",
       "      <th>ItemId</th>\n",
       "      <th>Rating</th>\n",
       "      <th>Time</th>\n",
       "    </tr>\n",
       "  </thead>\n",
       "  <tbody>\n",
       "    <tr>\n",
       "      <th>31</th>\n",
       "      <td>1</td>\n",
       "      <td>3186</td>\n",
       "      <td>4</td>\n",
       "      <td>978300019</td>\n",
       "    </tr>\n",
       "    <tr>\n",
       "      <th>22</th>\n",
       "      <td>1</td>\n",
       "      <td>1270</td>\n",
       "      <td>5</td>\n",
       "      <td>978300055</td>\n",
       "    </tr>\n",
       "    <tr>\n",
       "      <th>27</th>\n",
       "      <td>1</td>\n",
       "      <td>1721</td>\n",
       "      <td>4</td>\n",
       "      <td>978300055</td>\n",
       "    </tr>\n",
       "    <tr>\n",
       "      <th>37</th>\n",
       "      <td>1</td>\n",
       "      <td>1022</td>\n",
       "      <td>5</td>\n",
       "      <td>978300055</td>\n",
       "    </tr>\n",
       "    <tr>\n",
       "      <th>24</th>\n",
       "      <td>1</td>\n",
       "      <td>2340</td>\n",
       "      <td>3</td>\n",
       "      <td>978300103</td>\n",
       "    </tr>\n",
       "    <tr>\n",
       "      <th>...</th>\n",
       "      <td>...</td>\n",
       "      <td>...</td>\n",
       "      <td>...</td>\n",
       "      <td>...</td>\n",
       "    </tr>\n",
       "    <tr>\n",
       "      <th>1000019</th>\n",
       "      <td>6040</td>\n",
       "      <td>2917</td>\n",
       "      <td>4</td>\n",
       "      <td>997454429</td>\n",
       "    </tr>\n",
       "    <tr>\n",
       "      <th>999988</th>\n",
       "      <td>6040</td>\n",
       "      <td>1921</td>\n",
       "      <td>4</td>\n",
       "      <td>997454464</td>\n",
       "    </tr>\n",
       "    <tr>\n",
       "      <th>1000172</th>\n",
       "      <td>6040</td>\n",
       "      <td>1784</td>\n",
       "      <td>3</td>\n",
       "      <td>997454464</td>\n",
       "    </tr>\n",
       "    <tr>\n",
       "      <th>1000167</th>\n",
       "      <td>6040</td>\n",
       "      <td>161</td>\n",
       "      <td>3</td>\n",
       "      <td>997454486</td>\n",
       "    </tr>\n",
       "    <tr>\n",
       "      <th>1000042</th>\n",
       "      <td>6040</td>\n",
       "      <td>1221</td>\n",
       "      <td>4</td>\n",
       "      <td>998315055</td>\n",
       "    </tr>\n",
       "  </tbody>\n",
       "</table>\n",
       "<p>1000209 rows × 4 columns</p>\n",
       "</div>"
      ],
      "text/plain": [
       "         UserId  ItemId  Rating       Time\n",
       "31            1    3186       4  978300019\n",
       "22            1    1270       5  978300055\n",
       "27            1    1721       4  978300055\n",
       "37            1    1022       5  978300055\n",
       "24            1    2340       3  978300103\n",
       "...         ...     ...     ...        ...\n",
       "1000019    6040    2917       4  997454429\n",
       "999988     6040    1921       4  997454464\n",
       "1000172    6040    1784       3  997454464\n",
       "1000167    6040     161       3  997454486\n",
       "1000042    6040    1221       4  998315055\n",
       "\n",
       "[1000209 rows x 4 columns]"
      ]
     },
     "execution_count": 3,
     "metadata": {},
     "output_type": "execute_result"
    }
   ],
   "source": [
    "# data path를 정의한다.\n",
    "\n",
    "data_path = Path('./data/') \n",
    "train_path = data_path / 'ratings.dat'\n",
    "\n",
    "# 데이터 path에서 data를 load 한다.\n",
    "\n",
    "def load_data(data_path: Path, nrows=None):\n",
    "    data = pd.read_csv(data_path, sep='::', header=None, usecols=[0, 1, 2, 3], dtype={0: np.int32, 1: np.int32, 2: np.int32}, nrows=nrows)\n",
    "    data.columns = ['UserId', 'ItemId', 'Rating', 'Time']\n",
    "    return data\n",
    "\n",
    "data = load_data(train_path, None)\n",
    "data.sort_values(['UserId', 'Time'], inplace=True)  # data를 id와 시간 순서로 정렬해줍니다.\n",
    "data"
   ]
  },
  {
   "cell_type": "markdown",
   "id": "68e46bfd",
   "metadata": {},
   "source": [
    "위 데이터를 살펴 보니 지난 실습과는 다른 몇가지 특징들이 보인다.\n",
    "- SessionID 대신 UserID 항목을 사용하고 있다.\n",
    "- 이 데이터 셋은 명확한 1회 세션의 SessionID를 포함하지 않는다.\n",
    "- UserID가 SessionID 역할을 해야 한다.\n",
    "- 시간을 협정세계시(UTC time)형식으로 표현하였다.\n",
    "- Rating 정보가 포함되어 있다.\n",
    "- Rating 정보가 추천과 어떤 관계를 가질 수 있을지 고민해할 필요가 있다. \n",
    "- Rating 이 낮은 데이터의 처리와 Rating이 높은 데이터의 처리 방법에 대한 고민"
   ]
  },
  {
   "cell_type": "markdown",
   "id": "80ea4dc8",
   "metadata": {},
   "source": [
    "### (2) 시간 형식 변경\n",
    "UTC time을 알아 보기 쉽도록 변경한다."
   ]
  },
  {
   "cell_type": "code",
   "execution_count": 4,
   "id": "36da7964",
   "metadata": {},
   "outputs": [],
   "source": [
    "from datetime import datetime\n",
    "\n",
    "change_date = []\n",
    "for time in data['Time']:\n",
    "    temp = dt.datetime.fromtimestamp(time)\n",
    "    change_date.append(temp)\n",
    "\n",
    "data['Time'] = change_date"
   ]
  },
  {
   "cell_type": "code",
   "execution_count": 5,
   "id": "56368482",
   "metadata": {},
   "outputs": [
    {
     "data": {
      "text/html": [
       "<div>\n",
       "<style scoped>\n",
       "    .dataframe tbody tr th:only-of-type {\n",
       "        vertical-align: middle;\n",
       "    }\n",
       "\n",
       "    .dataframe tbody tr th {\n",
       "        vertical-align: top;\n",
       "    }\n",
       "\n",
       "    .dataframe thead th {\n",
       "        text-align: right;\n",
       "    }\n",
       "</style>\n",
       "<table border=\"1\" class=\"dataframe\">\n",
       "  <thead>\n",
       "    <tr style=\"text-align: right;\">\n",
       "      <th></th>\n",
       "      <th>UserId</th>\n",
       "      <th>ItemId</th>\n",
       "      <th>Rating</th>\n",
       "      <th>Time</th>\n",
       "    </tr>\n",
       "  </thead>\n",
       "  <tbody>\n",
       "    <tr>\n",
       "      <th>31</th>\n",
       "      <td>1</td>\n",
       "      <td>3186</td>\n",
       "      <td>4</td>\n",
       "      <td>2001-01-01 07:00:19</td>\n",
       "    </tr>\n",
       "    <tr>\n",
       "      <th>22</th>\n",
       "      <td>1</td>\n",
       "      <td>1270</td>\n",
       "      <td>5</td>\n",
       "      <td>2001-01-01 07:00:55</td>\n",
       "    </tr>\n",
       "    <tr>\n",
       "      <th>27</th>\n",
       "      <td>1</td>\n",
       "      <td>1721</td>\n",
       "      <td>4</td>\n",
       "      <td>2001-01-01 07:00:55</td>\n",
       "    </tr>\n",
       "    <tr>\n",
       "      <th>37</th>\n",
       "      <td>1</td>\n",
       "      <td>1022</td>\n",
       "      <td>5</td>\n",
       "      <td>2001-01-01 07:00:55</td>\n",
       "    </tr>\n",
       "    <tr>\n",
       "      <th>24</th>\n",
       "      <td>1</td>\n",
       "      <td>2340</td>\n",
       "      <td>3</td>\n",
       "      <td>2001-01-01 07:01:43</td>\n",
       "    </tr>\n",
       "  </tbody>\n",
       "</table>\n",
       "</div>"
      ],
      "text/plain": [
       "    UserId  ItemId  Rating                Time\n",
       "31       1    3186       4 2001-01-01 07:00:19\n",
       "22       1    1270       5 2001-01-01 07:00:55\n",
       "27       1    1721       4 2001-01-01 07:00:55\n",
       "37       1    1022       5 2001-01-01 07:00:55\n",
       "24       1    2340       3 2001-01-01 07:01:43"
      ]
     },
     "execution_count": 5,
     "metadata": {},
     "output_type": "execute_result"
    }
   ],
   "source": [
    "# head 확인\n",
    "# 날짜 형식이 변경된 것을 확인 할 수 있다.\n",
    "\n",
    "data.head()"
   ]
  },
  {
   "cell_type": "code",
   "execution_count": 6,
   "id": "632b15c4",
   "metadata": {},
   "outputs": [
    {
     "data": {
      "text/html": [
       "<div>\n",
       "<style scoped>\n",
       "    .dataframe tbody tr th:only-of-type {\n",
       "        vertical-align: middle;\n",
       "    }\n",
       "\n",
       "    .dataframe tbody tr th {\n",
       "        vertical-align: top;\n",
       "    }\n",
       "\n",
       "    .dataframe thead th {\n",
       "        text-align: right;\n",
       "    }\n",
       "</style>\n",
       "<table border=\"1\" class=\"dataframe\">\n",
       "  <thead>\n",
       "    <tr style=\"text-align: right;\">\n",
       "      <th></th>\n",
       "      <th>UserId</th>\n",
       "      <th>ItemId</th>\n",
       "      <th>Rating</th>\n",
       "      <th>Time</th>\n",
       "    </tr>\n",
       "  </thead>\n",
       "  <tbody>\n",
       "    <tr>\n",
       "      <th>1000019</th>\n",
       "      <td>6040</td>\n",
       "      <td>2917</td>\n",
       "      <td>4</td>\n",
       "      <td>2001-08-10 23:40:29</td>\n",
       "    </tr>\n",
       "    <tr>\n",
       "      <th>999988</th>\n",
       "      <td>6040</td>\n",
       "      <td>1921</td>\n",
       "      <td>4</td>\n",
       "      <td>2001-08-10 23:41:04</td>\n",
       "    </tr>\n",
       "    <tr>\n",
       "      <th>1000172</th>\n",
       "      <td>6040</td>\n",
       "      <td>1784</td>\n",
       "      <td>3</td>\n",
       "      <td>2001-08-10 23:41:04</td>\n",
       "    </tr>\n",
       "    <tr>\n",
       "      <th>1000167</th>\n",
       "      <td>6040</td>\n",
       "      <td>161</td>\n",
       "      <td>3</td>\n",
       "      <td>2001-08-10 23:41:26</td>\n",
       "    </tr>\n",
       "    <tr>\n",
       "      <th>1000042</th>\n",
       "      <td>6040</td>\n",
       "      <td>1221</td>\n",
       "      <td>4</td>\n",
       "      <td>2001-08-20 22:44:15</td>\n",
       "    </tr>\n",
       "  </tbody>\n",
       "</table>\n",
       "</div>"
      ],
      "text/plain": [
       "         UserId  ItemId  Rating                Time\n",
       "1000019    6040    2917       4 2001-08-10 23:40:29\n",
       "999988     6040    1921       4 2001-08-10 23:41:04\n",
       "1000172    6040    1784       3 2001-08-10 23:41:04\n",
       "1000167    6040     161       3 2001-08-10 23:41:26\n",
       "1000042    6040    1221       4 2001-08-20 22:44:15"
      ]
     },
     "execution_count": 6,
     "metadata": {},
     "output_type": "execute_result"
    }
   ],
   "source": [
    "# tail 확인\n",
    "# 날짜 형식이 변경된 것을 확인 할 수 있다.\n",
    "\n",
    "data.tail()"
   ]
  },
  {
   "cell_type": "code",
   "execution_count": 7,
   "id": "9deaec66",
   "metadata": {},
   "outputs": [
    {
     "name": "stdout",
     "output_type": "stream",
     "text": [
      "2000-04-26 08:05:32\n",
      "2003-03-01 02:49:50\n"
     ]
    }
   ],
   "source": [
    "# 기록의 시작과 끝을 확인해 보자\n",
    "# 2000년 4월 25일 부터 2003년 2월 28일까지 기록 된 것을 확인 할 수 있다.\n",
    "\n",
    "oldest, latest = data['Time'].min(), data['Time'].max()\n",
    "print(oldest) \n",
    "print(latest)"
   ]
  },
  {
   "cell_type": "code",
   "execution_count": 8,
   "id": "c3ab2f5c",
   "metadata": {},
   "outputs": [
    {
     "data": {
      "text/plain": [
       "(6040, 3706)"
      ]
     },
     "execution_count": 8,
     "metadata": {},
     "output_type": "execute_result"
    }
   ],
   "source": [
    "# 유저수(세션 수)와 아이템 수\n",
    "\n",
    "data['UserId'].nunique(), data['ItemId'].nunique()"
   ]
  },
  {
   "cell_type": "code",
   "execution_count": 9,
   "id": "4a3a845d",
   "metadata": {},
   "outputs": [
    {
     "data": {
      "text/plain": [
       "UserId\n",
       "1        53\n",
       "2       129\n",
       "3        51\n",
       "4        21\n",
       "5       198\n",
       "       ... \n",
       "6036    888\n",
       "6037    202\n",
       "6038     20\n",
       "6039    123\n",
       "6040    341\n",
       "Length: 6040, dtype: int64"
      ]
     },
     "execution_count": 9,
     "metadata": {},
     "output_type": "execute_result"
    }
   ],
   "source": [
    "# 각 유저별 리뷰의 개수 (몇 개의 영화를 시청했는가)\n",
    "\n",
    "session_length = data.groupby('UserId').size()\n",
    "session_length"
   ]
  },
  {
   "cell_type": "code",
   "execution_count": 10,
   "id": "70240c40",
   "metadata": {},
   "outputs": [
    {
     "name": "stdout",
     "output_type": "stream",
     "text": [
      "median   : 96.0\n",
      "mean     : 165.5975165562914\n",
      "min      : 20\n",
      "max      : 2314\n",
      "quantile : 1343.181000000005\n"
     ]
    }
   ],
   "source": [
    "# User 별 수치 데이터 확인\n",
    "print(f'median   : {session_length.median()}')\n",
    "print(f'mean     : {session_length.mean()}')\n",
    "print(f'min      : {session_length.min()}')\n",
    "print(f'max      : {session_length.max()}')\n",
    "print(f'quantile : {session_length.quantile(0.999)}')"
   ]
  },
  {
   "cell_type": "code",
   "execution_count": 11,
   "id": "7588c48e",
   "metadata": {},
   "outputs": [],
   "source": [
    "# 최다 리뷰자 데이터 확인해보기\n",
    "\n",
    "long_user = session_length[session_length==2314].index[0]"
   ]
  },
  {
   "cell_type": "code",
   "execution_count": 12,
   "id": "d744199a",
   "metadata": {},
   "outputs": [
    {
     "data": {
      "text/plain": [
       "31         False\n",
       "22         False\n",
       "27         False\n",
       "37         False\n",
       "24         False\n",
       "           ...  \n",
       "1000019    False\n",
       "999988     False\n",
       "1000172    False\n",
       "1000167    False\n",
       "1000042    False\n",
       "Name: UserId, Length: 1000209, dtype: bool"
      ]
     },
     "execution_count": 12,
     "metadata": {},
     "output_type": "execute_result"
    }
   ],
   "source": [
    "data['UserId'] == long_user"
   ]
  },
  {
   "cell_type": "code",
   "execution_count": 13,
   "id": "c46a549e",
   "metadata": {},
   "outputs": [
    {
     "data": {
      "text/html": [
       "<div>\n",
       "<style scoped>\n",
       "    .dataframe tbody tr th:only-of-type {\n",
       "        vertical-align: middle;\n",
       "    }\n",
       "\n",
       "    .dataframe tbody tr th {\n",
       "        vertical-align: top;\n",
       "    }\n",
       "\n",
       "    .dataframe thead th {\n",
       "        text-align: right;\n",
       "    }\n",
       "</style>\n",
       "<table border=\"1\" class=\"dataframe\">\n",
       "  <thead>\n",
       "    <tr style=\"text-align: right;\">\n",
       "      <th></th>\n",
       "      <th>UserId</th>\n",
       "      <th>ItemId</th>\n",
       "      <th>Rating</th>\n",
       "      <th>Time</th>\n",
       "    </tr>\n",
       "  </thead>\n",
       "  <tbody>\n",
       "    <tr>\n",
       "      <th>696969</th>\n",
       "      <td>4169</td>\n",
       "      <td>1268</td>\n",
       "      <td>5</td>\n",
       "      <td>2000-08-04 05:09:52</td>\n",
       "    </tr>\n",
       "    <tr>\n",
       "      <th>697168</th>\n",
       "      <td>4169</td>\n",
       "      <td>2617</td>\n",
       "      <td>4</td>\n",
       "      <td>2000-08-04 05:09:52</td>\n",
       "    </tr>\n",
       "    <tr>\n",
       "      <th>697185</th>\n",
       "      <td>4169</td>\n",
       "      <td>2628</td>\n",
       "      <td>4</td>\n",
       "      <td>2000-08-04 05:09:52</td>\n",
       "    </tr>\n",
       "    <tr>\n",
       "      <th>697219</th>\n",
       "      <td>4169</td>\n",
       "      <td>2653</td>\n",
       "      <td>4</td>\n",
       "      <td>2000-08-04 05:09:52</td>\n",
       "    </tr>\n",
       "    <tr>\n",
       "      <th>697275</th>\n",
       "      <td>4169</td>\n",
       "      <td>423</td>\n",
       "      <td>3</td>\n",
       "      <td>2000-08-04 05:09:52</td>\n",
       "    </tr>\n",
       "    <tr>\n",
       "      <th>696168</th>\n",
       "      <td>4169</td>\n",
       "      <td>3801</td>\n",
       "      <td>5</td>\n",
       "      <td>2000-08-04 05:11:21</td>\n",
       "    </tr>\n",
       "    <tr>\n",
       "      <th>696250</th>\n",
       "      <td>4169</td>\n",
       "      <td>3841</td>\n",
       "      <td>2</td>\n",
       "      <td>2000-08-04 05:11:21</td>\n",
       "    </tr>\n",
       "    <tr>\n",
       "      <th>697903</th>\n",
       "      <td>4169</td>\n",
       "      <td>3761</td>\n",
       "      <td>3</td>\n",
       "      <td>2000-08-04 05:11:21</td>\n",
       "    </tr>\n",
       "    <tr>\n",
       "      <th>697954</th>\n",
       "      <td>4169</td>\n",
       "      <td>3788</td>\n",
       "      <td>3</td>\n",
       "      <td>2000-08-04 05:11:21</td>\n",
       "    </tr>\n",
       "    <tr>\n",
       "      <th>695653</th>\n",
       "      <td>4169</td>\n",
       "      <td>3794</td>\n",
       "      <td>4</td>\n",
       "      <td>2000-08-04 05:11:59</td>\n",
       "    </tr>\n",
       "  </tbody>\n",
       "</table>\n",
       "</div>"
      ],
      "text/plain": [
       "        UserId  ItemId  Rating                Time\n",
       "696969    4169    1268       5 2000-08-04 05:09:52\n",
       "697168    4169    2617       4 2000-08-04 05:09:52\n",
       "697185    4169    2628       4 2000-08-04 05:09:52\n",
       "697219    4169    2653       4 2000-08-04 05:09:52\n",
       "697275    4169     423       3 2000-08-04 05:09:52\n",
       "696168    4169    3801       5 2000-08-04 05:11:21\n",
       "696250    4169    3841       2 2000-08-04 05:11:21\n",
       "697903    4169    3761       3 2000-08-04 05:11:21\n",
       "697954    4169    3788       3 2000-08-04 05:11:21\n",
       "695653    4169    3794       4 2000-08-04 05:11:59"
      ]
     },
     "execution_count": 13,
     "metadata": {},
     "output_type": "execute_result"
    }
   ],
   "source": [
    "# ling_user = 4169 아이디의 데이터를 모두 뽑아 내라\n",
    "\n",
    "data[data['UserId'] == long_user][:10] # 뽑아 낸 것에서 10개만 확인하겠다. "
   ]
  },
  {
   "cell_type": "markdown",
   "id": "aa4c07da",
   "metadata": {},
   "source": [
    "우선 UserId를 하나의 Session으로 사용해보자"
   ]
  },
  {
   "cell_type": "markdown",
   "id": "55e9a554",
   "metadata": {},
   "source": [
    "### (2) Session Length"
   ]
  },
  {
   "cell_type": "code",
   "execution_count": 14,
   "id": "2ead962d",
   "metadata": {},
   "outputs": [
    {
     "data": {
      "text/plain": [
       "20      0.014238\n",
       "21      0.029305\n",
       "22      0.042053\n",
       "23      0.055464\n",
       "24      0.068874\n",
       "          ...   \n",
       "1271    0.998179\n",
       "1277    0.998344\n",
       "1286    0.998510\n",
       "1302    0.998675\n",
       "1323    0.998841\n",
       "Length: 736, dtype: float64"
      ]
     },
     "execution_count": 14,
     "metadata": {},
     "output_type": "execute_result"
    }
   ],
   "source": [
    "# 세션길이 기준 하위 99.9%까지의 분포 누적합을 시각화\n",
    "\n",
    "length_count = session_length.groupby(session_length).size()\n",
    "length_percent_cumsum = length_count.cumsum() / length_count.sum()\n",
    "length_percent_cumsum_999 = length_percent_cumsum[length_percent_cumsum < 0.999]\n",
    "\n",
    "length_percent_cumsum_999"
   ]
  },
  {
   "cell_type": "code",
   "execution_count": 15,
   "id": "18c4f38d",
   "metadata": {},
   "outputs": [
    {
     "data": {
      "image/png": "[encoded data removed]",
      "text/plain": [
       "<Figure size 1440x720 with 1 Axes>"
      ]
     },
     "metadata": {
      "needs_background": "light"
     },
     "output_type": "display_data"
    }
   ],
   "source": [
    "plt.figure(figsize=(20, 10))\n",
    "plt.bar(x=length_percent_cumsum_999.index, height=length_percent_cumsum_999, color='blue')\n",
    "plt.xticks(length_percent_cumsum_999.index)\n",
    "plt.yticks(np.arange(0, 1.01, 0.05))\n",
    "plt.title('Cumsum Percentage Until 0.999', size=20)\n",
    "plt.show()"
   ]
  },
  {
   "cell_type": "markdown",
   "id": "41eea23b",
   "metadata": {},
   "source": [
    "### (3) Session Time"
   ]
  },
  {
   "cell_type": "code",
   "execution_count": 16,
   "id": "d612f0a4",
   "metadata": {},
   "outputs": [
    {
     "name": "stdout",
     "output_type": "stream",
     "text": [
      "2000-04-26 08:05:32\n",
      "2003-03-01 02:49:50\n"
     ]
    }
   ],
   "source": [
    "oldest, latest = data['Time'].min(), data['Time'].max()\n",
    "print(oldest)\n",
    "print(latest)"
   ]
  },
  {
   "cell_type": "code",
   "execution_count": 17,
   "id": "17dba7d6",
   "metadata": {},
   "outputs": [
    {
     "data": {
      "text/plain": [
       "UserId\n",
       "1        53\n",
       "2       129\n",
       "3        51\n",
       "4        21\n",
       "5       198\n",
       "       ... \n",
       "6036    888\n",
       "6037    202\n",
       "6038     20\n",
       "6039    123\n",
       "6040    341\n",
       "Length: 6040, dtype: int64"
      ]
     },
     "execution_count": 17,
     "metadata": {},
     "output_type": "execute_result"
    }
   ],
   "source": [
    "session_length"
   ]
  },
  {
   "cell_type": "markdown",
   "id": "e34745ef",
   "metadata": {},
   "source": [
    "### (4) Data Cleansing"
   ]
  },
  {
   "cell_type": "code",
   "execution_count": 18,
   "id": "afbebe9a",
   "metadata": {},
   "outputs": [],
   "source": [
    "# short_session을 제거한 다음에 unpopular item을 제거하면 다시 길이가 1인 session이 생길 수 있다.\n",
    "# 이를 위해 반복문을 통하여 지속적으로 제거\n",
    "\n",
    "def cleanse_recursive(data: pd.DataFrame, shortest, least_click) -> pd.DataFrame:\n",
    "    while True:\n",
    "        before_len = len(data)\n",
    "        data = cleanse_short_session(data, shortest)\n",
    "        data = cleanse_unpopular_item(data, least_click)\n",
    "        after_len = len(data)\n",
    "        if before_len == after_len:\n",
    "            break\n",
    "    return data\n",
    "\n",
    "\n",
    "def cleanse_short_session(data: pd.DataFrame, shortest):\n",
    "    session_len = data.groupby('UserId').size()\n",
    "    session_use = session_len[session_len >= shortest].index\n",
    "    data = data[data['UserId'].isin(session_use)]\n",
    "    return data\n",
    "\n",
    "\n",
    "def cleanse_unpopular_item(data: pd.DataFrame, least_click):\n",
    "    item_popular = data.groupby('ItemId').size()\n",
    "    item_use = item_popular[item_popular >= least_click].index\n",
    "    data = data[data['ItemId'].isin(item_use)]\n",
    "    return data "
   ]
  },
  {
   "cell_type": "code",
   "execution_count": 29,
   "id": "ce878d3c",
   "metadata": {},
   "outputs": [
    {
     "data": {
      "text/html": [
       "<div>\n",
       "<style scoped>\n",
       "    .dataframe tbody tr th:only-of-type {\n",
       "        vertical-align: middle;\n",
       "    }\n",
       "\n",
       "    .dataframe tbody tr th {\n",
       "        vertical-align: top;\n",
       "    }\n",
       "\n",
       "    .dataframe thead th {\n",
       "        text-align: right;\n",
       "    }\n",
       "</style>\n",
       "<table border=\"1\" class=\"dataframe\">\n",
       "  <thead>\n",
       "    <tr style=\"text-align: right;\">\n",
       "      <th></th>\n",
       "      <th>UserId</th>\n",
       "      <th>ItemId</th>\n",
       "      <th>Rating</th>\n",
       "      <th>Time</th>\n",
       "    </tr>\n",
       "  </thead>\n",
       "  <tbody>\n",
       "    <tr>\n",
       "      <th>31</th>\n",
       "      <td>1</td>\n",
       "      <td>3186</td>\n",
       "      <td>4</td>\n",
       "      <td>2000-12-31 22:00:19</td>\n",
       "    </tr>\n",
       "    <tr>\n",
       "      <th>22</th>\n",
       "      <td>1</td>\n",
       "      <td>1270</td>\n",
       "      <td>5</td>\n",
       "      <td>2000-12-31 22:00:55</td>\n",
       "    </tr>\n",
       "    <tr>\n",
       "      <th>27</th>\n",
       "      <td>1</td>\n",
       "      <td>1721</td>\n",
       "      <td>4</td>\n",
       "      <td>2000-12-31 22:00:55</td>\n",
       "    </tr>\n",
       "    <tr>\n",
       "      <th>37</th>\n",
       "      <td>1</td>\n",
       "      <td>1022</td>\n",
       "      <td>5</td>\n",
       "      <td>2000-12-31 22:00:55</td>\n",
       "    </tr>\n",
       "    <tr>\n",
       "      <th>24</th>\n",
       "      <td>1</td>\n",
       "      <td>2340</td>\n",
       "      <td>3</td>\n",
       "      <td>2000-12-31 22:01:43</td>\n",
       "    </tr>\n",
       "    <tr>\n",
       "      <th>...</th>\n",
       "      <td>...</td>\n",
       "      <td>...</td>\n",
       "      <td>...</td>\n",
       "      <td>...</td>\n",
       "    </tr>\n",
       "    <tr>\n",
       "      <th>1000019</th>\n",
       "      <td>6040</td>\n",
       "      <td>2917</td>\n",
       "      <td>4</td>\n",
       "      <td>2001-08-10 14:40:29</td>\n",
       "    </tr>\n",
       "    <tr>\n",
       "      <th>999988</th>\n",
       "      <td>6040</td>\n",
       "      <td>1921</td>\n",
       "      <td>4</td>\n",
       "      <td>2001-08-10 14:41:04</td>\n",
       "    </tr>\n",
       "    <tr>\n",
       "      <th>1000172</th>\n",
       "      <td>6040</td>\n",
       "      <td>1784</td>\n",
       "      <td>3</td>\n",
       "      <td>2001-08-10 14:41:04</td>\n",
       "    </tr>\n",
       "    <tr>\n",
       "      <th>1000167</th>\n",
       "      <td>6040</td>\n",
       "      <td>161</td>\n",
       "      <td>3</td>\n",
       "      <td>2001-08-10 14:41:26</td>\n",
       "    </tr>\n",
       "    <tr>\n",
       "      <th>1000042</th>\n",
       "      <td>6040</td>\n",
       "      <td>1221</td>\n",
       "      <td>4</td>\n",
       "      <td>2001-08-20 13:44:15</td>\n",
       "    </tr>\n",
       "  </tbody>\n",
       "</table>\n",
       "<p>999611 rows × 4 columns</p>\n",
       "</div>"
      ],
      "text/plain": [
       "         UserId  ItemId  Rating                Time\n",
       "31            1    3186       4 2000-12-31 22:00:19\n",
       "22            1    1270       5 2000-12-31 22:00:55\n",
       "27            1    1721       4 2000-12-31 22:00:55\n",
       "37            1    1022       5 2000-12-31 22:00:55\n",
       "24            1    2340       3 2000-12-31 22:01:43\n",
       "...         ...     ...     ...                 ...\n",
       "1000019    6040    2917       4 2001-08-10 14:40:29\n",
       "999988     6040    1921       4 2001-08-10 14:41:04\n",
       "1000172    6040    1784       3 2001-08-10 14:41:04\n",
       "1000167    6040     161       3 2001-08-10 14:41:26\n",
       "1000042    6040    1221       4 2001-08-20 13:44:15\n",
       "\n",
       "[999611 rows x 4 columns]"
      ]
     },
     "execution_count": 29,
     "metadata": {},
     "output_type": "execute_result"
    }
   ],
   "source": [
    "data = cleanse_recursive(data, shortest=2, least_click=5)\n",
    "data"
   ]
  },
  {
   "cell_type": "markdown",
   "id": "b400ef19",
   "metadata": {},
   "source": [
    "### (5) Train/Valid/Test Split"
   ]
  },
  {
   "cell_type": "code",
   "execution_count": 19,
   "id": "9f35ffda",
   "metadata": {},
   "outputs": [],
   "source": [
    "# UserId를 기준으로 train, val, test = 0.7, 0.2, 0.1로 분리\n",
    "tr = data[data['UserId'] <= 4228]\n",
    "val = data[(data['UserId'] > 4228) & (data['UserId'] <= 5436)]\n",
    "test = data[data['UserId'] > 5436]"
   ]
  },
  {
   "cell_type": "code",
   "execution_count": 20,
   "id": "fa5dd5b6",
   "metadata": {},
   "outputs": [
    {
     "name": "stdout",
     "output_type": "stream",
     "text": [
      "* train Set Stats Info\n",
      "\t Events: 706033\n",
      "\t Sessions: 4228\n",
      "\t Items: 3670\n",
      "\t First Time : 2000-08-03 23:24:25\n",
      "\t Last Time : 2003-02-28 09:51:39\n",
      "\n",
      "* valid Set Stats Info\n",
      "\t Events: 193436\n",
      "\t Sessions: 1208\n",
      "\t Items: 3434\n",
      "\t First Time : 2000-06-03 14:20:31\n",
      "\t Last Time : 2003-03-01 02:49:50\n",
      "\n",
      "* test Set Stats Info\n",
      "\t Events: 100740\n",
      "\t Sessions: 604\n",
      "\t Items: 3208\n",
      "\t First Time : 2000-04-26 08:05:32\n",
      "\t Last Time : 2003-02-28 22:12:12\n",
      "\n"
     ]
    }
   ],
   "source": [
    "# data에 대한 정보를 살펴봅니다.\n",
    "def stats_info(data: pd.DataFrame, status: str):\n",
    "    print(f'* {status} Set Stats Info\\n'\n",
    "          f'\\t Events: {len(data)}\\n'\n",
    "          f'\\t Sessions: {data[\"UserId\"].nunique()}\\n'\n",
    "          f'\\t Items: {data[\"ItemId\"].nunique()}\\n'\n",
    "          f'\\t First Time : {data[\"Time\"].min()}\\n'\n",
    "          f'\\t Last Time : {data[\"Time\"].max()}\\n')\n",
    "\n",
    "stats_info(tr, 'train')\n",
    "stats_info(val, 'valid')\n",
    "stats_info(test, 'test')"
   ]
  },
  {
   "cell_type": "code",
   "execution_count": 21,
   "id": "9e19bebd",
   "metadata": {},
   "outputs": [],
   "source": [
    "# train set에 없는 아이템이 val, test기간에 생길 수 있으므로 train data를 기준으로 인덱싱\n",
    "id2idx = {item_id : index for index, item_id in enumerate(tr['ItemId'].unique())}\n",
    "\n",
    "def indexing(df, id2idx):\n",
    "    df['item_idx'] = df['ItemId'].map(lambda x: id2idx.get(x, -1))  # id2idx에 없는 아이템은 모르는 값(-1) 처리\n",
    "    return df"
   ]
  },
  {
   "cell_type": "code",
   "execution_count": 22,
   "id": "cf4aa83b",
   "metadata": {},
   "outputs": [],
   "source": [
    "tr = indexing(tr, id2idx)\n",
    "val = indexing(val, id2idx)\n",
    "test = indexing(test, id2idx)"
   ]
  },
  {
   "cell_type": "code",
   "execution_count": 23,
   "id": "1c5597be",
   "metadata": {},
   "outputs": [],
   "source": [
    "save_path = data_path / 'processed'\n",
    "save_path.mkdir(parents=True, exist_ok=True)\n",
    "\n",
    "tr.to_pickle(save_path / 'train.pkl')\n",
    "val.to_pickle(save_path / 'valid.pkl')\n",
    "test.to_pickle(save_path / 'test.pkl')"
   ]
  },
  {
   "cell_type": "markdown",
   "id": "77231bb2",
   "metadata": {},
   "source": [
    "## 2. 미니배치의 구성"
   ]
  },
  {
   "cell_type": "markdown",
   "id": "a8abf987",
   "metadata": {},
   "source": [
    "### (1) Session Dataset"
   ]
  },
  {
   "cell_type": "code",
   "execution_count": 24,
   "id": "1fc17dfe",
   "metadata": {},
   "outputs": [],
   "source": [
    "class SessionDataset:\n",
    "    \"\"\"Credit to yhs-968/pyGRU4REC.\"\"\"\n",
    "\n",
    "    def __init__(self, data):\n",
    "        self.df = data\n",
    "        self.click_offsets = self.get_click_offsets()\n",
    "        self.session_idx = np.arange(self.df['UserId'].nunique())  # indexing to UserId\n",
    "\n",
    "    def get_click_offsets(self):\n",
    "        \"\"\"\n",
    "        Return the indexes of the first click of each session IDs,\n",
    "        \"\"\"\n",
    "        offsets = np.zeros(self.df['UserId'].nunique() + 1, dtype=np.int32)\n",
    "        offsets[1:] = self.df.groupby('UserId').size().cumsum()\n",
    "        return offsets"
   ]
  },
  {
   "cell_type": "code",
   "execution_count": 25,
   "id": "20e1ad6c",
   "metadata": {},
   "outputs": [
    {
     "data": {
      "text/html": [
       "<div>\n",
       "<style scoped>\n",
       "    .dataframe tbody tr th:only-of-type {\n",
       "        vertical-align: middle;\n",
       "    }\n",
       "\n",
       "    .dataframe tbody tr th {\n",
       "        vertical-align: top;\n",
       "    }\n",
       "\n",
       "    .dataframe thead th {\n",
       "        text-align: right;\n",
       "    }\n",
       "</style>\n",
       "<table border=\"1\" class=\"dataframe\">\n",
       "  <thead>\n",
       "    <tr style=\"text-align: right;\">\n",
       "      <th></th>\n",
       "      <th>UserId</th>\n",
       "      <th>ItemId</th>\n",
       "      <th>Rating</th>\n",
       "      <th>Time</th>\n",
       "      <th>item_idx</th>\n",
       "    </tr>\n",
       "  </thead>\n",
       "  <tbody>\n",
       "    <tr>\n",
       "      <th>31</th>\n",
       "      <td>1</td>\n",
       "      <td>3186</td>\n",
       "      <td>4</td>\n",
       "      <td>2001-01-01 07:00:19</td>\n",
       "      <td>0</td>\n",
       "    </tr>\n",
       "    <tr>\n",
       "      <th>22</th>\n",
       "      <td>1</td>\n",
       "      <td>1270</td>\n",
       "      <td>5</td>\n",
       "      <td>2001-01-01 07:00:55</td>\n",
       "      <td>1</td>\n",
       "    </tr>\n",
       "    <tr>\n",
       "      <th>27</th>\n",
       "      <td>1</td>\n",
       "      <td>1721</td>\n",
       "      <td>4</td>\n",
       "      <td>2001-01-01 07:00:55</td>\n",
       "      <td>2</td>\n",
       "    </tr>\n",
       "    <tr>\n",
       "      <th>37</th>\n",
       "      <td>1</td>\n",
       "      <td>1022</td>\n",
       "      <td>5</td>\n",
       "      <td>2001-01-01 07:00:55</td>\n",
       "      <td>3</td>\n",
       "    </tr>\n",
       "    <tr>\n",
       "      <th>24</th>\n",
       "      <td>1</td>\n",
       "      <td>2340</td>\n",
       "      <td>3</td>\n",
       "      <td>2001-01-01 07:01:43</td>\n",
       "      <td>4</td>\n",
       "    </tr>\n",
       "    <tr>\n",
       "      <th>36</th>\n",
       "      <td>1</td>\n",
       "      <td>1836</td>\n",
       "      <td>5</td>\n",
       "      <td>2001-01-01 07:02:52</td>\n",
       "      <td>5</td>\n",
       "    </tr>\n",
       "    <tr>\n",
       "      <th>3</th>\n",
       "      <td>1</td>\n",
       "      <td>3408</td>\n",
       "      <td>4</td>\n",
       "      <td>2001-01-01 07:04:35</td>\n",
       "      <td>6</td>\n",
       "    </tr>\n",
       "    <tr>\n",
       "      <th>7</th>\n",
       "      <td>1</td>\n",
       "      <td>2804</td>\n",
       "      <td>5</td>\n",
       "      <td>2001-01-01 07:11:59</td>\n",
       "      <td>7</td>\n",
       "    </tr>\n",
       "    <tr>\n",
       "      <th>47</th>\n",
       "      <td>1</td>\n",
       "      <td>1207</td>\n",
       "      <td>4</td>\n",
       "      <td>2001-01-01 07:11:59</td>\n",
       "      <td>8</td>\n",
       "    </tr>\n",
       "    <tr>\n",
       "      <th>0</th>\n",
       "      <td>1</td>\n",
       "      <td>1193</td>\n",
       "      <td>5</td>\n",
       "      <td>2001-01-01 07:12:40</td>\n",
       "      <td>9</td>\n",
       "    </tr>\n",
       "    <tr>\n",
       "      <th>21</th>\n",
       "      <td>1</td>\n",
       "      <td>720</td>\n",
       "      <td>3</td>\n",
       "      <td>2001-01-01 07:12:40</td>\n",
       "      <td>10</td>\n",
       "    </tr>\n",
       "    <tr>\n",
       "      <th>44</th>\n",
       "      <td>1</td>\n",
       "      <td>260</td>\n",
       "      <td>4</td>\n",
       "      <td>2001-01-01 07:12:40</td>\n",
       "      <td>11</td>\n",
       "    </tr>\n",
       "    <tr>\n",
       "      <th>9</th>\n",
       "      <td>1</td>\n",
       "      <td>919</td>\n",
       "      <td>4</td>\n",
       "      <td>2001-01-01 07:22:48</td>\n",
       "      <td>12</td>\n",
       "    </tr>\n",
       "    <tr>\n",
       "      <th>51</th>\n",
       "      <td>1</td>\n",
       "      <td>608</td>\n",
       "      <td>4</td>\n",
       "      <td>2001-01-01 07:23:18</td>\n",
       "      <td>13</td>\n",
       "    </tr>\n",
       "    <tr>\n",
       "      <th>43</th>\n",
       "      <td>1</td>\n",
       "      <td>2692</td>\n",
       "      <td>4</td>\n",
       "      <td>2001-01-01 07:26:10</td>\n",
       "      <td>14</td>\n",
       "    </tr>\n",
       "    <tr>\n",
       "      <th>41</th>\n",
       "      <td>1</td>\n",
       "      <td>1961</td>\n",
       "      <td>5</td>\n",
       "      <td>2001-01-01 07:26:30</td>\n",
       "      <td>15</td>\n",
       "    </tr>\n",
       "    <tr>\n",
       "      <th>48</th>\n",
       "      <td>1</td>\n",
       "      <td>2028</td>\n",
       "      <td>5</td>\n",
       "      <td>2001-01-01 07:26:59</td>\n",
       "      <td>16</td>\n",
       "    </tr>\n",
       "    <tr>\n",
       "      <th>18</th>\n",
       "      <td>1</td>\n",
       "      <td>3105</td>\n",
       "      <td>5</td>\n",
       "      <td>2001-01-01 07:28:33</td>\n",
       "      <td>17</td>\n",
       "    </tr>\n",
       "    <tr>\n",
       "      <th>11</th>\n",
       "      <td>1</td>\n",
       "      <td>938</td>\n",
       "      <td>4</td>\n",
       "      <td>2001-01-01 07:29:12</td>\n",
       "      <td>18</td>\n",
       "    </tr>\n",
       "    <tr>\n",
       "      <th>14</th>\n",
       "      <td>1</td>\n",
       "      <td>1035</td>\n",
       "      <td>5</td>\n",
       "      <td>2001-01-01 07:29:13</td>\n",
       "      <td>19</td>\n",
       "    </tr>\n",
       "    <tr>\n",
       "      <th>42</th>\n",
       "      <td>1</td>\n",
       "      <td>1962</td>\n",
       "      <td>4</td>\n",
       "      <td>2001-01-01 07:29:13</td>\n",
       "      <td>20</td>\n",
       "    </tr>\n",
       "    <tr>\n",
       "      <th>17</th>\n",
       "      <td>1</td>\n",
       "      <td>2018</td>\n",
       "      <td>4</td>\n",
       "      <td>2001-01-01 07:29:37</td>\n",
       "      <td>21</td>\n",
       "    </tr>\n",
       "    <tr>\n",
       "      <th>39</th>\n",
       "      <td>1</td>\n",
       "      <td>150</td>\n",
       "      <td>5</td>\n",
       "      <td>2001-01-01 07:29:37</td>\n",
       "      <td>22</td>\n",
       "    </tr>\n",
       "    <tr>\n",
       "      <th>45</th>\n",
       "      <td>1</td>\n",
       "      <td>1028</td>\n",
       "      <td>5</td>\n",
       "      <td>2001-01-01 07:29:37</td>\n",
       "      <td>23</td>\n",
       "    </tr>\n",
       "    <tr>\n",
       "      <th>26</th>\n",
       "      <td>1</td>\n",
       "      <td>1097</td>\n",
       "      <td>4</td>\n",
       "      <td>2001-01-01 07:32:33</td>\n",
       "      <td>24</td>\n",
       "    </tr>\n",
       "    <tr>\n",
       "      <th>2</th>\n",
       "      <td>1</td>\n",
       "      <td>914</td>\n",
       "      <td>3</td>\n",
       "      <td>2001-01-01 07:32:48</td>\n",
       "      <td>25</td>\n",
       "    </tr>\n",
       "    <tr>\n",
       "      <th>6</th>\n",
       "      <td>1</td>\n",
       "      <td>1287</td>\n",
       "      <td>5</td>\n",
       "      <td>2001-01-01 07:33:59</td>\n",
       "      <td>26</td>\n",
       "    </tr>\n",
       "    <tr>\n",
       "      <th>19</th>\n",
       "      <td>1</td>\n",
       "      <td>2797</td>\n",
       "      <td>4</td>\n",
       "      <td>2001-01-01 07:33:59</td>\n",
       "      <td>27</td>\n",
       "    </tr>\n",
       "    <tr>\n",
       "      <th>38</th>\n",
       "      <td>1</td>\n",
       "      <td>2762</td>\n",
       "      <td>4</td>\n",
       "      <td>2001-01-01 07:34:51</td>\n",
       "      <td>28</td>\n",
       "    </tr>\n",
       "    <tr>\n",
       "      <th>52</th>\n",
       "      <td>1</td>\n",
       "      <td>1246</td>\n",
       "      <td>4</td>\n",
       "      <td>2001-01-01 07:34:51</td>\n",
       "      <td>29</td>\n",
       "    </tr>\n",
       "    <tr>\n",
       "      <th>1</th>\n",
       "      <td>1</td>\n",
       "      <td>661</td>\n",
       "      <td>3</td>\n",
       "      <td>2001-01-01 07:35:09</td>\n",
       "      <td>30</td>\n",
       "    </tr>\n",
       "    <tr>\n",
       "      <th>13</th>\n",
       "      <td>1</td>\n",
       "      <td>2918</td>\n",
       "      <td>4</td>\n",
       "      <td>2001-01-01 07:35:24</td>\n",
       "      <td>31</td>\n",
       "    </tr>\n",
       "    <tr>\n",
       "      <th>49</th>\n",
       "      <td>1</td>\n",
       "      <td>531</td>\n",
       "      <td>4</td>\n",
       "      <td>2001-01-01 07:35:49</td>\n",
       "      <td>32</td>\n",
       "    </tr>\n",
       "    <tr>\n",
       "      <th>50</th>\n",
       "      <td>1</td>\n",
       "      <td>3114</td>\n",
       "      <td>4</td>\n",
       "      <td>2001-01-01 07:36:14</td>\n",
       "      <td>33</td>\n",
       "    </tr>\n",
       "    <tr>\n",
       "      <th>15</th>\n",
       "      <td>1</td>\n",
       "      <td>2791</td>\n",
       "      <td>4</td>\n",
       "      <td>2001-01-01 07:36:28</td>\n",
       "      <td>34</td>\n",
       "    </tr>\n",
       "    <tr>\n",
       "      <th>20</th>\n",
       "      <td>1</td>\n",
       "      <td>2321</td>\n",
       "      <td>3</td>\n",
       "      <td>2001-01-01 07:36:45</td>\n",
       "      <td>35</td>\n",
       "    </tr>\n",
       "    <tr>\n",
       "      <th>46</th>\n",
       "      <td>1</td>\n",
       "      <td>1029</td>\n",
       "      <td>5</td>\n",
       "      <td>2001-01-01 07:36:45</td>\n",
       "      <td>36</td>\n",
       "    </tr>\n",
       "    <tr>\n",
       "      <th>5</th>\n",
       "      <td>1</td>\n",
       "      <td>1197</td>\n",
       "      <td>3</td>\n",
       "      <td>2001-01-01 07:37:48</td>\n",
       "      <td>37</td>\n",
       "    </tr>\n",
       "    <tr>\n",
       "      <th>8</th>\n",
       "      <td>1</td>\n",
       "      <td>594</td>\n",
       "      <td>4</td>\n",
       "      <td>2001-01-01 07:37:48</td>\n",
       "      <td>38</td>\n",
       "    </tr>\n",
       "    <tr>\n",
       "      <th>12</th>\n",
       "      <td>1</td>\n",
       "      <td>2398</td>\n",
       "      <td>4</td>\n",
       "      <td>2001-01-01 07:38:01</td>\n",
       "      <td>39</td>\n",
       "    </tr>\n",
       "    <tr>\n",
       "      <th>28</th>\n",
       "      <td>1</td>\n",
       "      <td>1545</td>\n",
       "      <td>4</td>\n",
       "      <td>2001-01-07 08:35:39</td>\n",
       "      <td>40</td>\n",
       "    </tr>\n",
       "    <tr>\n",
       "      <th>23</th>\n",
       "      <td>1</td>\n",
       "      <td>527</td>\n",
       "      <td>5</td>\n",
       "      <td>2001-01-07 08:36:35</td>\n",
       "      <td>41</td>\n",
       "    </tr>\n",
       "    <tr>\n",
       "      <th>10</th>\n",
       "      <td>1</td>\n",
       "      <td>595</td>\n",
       "      <td>5</td>\n",
       "      <td>2001-01-07 08:37:48</td>\n",
       "      <td>42</td>\n",
       "    </tr>\n",
       "    <tr>\n",
       "      <th>16</th>\n",
       "      <td>1</td>\n",
       "      <td>2687</td>\n",
       "      <td>3</td>\n",
       "      <td>2001-01-07 08:37:48</td>\n",
       "      <td>43</td>\n",
       "    </tr>\n",
       "    <tr>\n",
       "      <th>29</th>\n",
       "      <td>1</td>\n",
       "      <td>745</td>\n",
       "      <td>3</td>\n",
       "      <td>2001-01-07 08:37:48</td>\n",
       "      <td>44</td>\n",
       "    </tr>\n",
       "    <tr>\n",
       "      <th>33</th>\n",
       "      <td>1</td>\n",
       "      <td>588</td>\n",
       "      <td>4</td>\n",
       "      <td>2001-01-07 08:37:48</td>\n",
       "      <td>45</td>\n",
       "    </tr>\n",
       "    <tr>\n",
       "      <th>40</th>\n",
       "      <td>1</td>\n",
       "      <td>1</td>\n",
       "      <td>5</td>\n",
       "      <td>2001-01-07 08:37:48</td>\n",
       "      <td>46</td>\n",
       "    </tr>\n",
       "    <tr>\n",
       "      <th>4</th>\n",
       "      <td>1</td>\n",
       "      <td>2355</td>\n",
       "      <td>5</td>\n",
       "      <td>2001-01-07 08:38:11</td>\n",
       "      <td>47</td>\n",
       "    </tr>\n",
       "    <tr>\n",
       "      <th>30</th>\n",
       "      <td>1</td>\n",
       "      <td>2294</td>\n",
       "      <td>4</td>\n",
       "      <td>2001-01-07 08:38:11</td>\n",
       "      <td>48</td>\n",
       "    </tr>\n",
       "    <tr>\n",
       "      <th>35</th>\n",
       "      <td>1</td>\n",
       "      <td>783</td>\n",
       "      <td>4</td>\n",
       "      <td>2001-01-07 08:38:11</td>\n",
       "      <td>49</td>\n",
       "    </tr>\n",
       "  </tbody>\n",
       "</table>\n",
       "</div>"
      ],
      "text/plain": [
       "    UserId  ItemId  Rating                Time  item_idx\n",
       "31       1    3186       4 2001-01-01 07:00:19         0\n",
       "22       1    1270       5 2001-01-01 07:00:55         1\n",
       "27       1    1721       4 2001-01-01 07:00:55         2\n",
       "37       1    1022       5 2001-01-01 07:00:55         3\n",
       "24       1    2340       3 2001-01-01 07:01:43         4\n",
       "36       1    1836       5 2001-01-01 07:02:52         5\n",
       "3        1    3408       4 2001-01-01 07:04:35         6\n",
       "7        1    2804       5 2001-01-01 07:11:59         7\n",
       "47       1    1207       4 2001-01-01 07:11:59         8\n",
       "0        1    1193       5 2001-01-01 07:12:40         9\n",
       "21       1     720       3 2001-01-01 07:12:40        10\n",
       "44       1     260       4 2001-01-01 07:12:40        11\n",
       "9        1     919       4 2001-01-01 07:22:48        12\n",
       "51       1     608       4 2001-01-01 07:23:18        13\n",
       "43       1    2692       4 2001-01-01 07:26:10        14\n",
       "41       1    1961       5 2001-01-01 07:26:30        15\n",
       "48       1    2028       5 2001-01-01 07:26:59        16\n",
       "18       1    3105       5 2001-01-01 07:28:33        17\n",
       "11       1     938       4 2001-01-01 07:29:12        18\n",
       "14       1    1035       5 2001-01-01 07:29:13        19\n",
       "42       1    1962       4 2001-01-01 07:29:13        20\n",
       "17       1    2018       4 2001-01-01 07:29:37        21\n",
       "39       1     150       5 2001-01-01 07:29:37        22\n",
       "45       1    1028       5 2001-01-01 07:29:37        23\n",
       "26       1    1097       4 2001-01-01 07:32:33        24\n",
       "2        1     914       3 2001-01-01 07:32:48        25\n",
       "6        1    1287       5 2001-01-01 07:33:59        26\n",
       "19       1    2797       4 2001-01-01 07:33:59        27\n",
       "38       1    2762       4 2001-01-01 07:34:51        28\n",
       "52       1    1246       4 2001-01-01 07:34:51        29\n",
       "1        1     661       3 2001-01-01 07:35:09        30\n",
       "13       1    2918       4 2001-01-01 07:35:24        31\n",
       "49       1     531       4 2001-01-01 07:35:49        32\n",
       "50       1    3114       4 2001-01-01 07:36:14        33\n",
       "15       1    2791       4 2001-01-01 07:36:28        34\n",
       "20       1    2321       3 2001-01-01 07:36:45        35\n",
       "46       1    1029       5 2001-01-01 07:36:45        36\n",
       "5        1    1197       3 2001-01-01 07:37:48        37\n",
       "8        1     594       4 2001-01-01 07:37:48        38\n",
       "12       1    2398       4 2001-01-01 07:38:01        39\n",
       "28       1    1545       4 2001-01-07 08:35:39        40\n",
       "23       1     527       5 2001-01-07 08:36:35        41\n",
       "10       1     595       5 2001-01-07 08:37:48        42\n",
       "16       1    2687       3 2001-01-07 08:37:48        43\n",
       "29       1     745       3 2001-01-07 08:37:48        44\n",
       "33       1     588       4 2001-01-07 08:37:48        45\n",
       "40       1       1       5 2001-01-07 08:37:48        46\n",
       "4        1    2355       5 2001-01-07 08:38:11        47\n",
       "30       1    2294       4 2001-01-07 08:38:11        48\n",
       "35       1     783       4 2001-01-07 08:38:11        49"
      ]
     },
     "execution_count": 25,
     "metadata": {},
     "output_type": "execute_result"
    }
   ],
   "source": [
    "tr_dataset = SessionDataset(tr)\n",
    "pd.options.display.max_rows = 50\n",
    "tr_dataset.df.head(50)"
   ]
  },
  {
   "cell_type": "code",
   "execution_count": 26,
   "id": "8fec2f30",
   "metadata": {},
   "outputs": [
    {
     "data": {
      "text/plain": [
       "array([     0,     53,    182, ..., 704788, 706010, 706033])"
      ]
     },
     "execution_count": 26,
     "metadata": {},
     "output_type": "execute_result"
    }
   ],
   "source": [
    "tr_dataset.click_offsets"
   ]
  },
  {
   "cell_type": "code",
   "execution_count": 27,
   "id": "93f084fa",
   "metadata": {},
   "outputs": [
    {
     "data": {
      "text/plain": [
       "array([   0,    1,    2, ..., 4225, 4226, 4227])"
      ]
     },
     "execution_count": 27,
     "metadata": {},
     "output_type": "execute_result"
    }
   ],
   "source": [
    "tr_dataset.session_idx"
   ]
  },
  {
   "cell_type": "markdown",
   "id": "384add69",
   "metadata": {},
   "source": [
    "### (2) Session DataLoader"
   ]
  },
  {
   "cell_type": "code",
   "execution_count": 28,
   "id": "928c6e7a",
   "metadata": {},
   "outputs": [],
   "source": [
    "class SessionDataLoader:\n",
    "    \"\"\"Credit to yhs-968/pyGRU4REC.\"\"\"\n",
    "\n",
    "    def __init__(self, dataset: SessionDataset, batch_size=50):\n",
    "        self.dataset = dataset\n",
    "        self.batch_size = batch_size\n",
    "\n",
    "    def __iter__(self):\n",
    "        \"\"\" Returns the iterator for producing session-parallel training mini-batches.\n",
    "        Yields:\n",
    "            input (B,):  Item indices that will be encoded as one-hot vectors later.\n",
    "            target (B,): a Variable that stores the target item indices\n",
    "            masks: Numpy array indicating the positions of the sessions to be terminated\n",
    "        \"\"\"\n",
    "\n",
    "        start, end, mask, last_session, finished = self.initialize()  # initialize 메소드에서 확인해주세요.\n",
    "        \"\"\"\n",
    "        start : Index Where Session Start\n",
    "        end : Index Where Session End\n",
    "        mask : indicator for the sessions to be terminated\n",
    "        \"\"\"\n",
    "\n",
    "        while not finished:\n",
    "            min_len = (end - start).min() - 1  # Shortest Length Among Sessions\n",
    "            for i in range(min_len):\n",
    "                # Build inputs & targets\n",
    "                inp = self.dataset.df['item_idx'].values[start + i]\n",
    "                target = self.dataset.df['item_idx'].values[start + i + 1]\n",
    "                yield inp, target, mask\n",
    "\n",
    "            start, end, mask, last_session, finished = self.update_status(start, end, min_len, last_session, finished)\n",
    "\n",
    "    def initialize(self):\n",
    "        first_iters = np.arange(self.batch_size)    # 첫 배치에 사용할 세션 Index를 가져옵니다.\n",
    "        last_session = self.batch_size - 1    # 마지막으로 다루고 있는 세션 Index를 저장해둡니다.\n",
    "        start = self.dataset.click_offsets[self.dataset.session_idx[first_iters]]       # data 상에서 session이 시작된 위치를 가져옵니다.\n",
    "        end = self.dataset.click_offsets[self.dataset.session_idx[first_iters] + 1]  # session이 끝난 위치 바로 다음 위치를 가져옵니다.\n",
    "        mask = np.array([])   # session의 모든 아이템을 다 돌은 경우 mask에 추가해줄 것입니다.\n",
    "        finished = False         # data를 전부 돌았는지 기록하기 위한 변수입니다.\n",
    "        return start, end, mask, last_session, finished\n",
    "\n",
    "    def update_status(self, start: np.ndarray, end: np.ndarray, min_len: int, last_session: int, finished: bool):  \n",
    "        # 다음 배치 데이터를 생성하기 위해 상태를 update합니다.\n",
    "        \n",
    "        start += min_len   # __iter__에서 min_len 만큼 for문을 돌았으므로 start를 min_len 만큼 더해줍니다.\n",
    "        mask = np.arange(self.batch_size)[(end - start) == 1]  \n",
    "        # end는 다음 세션이 시작되는 위치인데 start와 한 칸 차이난다는 것은 session이 끝났다는 뜻입니다. mask에 기록해줍니다.\n",
    "\n",
    "        for i, idx in enumerate(mask, start=1):  # mask에 추가된 세션 개수만큼 새로운 세션을 돌것입니다.\n",
    "            new_session = last_session + i  \n",
    "            if new_session > self.dataset.session_idx[-1]:  # 만약 새로운 세션이 마지막 세션 index보다 크다면 모든 학습데이터를 돈 것입니다.\n",
    "                finished = True\n",
    "                break\n",
    "            # update the next starting/ending point\n",
    "            start[idx] = self.dataset.click_offsets[self.dataset.session_idx[new_session]]     # 종료된 세션 대신 새로운 세션의 시작점을 기록합니다.\n",
    "            end[idx] = self.dataset.click_offsets[self.dataset.session_idx[new_session] + 1]\n",
    "\n",
    "        last_session += len(mask)  # 마지막 세션의 위치를 기록해둡니다.\n",
    "        return start, end, mask, last_session, finished"
   ]
  },
  {
   "cell_type": "code",
   "execution_count": 29,
   "id": "810f180e",
   "metadata": {},
   "outputs": [
    {
     "data": {
      "text/html": [
       "<div>\n",
       "<style scoped>\n",
       "    .dataframe tbody tr th:only-of-type {\n",
       "        vertical-align: middle;\n",
       "    }\n",
       "\n",
       "    .dataframe tbody tr th {\n",
       "        vertical-align: top;\n",
       "    }\n",
       "\n",
       "    .dataframe thead th {\n",
       "        text-align: right;\n",
       "    }\n",
       "</style>\n",
       "<table border=\"1\" class=\"dataframe\">\n",
       "  <thead>\n",
       "    <tr style=\"text-align: right;\">\n",
       "      <th></th>\n",
       "      <th>UserId</th>\n",
       "      <th>ItemId</th>\n",
       "      <th>Rating</th>\n",
       "      <th>Time</th>\n",
       "      <th>item_idx</th>\n",
       "    </tr>\n",
       "  </thead>\n",
       "  <tbody>\n",
       "    <tr>\n",
       "      <th>31</th>\n",
       "      <td>1</td>\n",
       "      <td>3186</td>\n",
       "      <td>4</td>\n",
       "      <td>2001-01-01 07:00:19</td>\n",
       "      <td>0</td>\n",
       "    </tr>\n",
       "    <tr>\n",
       "      <th>22</th>\n",
       "      <td>1</td>\n",
       "      <td>1270</td>\n",
       "      <td>5</td>\n",
       "      <td>2001-01-01 07:00:55</td>\n",
       "      <td>1</td>\n",
       "    </tr>\n",
       "    <tr>\n",
       "      <th>27</th>\n",
       "      <td>1</td>\n",
       "      <td>1721</td>\n",
       "      <td>4</td>\n",
       "      <td>2001-01-01 07:00:55</td>\n",
       "      <td>2</td>\n",
       "    </tr>\n",
       "    <tr>\n",
       "      <th>37</th>\n",
       "      <td>1</td>\n",
       "      <td>1022</td>\n",
       "      <td>5</td>\n",
       "      <td>2001-01-01 07:00:55</td>\n",
       "      <td>3</td>\n",
       "    </tr>\n",
       "    <tr>\n",
       "      <th>24</th>\n",
       "      <td>1</td>\n",
       "      <td>2340</td>\n",
       "      <td>3</td>\n",
       "      <td>2001-01-01 07:01:43</td>\n",
       "      <td>4</td>\n",
       "    </tr>\n",
       "    <tr>\n",
       "      <th>36</th>\n",
       "      <td>1</td>\n",
       "      <td>1836</td>\n",
       "      <td>5</td>\n",
       "      <td>2001-01-01 07:02:52</td>\n",
       "      <td>5</td>\n",
       "    </tr>\n",
       "    <tr>\n",
       "      <th>3</th>\n",
       "      <td>1</td>\n",
       "      <td>3408</td>\n",
       "      <td>4</td>\n",
       "      <td>2001-01-01 07:04:35</td>\n",
       "      <td>6</td>\n",
       "    </tr>\n",
       "    <tr>\n",
       "      <th>7</th>\n",
       "      <td>1</td>\n",
       "      <td>2804</td>\n",
       "      <td>5</td>\n",
       "      <td>2001-01-01 07:11:59</td>\n",
       "      <td>7</td>\n",
       "    </tr>\n",
       "    <tr>\n",
       "      <th>47</th>\n",
       "      <td>1</td>\n",
       "      <td>1207</td>\n",
       "      <td>4</td>\n",
       "      <td>2001-01-01 07:11:59</td>\n",
       "      <td>8</td>\n",
       "    </tr>\n",
       "    <tr>\n",
       "      <th>0</th>\n",
       "      <td>1</td>\n",
       "      <td>1193</td>\n",
       "      <td>5</td>\n",
       "      <td>2001-01-01 07:12:40</td>\n",
       "      <td>9</td>\n",
       "    </tr>\n",
       "    <tr>\n",
       "      <th>21</th>\n",
       "      <td>1</td>\n",
       "      <td>720</td>\n",
       "      <td>3</td>\n",
       "      <td>2001-01-01 07:12:40</td>\n",
       "      <td>10</td>\n",
       "    </tr>\n",
       "    <tr>\n",
       "      <th>44</th>\n",
       "      <td>1</td>\n",
       "      <td>260</td>\n",
       "      <td>4</td>\n",
       "      <td>2001-01-01 07:12:40</td>\n",
       "      <td>11</td>\n",
       "    </tr>\n",
       "    <tr>\n",
       "      <th>9</th>\n",
       "      <td>1</td>\n",
       "      <td>919</td>\n",
       "      <td>4</td>\n",
       "      <td>2001-01-01 07:22:48</td>\n",
       "      <td>12</td>\n",
       "    </tr>\n",
       "    <tr>\n",
       "      <th>51</th>\n",
       "      <td>1</td>\n",
       "      <td>608</td>\n",
       "      <td>4</td>\n",
       "      <td>2001-01-01 07:23:18</td>\n",
       "      <td>13</td>\n",
       "    </tr>\n",
       "    <tr>\n",
       "      <th>43</th>\n",
       "      <td>1</td>\n",
       "      <td>2692</td>\n",
       "      <td>4</td>\n",
       "      <td>2001-01-01 07:26:10</td>\n",
       "      <td>14</td>\n",
       "    </tr>\n",
       "  </tbody>\n",
       "</table>\n",
       "</div>"
      ],
      "text/plain": [
       "    UserId  ItemId  Rating                Time  item_idx\n",
       "31       1    3186       4 2001-01-01 07:00:19         0\n",
       "22       1    1270       5 2001-01-01 07:00:55         1\n",
       "27       1    1721       4 2001-01-01 07:00:55         2\n",
       "37       1    1022       5 2001-01-01 07:00:55         3\n",
       "24       1    2340       3 2001-01-01 07:01:43         4\n",
       "36       1    1836       5 2001-01-01 07:02:52         5\n",
       "3        1    3408       4 2001-01-01 07:04:35         6\n",
       "7        1    2804       5 2001-01-01 07:11:59         7\n",
       "47       1    1207       4 2001-01-01 07:11:59         8\n",
       "0        1    1193       5 2001-01-01 07:12:40         9\n",
       "21       1     720       3 2001-01-01 07:12:40        10\n",
       "44       1     260       4 2001-01-01 07:12:40        11\n",
       "9        1     919       4 2001-01-01 07:22:48        12\n",
       "51       1     608       4 2001-01-01 07:23:18        13\n",
       "43       1    2692       4 2001-01-01 07:26:10        14"
      ]
     },
     "execution_count": 29,
     "metadata": {},
     "output_type": "execute_result"
    }
   ],
   "source": [
    "tr_data_loader = SessionDataLoader(tr_dataset, batch_size=4)\n",
    "tr_dataset.df.head(15)"
   ]
  },
  {
   "cell_type": "code",
   "execution_count": 30,
   "id": "bb8daae1",
   "metadata": {},
   "outputs": [],
   "source": [
    "iter_ex = iter(tr_data_loader)"
   ]
  },
  {
   "cell_type": "code",
   "execution_count": 31,
   "id": "c437c13f",
   "metadata": {},
   "outputs": [
    {
     "name": "stdout",
     "output_type": "stream",
     "text": [
      "Model Input Item Idx are : [ 0 53 65 54]\n",
      "Label Item Idx are :       [ 1 54 62 24]\n",
      "Previous Masked Input Idx are []\n"
     ]
    }
   ],
   "source": [
    "# 아래 셀을 반복 실행하면 next가 계속 다음 데이터를 만든다.\n",
    "# input, output, mask의 감을 잡아 보자.\n",
    "\n",
    "inputs, labels, mask =  next(iter_ex)\n",
    "print(f'Model Input Item Idx are : {inputs}')\n",
    "print(f'Label Item Idx are : {\"\":5} {labels}')\n",
    "print(f'Previous Masked Input Idx are {mask}')"
   ]
  },
  {
   "cell_type": "markdown",
   "id": "3df3a8bc",
   "metadata": {},
   "source": [
    "## 3. 모델 구성"
   ]
  },
  {
   "cell_type": "markdown",
   "id": "bbd61c05",
   "metadata": {},
   "source": [
    "### (1) Evaluation Metric\n",
    "- 나에게 첫번째로 추천한 영화가 정답 아이템의 몇 번째에 해당하기 위해서 MRR 지표를 사용한다.\n",
    "- 내가 선호하는 영화 중 추천해준 영화의 비율을 확인하기 위해서 Recall 지표를 사용한다."
   ]
  },
  {
   "cell_type": "code",
   "execution_count": 32,
   "id": "9c0c52e8",
   "metadata": {},
   "outputs": [],
   "source": [
    "def mrr_k(pred, truth: int, k: int):\n",
    "    indexing = np.where(pred[:k] == truth)[0]\n",
    "    if len(indexing) > 0:\n",
    "        return 1 / (indexing[0] + 1)\n",
    "    else:\n",
    "        return 0\n",
    "\n",
    "\n",
    "def recall_k(pred, truth: int, k: int) -> int:\n",
    "    answer = truth in pred[:k]\n",
    "    return int(answer)"
   ]
  },
  {
   "cell_type": "markdown",
   "id": "44b6b8f1",
   "metadata": {},
   "source": [
    "### (2) Model Architecture"
   ]
  },
  {
   "cell_type": "code",
   "execution_count": 33,
   "id": "5af74f44",
   "metadata": {},
   "outputs": [],
   "source": [
    "import numpy as np\n",
    "import tensorflow as tf\n",
    "from tensorflow.keras.layers import Input, Dense, Dropout, GRU\n",
    "from tensorflow.keras.losses import categorical_crossentropy\n",
    "from tensorflow.keras.models import Model\n",
    "from tensorflow.keras.optimizers import Adam\n",
    "from tensorflow.keras.utils import to_categorical\n",
    "from tqdm import tqdm\n",
    "\n",
    "def create_model(args):\n",
    "    inputs = Input(batch_shape=(args.batch_size, 1, args.num_items))\n",
    "    gru, _ = GRU(args.hsz, stateful=True, return_state=True, name='GRU')(inputs)\n",
    "    dropout = Dropout(args.drop_rate)(gru)\n",
    "    predictions = Dense(args.num_items, activation='softmax')(dropout)\n",
    "    model = Model(inputs=inputs, outputs=[predictions])\n",
    "    model.compile(loss=categorical_crossentropy, optimizer=Adam(args.lr), metrics=['accuracy'])\n",
    "    model.summary()\n",
    "    return model"
   ]
  },
  {
   "cell_type": "code",
   "execution_count": 34,
   "id": "5a7caa0a",
   "metadata": {},
   "outputs": [],
   "source": [
    "class Args:\n",
    "    def __init__(self, tr, val, test, batch_size, hsz, drop_rate, lr, epochs, k):\n",
    "        self.tr = tr\n",
    "        self.val = val\n",
    "        self.test = test\n",
    "        self.num_items = tr['ItemId'].nunique()\n",
    "        self.num_sessions = tr['UserId'].nunique()\n",
    "        self.batch_size = batch_size\n",
    "        self.hsz = hsz\n",
    "        self.drop_rate = drop_rate\n",
    "        self.lr = lr\n",
    "        self.epochs = epochs\n",
    "        self.k = k\n",
    "\n",
    "args = Args(tr, val, test, batch_size=512, hsz=50, drop_rate=0.1, lr=0.001, epochs=10, k=20)"
   ]
  },
  {
   "cell_type": "code",
   "execution_count": 37,
   "id": "73fa2902",
   "metadata": {},
   "outputs": [
    {
     "name": "stdout",
     "output_type": "stream",
     "text": [
      "Model: \"model\"\n",
      "_________________________________________________________________\n",
      "Layer (type)                 Output Shape              Param #   \n",
      "=================================================================\n",
      "input_1 (InputLayer)         [(512, 1, 3670)]          0         \n",
      "_________________________________________________________________\n",
      "GRU (GRU)                    [(512, 50), (512, 50)]    558300    \n",
      "_________________________________________________________________\n",
      "dropout (Dropout)            (512, 50)                 0         \n",
      "_________________________________________________________________\n",
      "dense (Dense)                (512, 3670)               187170    \n",
      "=================================================================\n",
      "Total params: 745,470\n",
      "Trainable params: 745,470\n",
      "Non-trainable params: 0\n",
      "_________________________________________________________________\n"
     ]
    }
   ],
   "source": [
    "model = create_model(args)"
   ]
  },
  {
   "cell_type": "markdown",
   "id": "abdeb250",
   "metadata": {},
   "source": [
    "## 4. 모델 학습"
   ]
  },
  {
   "cell_type": "code",
   "execution_count": 38,
   "id": "97f27f92",
   "metadata": {},
   "outputs": [],
   "source": [
    "# train 셋으로 학습하면서 valid 셋으로 검증합니다.\n",
    "def train_model(model, args):\n",
    "    train_dataset = SessionDataset(args.tr)\n",
    "    train_loader = SessionDataLoader(train_dataset, batch_size=args.batch_size)\n",
    "\n",
    "    for epoch in range(1, args.epochs + 1):\n",
    "        total_step = len(args.tr) - args.tr['UserId'].nunique()\n",
    "        tr_loader = tqdm(train_loader, total=total_step // args.batch_size, desc='Train', mininterval=1)\n",
    "        for feat, target, mask in tr_loader:\n",
    "            reset_hidden_states(model, mask)  # 종료된 session은 hidden_state를 초기화합니다. 아래 메서드에서 확인해주세요.\n",
    "\n",
    "            input_ohe = to_categorical(feat, num_classes=args.num_items)\n",
    "            input_ohe = np.expand_dims(input_ohe, axis=1)\n",
    "            target_ohe = to_categorical(target, num_classes=args.num_items)\n",
    "\n",
    "            result = model.train_on_batch(input_ohe, target_ohe)\n",
    "            tr_loader.set_postfix(train_loss=result[0], accuracy = result[1])\n",
    "\n",
    "        val_recall, val_mrr = get_metrics(args.val, model, args, args.k)  # valid set에 대해 검증합니다.\n",
    "\n",
    "        print(f\"\\t - Recall@{args.k} epoch {epoch}: {val_recall:3f}\")\n",
    "        print(f\"\\t - MRR@{args.k}    epoch {epoch}: {val_mrr:3f}\\n\")\n",
    "\n",
    "\n",
    "def reset_hidden_states(model, mask):\n",
    "    gru_layer = model.get_layer(name='GRU')  # model에서 gru layer를 가져옵니다.\n",
    "    hidden_states = gru_layer.states[0].numpy()  # gru_layer의 parameter를 가져옵니다.\n",
    "    for elt in mask:  # mask된 인덱스 즉, 종료된 세션의 인덱스를 돌면서\n",
    "        hidden_states[elt, :] = 0  # parameter를 초기화 합니다.\n",
    "    gru_layer.reset_states(states=hidden_states)\n",
    "\n",
    "\n",
    "def get_metrics(data, model, args, k: int):  # valid셋과 test셋을 평가하는 코드입니다. \n",
    "                                             # train과 거의 같지만 mrr, recall을 구하는 라인이 있습니다.\n",
    "    dataset = SessionDataset(data)\n",
    "    loader = SessionDataLoader(dataset, batch_size=args.batch_size)\n",
    "    recall_list, mrr_list = [], []\n",
    "\n",
    "    total_step = len(data) - data['UserId'].nunique()\n",
    "    for inputs, label, mask in tqdm(loader, total=total_step // args.batch_size, desc='Evaluation', mininterval=1):\n",
    "        reset_hidden_states(model, mask)\n",
    "        input_ohe = to_categorical(inputs, num_classes=args.num_items)\n",
    "        input_ohe = np.expand_dims(input_ohe, axis=1)\n",
    "\n",
    "        pred = model.predict(input_ohe, batch_size=args.batch_size)\n",
    "        pred_arg = tf.argsort(pred, direction='DESCENDING')  # softmax 값이 큰 순서대로 sorting 합니다.\n",
    "\n",
    "        length = len(inputs)\n",
    "        recall_list.extend([recall_k(pred_arg[i], label[i], k) for i in range(length)])\n",
    "        mrr_list.extend([mrr_k(pred_arg[i], label[i], k) for i in range(length)])\n",
    "\n",
    "    recall, mrr = np.mean(recall_list), np.mean(mrr_list)\n",
    "    return recall, mrr"
   ]
  },
  {
   "cell_type": "code",
   "execution_count": 39,
   "id": "91f4c72e",
   "metadata": {},
   "outputs": [
    {
     "name": "stderr",
     "output_type": "stream",
     "text": [
      "Train:  85%|██████████████████████████████▌     | 1161/1370 [00:39<00:07, 29.03it/s, accuracy=0.00391, train_loss=7.18]\n",
      "Evaluation:  54%|████████████████████████████████████▋                               | 202/375 [04:05<03:30,  1.22s/it]\n"
     ]
    },
    {
     "name": "stdout",
     "output_type": "stream",
     "text": [
      "\t - Recall@20 epoch 1: 0.094707\n",
      "\t - MRR@20    epoch 1: 0.020520\n",
      "\n"
     ]
    },
    {
     "name": "stderr",
     "output_type": "stream",
     "text": [
      "Train:  85%|██████████████████████████████▌     | 1161/1370 [00:32<00:05, 35.99it/s, accuracy=0.00391, train_loss=6.66]\n",
      "Evaluation:  54%|████████████████████████████████████▋                               | 202/375 [04:00<03:26,  1.19s/it]\n"
     ]
    },
    {
     "name": "stdout",
     "output_type": "stream",
     "text": [
      "\t - Recall@20 epoch 2: 0.186959\n",
      "\t - MRR@20    epoch 2: 0.046941\n",
      "\n"
     ]
    },
    {
     "name": "stderr",
     "output_type": "stream",
     "text": [
      "Train:  85%|███████████████████████████████▎     | 1161/1370 [00:32<00:05, 35.96it/s, accuracy=0.0254, train_loss=6.32]\n",
      "Evaluation:  54%|████████████████████████████████████▋                               | 202/375 [03:45<03:13,  1.12s/it]\n"
     ]
    },
    {
     "name": "stdout",
     "output_type": "stream",
     "text": [
      "\t - Recall@20 epoch 3: 0.248965\n",
      "\t - MRR@20    epoch 3: 0.065012\n",
      "\n"
     ]
    },
    {
     "name": "stderr",
     "output_type": "stream",
     "text": [
      "Train:  85%|███████████████████████████████▎     | 1161/1370 [00:31<00:05, 36.60it/s, accuracy=0.0293, train_loss=6.12]\n",
      "Evaluation:  54%|████████████████████████████████████▋                               | 202/375 [03:42<03:10,  1.10s/it]\n"
     ]
    },
    {
     "name": "stdout",
     "output_type": "stream",
     "text": [
      "\t - Recall@20 epoch 4: 0.275236\n",
      "\t - MRR@20    epoch 4: 0.073289\n",
      "\n"
     ]
    },
    {
     "name": "stderr",
     "output_type": "stream",
     "text": [
      "Train:  85%|████████████████████████████████▏     | 1161/1370 [00:31<00:05, 36.69it/s, accuracy=0.041, train_loss=5.96]\n",
      "Evaluation:  54%|████████████████████████████████████▋                               | 202/375 [03:40<03:08,  1.09s/it]\n"
     ]
    },
    {
     "name": "stdout",
     "output_type": "stream",
     "text": [
      "\t - Recall@20 epoch 5: 0.287922\n",
      "\t - MRR@20    epoch 5: 0.078690\n",
      "\n"
     ]
    },
    {
     "name": "stderr",
     "output_type": "stream",
     "text": [
      "Train:  85%|███████████████████████████████▎     | 1161/1370 [00:31<00:05, 36.52it/s, accuracy=0.0527, train_loss=5.88]\n",
      "Evaluation:  54%|████████████████████████████████████▋                               | 202/375 [03:38<03:07,  1.08s/it]\n"
     ]
    },
    {
     "name": "stdout",
     "output_type": "stream",
     "text": [
      "\t - Recall@20 epoch 6: 0.296682\n",
      "\t - MRR@20    epoch 6: 0.082190\n",
      "\n"
     ]
    },
    {
     "name": "stderr",
     "output_type": "stream",
     "text": [
      "Train:  85%|████████████████████████████████▏     | 1161/1370 [00:32<00:05, 36.20it/s, accuracy=0.043, train_loss=5.82]\n",
      "Evaluation:  54%|████████████████████████████████████▋                               | 202/375 [03:37<03:06,  1.08s/it]\n"
     ]
    },
    {
     "name": "stdout",
     "output_type": "stream",
     "text": [
      "\t - Recall@20 epoch 7: 0.302222\n",
      "\t - MRR@20    epoch 7: 0.084802\n",
      "\n"
     ]
    },
    {
     "name": "stderr",
     "output_type": "stream",
     "text": [
      "Train:  85%|███████████████████████████████▎     | 1161/1370 [00:32<00:05, 36.12it/s, accuracy=0.0371, train_loss=5.75]\n",
      "Evaluation:  54%|████████████████████████████████████▋                               | 202/375 [03:37<03:05,  1.07s/it]\n"
     ]
    },
    {
     "name": "stdout",
     "output_type": "stream",
     "text": [
      "\t - Recall@20 epoch 8: 0.305886\n",
      "\t - MRR@20    epoch 8: 0.087009\n",
      "\n"
     ]
    },
    {
     "name": "stderr",
     "output_type": "stream",
     "text": [
      "Train:  85%|███████████████████████████████▎     | 1161/1370 [00:32<00:05, 36.21it/s, accuracy=0.0371, train_loss=5.73]\n",
      "Evaluation:  54%|████████████████████████████████████▋                               | 202/375 [03:36<03:05,  1.07s/it]\n"
     ]
    },
    {
     "name": "stdout",
     "output_type": "stream",
     "text": [
      "\t - Recall@20 epoch 9: 0.308352\n",
      "\t - MRR@20    epoch 9: 0.088813\n",
      "\n"
     ]
    },
    {
     "name": "stderr",
     "output_type": "stream",
     "text": [
      "Train:  85%|███████████████████████████████▎     | 1161/1370 [00:31<00:05, 36.33it/s, accuracy=0.0527, train_loss=5.67]\n",
      "Evaluation:  54%|████████████████████████████████████▋                               | 202/375 [03:37<03:06,  1.08s/it]"
     ]
    },
    {
     "name": "stdout",
     "output_type": "stream",
     "text": [
      "\t - Recall@20 epoch 10: 0.310827\n",
      "\t - MRR@20    epoch 10: 0.089845\n",
      "\n"
     ]
    },
    {
     "name": "stderr",
     "output_type": "stream",
     "text": [
      "\n"
     ]
    }
   ],
   "source": [
    "train_model(model, args)"
   ]
  },
  {
   "cell_type": "markdown",
   "id": "9da2be9f",
   "metadata": {},
   "source": [
    "모델 학습 결과를 보면 train_lost는 점점 감소하고, Recall@k 와 MRR@k 의 값이 증가하는 것을 확인할 수 있다. 따라서 정상적으로 학습되고 있는 상태라고 볼 수 있다."
   ]
  },
  {
   "cell_type": "markdown",
   "id": "508fda78",
   "metadata": {},
   "source": [
    "## 5. 모델 테스트"
   ]
  },
  {
   "cell_type": "code",
   "execution_count": 40,
   "id": "f6c3aae8",
   "metadata": {},
   "outputs": [
    {
     "name": "stderr",
     "output_type": "stream",
     "text": [
      "Evaluation:  19%|█████████████                                                        | 37/195 [00:39<02:49,  1.07s/it]"
     ]
    },
    {
     "name": "stdout",
     "output_type": "stream",
     "text": [
      "\t - Recall@20: 0.308858\n",
      "\t - MRR@20: 0.089521\n",
      "\n"
     ]
    },
    {
     "name": "stderr",
     "output_type": "stream",
     "text": [
      "\n"
     ]
    }
   ],
   "source": [
    "def test_model(model, args, test):\n",
    "    test_recall, test_mrr = get_metrics(test, model, args, 20)\n",
    "    print(f\"\\t - Recall@{args.k}: {test_recall:3f}\")\n",
    "    print(f\"\\t - MRR@{args.k}: {test_mrr:3f}\\n\")\n",
    "\n",
    "test_model(model, args, test)"
   ]
  },
  {
   "cell_type": "markdown",
   "id": "420e3936",
   "metadata": {},
   "source": [
    "1. Recall@20: 0.308699  \n",
    "- 총 20개의 영화를 추천받았을 때, 그 중에 6개가 선호하는 영화에 포함\n",
    "\n",
    "2. MRR@20: 0.089521 \n",
    "- 내가 선호하는 영화의 Ranking이 있을 때, 처음으로 추천받은 영화가 얼마나 높은 Ranking의 우선순위를 갖는지 판단하는 값 \n",
    "- 이 데이터에서는 영화 별 Rating Data가 있긴 하였으나 Rating이 겹치는 영화들이 많이 있고, MRR값은 항상 첫 번째로 나오는 아이템만 신경쓰는 단점을 가지고 있다. 큰 의미가 없는 것으로 판단."
   ]
  },
  {
   "cell_type": "markdown",
   "id": "df035217",
   "metadata": {},
   "source": [
    "## 6. 모델 성능 향상시키기"
   ]
  },
  {
   "cell_type": "markdown",
   "id": "848a5d0b",
   "metadata": {},
   "source": [
    "### (1) learning rate 변경\n",
    "- 아직 더 학습할 수 있는 가능성이 있다고 생각하여 학습률을 증가시켜서 10 epoch 만큼 다시 훈련시켜 보았다."
   ]
  },
  {
   "cell_type": "code",
   "execution_count": 41,
   "id": "ae1cf2e3",
   "metadata": {},
   "outputs": [
    {
     "name": "stdout",
     "output_type": "stream",
     "text": [
      "Model: \"model_1\"\n",
      "_________________________________________________________________\n",
      "Layer (type)                 Output Shape              Param #   \n",
      "=================================================================\n",
      "input_2 (InputLayer)         [(512, 1, 3670)]          0         \n",
      "_________________________________________________________________\n",
      "GRU (GRU)                    [(512, 50), (512, 50)]    558300    \n",
      "_________________________________________________________________\n",
      "dropout_1 (Dropout)          (512, 50)                 0         \n",
      "_________________________________________________________________\n",
      "dense_1 (Dense)              (512, 3670)               187170    \n",
      "=================================================================\n",
      "Total params: 745,470\n",
      "Trainable params: 745,470\n",
      "Non-trainable params: 0\n",
      "_________________________________________________________________\n"
     ]
    }
   ],
   "source": [
    "args_1 = Args(tr, val, test, batch_size=512, hsz=50, drop_rate=0.1, lr=0.01, epochs=10, k=20)\n",
    "model_1 = create_model(args_1)"
   ]
  },
  {
   "cell_type": "code",
   "execution_count": 42,
   "id": "2dc0be3d",
   "metadata": {},
   "outputs": [
    {
     "name": "stderr",
     "output_type": "stream",
     "text": [
      "Train:  85%|███████████████████████████████▎     | 1161/1370 [00:32<00:05, 35.89it/s, accuracy=0.0273, train_loss=5.92]\n",
      "Evaluation:  54%|████████████████████████████████████▋                               | 202/375 [03:39<03:07,  1.09s/it]\n"
     ]
    },
    {
     "name": "stdout",
     "output_type": "stream",
     "text": [
      "\t - Recall@20 epoch 1: 0.301033\n",
      "\t - MRR@20    epoch 1: 0.084021\n",
      "\n"
     ]
    },
    {
     "name": "stderr",
     "output_type": "stream",
     "text": [
      "Train:  85%|███████████████████████████████▎     | 1161/1370 [00:31<00:05, 36.56it/s, accuracy=0.0391, train_loss=5.77]\n",
      "Evaluation:  54%|████████████████████████████████████▋                               | 202/375 [03:37<03:06,  1.08s/it]\n"
     ]
    },
    {
     "name": "stdout",
     "output_type": "stream",
     "text": [
      "\t - Recall@20 epoch 2: 0.313728\n",
      "\t - MRR@20    epoch 2: 0.091729\n",
      "\n"
     ]
    },
    {
     "name": "stderr",
     "output_type": "stream",
     "text": [
      "Train:  85%|████████████████████████████████▏     | 1161/1370 [00:32<00:05, 35.91it/s, accuracy=0.0508, train_loss=5.7]\n",
      "Evaluation:  54%|████████████████████████████████████▋                               | 202/375 [03:38<03:06,  1.08s/it]\n"
     ]
    },
    {
     "name": "stdout",
     "output_type": "stream",
     "text": [
      "\t - Recall@20 epoch 3: 0.312403\n",
      "\t - MRR@20    epoch 3: 0.092505\n",
      "\n"
     ]
    },
    {
     "name": "stderr",
     "output_type": "stream",
     "text": [
      "Train:  85%|███████████████████████████████▎     | 1161/1370 [00:31<00:05, 36.73it/s, accuracy=0.0508, train_loss=5.61]\n",
      "Evaluation:  54%|████████████████████████████████████▋                               | 202/375 [03:38<03:06,  1.08s/it]\n"
     ]
    },
    {
     "name": "stdout",
     "output_type": "stream",
     "text": [
      "\t - Recall@20 epoch 4: 0.309822\n",
      "\t - MRR@20    epoch 4: 0.091769\n",
      "\n"
     ]
    },
    {
     "name": "stderr",
     "output_type": "stream",
     "text": [
      "Train:  85%|███████████████████████████████▎     | 1161/1370 [00:30<00:05, 37.51it/s, accuracy=0.0586, train_loss=5.55]\n",
      "Evaluation:  54%|████████████████████████████████████▋                               | 202/375 [03:39<03:07,  1.08s/it]\n"
     ]
    },
    {
     "name": "stdout",
     "output_type": "stream",
     "text": [
      "\t - Recall@20 epoch 5: 0.308613\n",
      "\t - MRR@20    epoch 5: 0.091541\n",
      "\n"
     ]
    },
    {
     "name": "stderr",
     "output_type": "stream",
     "text": [
      "Train:  85%|████████████████████████████████▏     | 1161/1370 [00:32<00:05, 36.23it/s, accuracy=0.0508, train_loss=5.5]\n",
      "Evaluation:  54%|████████████████████████████████████▋                               | 202/375 [03:38<03:07,  1.08s/it]\n"
     ]
    },
    {
     "name": "stdout",
     "output_type": "stream",
     "text": [
      "\t - Recall@20 epoch 6: 0.307114\n",
      "\t - MRR@20    epoch 6: 0.091028\n",
      "\n"
     ]
    },
    {
     "name": "stderr",
     "output_type": "stream",
     "text": [
      "Train:  85%|███████████████████████████████▎     | 1161/1370 [00:31<00:05, 36.62it/s, accuracy=0.0508, train_loss=5.47]\n",
      "Evaluation:  54%|████████████████████████████████████▋                               | 202/375 [03:36<03:05,  1.07s/it]\n"
     ]
    },
    {
     "name": "stdout",
     "output_type": "stream",
     "text": [
      "\t - Recall@20 epoch 7: 0.304620\n",
      "\t - MRR@20    epoch 7: 0.090643\n",
      "\n"
     ]
    },
    {
     "name": "stderr",
     "output_type": "stream",
     "text": [
      "Train:  85%|███████████████████████████████▎     | 1161/1370 [00:31<00:05, 36.32it/s, accuracy=0.0566, train_loss=5.46]\n",
      "Evaluation:  54%|████████████████████████████████████▋                               | 202/375 [03:36<03:05,  1.07s/it]\n"
     ]
    },
    {
     "name": "stdout",
     "output_type": "stream",
     "text": [
      "\t - Recall@20 epoch 8: 0.303431\n",
      "\t - MRR@20    epoch 8: 0.090300\n",
      "\n"
     ]
    },
    {
     "name": "stderr",
     "output_type": "stream",
     "text": [
      "Train:  85%|████████████████████████████████▏     | 1161/1370 [00:31<00:05, 36.89it/s, accuracy=0.0508, train_loss=5.5]\n",
      "Evaluation:  54%|████████████████████████████████████▋                               | 202/375 [03:38<03:06,  1.08s/it]\n"
     ]
    },
    {
     "name": "stdout",
     "output_type": "stream",
     "text": [
      "\t - Recall@20 epoch 9: 0.301129\n",
      "\t - MRR@20    epoch 9: 0.089363\n",
      "\n"
     ]
    },
    {
     "name": "stderr",
     "output_type": "stream",
     "text": [
      "Train:  85%|███████████████████████████████▎     | 1161/1370 [00:31<00:05, 36.33it/s, accuracy=0.0605, train_loss=5.45]\n",
      "Evaluation:  54%|████████████████████████████████████▋                               | 202/375 [03:38<03:06,  1.08s/it]"
     ]
    },
    {
     "name": "stdout",
     "output_type": "stream",
     "text": [
      "\t - Recall@20 epoch 10: 0.300153\n",
      "\t - MRR@20    epoch 10: 0.089076\n",
      "\n"
     ]
    },
    {
     "name": "stderr",
     "output_type": "stream",
     "text": [
      "\n"
     ]
    }
   ],
   "source": [
    "train_model(model_1, args_1)"
   ]
  },
  {
   "cell_type": "code",
   "execution_count": 43,
   "id": "f3e2292e",
   "metadata": {},
   "outputs": [
    {
     "name": "stderr",
     "output_type": "stream",
     "text": [
      "Evaluation:  19%|█████████████                                                        | 37/195 [00:40<02:51,  1.08s/it]"
     ]
    },
    {
     "name": "stdout",
     "output_type": "stream",
     "text": [
      "\t - Recall@20: 0.297825\n",
      "\t - MRR@20: 0.086917\n",
      "\n"
     ]
    },
    {
     "name": "stderr",
     "output_type": "stream",
     "text": [
      "\n"
     ]
    }
   ],
   "source": [
    "test_model(model_1, args_1, test)"
   ]
  },
  {
   "cell_type": "markdown",
   "id": "1d3685ab",
   "metadata": {},
   "source": [
    "- learning rate를 10배 증가시킨 0.01로 설정\n",
    "- 2 epoch에 학습 완료되고 점점 낮아져서 학습 진행되지 않음"
   ]
  },
  {
   "cell_type": "markdown",
   "id": "465ebd4a",
   "metadata": {},
   "source": [
    "### (2) Hidden size 변경"
   ]
  },
  {
   "cell_type": "code",
   "execution_count": 44,
   "id": "25156c75",
   "metadata": {},
   "outputs": [
    {
     "name": "stdout",
     "output_type": "stream",
     "text": [
      "Model: \"model_2\"\n",
      "_________________________________________________________________\n",
      "Layer (type)                 Output Shape              Param #   \n",
      "=================================================================\n",
      "input_3 (InputLayer)         [(512, 1, 3670)]          0         \n",
      "_________________________________________________________________\n",
      "GRU (GRU)                    [(512, 100), (512, 100)]  1131600   \n",
      "_________________________________________________________________\n",
      "dropout_2 (Dropout)          (512, 100)                0         \n",
      "_________________________________________________________________\n",
      "dense_2 (Dense)              (512, 3670)               370670    \n",
      "=================================================================\n",
      "Total params: 1,502,270\n",
      "Trainable params: 1,502,270\n",
      "Non-trainable params: 0\n",
      "_________________________________________________________________\n"
     ]
    }
   ],
   "source": [
    "args_2 = Args(tr, val, test, batch_size=512, hsz=100, drop_rate=0.1, lr=0.001, epochs=10, k=20)\n",
    "model_2 = create_model(args_2)"
   ]
  },
  {
   "cell_type": "code",
   "execution_count": 45,
   "id": "e25754dc",
   "metadata": {},
   "outputs": [
    {
     "name": "stderr",
     "output_type": "stream",
     "text": [
      "Train:  85%|███████████████████████████████▎     | 1161/1370 [00:31<00:05, 36.47it/s, accuracy=0.0137, train_loss=6.88]\n",
      "Evaluation:  54%|████████████████████████████████████▋                               | 202/375 [04:00<03:26,  1.19s/it]\n"
     ]
    },
    {
     "name": "stdout",
     "output_type": "stream",
     "text": [
      "\t - Recall@20 epoch 1: 0.152963\n",
      "\t - MRR@20    epoch 1: 0.038891\n",
      "\n"
     ]
    },
    {
     "name": "stderr",
     "output_type": "stream",
     "text": [
      "Train:  85%|███████████████████████████████▎     | 1161/1370 [00:32<00:05, 35.97it/s, accuracy=0.0293, train_loss=6.17]\n",
      "Evaluation:  54%|████████████████████████████████████▋                               | 202/375 [03:46<03:13,  1.12s/it]\n"
     ]
    },
    {
     "name": "stdout",
     "output_type": "stream",
     "text": [
      "\t - Recall@20 epoch 2: 0.262541\n",
      "\t - MRR@20    epoch 2: 0.070033\n",
      "\n"
     ]
    },
    {
     "name": "stderr",
     "output_type": "stream",
     "text": [
      "Train:  85%|███████████████████████████████▎     | 1161/1370 [00:31<00:05, 36.41it/s, accuracy=0.0332, train_loss=5.89]\n",
      "Evaluation:  54%|████████████████████████████████████▋                               | 202/375 [03:40<03:09,  1.09s/it]\n"
     ]
    },
    {
     "name": "stdout",
     "output_type": "stream",
     "text": [
      "\t - Recall@20 epoch 3: 0.289391\n",
      "\t - MRR@20    epoch 3: 0.080199\n",
      "\n"
     ]
    },
    {
     "name": "stderr",
     "output_type": "stream",
     "text": [
      "Train:  85%|███████████████████████████████▎     | 1161/1370 [00:31<00:05, 36.68it/s, accuracy=0.0391, train_loss=5.77]\n",
      "Evaluation:  54%|████████████████████████████████████▋                               | 202/375 [03:38<03:07,  1.08s/it]\n"
     ]
    },
    {
     "name": "stdout",
     "output_type": "stream",
     "text": [
      "\t - Recall@20 epoch 4: 0.305335\n",
      "\t - MRR@20    epoch 4: 0.086873\n",
      "\n"
     ]
    },
    {
     "name": "stderr",
     "output_type": "stream",
     "text": [
      "Train:  85%|███████████████████████████████▎     | 1161/1370 [00:31<00:05, 37.06it/s, accuracy=0.0527, train_loss=5.66]\n",
      "Evaluation:  54%|████████████████████████████████████▋                               | 202/375 [03:36<03:05,  1.07s/it]\n"
     ]
    },
    {
     "name": "stdout",
     "output_type": "stream",
     "text": [
      "\t - Recall@20 epoch 5: 0.315507\n",
      "\t - MRR@20    epoch 5: 0.091574\n",
      "\n"
     ]
    },
    {
     "name": "stderr",
     "output_type": "stream",
     "text": [
      "Train:  85%|███████████████████████████████▎     | 1161/1370 [00:32<00:05, 36.28it/s, accuracy=0.0449, train_loss=5.59]\n",
      "Evaluation:  54%|████████████████████████████████████▋                               | 202/375 [03:38<03:07,  1.08s/it]\n"
     ]
    },
    {
     "name": "stdout",
     "output_type": "stream",
     "text": [
      "\t - Recall@20 epoch 6: 0.322324\n",
      "\t - MRR@20    epoch 6: 0.094532\n",
      "\n"
     ]
    },
    {
     "name": "stderr",
     "output_type": "stream",
     "text": [
      "Train:  85%|███████████████████████████████▎     | 1161/1370 [00:31<00:05, 36.33it/s, accuracy=0.0508, train_loss=5.54]\n",
      "Evaluation:  54%|████████████████████████████████████▋                               | 202/375 [03:38<03:07,  1.08s/it]\n"
     ]
    },
    {
     "name": "stdout",
     "output_type": "stream",
     "text": [
      "\t - Recall@20 epoch 7: 0.325147\n",
      "\t - MRR@20    epoch 7: 0.096282\n",
      "\n"
     ]
    },
    {
     "name": "stderr",
     "output_type": "stream",
     "text": [
      "Train:  85%|████████████████████████████████▏     | 1161/1370 [00:31<00:05, 36.62it/s, accuracy=0.043, train_loss=5.52]\n",
      "Evaluation:  54%|████████████████████████████████████▋                               | 202/375 [03:37<03:06,  1.08s/it]\n"
     ]
    },
    {
     "name": "stdout",
     "output_type": "stream",
     "text": [
      "\t - Recall@20 epoch 8: 0.327090\n",
      "\t - MRR@20    epoch 8: 0.097517\n",
      "\n"
     ]
    },
    {
     "name": "stderr",
     "output_type": "stream",
     "text": [
      "Train:  85%|███████████████████████████████▎     | 1161/1370 [00:31<00:05, 36.90it/s, accuracy=0.0488, train_loss=5.47]\n",
      "Evaluation:  54%|████████████████████████████████████▋                               | 202/375 [03:38<03:06,  1.08s/it]\n"
     ]
    },
    {
     "name": "stdout",
     "output_type": "stream",
     "text": [
      "\t - Recall@20 epoch 9: 0.328057\n",
      "\t - MRR@20    epoch 9: 0.098852\n",
      "\n"
     ]
    },
    {
     "name": "stderr",
     "output_type": "stream",
     "text": [
      "Train:  85%|████████████████████████████████▏     | 1161/1370 [00:31<00:05, 36.71it/s, accuracy=0.0625, train_loss=5.4]\n",
      "Evaluation:  54%|████████████████████████████████████▋                               | 202/375 [03:36<03:05,  1.07s/it]"
     ]
    },
    {
     "name": "stdout",
     "output_type": "stream",
     "text": [
      "\t - Recall@20 epoch 10: 0.329208\n",
      "\t - MRR@20    epoch 10: 0.098822\n",
      "\n"
     ]
    },
    {
     "name": "stderr",
     "output_type": "stream",
     "text": [
      "\n"
     ]
    }
   ],
   "source": [
    "train_model(model_2, args_2)"
   ]
  },
  {
   "cell_type": "code",
   "execution_count": 46,
   "id": "d55adc88",
   "metadata": {},
   "outputs": [
    {
     "name": "stderr",
     "output_type": "stream",
     "text": [
      "Evaluation:  19%|█████████████                                                        | 37/195 [00:40<02:51,  1.08s/it]"
     ]
    },
    {
     "name": "stdout",
     "output_type": "stream",
     "text": [
      "\t - Recall@20: 0.320946\n",
      "\t - MRR@20: 0.095708\n",
      "\n"
     ]
    },
    {
     "name": "stderr",
     "output_type": "stream",
     "text": [
      "\n"
     ]
    }
   ],
   "source": [
    "test_model(model_2, args_2, test)"
   ]
  },
  {
   "cell_type": "markdown",
   "id": "ddee02e3",
   "metadata": {},
   "source": [
    "- Hidden size를 50에서 100으로 증가시시킴 \n",
    "- 다른 모델들과 동일하게 10 epoch을 학습시켰을 때, Recall과 MRR이 소폭 상승"
   ]
  },
  {
   "cell_type": "markdown",
   "id": "59eb18d3",
   "metadata": {},
   "source": [
    "### (3) Dropout 변경"
   ]
  },
  {
   "cell_type": "code",
   "execution_count": 47,
   "id": "eacd5662",
   "metadata": {},
   "outputs": [
    {
     "name": "stdout",
     "output_type": "stream",
     "text": [
      "Model: \"model_3\"\n",
      "_________________________________________________________________\n",
      "Layer (type)                 Output Shape              Param #   \n",
      "=================================================================\n",
      "input_4 (InputLayer)         [(512, 1, 3670)]          0         \n",
      "_________________________________________________________________\n",
      "GRU (GRU)                    [(512, 50), (512, 50)]    558300    \n",
      "_________________________________________________________________\n",
      "dropout_3 (Dropout)          (512, 50)                 0         \n",
      "_________________________________________________________________\n",
      "dense_3 (Dense)              (512, 3670)               187170    \n",
      "=================================================================\n",
      "Total params: 745,470\n",
      "Trainable params: 745,470\n",
      "Non-trainable params: 0\n",
      "_________________________________________________________________\n"
     ]
    }
   ],
   "source": [
    "args_3 = Args(tr, val, test, batch_size=512, hsz=50, drop_rate=0.5, lr=0.001, epochs=10, k=20)\n",
    "model_3 = create_model(args_3)"
   ]
  },
  {
   "cell_type": "code",
   "execution_count": 48,
   "id": "bbacac73",
   "metadata": {
    "scrolled": false
   },
   "outputs": [
    {
     "name": "stderr",
     "output_type": "stream",
     "text": [
      "Train:  85%|██████████████████████████████▌     | 1161/1370 [00:31<00:05, 36.98it/s, accuracy=0.00781, train_loss=7.32]\n",
      "Evaluation:  54%|████████████████████████████████████▋                               | 202/375 [04:06<03:31,  1.22s/it]\n"
     ]
    },
    {
     "name": "stdout",
     "output_type": "stream",
     "text": [
      "\t - Recall@20 epoch 1: 0.087891\n",
      "\t - MRR@20    epoch 1: 0.019395\n",
      "\n"
     ]
    },
    {
     "name": "stderr",
     "output_type": "stream",
     "text": [
      "Train:  85%|██████████████████████████████▌     | 1161/1370 [00:31<00:05, 37.17it/s, accuracy=0.00586, train_loss=6.94]\n",
      "Evaluation:  54%|████████████████████████████████████▋                               | 202/375 [03:59<03:25,  1.19s/it]\n"
     ]
    },
    {
     "name": "stdout",
     "output_type": "stream",
     "text": [
      "\t - Recall@20 epoch 2: 0.147016\n",
      "\t - MRR@20    epoch 2: 0.034041\n",
      "\n"
     ]
    },
    {
     "name": "stderr",
     "output_type": "stream",
     "text": [
      "Train:  85%|███████████████████████████████▎     | 1161/1370 [00:31<00:05, 36.44it/s, accuracy=0.0195, train_loss=6.61]\n",
      "Evaluation:  54%|████████████████████████████████████▋                               | 202/375 [03:51<03:18,  1.15s/it]\n"
     ]
    },
    {
     "name": "stdout",
     "output_type": "stream",
     "text": [
      "\t - Recall@20 epoch 3: 0.206132\n",
      "\t - MRR@20    epoch 3: 0.051582\n",
      "\n"
     ]
    },
    {
     "name": "stderr",
     "output_type": "stream",
     "text": [
      "Train:  85%|████████████████████████████████▏     | 1161/1370 [00:31<00:05, 36.34it/s, accuracy=0.0137, train_loss=6.5]\n",
      "Evaluation:  54%|████████████████████████████████████▋                               | 202/375 [03:47<03:14,  1.12s/it]\n"
     ]
    },
    {
     "name": "stdout",
     "output_type": "stream",
     "text": [
      "\t - Recall@20 epoch 4: 0.246065\n",
      "\t - MRR@20    epoch 4: 0.063114\n",
      "\n"
     ]
    },
    {
     "name": "stderr",
     "output_type": "stream",
     "text": [
      "Train:  85%|███████████████████████████████▎     | 1161/1370 [00:31<00:05, 37.19it/s, accuracy=0.0254, train_loss=6.31]\n",
      "Evaluation:  54%|████████████████████████████████████▋                               | 202/375 [03:45<03:12,  1.11s/it]\n"
     ]
    },
    {
     "name": "stdout",
     "output_type": "stream",
     "text": [
      "\t - Recall@20 epoch 5: 0.264117\n",
      "\t - MRR@20    epoch 5: 0.068821\n",
      "\n"
     ]
    },
    {
     "name": "stderr",
     "output_type": "stream",
     "text": [
      "Train:  85%|████████████████████████████████▏     | 1161/1370 [00:31<00:05, 36.47it/s, accuracy=0.041, train_loss=6.22]\n",
      "Evaluation:  54%|████████████████████████████████████▋                               | 202/375 [03:43<03:11,  1.11s/it]\n"
     ]
    },
    {
     "name": "stdout",
     "output_type": "stream",
     "text": [
      "\t - Recall@20 epoch 6: 0.276677\n",
      "\t - MRR@20    epoch 6: 0.073214\n",
      "\n"
     ]
    },
    {
     "name": "stderr",
     "output_type": "stream",
     "text": [
      "Train:  85%|███████████████████████████████▎     | 1161/1370 [00:31<00:05, 36.37it/s, accuracy=0.0273, train_loss=6.19]\n",
      "Evaluation:  54%|████████████████████████████████████▋                               | 202/375 [03:42<03:10,  1.10s/it]\n"
     ]
    },
    {
     "name": "stdout",
     "output_type": "stream",
     "text": [
      "\t - Recall@20 epoch 7: 0.284441\n",
      "\t - MRR@20    epoch 7: 0.076119\n",
      "\n"
     ]
    },
    {
     "name": "stderr",
     "output_type": "stream",
     "text": [
      "Train:  85%|███████████████████████████████▎     | 1161/1370 [00:31<00:05, 36.80it/s, accuracy=0.0234, train_loss=6.15]\n",
      "Evaluation:  54%|████████████████████████████████████▋                               | 202/375 [03:42<03:10,  1.10s/it]\n"
     ]
    },
    {
     "name": "stdout",
     "output_type": "stream",
     "text": [
      "\t - Recall@20 epoch 8: 0.289517\n",
      "\t - MRR@20    epoch 8: 0.078236\n",
      "\n"
     ]
    },
    {
     "name": "stderr",
     "output_type": "stream",
     "text": [
      "Train:  85%|███████████████████████████████▎     | 1161/1370 [00:30<00:05, 37.73it/s, accuracy=0.0293, train_loss=6.12]\n",
      "Evaluation:  54%|████████████████████████████████████▋                               | 202/375 [03:41<03:09,  1.10s/it]\n"
     ]
    },
    {
     "name": "stdout",
     "output_type": "stream",
     "text": [
      "\t - Recall@20 epoch 9: 0.294042\n",
      "\t - MRR@20    epoch 9: 0.080297\n",
      "\n"
     ]
    },
    {
     "name": "stderr",
     "output_type": "stream",
     "text": [
      "Train:  85%|███████████████████████████████▎     | 1161/1370 [00:31<00:05, 36.60it/s, accuracy=0.0371, train_loss=6.14]\n",
      "Evaluation:  54%|████████████████████████████████████▋                               | 202/375 [03:40<03:09,  1.09s/it]"
     ]
    },
    {
     "name": "stdout",
     "output_type": "stream",
     "text": [
      "\t - Recall@20 epoch 10: 0.298277\n",
      "\t - MRR@20    epoch 10: 0.081983\n",
      "\n"
     ]
    },
    {
     "name": "stderr",
     "output_type": "stream",
     "text": [
      "\n"
     ]
    }
   ],
   "source": [
    "train_model(model_3, args_3)"
   ]
  },
  {
   "cell_type": "code",
   "execution_count": 49,
   "id": "1e6dbec5",
   "metadata": {
    "scrolled": true
   },
   "outputs": [
    {
     "name": "stderr",
     "output_type": "stream",
     "text": [
      "Evaluation:  19%|█████████████                                                        | 37/195 [00:40<02:51,  1.09s/it]"
     ]
    },
    {
     "name": "stdout",
     "output_type": "stream",
     "text": [
      "\t - Recall@20: 0.301520\n",
      "\t - MRR@20: 0.084318\n",
      "\n"
     ]
    },
    {
     "name": "stderr",
     "output_type": "stream",
     "text": [
      "\n"
     ]
    }
   ],
   "source": [
    "test_model(model_3, args_3, test)"
   ]
  },
  {
   "cell_type": "markdown",
   "id": "075168de",
   "metadata": {},
   "source": [
    "## 결과 분석"
   ]
  },
  {
   "cell_type": "code",
   "execution_count": 86,
   "id": "9cb1ab18",
   "metadata": {},
   "outputs": [],
   "source": [
    "# 결과 데이터를 로딩\n",
    "\n",
    "rd_tmp = pd.read_csv(\"./data/result_data1.csv\")\n",
    "rd_df = rd_tmp.copy()\n",
    "\n",
    "rd2_tmp = pd.read_csv(\"./data/result_data2.csv\")\n",
    "rd2_df = rd2_tmp.copy()"
   ]
  },
  {
   "cell_type": "code",
   "execution_count": 57,
   "id": "820eb3fa",
   "metadata": {},
   "outputs": [
    {
     "data": {
      "text/html": [
       "<div>\n",
       "<style scoped>\n",
       "    .dataframe tbody tr th:only-of-type {\n",
       "        vertical-align: middle;\n",
       "    }\n",
       "\n",
       "    .dataframe tbody tr th {\n",
       "        vertical-align: top;\n",
       "    }\n",
       "\n",
       "    .dataframe thead th {\n",
       "        text-align: right;\n",
       "    }\n",
       "</style>\n",
       "<table border=\"1\" class=\"dataframe\">\n",
       "  <thead>\n",
       "    <tr style=\"text-align: right;\">\n",
       "      <th></th>\n",
       "      <th>epoch</th>\n",
       "      <th>Recall@20_1</th>\n",
       "      <th>MRR@20_1</th>\n",
       "      <th>Recall@20_2</th>\n",
       "      <th>MRR@20_2</th>\n",
       "      <th>Recall@20_3</th>\n",
       "      <th>MRR@20_3</th>\n",
       "      <th>Recall@20_4</th>\n",
       "      <th>MRR@20_4</th>\n",
       "    </tr>\n",
       "  </thead>\n",
       "  <tbody>\n",
       "    <tr>\n",
       "      <th>0</th>\n",
       "      <td>1</td>\n",
       "      <td>0.094707</td>\n",
       "      <td>0.020520</td>\n",
       "      <td>0.089521</td>\n",
       "      <td>0.084021</td>\n",
       "      <td>0.152963</td>\n",
       "      <td>0.038891</td>\n",
       "      <td>0.087891</td>\n",
       "      <td>0.019395</td>\n",
       "    </tr>\n",
       "    <tr>\n",
       "      <th>1</th>\n",
       "      <td>2</td>\n",
       "      <td>0.186959</td>\n",
       "      <td>0.046941</td>\n",
       "      <td>0.313728</td>\n",
       "      <td>0.091729</td>\n",
       "      <td>0.262541</td>\n",
       "      <td>0.070033</td>\n",
       "      <td>0.147016</td>\n",
       "      <td>0.034041</td>\n",
       "    </tr>\n",
       "    <tr>\n",
       "      <th>2</th>\n",
       "      <td>3</td>\n",
       "      <td>0.248965</td>\n",
       "      <td>0.065012</td>\n",
       "      <td>0.312403</td>\n",
       "      <td>0.092505</td>\n",
       "      <td>0.289391</td>\n",
       "      <td>0.080199</td>\n",
       "      <td>0.206132</td>\n",
       "      <td>0.051582</td>\n",
       "    </tr>\n",
       "    <tr>\n",
       "      <th>3</th>\n",
       "      <td>4</td>\n",
       "      <td>0.275236</td>\n",
       "      <td>0.073289</td>\n",
       "      <td>0.309822</td>\n",
       "      <td>0.091769</td>\n",
       "      <td>0.305335</td>\n",
       "      <td>0.086873</td>\n",
       "      <td>0.246065</td>\n",
       "      <td>0.063114</td>\n",
       "    </tr>\n",
       "    <tr>\n",
       "      <th>4</th>\n",
       "      <td>5</td>\n",
       "      <td>0.287922</td>\n",
       "      <td>0.078690</td>\n",
       "      <td>0.308613</td>\n",
       "      <td>0.091541</td>\n",
       "      <td>0.315507</td>\n",
       "      <td>0.091574</td>\n",
       "      <td>0.264117</td>\n",
       "      <td>0.068821</td>\n",
       "    </tr>\n",
       "  </tbody>\n",
       "</table>\n",
       "</div>"
      ],
      "text/plain": [
       "   epoch  Recall@20_1  MRR@20_1  Recall@20_2  MRR@20_2  Recall@20_3  MRR@20_3  \\\n",
       "0      1     0.094707  0.020520     0.089521  0.084021     0.152963  0.038891   \n",
       "1      2     0.186959  0.046941     0.313728  0.091729     0.262541  0.070033   \n",
       "2      3     0.248965  0.065012     0.312403  0.092505     0.289391  0.080199   \n",
       "3      4     0.275236  0.073289     0.309822  0.091769     0.305335  0.086873   \n",
       "4      5     0.287922  0.078690     0.308613  0.091541     0.315507  0.091574   \n",
       "\n",
       "   Recall@20_4  MRR@20_4  \n",
       "0     0.087891  0.019395  \n",
       "1     0.147016  0.034041  \n",
       "2     0.206132  0.051582  \n",
       "3     0.246065  0.063114  \n",
       "4     0.264117  0.068821  "
      ]
     },
     "execution_count": 57,
     "metadata": {},
     "output_type": "execute_result"
    }
   ],
   "source": [
    "rd_df.head()"
   ]
  },
  {
   "cell_type": "code",
   "execution_count": 67,
   "id": "ef5bff64",
   "metadata": {},
   "outputs": [],
   "source": [
    "epoch = rd_df['epoch']\n",
    "recall20_1 = rd_df['Recall@20_1']\n",
    "recall20_2 = rd_df['Recall@20_2']\n",
    "recall20_3 = rd_df['Recall@20_3']\n",
    "recall20_4 = rd_df['Recall@20_4']\n",
    "\n",
    "MRR20_1 = rd_df['MRR@20_1']\n",
    "MRR20_2 = rd_df['MRR@20_2']\n",
    "MRR20_3 = rd_df['MRR@20_3']\n",
    "MRR20_4 = rd_df['MRR@20_4']"
   ]
  },
  {
   "cell_type": "markdown",
   "id": "9e88c009",
   "metadata": {},
   "source": [
    "### 학습 & validation 결과"
   ]
  },
  {
   "cell_type": "code",
   "execution_count": 90,
   "id": "557f0f7a",
   "metadata": {},
   "outputs": [
    {
     "data": {
      "image/png": "[encoded data removed]",
      "text/plain": [
       "<Figure size 432x288 with 1 Axes>"
      ]
     },
     "metadata": {
      "needs_background": "light"
     },
     "output_type": "display_data"
    }
   ],
   "source": [
    "plt.plot(epoch, recall20_1, epoch, recall20_2,epoch, recall20_3, epoch, recall20_4)\n",
    "plt.legend(('recall20_1', 'recall20_2', 'recall20_3', 'recall20_4'))\n",
    "plt.show()"
   ]
  },
  {
   "cell_type": "markdown",
   "id": "47dabd06",
   "metadata": {},
   "source": [
    "- 1번 기준모델 \n",
    "- 2번 learning rate 변경 모델\n",
    "- 3번 hidden size 변경\n",
    "- 4번 drop out 변경\n",
    "\n",
    "1. 동일한 10 epoch를 학습 시킨 경우 hidden size를 변경한 모델의 Recall이 가장 높은 것을 확인할 수 있다\n",
    "2. learning rate를 0.01로 10배 증가 시킨 모델의 경우에는 2epoch까지 Reacll이 가파르게 상승 하여 다른 수정모델보다 높에 나타났으나 이후 더이상 제대로 학습이 진행되지 않고 하락 하는 모습을 보인다."
   ]
  },
  {
   "cell_type": "code",
   "execution_count": 91,
   "id": "1830bf15",
   "metadata": {},
   "outputs": [
    {
     "data": {
      "image/png": "[encoded data removed]",
      "text/plain": [
       "<Figure size 432x288 with 1 Axes>"
      ]
     },
     "metadata": {
      "needs_background": "light"
     },
     "output_type": "display_data"
    }
   ],
   "source": [
    "plt.plot(epoch, MRR20_1, epoch, MRR20_2,epoch, MRR20_3, epoch, MRR20_4)\n",
    "plt.legend(('MRR20_1', 'MRR20_2', 'MRR20_3', 'MRR20_4'))\n",
    "plt.show()"
   ]
  },
  {
   "cell_type": "markdown",
   "id": "c619dbe6",
   "metadata": {},
   "source": [
    "- 1번 기준모델 \n",
    "- 2번 learning rate 변경 모델\n",
    "- 3번 hidden size 변경\n",
    "- 4번 drop out 변경\n",
    "\n",
    "1. Reall과 마찬가지로 동일한 10 epoch를 학습 시킨 경우 hidden size를 변경한 모델의 MRR이 가장 높은 것을 확인할 수 있다\n",
    "2. learning rate를 0.01로 10배 증가 시킨 모델의 경우에는 2epoch까지 MRR이 가파르게 상승 하여 다른 수정모델보다 높에 나타났으나 이후 더이상 제대로 학습이 진행되지 않고 하락 하는 모습을 보인다."
   ]
  },
  {
   "cell_type": "code",
   "execution_count": 88,
   "id": "2727c97b",
   "metadata": {},
   "outputs": [
    {
     "data": {
      "text/html": [
       "<div>\n",
       "<style scoped>\n",
       "    .dataframe tbody tr th:only-of-type {\n",
       "        vertical-align: middle;\n",
       "    }\n",
       "\n",
       "    .dataframe tbody tr th {\n",
       "        vertical-align: top;\n",
       "    }\n",
       "\n",
       "    .dataframe thead th {\n",
       "        text-align: right;\n",
       "    }\n",
       "</style>\n",
       "<table border=\"1\" class=\"dataframe\">\n",
       "  <thead>\n",
       "    <tr style=\"text-align: right;\">\n",
       "      <th></th>\n",
       "      <th>Recall@20_1</th>\n",
       "      <th>MRR@20_1</th>\n",
       "      <th>Recall@20_2</th>\n",
       "      <th>MRR@20_2</th>\n",
       "      <th>Recall@20_3</th>\n",
       "      <th>MRR@20_3</th>\n",
       "      <th>Recall@20_4</th>\n",
       "      <th>MRR@20_4</th>\n",
       "    </tr>\n",
       "  </thead>\n",
       "  <tbody>\n",
       "    <tr>\n",
       "      <th>0</th>\n",
       "      <td>0.308858</td>\n",
       "      <td>0.089521</td>\n",
       "      <td>0.297825</td>\n",
       "      <td>0.086917</td>\n",
       "      <td>0.320946</td>\n",
       "      <td>0.095708</td>\n",
       "      <td>0.30152</td>\n",
       "      <td>0.084318</td>\n",
       "    </tr>\n",
       "  </tbody>\n",
       "</table>\n",
       "</div>"
      ],
      "text/plain": [
       "   Recall@20_1  MRR@20_1  Recall@20_2  MRR@20_2  Recall@20_3  MRR@20_3  \\\n",
       "0     0.308858  0.089521     0.297825  0.086917     0.320946  0.095708   \n",
       "\n",
       "   Recall@20_4  MRR@20_4  \n",
       "0      0.30152  0.084318  "
      ]
     },
     "execution_count": 88,
     "metadata": {},
     "output_type": "execute_result"
    }
   ],
   "source": [
    "rd2_df.head()"
   ]
  },
  {
   "cell_type": "markdown",
   "id": "8e023bef",
   "metadata": {},
   "source": [
    "### Test 결과 "
   ]
  },
  {
   "cell_type": "markdown",
   "id": "84966afa",
   "metadata": {},
   "source": [
    "Test 데이터에 적용한 결과 역시 hidden size를 변경한 모델의 경우가 가장 높게 나왔다."
   ]
  },
  {
   "cell_type": "code",
   "execution_count": 125,
   "id": "30b24ecd",
   "metadata": {},
   "outputs": [
    {
     "data": {
      "text/plain": [
       "<BarContainer object of 4 artists>"
      ]
     },
     "execution_count": 125,
     "metadata": {},
     "output_type": "execute_result"
    },
    {
     "data": {
      "image/png": "[encoded data removed]",
      "text/plain": [
       "<Figure size 360x360 with 1 Axes>"
      ]
     },
     "metadata": {
      "needs_background": "light"
     },
     "output_type": "display_data"
    }
   ],
   "source": [
    "label_category = ['Recall@20_1', 'Recall@20_2', 'Recall@20_3', 'Recall@20_4']\n",
    "data = [0.308858, 0.297825, 0.320946, 0.30152]\n",
    "\n",
    "plt.figure(figsize=(5,5))\n",
    "\n",
    "xtick_label_position = list(range(len(label_category))) ## x축 눈금 라벨이 표시될 x좌표\n",
    "plt.xticks(xtick_label_position, label_category) ## x축 눈금 라벨 출력\n",
    "\n",
    "plt.bar(xtick_label_position, data) ## 바차트 출력\n",
    "\n",
    "#plt.show()"
   ]
  },
  {
   "cell_type": "code",
   "execution_count": 126,
   "id": "add5d6be",
   "metadata": {},
   "outputs": [
    {
     "data": {
      "text/plain": [
       "<BarContainer object of 4 artists>"
      ]
     },
     "execution_count": 126,
     "metadata": {},
     "output_type": "execute_result"
    },
    {
     "data": {
      "image/png": "[encoded data removed]",
      "text/plain": [
       "<Figure size 360x360 with 1 Axes>"
      ]
     },
     "metadata": {
      "needs_background": "light"
     },
     "output_type": "display_data"
    }
   ],
   "source": [
    "label_category2 = ['MRR@20_1', 'MRR@20_2', 'MRR@20_3', 'MRR@20_4']\n",
    "data2 = [0.089521, 0.086917, 0.095708, 0.084318]\n",
    "\n",
    "plt.figure(figsize=(5,5))\n",
    "\n",
    "xtick_label_position2 = list(range(len(label_category2))) ## x축 눈금 라벨이 표시될 x좌표\n",
    "plt.xticks(xtick_label_position2, label_category2) ## x축 눈금 라벨 출력\n",
    "\n",
    "plt.bar(xtick_label_position2, data2) ## 바차트 출력\n",
    "\n",
    "#plt.show()"
   ]
  },
  {
   "cell_type": "markdown",
   "id": "fdd452a3",
   "metadata": {},
   "source": [
    "## 회고록"
   ]
  },
  {
   "cell_type": "markdown",
   "id": "008054b3",
   "metadata": {},
   "source": [
    "이번노드는 큰 어려움 없이 진행한 노드 인것 같다. \n",
    "일단 코드도 전반적으로 이해하려고 노력하면서 했지만 역시 완벽하게 다 이해 하는 것을 아직 무리다.\n",
    "새로 장만한 딥러닝용 컴퓨터에 세팅한 로컬환경을 테스트 할 수 있었다.\n",
    "데이터 톤 이후에 허겁지겁 하느라 좀 서두른 감이 있지만 나름 선방한듯"
   ]
  }
 ],
 "metadata": {
  "kernelspec": {
   "display_name": "Python 3 (ipykernel)",
   "language": "python",
   "name": "python3"
  },
  "language_info": {
   "codemirror_mode": {
    "name": "ipython",
    "version": 3
   },
   "file_extension": ".py",
   "mimetype": "text/x-python",
   "name": "python",
   "nbconvert_exporter": "python",
   "pygments_lexer": "ipython3",
   "version": "3.9.7"
  }
 },
 "nbformat": 4,
 "nbformat_minor": 5
}
