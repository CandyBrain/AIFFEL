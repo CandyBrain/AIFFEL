{
 "cells": [
  {
   "cell_type": "markdown",
   "id": "bded2a30",
   "metadata": {},
   "source": [
    "# EXPLORATION 2: IRIS"
   ]
  },
  {
   "cell_type": "markdown",
   "id": "f4c2a3b6",
   "metadata": {},
   "source": [
    "## <span style=\"color:blue\">손글씨 분류, 와인 분류, 유방암 진단 </span>"
   ]
  },
  {
   "cell_type": "markdown",
   "id": "084428ac",
   "metadata": {},
   "source": [
    "#### 패키지 import"
   ]
  },
  {
   "cell_type": "markdown",
   "id": "963ee0b4",
   "metadata": {},
   "source": [
    "#### 데이터 로딩 / 손글씨 (digits)"
   ]
  },
  {
   "cell_type": "code",
   "execution_count": 2,
   "id": "5f7aa671",
   "metadata": {},
   "outputs": [],
   "source": [
    "digits = load_digits()\n",
    "digits_data = digits.data\n",
    "digits_label = digits.target"
   ]
  },
  {
   "cell_type": "markdown",
   "id": "5fe3ed03",
   "metadata": {},
   "source": [
    "#### 데이터 로딩 / 와인 (wine)"
   ]
  },
  {
   "cell_type": "code",
   "execution_count": 3,
   "id": "7504c516",
   "metadata": {},
   "outputs": [],
   "source": [
    "wine = load_wine()\n",
    "wine_data = wine.data\n",
    "wine_label = wine.target"
   ]
  },
  {
   "cell_type": "markdown",
   "id": "925177af",
   "metadata": {},
   "source": [
    "#### 데이터 로딩 / 유방암 (breast cancer)"
   ]
  },
  {
   "cell_type": "code",
   "execution_count": 4,
   "id": "b0a7c69f",
   "metadata": {},
   "outputs": [],
   "source": [
    "b_cancer = load_breast_cancer()\n",
    "b_cancer_data = b_cancer.data\n",
    "b_cancer_label = b_cancer.target"
   ]
  },
  {
   "cell_type": "markdown",
   "id": "daf5db51",
   "metadata": {},
   "source": [
    "#### 훈련 데이터 셋 / 손글씨 (digits)"
   ]
  },
  {
   "cell_type": "code",
   "execution_count": 5,
   "id": "92b845de",
   "metadata": {},
   "outputs": [],
   "source": [
    "X_train, X_test, y_train, y_test = train_test_split(digits_data, \n",
    "                                                    digits_label, \n",
    "                                                    test_size=0.2, \n",
    "                                                    random_state=40)"
   ]
  },
  {
   "cell_type": "markdown",
   "id": "4f59d339",
   "metadata": {},
   "source": [
    "#### 훈련 데이터 셋 / 와인 (wine)"
   ]
  },
  {
   "cell_type": "code",
   "execution_count": 6,
   "id": "f427d78e",
   "metadata": {},
   "outputs": [],
   "source": [
    "X_trainW, X_testW, y_trainW, y_testW = train_test_split(wine_data, \n",
    "                                                        wine_label, \n",
    "                                                        test_size=0.2, \n",
    "                                                        random_state=40)"
   ]
  },
  {
   "cell_type": "markdown",
   "id": "121f2d25",
   "metadata": {},
   "source": [
    "#### 훈련 데이터 셋 / 유방암 (breast cancer)"
   ]
  },
  {
   "cell_type": "code",
   "execution_count": 7,
   "id": "bd64688c",
   "metadata": {},
   "outputs": [],
   "source": [
    "X_trainB, X_testB, y_trainB, y_testB = train_test_split(b_cancer_data, \n",
    "                                                        b_cancer_label, \n",
    "                                                        test_size=0.2, \n",
    "                                                        random_state=40)"
   ]
  },
  {
   "cell_type": "markdown",
   "id": "b0c199d6",
   "metadata": {},
   "source": [
    "# 손글씨 분류 (digits)"
   ]
  },
  {
   "cell_type": "markdown",
   "id": "6c204371",
   "metadata": {},
   "source": [
    "#### (모델 적용) 의사결정 트리 / Decision Tree Classifier / 손글씨 (digits)"
   ]
  },
  {
   "cell_type": "code",
   "execution_count": 8,
   "id": "78eb1111",
   "metadata": {},
   "outputs": [
    {
     "name": "stdout",
     "output_type": "stream",
     "text": [
      "classifier\n",
      "              precision    recall  f1-score   support\n",
      "\n",
      "           0       0.97      1.00      0.98        30\n",
      "           1       0.77      0.72      0.75        47\n",
      "           2       0.81      0.79      0.80        38\n",
      "           3       0.74      0.68      0.71        34\n",
      "           4       0.90      0.92      0.91        38\n",
      "           5       0.83      0.86      0.84        28\n",
      "           6       0.97      0.97      0.97        34\n",
      "           7       0.81      0.86      0.83        35\n",
      "           8       0.76      0.72      0.74        36\n",
      "           9       0.73      0.80      0.76        40\n",
      "\n",
      "    accuracy                           0.82       360\n",
      "   macro avg       0.83      0.83      0.83       360\n",
      "weighted avg       0.82      0.82      0.82       360\n",
      "\n"
     ]
    }
   ],
   "source": [
    "decision_tree = DecisionTreeClassifier(random_state=40)\n",
    "decision_tree.fit(X_train, y_train)\n",
    "y_pred = decision_tree.predict(X_test)\n",
    "\n",
    "print(decision_tree._estimator_type)\n",
    "print(classification_report(y_test, y_pred))"
   ]
  },
  {
   "cell_type": "markdown",
   "id": "357a7696",
   "metadata": {},
   "source": [
    "#### (모델 적용) 랜덤 포레스트 / Random Forest Classifier / 손글씨 (digits)"
   ]
  },
  {
   "cell_type": "code",
   "execution_count": 9,
   "id": "cd2bfad2",
   "metadata": {},
   "outputs": [
    {
     "name": "stdout",
     "output_type": "stream",
     "text": [
      "classifier\n",
      "              precision    recall  f1-score   support\n",
      "\n",
      "           0       0.97      1.00      0.98        30\n",
      "           1       0.96      1.00      0.98        47\n",
      "           2       1.00      0.97      0.99        38\n",
      "           3       0.97      1.00      0.99        34\n",
      "           4       0.97      0.97      0.97        38\n",
      "           5       0.96      0.96      0.96        28\n",
      "           6       1.00      0.97      0.99        34\n",
      "           7       0.95      1.00      0.97        35\n",
      "           8       0.97      0.94      0.96        36\n",
      "           9       1.00      0.93      0.96        40\n",
      "\n",
      "    accuracy                           0.97       360\n",
      "   macro avg       0.98      0.98      0.97       360\n",
      "weighted avg       0.98      0.97      0.97       360\n",
      "\n"
     ]
    }
   ],
   "source": [
    "random_forest = RandomForestClassifier(random_state=40)\n",
    "random_forest.fit(X_train, y_train)\n",
    "y_pred = random_forest.predict(X_test)\n",
    "\n",
    "print(random_forest._estimator_type)\n",
    "print(classification_report(y_test, y_pred))"
   ]
  },
  {
   "cell_type": "markdown",
   "id": "dcaa2d36",
   "metadata": {},
   "source": [
    "#### (모델적용) 서포트벡터 머신 / SVM / 손글씨 (digits)"
   ]
  },
  {
   "cell_type": "code",
   "execution_count": 10,
   "id": "70ebe737",
   "metadata": {},
   "outputs": [
    {
     "name": "stdout",
     "output_type": "stream",
     "text": [
      "classifier\n",
      "              precision    recall  f1-score   support\n",
      "\n",
      "           0       1.00      1.00      1.00        30\n",
      "           1       0.96      1.00      0.98        47\n",
      "           2       1.00      1.00      1.00        38\n",
      "           3       1.00      1.00      1.00        34\n",
      "           4       1.00      1.00      1.00        38\n",
      "           5       1.00      1.00      1.00        28\n",
      "           6       1.00      1.00      1.00        34\n",
      "           7       1.00      1.00      1.00        35\n",
      "           8       0.97      0.94      0.96        36\n",
      "           9       1.00      0.97      0.99        40\n",
      "\n",
      "    accuracy                           0.99       360\n",
      "   macro avg       0.99      0.99      0.99       360\n",
      "weighted avg       0.99      0.99      0.99       360\n",
      "\n"
     ]
    }
   ],
   "source": [
    "svm_model = svm.SVC()\n",
    "svm_model.fit(X_train, y_train)\n",
    "y_pred = svm_model.predict(X_test)\n",
    "\n",
    "print(svm_model._estimator_type)\n",
    "print(classification_report(y_test, y_pred))"
   ]
  },
  {
   "cell_type": "markdown",
   "id": "a68a5b2f",
   "metadata": {},
   "source": [
    "#### (모델적용) 확률 경사 하강법 / SGD Classifier / 손글씨 (digits)"
   ]
  },
  {
   "cell_type": "code",
   "execution_count": 11,
   "id": "e3545110",
   "metadata": {},
   "outputs": [
    {
     "name": "stdout",
     "output_type": "stream",
     "text": [
      "classifier\n",
      "              precision    recall  f1-score   support\n",
      "\n",
      "           0       1.00      1.00      1.00        30\n",
      "           1       0.97      0.77      0.86        47\n",
      "           2       1.00      1.00      1.00        38\n",
      "           3       0.87      0.97      0.92        34\n",
      "           4       1.00      0.97      0.99        38\n",
      "           5       0.90      1.00      0.95        28\n",
      "           6       0.94      1.00      0.97        34\n",
      "           7       0.94      0.94      0.94        35\n",
      "           8       0.80      0.89      0.84        36\n",
      "           9       0.95      0.90      0.92        40\n",
      "\n",
      "    accuracy                           0.94       360\n",
      "   macro avg       0.94      0.94      0.94       360\n",
      "weighted avg       0.94      0.94      0.94       360\n",
      "\n"
     ]
    }
   ],
   "source": [
    "sgd_model = SGDClassifier()\n",
    "sgd_model.fit(X_train, y_train)\n",
    "y_pred = sgd_model.predict(X_test)\n",
    "\n",
    "print(sgd_model._estimator_type)\n",
    "print(classification_report(y_test, y_pred))"
   ]
  },
  {
   "cell_type": "markdown",
   "id": "09a43689",
   "metadata": {},
   "source": [
    "#### (모델적용) 로지스틱 회기 / LogisticRegression / 손글씨 (digits)"
   ]
  },
  {
   "cell_type": "code",
   "execution_count": 12,
   "id": "cd2c7922",
   "metadata": {},
   "outputs": [
    {
     "name": "stdout",
     "output_type": "stream",
     "text": [
      "classifier\n",
      "              precision    recall  f1-score   support\n",
      "\n",
      "           0       1.00      1.00      1.00        30\n",
      "           1       0.98      0.91      0.95        47\n",
      "           2       0.97      1.00      0.99        38\n",
      "           3       0.97      0.94      0.96        34\n",
      "           4       1.00      0.97      0.99        38\n",
      "           5       0.96      0.96      0.96        28\n",
      "           6       0.97      1.00      0.99        34\n",
      "           7       0.94      0.97      0.96        35\n",
      "           8       0.94      0.92      0.93        36\n",
      "           9       0.91      0.97      0.94        40\n",
      "\n",
      "    accuracy                           0.96       360\n",
      "   macro avg       0.97      0.97      0.97       360\n",
      "weighted avg       0.96      0.96      0.96       360\n",
      "\n"
     ]
    }
   ],
   "source": [
    "logistic_model = LogisticRegression(max_iter=5000)\n",
    "logistic_model.fit(X_train, y_train)\n",
    "y_pred = logistic_model.predict(X_test)\n",
    "\n",
    "print(logistic_model._estimator_type)\n",
    "print(classification_report(y_test, y_pred))"
   ]
  },
  {
   "cell_type": "markdown",
   "id": "83c4bbb4",
   "metadata": {},
   "source": [
    "# 와인분류 (wine)"
   ]
  },
  {
   "cell_type": "markdown",
   "id": "8a1483d4",
   "metadata": {},
   "source": [
    "#### (모델 적용) 의사결정 트리 / Decision Tree Classifier / 와인분류 (wine)"
   ]
  },
  {
   "cell_type": "code",
   "execution_count": 13,
   "id": "a5f6757f",
   "metadata": {},
   "outputs": [
    {
     "name": "stdout",
     "output_type": "stream",
     "text": [
      "classifier\n",
      "              precision    recall  f1-score   support\n",
      "\n",
      "           0       0.92      1.00      0.96        12\n",
      "           1       0.91      0.91      0.91        11\n",
      "           2       1.00      0.92      0.96        13\n",
      "\n",
      "    accuracy                           0.94        36\n",
      "   macro avg       0.94      0.94      0.94        36\n",
      "weighted avg       0.95      0.94      0.94        36\n",
      "\n"
     ]
    }
   ],
   "source": [
    "decision_tree = DecisionTreeClassifier(random_state=30)\n",
    "decision_tree.fit(X_trainW, y_trainW)\n",
    "y_predW = decision_tree.predict(X_testW)\n",
    "\n",
    "print(decision_tree._estimator_type)\n",
    "print(classification_report(y_testW, y_predW))"
   ]
  },
  {
   "cell_type": "markdown",
   "id": "dad6869f",
   "metadata": {},
   "source": [
    "#### (모델 적용) 랜덤 포레스트 / Random Forest Classifier / 와인분류 (wine)"
   ]
  },
  {
   "cell_type": "code",
   "execution_count": 14,
   "id": "5974e71e",
   "metadata": {},
   "outputs": [
    {
     "name": "stdout",
     "output_type": "stream",
     "text": [
      "classifier\n",
      "              precision    recall  f1-score   support\n",
      "\n",
      "           0       1.00      1.00      1.00        12\n",
      "           1       1.00      1.00      1.00        11\n",
      "           2       1.00      1.00      1.00        13\n",
      "\n",
      "    accuracy                           1.00        36\n",
      "   macro avg       1.00      1.00      1.00        36\n",
      "weighted avg       1.00      1.00      1.00        36\n",
      "\n"
     ]
    }
   ],
   "source": [
    "random_forest = RandomForestClassifier(random_state=40)\n",
    "random_forest.fit(X_trainW, y_trainW)\n",
    "y_predW = random_forest.predict(X_testW)\n",
    "\n",
    "print(random_forest._estimator_type)\n",
    "print(classification_report(y_testW, y_predW))"
   ]
  },
  {
   "cell_type": "markdown",
   "id": "ebde4cd6",
   "metadata": {},
   "source": [
    "#### (모델적용) 서포트벡터 머신 / SVM / 와인분류 (wine)"
   ]
  },
  {
   "cell_type": "code",
   "execution_count": 15,
   "id": "cb184bcf",
   "metadata": {},
   "outputs": [
    {
     "name": "stdout",
     "output_type": "stream",
     "text": [
      "classifier\n",
      "              precision    recall  f1-score   support\n",
      "\n",
      "           0       1.00      1.00      1.00        12\n",
      "           1       0.48      0.91      0.62        11\n",
      "           2       0.67      0.15      0.25        13\n",
      "\n",
      "    accuracy                           0.67        36\n",
      "   macro avg       0.71      0.69      0.62        36\n",
      "weighted avg       0.72      0.67      0.61        36\n",
      "\n"
     ]
    }
   ],
   "source": [
    "svm_model = svm.SVC()\n",
    "svm_model.fit(X_trainW, y_trainW)\n",
    "y_predW = svm_model.predict(X_testW)\n",
    "\n",
    "print(svm_model._estimator_type)\n",
    "print(classification_report(y_testW, y_predW))"
   ]
  },
  {
   "cell_type": "markdown",
   "id": "4b1f6c6a",
   "metadata": {},
   "source": [
    "#### (모델적용) 확률 경사 하강법 / SGD Classifier / 와인분류 (wine)"
   ]
  },
  {
   "cell_type": "code",
   "execution_count": 20,
   "id": "a0e27b1a",
   "metadata": {},
   "outputs": [
    {
     "name": "stdout",
     "output_type": "stream",
     "text": [
      "classifier\n",
      "              precision    recall  f1-score   support\n",
      "\n",
      "           0       0.75      1.00      0.86        12\n",
      "           1       0.53      0.82      0.64        11\n",
      "           2       1.00      0.23      0.38        13\n",
      "\n",
      "    accuracy                           0.67        36\n",
      "   macro avg       0.76      0.68      0.62        36\n",
      "weighted avg       0.77      0.67      0.62        36\n",
      "\n"
     ]
    }
   ],
   "source": [
    "sgd_model = SGDClassifier()\n",
    "sgd_model.fit(X_trainW, y_trainW)\n",
    "y_predW = sgd_model.predict(X_testW)\n",
    "\n",
    "print(sgd_model._estimator_type)\n",
    "print(classification_report(y_testW, y_predW))"
   ]
  },
  {
   "cell_type": "markdown",
   "id": "1bdb2fcf",
   "metadata": {},
   "source": [
    "#### (모델적용) 로지스틱 회기 / LogisticRegression / 와인분류 (wine)"
   ]
  },
  {
   "cell_type": "code",
   "execution_count": 21,
   "id": "7b67283b",
   "metadata": {},
   "outputs": [
    {
     "name": "stdout",
     "output_type": "stream",
     "text": [
      "classifier\n",
      "              precision    recall  f1-score   support\n",
      "\n",
      "           0       1.00      1.00      1.00        12\n",
      "           1       0.92      1.00      0.96        11\n",
      "           2       1.00      0.92      0.96        13\n",
      "\n",
      "    accuracy                           0.97        36\n",
      "   macro avg       0.97      0.97      0.97        36\n",
      "weighted avg       0.97      0.97      0.97        36\n",
      "\n"
     ]
    }
   ],
   "source": [
    "logistic_model = LogisticRegression(max_iter=5000)\n",
    "logistic_model.fit(X_trainW, y_trainW)\n",
    "y_predW = logistic_model.predict(X_testW)\n",
    "\n",
    "print(logistic_model._estimator_type)\n",
    "print(classification_report(y_testW, y_predW))"
   ]
  },
  {
   "cell_type": "markdown",
   "id": "426ab6c8",
   "metadata": {},
   "source": [
    "# 유방암 진단 (breast_cancer)"
   ]
  },
  {
   "cell_type": "markdown",
   "id": "ff73dff4",
   "metadata": {},
   "source": [
    "#### (모델 적용) 의사결정 트리 / Decision Tree Classifier / 유방암 (breast_cancer)"
   ]
  },
  {
   "cell_type": "code",
   "execution_count": 22,
   "id": "7b779556",
   "metadata": {},
   "outputs": [
    {
     "name": "stdout",
     "output_type": "stream",
     "text": [
      "classifier\n",
      "              precision    recall  f1-score   support\n",
      "\n",
      "           0       0.88      0.95      0.91        39\n",
      "           1       0.97      0.93      0.95        75\n",
      "\n",
      "    accuracy                           0.94       114\n",
      "   macro avg       0.93      0.94      0.93       114\n",
      "weighted avg       0.94      0.94      0.94       114\n",
      "\n"
     ]
    }
   ],
   "source": [
    "decision_tree = DecisionTreeClassifier(random_state=30)\n",
    "decision_tree.fit(X_trainB, y_trainB)\n",
    "y_predB = decision_tree.predict(X_testB)\n",
    "\n",
    "print(decision_tree._estimator_type)\n",
    "print(classification_report(y_testB, y_predB))"
   ]
  },
  {
   "cell_type": "markdown",
   "id": "500fc64f",
   "metadata": {},
   "source": [
    "#### (모델 적용) 랜덤 포레스트 / Random Forest Classifier / 유방암 (breast_cancer)"
   ]
  },
  {
   "cell_type": "code",
   "execution_count": 23,
   "id": "9dbc0b67",
   "metadata": {},
   "outputs": [
    {
     "name": "stdout",
     "output_type": "stream",
     "text": [
      "classifier\n",
      "              precision    recall  f1-score   support\n",
      "\n",
      "           0       0.90      0.97      0.94        39\n",
      "           1       0.99      0.95      0.97        75\n",
      "\n",
      "    accuracy                           0.96       114\n",
      "   macro avg       0.95      0.96      0.95       114\n",
      "weighted avg       0.96      0.96      0.96       114\n",
      "\n"
     ]
    }
   ],
   "source": [
    "random_forest = RandomForestClassifier(random_state=40)\n",
    "random_forest.fit(X_trainB, y_trainB)\n",
    "y_predB = random_forest.predict(X_testB)\n",
    "\n",
    "print(random_forest._estimator_type)\n",
    "print(classification_report(y_testB, y_predB))"
   ]
  },
  {
   "cell_type": "markdown",
   "id": "99ae155a",
   "metadata": {},
   "source": [
    "#### (모델적용) 서포트벡터 머신 / SVM / 유방암 (breast_cancer)"
   ]
  },
  {
   "cell_type": "code",
   "execution_count": 24,
   "id": "d1164ed3",
   "metadata": {},
   "outputs": [
    {
     "name": "stdout",
     "output_type": "stream",
     "text": [
      "classifier\n",
      "              precision    recall  f1-score   support\n",
      "\n",
      "           0       0.92      0.87      0.89        39\n",
      "           1       0.94      0.96      0.95        75\n",
      "\n",
      "    accuracy                           0.93       114\n",
      "   macro avg       0.93      0.92      0.92       114\n",
      "weighted avg       0.93      0.93      0.93       114\n",
      "\n"
     ]
    }
   ],
   "source": [
    "svm_model = svm.SVC()\n",
    "svm_model.fit(X_trainB, y_trainB)\n",
    "y_predB = svm_model.predict(X_testB)\n",
    "\n",
    "print(svm_model._estimator_type)\n",
    "print(classification_report(y_testB, y_predB))"
   ]
  },
  {
   "cell_type": "markdown",
   "id": "1e53efb2",
   "metadata": {},
   "source": [
    "#### (모델적용) 확률 경사 하강법 / SGD Classifier / 유방암 (breast_cancer)"
   ]
  },
  {
   "cell_type": "code",
   "execution_count": 25,
   "id": "2085d352",
   "metadata": {},
   "outputs": [
    {
     "name": "stdout",
     "output_type": "stream",
     "text": [
      "classifier\n",
      "              precision    recall  f1-score   support\n",
      "\n",
      "           0       1.00      0.59      0.74        39\n",
      "           1       0.82      1.00      0.90        75\n",
      "\n",
      "    accuracy                           0.86       114\n",
      "   macro avg       0.91      0.79      0.82       114\n",
      "weighted avg       0.88      0.86      0.85       114\n",
      "\n"
     ]
    }
   ],
   "source": [
    "sgd_model = SGDClassifier()\n",
    "sgd_model.fit(X_trainB, y_trainB)\n",
    "y_predB = sgd_model.predict(X_testB)\n",
    "\n",
    "print(sgd_model._estimator_type)\n",
    "print(classification_report(y_testB, y_predB))"
   ]
  },
  {
   "cell_type": "markdown",
   "id": "68d9e937",
   "metadata": {},
   "source": [
    "#### (모델적용) 로지스틱 회기 / LogisticRegression / 유방암 (breast_cancer)"
   ]
  },
  {
   "cell_type": "code",
   "execution_count": 26,
   "id": "295abab0",
   "metadata": {},
   "outputs": [
    {
     "name": "stdout",
     "output_type": "stream",
     "text": [
      "classifier\n",
      "              precision    recall  f1-score   support\n",
      "\n",
      "           0       0.95      0.97      0.96        39\n",
      "           1       0.99      0.97      0.98        75\n",
      "\n",
      "    accuracy                           0.97       114\n",
      "   macro avg       0.97      0.97      0.97       114\n",
      "weighted avg       0.97      0.97      0.97       114\n",
      "\n"
     ]
    }
   ],
   "source": [
    "logistic_model = LogisticRegression(max_iter=5000)\n",
    "logistic_model.fit(X_trainB, y_trainB)\n",
    "y_predB = logistic_model.predict(X_testB)\n",
    "\n",
    "print(logistic_model._estimator_type)\n",
    "print(classification_report(y_testB, y_predB))"
   ]
  },
  {
   "cell_type": "code",
   "execution_count": null,
   "id": "ee6e7237",
   "metadata": {},
   "outputs": [],
   "source": []
  }
 ],
 "metadata": {
  "kernelspec": {
   "display_name": "Python 3 (ipykernel)",
   "language": "python",
   "name": "python3"
  },
  "language_info": {
   "codemirror_mode": {
    "name": "ipython",
    "version": 3
   },
   "file_extension": ".py",
   "mimetype": "text/x-python",
   "name": "python",
   "nbconvert_exporter": "python",
   "pygments_lexer": "ipython3",
   "version": "3.9.7"
  }
 },
 "nbformat": 4,
 "nbformat_minor": 5
}
