{
 "cells": [
  {
   "cell_type": "markdown",
   "id": "b98b404f",
   "metadata": {},
   "source": [
    "# EXPLORATION 2: IRIS"
   ]
  },
  {
   "cell_type": "markdown",
   "id": "6e56d7e2",
   "metadata": {},
   "source": [
    "## <span style=\"color:blue\">손글씨 분류, 와인 분류, 유방암 진단 </span>"
   ]
  },
  {
   "cell_type": "markdown",
   "id": "cdd2243e",
   "metadata": {},
   "source": [
    "#### 패키지 import"
   ]
  },
  {
   "cell_type": "code",
   "execution_count": 16,
   "id": "7a8d18ae",
   "metadata": {},
   "outputs": [],
   "source": [
    "from sklearn.datasets import load_digits\n",
    "from sklearn.datasets import load_wine\n",
    "from sklearn.datasets import load_breast_cancer\n",
    "\n",
    "from sklearn.model_selection import train_test_split\n",
    "from sklearn.metrics import classification_report\n",
    "\n",
    "from sklearn.tree import DecisionTreeClassifier\n",
    "from sklearn.ensemble import RandomForestClassifier\n",
    "from sklearn import svm\n",
    "from sklearn.linear_model import SGDClassifier\n",
    "from sklearn.linear_model import LogisticRegression\n"
   ]
  },
  {
   "cell_type": "markdown",
   "id": "8ac28103",
   "metadata": {},
   "source": [
    "#### 데이터 로딩 / 손글씨 (digits)"
   ]
  },
  {
   "cell_type": "code",
   "execution_count": 9,
   "id": "b5806597",
   "metadata": {},
   "outputs": [],
   "source": [
    "digits = load_digits()\n",
    "digits_data = digits.data\n",
    "digits_label = digits.target"
   ]
  },
  {
   "cell_type": "markdown",
   "id": "7832cade",
   "metadata": {},
   "source": [
    "#### 데이터 로딩 / 와인 (wine)"
   ]
  },
  {
   "cell_type": "code",
   "execution_count": 10,
   "id": "3e04964c",
   "metadata": {},
   "outputs": [],
   "source": [
    "wine = load_wine()\n",
    "wine_data = wine.data\n",
    "wine_label = wine.target"
   ]
  },
  {
   "cell_type": "markdown",
   "id": "bebd92c2",
   "metadata": {},
   "source": [
    "#### 데이터 로딩 / 유방암 (breast cancer)"
   ]
  },
  {
   "cell_type": "code",
   "execution_count": 11,
   "id": "6cda3cad",
   "metadata": {},
   "outputs": [],
   "source": [
    "b_cancer = load_breast_cancer()\n",
    "b_cancer_data = b_cancer.data\n",
    "b_cancer_label = b_cancer.target"
   ]
  },
  {
   "cell_type": "markdown",
   "id": "f21de4ab",
   "metadata": {},
   "source": [
    "#### 훈련 데이터 셋 / 손글씨 (digits)"
   ]
  },
  {
   "cell_type": "code",
   "execution_count": 12,
   "id": "7e73fb90",
   "metadata": {},
   "outputs": [],
   "source": [
    "X_train, X_test, y_train, y_test = train_test_split(digits_data, \n",
    "                                                    digits_label, \n",
    "                                                    test_size=0.2, \n",
    "                                                    random_state=40)"
   ]
  },
  {
   "cell_type": "markdown",
   "id": "3ef955ae",
   "metadata": {},
   "source": [
    "#### 훈련 데이터 셋 / 와인 (wine)"
   ]
  },
  {
   "cell_type": "code",
   "execution_count": 13,
   "id": "d89c88ef",
   "metadata": {},
   "outputs": [],
   "source": [
    "X_trainW, X_testW, y_trainW, y_testW = train_test_split(wine_data, \n",
    "                                                        wine_label, \n",
    "                                                        test_size=0.2, \n",
    "                                                        random_state=40)"
   ]
  },
  {
   "cell_type": "markdown",
   "id": "c7944d54",
   "metadata": {},
   "source": [
    "#### 훈련 데이터 셋 / 유방암 (breast cancer)"
   ]
  },
  {
   "cell_type": "code",
   "execution_count": 14,
   "id": "fa13b317",
   "metadata": {},
   "outputs": [],
   "source": [
    "X_trainB, X_testB, y_trainB, y_testB = train_test_split(b_cancer_data, \n",
    "                                                        b_cancer_label, \n",
    "                                                        test_size=0.2, \n",
    "                                                        random_state=40)"
   ]
  },
  {
   "cell_type": "markdown",
   "id": "d585028d",
   "metadata": {},
   "source": [
    "# 손글씨 분류 (digits)"
   ]
  },
  {
   "cell_type": "markdown",
   "id": "95e0c387",
   "metadata": {},
   "source": [
    "#### (모델 적용) 의사결정 트리 / Decision Tree Classifier / 손글씨 (digits)"
   ]
  },
  {
   "cell_type": "code",
   "execution_count": 17,
   "id": "fab16c36",
   "metadata": {},
   "outputs": [
    {
     "name": "stdout",
     "output_type": "stream",
     "text": [
      "classifier\n",
      "              precision    recall  f1-score   support\n",
      "\n",
      "           0       0.97      1.00      0.98        30\n",
      "           1       0.77      0.72      0.75        47\n",
      "           2       0.81      0.79      0.80        38\n",
      "           3       0.74      0.68      0.71        34\n",
      "           4       0.90      0.92      0.91        38\n",
      "           5       0.83      0.86      0.84        28\n",
      "           6       0.97      0.97      0.97        34\n",
      "           7       0.81      0.86      0.83        35\n",
      "           8       0.76      0.72      0.74        36\n",
      "           9       0.73      0.80      0.76        40\n",
      "\n",
      "    accuracy                           0.82       360\n",
      "   macro avg       0.83      0.83      0.83       360\n",
      "weighted avg       0.82      0.82      0.82       360\n",
      "\n"
     ]
    }
   ],
   "source": [
    "decision_tree = DecisionTreeClassifier(random_state=40)\n",
    "decision_tree.fit(X_train, y_train)\n",
    "y_pred = decision_tree.predict(X_test)\n",
    "\n",
    "print(decision_tree._estimator_type)\n",
    "print(classification_report(y_test, y_pred))"
   ]
  },
  {
   "cell_type": "markdown",
   "id": "78180089",
   "metadata": {},
   "source": [
    "#### (모델 적용) 랜덤 포레스트 / Random Forest Classifier / 손글씨 (digits)"
   ]
  },
  {
   "cell_type": "code",
   "execution_count": 18,
   "id": "601cf09b",
   "metadata": {},
   "outputs": [
    {
     "name": "stdout",
     "output_type": "stream",
     "text": [
      "classifier\n",
      "              precision    recall  f1-score   support\n",
      "\n",
      "           0       0.97      1.00      0.98        30\n",
      "           1       0.96      1.00      0.98        47\n",
      "           2       1.00      0.97      0.99        38\n",
      "           3       0.97      1.00      0.99        34\n",
      "           4       0.97      0.97      0.97        38\n",
      "           5       0.96      0.96      0.96        28\n",
      "           6       1.00      0.97      0.99        34\n",
      "           7       0.95      1.00      0.97        35\n",
      "           8       0.97      0.94      0.96        36\n",
      "           9       1.00      0.93      0.96        40\n",
      "\n",
      "    accuracy                           0.97       360\n",
      "   macro avg       0.98      0.98      0.97       360\n",
      "weighted avg       0.98      0.97      0.97       360\n",
      "\n"
     ]
    }
   ],
   "source": [
    "random_forest = RandomForestClassifier(random_state=40)\n",
    "random_forest.fit(X_train, y_train)\n",
    "y_pred = random_forest.predict(X_test)\n",
    "\n",
    "print(random_forest._estimator_type)\n",
    "print(classification_report(y_test, y_pred))"
   ]
  },
  {
   "cell_type": "markdown",
   "id": "84c32abd",
   "metadata": {},
   "source": [
    "#### (모델적용) 서포트벡터 머신 / SVM / 손글씨 (digits)"
   ]
  },
  {
   "cell_type": "code",
   "execution_count": 10,
   "id": "658ef87f",
   "metadata": {},
   "outputs": [
    {
     "name": "stdout",
     "output_type": "stream",
     "text": [
      "classifier\n",
      "              precision    recall  f1-score   support\n",
      "\n",
      "           0       1.00      1.00      1.00        30\n",
      "           1       0.96      1.00      0.98        47\n",
      "           2       1.00      1.00      1.00        38\n",
      "           3       1.00      1.00      1.00        34\n",
      "           4       1.00      1.00      1.00        38\n",
      "           5       1.00      1.00      1.00        28\n",
      "           6       1.00      1.00      1.00        34\n",
      "           7       1.00      1.00      1.00        35\n",
      "           8       0.97      0.94      0.96        36\n",
      "           9       1.00      0.97      0.99        40\n",
      "\n",
      "    accuracy                           0.99       360\n",
      "   macro avg       0.99      0.99      0.99       360\n",
      "weighted avg       0.99      0.99      0.99       360\n",
      "\n"
     ]
    }
   ],
   "source": [
    "svm_model = svm.SVC()\n",
    "svm_model.fit(X_train, y_train)\n",
    "y_pred = svm_model.predict(X_test)\n",
    "\n",
    "print(svm_model._estimator_type)\n",
    "print(classification_report(y_test, y_pred))"
   ]
  },
  {
   "cell_type": "markdown",
   "id": "18b669f3",
   "metadata": {},
   "source": [
    "#### (모델적용) 확률 경사 하강법 / SGD Classifier / 손글씨 (digits)"
   ]
  },
  {
   "cell_type": "code",
   "execution_count": 11,
   "id": "dfc2d88c",
   "metadata": {},
   "outputs": [
    {
     "name": "stdout",
     "output_type": "stream",
     "text": [
      "classifier\n",
      "              precision    recall  f1-score   support\n",
      "\n",
      "           0       1.00      1.00      1.00        30\n",
      "           1       0.97      0.77      0.86        47\n",
      "           2       1.00      1.00      1.00        38\n",
      "           3       0.87      0.97      0.92        34\n",
      "           4       1.00      0.97      0.99        38\n",
      "           5       0.90      1.00      0.95        28\n",
      "           6       0.94      1.00      0.97        34\n",
      "           7       0.94      0.94      0.94        35\n",
      "           8       0.80      0.89      0.84        36\n",
      "           9       0.95      0.90      0.92        40\n",
      "\n",
      "    accuracy                           0.94       360\n",
      "   macro avg       0.94      0.94      0.94       360\n",
      "weighted avg       0.94      0.94      0.94       360\n",
      "\n"
     ]
    }
   ],
   "source": [
    "sgd_model = SGDClassifier()\n",
    "sgd_model.fit(X_train, y_train)\n",
    "y_pred = sgd_model.predict(X_test)\n",
    "\n",
    "print(sgd_model._estimator_type)\n",
    "print(classification_report(y_test, y_pred))"
   ]
  },
  {
   "cell_type": "markdown",
   "id": "f14229e6",
   "metadata": {},
   "source": [
    "#### (모델적용) 로지스틱 회기 / LogisticRegression / 손글씨 (digits)"
   ]
  },
  {
   "cell_type": "code",
   "execution_count": 12,
   "id": "8e3e80dd",
   "metadata": {},
   "outputs": [
    {
     "name": "stdout",
     "output_type": "stream",
     "text": [
      "classifier\n",
      "              precision    recall  f1-score   support\n",
      "\n",
      "           0       1.00      1.00      1.00        30\n",
      "           1       0.98      0.91      0.95        47\n",
      "           2       0.97      1.00      0.99        38\n",
      "           3       0.97      0.94      0.96        34\n",
      "           4       1.00      0.97      0.99        38\n",
      "           5       0.96      0.96      0.96        28\n",
      "           6       0.97      1.00      0.99        34\n",
      "           7       0.94      0.97      0.96        35\n",
      "           8       0.94      0.92      0.93        36\n",
      "           9       0.91      0.97      0.94        40\n",
      "\n",
      "    accuracy                           0.96       360\n",
      "   macro avg       0.97      0.97      0.97       360\n",
      "weighted avg       0.96      0.96      0.96       360\n",
      "\n"
     ]
    }
   ],
   "source": [
    "logistic_model = LogisticRegression(max_iter=5000)\n",
    "logistic_model.fit(X_train, y_train)\n",
    "y_pred = logistic_model.predict(X_test)\n",
    "\n",
    "print(logistic_model._estimator_type)\n",
    "print(classification_report(y_test, y_pred))"
   ]
  },
  {
   "cell_type": "markdown",
   "id": "179af9c8",
   "metadata": {},
   "source": [
    "## Digits Classification 결과 및 분석"
   ]
  },
  {
   "cell_type": "markdown",
   "id": "9e4dfe3a",
   "metadata": {},
   "source": [
    "### SVM으로 선택함"
   ]
  },
  {
   "attachments": {
    "digits.png": {
     "image/png": "[encoded data removed]"
    }
   },
   "cell_type": "markdown",
   "id": "4ce6054e",
   "metadata": {},
   "source": [
    "![digits.png](attachment:digits.png)"
   ]
  },
  {
   "cell_type": "markdown",
   "id": "4597199b",
   "metadata": {},
   "source": [
    "(1) Digits Classification의 경우 숫자가 참인 것을 참으로 판단해야 하는 케이스 이므로 Precision이 높게 나온 것을 선택해야 한다고 생각한다.  \n",
    "(2) 따라서 precision이 가장 높게 나온 SVM Classifier를 사용하는 것이 적절하다고 판단한다."
   ]
  },
  {
   "cell_type": "markdown",
   "id": "66ee0a93",
   "metadata": {},
   "source": [
    "# 와인분류 (wine)"
   ]
  },
  {
   "cell_type": "markdown",
   "id": "09ff3a2d",
   "metadata": {},
   "source": [
    "#### (모델 적용) 의사결정 트리 / Decision Tree Classifier / 와인분류 (wine)"
   ]
  },
  {
   "cell_type": "code",
   "execution_count": 13,
   "id": "3b254f5e",
   "metadata": {},
   "outputs": [
    {
     "name": "stdout",
     "output_type": "stream",
     "text": [
      "classifier\n",
      "              precision    recall  f1-score   support\n",
      "\n",
      "           0       0.92      1.00      0.96        12\n",
      "           1       0.91      0.91      0.91        11\n",
      "           2       1.00      0.92      0.96        13\n",
      "\n",
      "    accuracy                           0.94        36\n",
      "   macro avg       0.94      0.94      0.94        36\n",
      "weighted avg       0.95      0.94      0.94        36\n",
      "\n"
     ]
    }
   ],
   "source": [
    "decision_tree = DecisionTreeClassifier(random_state=30)\n",
    "decision_tree.fit(X_trainW, y_trainW)\n",
    "y_predW = decision_tree.predict(X_testW)\n",
    "\n",
    "print(decision_tree._estimator_type)\n",
    "print(classification_report(y_testW, y_predW))"
   ]
  },
  {
   "cell_type": "markdown",
   "id": "0084376e",
   "metadata": {},
   "source": [
    "#### (모델 적용) 랜덤 포레스트 / Random Forest Classifier / 와인분류 (wine)"
   ]
  },
  {
   "cell_type": "code",
   "execution_count": 14,
   "id": "985995c4",
   "metadata": {},
   "outputs": [
    {
     "name": "stdout",
     "output_type": "stream",
     "text": [
      "classifier\n",
      "              precision    recall  f1-score   support\n",
      "\n",
      "           0       1.00      1.00      1.00        12\n",
      "           1       1.00      1.00      1.00        11\n",
      "           2       1.00      1.00      1.00        13\n",
      "\n",
      "    accuracy                           1.00        36\n",
      "   macro avg       1.00      1.00      1.00        36\n",
      "weighted avg       1.00      1.00      1.00        36\n",
      "\n"
     ]
    }
   ],
   "source": [
    "random_forest = RandomForestClassifier(random_state=40)\n",
    "random_forest.fit(X_trainW, y_trainW)\n",
    "y_predW = random_forest.predict(X_testW)\n",
    "\n",
    "print(random_forest._estimator_type)\n",
    "print(classification_report(y_testW, y_predW))"
   ]
  },
  {
   "cell_type": "markdown",
   "id": "ef1b438f",
   "metadata": {},
   "source": [
    "#### (모델적용) 서포트벡터 머신 / SVM / 와인분류 (wine)"
   ]
  },
  {
   "cell_type": "code",
   "execution_count": 15,
   "id": "866733f4",
   "metadata": {},
   "outputs": [
    {
     "name": "stdout",
     "output_type": "stream",
     "text": [
      "classifier\n",
      "              precision    recall  f1-score   support\n",
      "\n",
      "           0       1.00      1.00      1.00        12\n",
      "           1       0.48      0.91      0.62        11\n",
      "           2       0.67      0.15      0.25        13\n",
      "\n",
      "    accuracy                           0.67        36\n",
      "   macro avg       0.71      0.69      0.62        36\n",
      "weighted avg       0.72      0.67      0.61        36\n",
      "\n"
     ]
    }
   ],
   "source": [
    "svm_model = svm.SVC()\n",
    "svm_model.fit(X_trainW, y_trainW)\n",
    "y_predW = svm_model.predict(X_testW)\n",
    "\n",
    "print(svm_model._estimator_type)\n",
    "print(classification_report(y_testW, y_predW))"
   ]
  },
  {
   "cell_type": "markdown",
   "id": "96da4262",
   "metadata": {},
   "source": [
    "#### (모델적용) 확률 경사 하강법 / SGD Classifier / 와인분류 (wine)"
   ]
  },
  {
   "cell_type": "code",
   "execution_count": 20,
   "id": "de4a6aa4",
   "metadata": {},
   "outputs": [
    {
     "name": "stdout",
     "output_type": "stream",
     "text": [
      "classifier\n",
      "              precision    recall  f1-score   support\n",
      "\n",
      "           0       0.75      1.00      0.86        12\n",
      "           1       0.53      0.82      0.64        11\n",
      "           2       1.00      0.23      0.38        13\n",
      "\n",
      "    accuracy                           0.67        36\n",
      "   macro avg       0.76      0.68      0.62        36\n",
      "weighted avg       0.77      0.67      0.62        36\n",
      "\n"
     ]
    }
   ],
   "source": [
    "sgd_model = SGDClassifier()\n",
    "sgd_model.fit(X_trainW, y_trainW)\n",
    "y_predW = sgd_model.predict(X_testW)\n",
    "\n",
    "print(sgd_model._estimator_type)\n",
    "print(classification_report(y_testW, y_predW))"
   ]
  },
  {
   "cell_type": "markdown",
   "id": "97340f29",
   "metadata": {},
   "source": [
    "#### (모델적용) 로지스틱 회기 / LogisticRegression / 와인분류 (wine)"
   ]
  },
  {
   "cell_type": "code",
   "execution_count": 21,
   "id": "662d4873",
   "metadata": {
    "scrolled": true
   },
   "outputs": [
    {
     "name": "stdout",
     "output_type": "stream",
     "text": [
      "classifier\n",
      "              precision    recall  f1-score   support\n",
      "\n",
      "           0       1.00      1.00      1.00        12\n",
      "           1       0.92      1.00      0.96        11\n",
      "           2       1.00      0.92      0.96        13\n",
      "\n",
      "    accuracy                           0.97        36\n",
      "   macro avg       0.97      0.97      0.97        36\n",
      "weighted avg       0.97      0.97      0.97        36\n",
      "\n"
     ]
    }
   ],
   "source": [
    "logistic_model = LogisticRegression(max_iter=5000)\n",
    "logistic_model.fit(X_trainW, y_trainW)\n",
    "y_predW = logistic_model.predict(X_testW)\n",
    "\n",
    "print(logistic_model._estimator_type)\n",
    "print(classification_report(y_testW, y_predW))"
   ]
  },
  {
   "cell_type": "markdown",
   "id": "5538d3be",
   "metadata": {},
   "source": [
    "## Wine Classification 결과 및 분석"
   ]
  },
  {
   "cell_type": "markdown",
   "id": "b9224a6d",
   "metadata": {},
   "source": [
    "### Random Forest 로 선택함"
   ]
  },
  {
   "attachments": {
    "wine.png": {
     "image/png": "[encoded data removed]"
    }
   },
   "cell_type": "markdown",
   "id": "c6543603",
   "metadata": {},
   "source": [
    "![wine.png](attachment:wine.png)"
   ]
  },
  {
   "cell_type": "markdown",
   "id": "5aaaa5a9",
   "metadata": {},
   "source": [
    "(1) wine classificatino의 경우 둘중 하나를 고르는 문제가 아닌 3종류의 와인을 분류하는 문제이다. 즉 어떤 종류의 와인인지 알아내야 하는 문제다.  \n",
    "(2) 따라서 Random Forest가 적절하며 정확도 또한 1.0으로 가장 적절한 선택이라고 생각한다."
   ]
  },
  {
   "cell_type": "markdown",
   "id": "30860716",
   "metadata": {},
   "source": [
    "# 유방암 진단 (breast_cancer)"
   ]
  },
  {
   "cell_type": "markdown",
   "id": "14defa96",
   "metadata": {},
   "source": [
    "#### (모델 적용) 의사결정 트리 / Decision Tree Classifier / 유방암 (breast_cancer)"
   ]
  },
  {
   "cell_type": "code",
   "execution_count": 22,
   "id": "52194a23",
   "metadata": {},
   "outputs": [
    {
     "name": "stdout",
     "output_type": "stream",
     "text": [
      "classifier\n",
      "              precision    recall  f1-score   support\n",
      "\n",
      "           0       0.88      0.95      0.91        39\n",
      "           1       0.97      0.93      0.95        75\n",
      "\n",
      "    accuracy                           0.94       114\n",
      "   macro avg       0.93      0.94      0.93       114\n",
      "weighted avg       0.94      0.94      0.94       114\n",
      "\n"
     ]
    }
   ],
   "source": [
    "decision_tree = DecisionTreeClassifier(random_state=30)\n",
    "decision_tree.fit(X_trainB, y_trainB)\n",
    "y_predB = decision_tree.predict(X_testB)\n",
    "\n",
    "print(decision_tree._estimator_type)\n",
    "print(classification_report(y_testB, y_predB))"
   ]
  },
  {
   "cell_type": "markdown",
   "id": "b4a68d8d",
   "metadata": {},
   "source": [
    "#### (모델 적용) 랜덤 포레스트 / Random Forest Classifier / 유방암 (breast_cancer)"
   ]
  },
  {
   "cell_type": "code",
   "execution_count": 23,
   "id": "6f2bd823",
   "metadata": {},
   "outputs": [
    {
     "name": "stdout",
     "output_type": "stream",
     "text": [
      "classifier\n",
      "              precision    recall  f1-score   support\n",
      "\n",
      "           0       0.90      0.97      0.94        39\n",
      "           1       0.99      0.95      0.97        75\n",
      "\n",
      "    accuracy                           0.96       114\n",
      "   macro avg       0.95      0.96      0.95       114\n",
      "weighted avg       0.96      0.96      0.96       114\n",
      "\n"
     ]
    }
   ],
   "source": [
    "random_forest = RandomForestClassifier(random_state=40)\n",
    "random_forest.fit(X_trainB, y_trainB)\n",
    "y_predB = random_forest.predict(X_testB)\n",
    "\n",
    "print(random_forest._estimator_type)\n",
    "print(classification_report(y_testB, y_predB))"
   ]
  },
  {
   "cell_type": "markdown",
   "id": "340c5746",
   "metadata": {},
   "source": [
    "#### (모델적용) 서포트벡터 머신 / SVM / 유방암 (breast_cancer)"
   ]
  },
  {
   "cell_type": "code",
   "execution_count": 24,
   "id": "967fdfe9",
   "metadata": {},
   "outputs": [
    {
     "name": "stdout",
     "output_type": "stream",
     "text": [
      "classifier\n",
      "              precision    recall  f1-score   support\n",
      "\n",
      "           0       0.92      0.87      0.89        39\n",
      "           1       0.94      0.96      0.95        75\n",
      "\n",
      "    accuracy                           0.93       114\n",
      "   macro avg       0.93      0.92      0.92       114\n",
      "weighted avg       0.93      0.93      0.93       114\n",
      "\n"
     ]
    }
   ],
   "source": [
    "svm_model = svm.SVC()\n",
    "svm_model.fit(X_trainB, y_trainB)\n",
    "y_predB = svm_model.predict(X_testB)\n",
    "\n",
    "print(svm_model._estimator_type)\n",
    "print(classification_report(y_testB, y_predB))"
   ]
  },
  {
   "cell_type": "markdown",
   "id": "5a529404",
   "metadata": {},
   "source": [
    "#### (모델적용) 확률 경사 하강법 / SGD Classifier / 유방암 (breast_cancer)"
   ]
  },
  {
   "cell_type": "code",
   "execution_count": 25,
   "id": "4d450995",
   "metadata": {},
   "outputs": [
    {
     "name": "stdout",
     "output_type": "stream",
     "text": [
      "classifier\n",
      "              precision    recall  f1-score   support\n",
      "\n",
      "           0       1.00      0.59      0.74        39\n",
      "           1       0.82      1.00      0.90        75\n",
      "\n",
      "    accuracy                           0.86       114\n",
      "   macro avg       0.91      0.79      0.82       114\n",
      "weighted avg       0.88      0.86      0.85       114\n",
      "\n"
     ]
    }
   ],
   "source": [
    "sgd_model = SGDClassifier()\n",
    "sgd_model.fit(X_trainB, y_trainB)\n",
    "y_predB = sgd_model.predict(X_testB)\n",
    "\n",
    "print(sgd_model._estimator_type)\n",
    "print(classification_report(y_testB, y_predB))"
   ]
  },
  {
   "cell_type": "markdown",
   "id": "79362c95",
   "metadata": {},
   "source": [
    "#### (모델적용) 로지스틱 회기 / LogisticRegression / 유방암 (breast_cancer)"
   ]
  },
  {
   "cell_type": "code",
   "execution_count": 26,
   "id": "b86d381f",
   "metadata": {},
   "outputs": [
    {
     "name": "stdout",
     "output_type": "stream",
     "text": [
      "classifier\n",
      "              precision    recall  f1-score   support\n",
      "\n",
      "           0       0.95      0.97      0.96        39\n",
      "           1       0.99      0.97      0.98        75\n",
      "\n",
      "    accuracy                           0.97       114\n",
      "   macro avg       0.97      0.97      0.97       114\n",
      "weighted avg       0.97      0.97      0.97       114\n",
      "\n"
     ]
    }
   ],
   "source": [
    "logistic_model = LogisticRegression(max_iter=5000)\n",
    "logistic_model.fit(X_trainB, y_trainB)\n",
    "y_predB = logistic_model.predict(X_testB)\n",
    "\n",
    "print(logistic_model._estimator_type)\n",
    "print(classification_report(y_testB, y_predB))"
   ]
  },
  {
   "cell_type": "code",
   "execution_count": null,
   "id": "956ef63d",
   "metadata": {},
   "outputs": [],
   "source": []
  },
  {
   "cell_type": "markdown",
   "id": "ecb5ffb8",
   "metadata": {},
   "source": [
    "## Breast Cancer Classification 결과 및 분석"
   ]
  },
  {
   "cell_type": "markdown",
   "id": "4f15503a",
   "metadata": {},
   "source": [
    "### LogisticRegression으로 선택함"
   ]
  },
  {
   "attachments": {
    "breast%20cancer.png": {
     "image/png": "[encoded data removed]"
    }
   },
   "cell_type": "markdown",
   "id": "e31adcd2",
   "metadata": {},
   "source": [
    "![breast%20cancer.png](attachment:breast%20cancer.png)"
   ]
  },
  {
   "cell_type": "markdown",
   "id": "9ca2fa98",
   "metadata": {},
   "source": [
    "(1) 유방암의 경우 병의 진단이다. 양성과 음성을 정확히 판단하는 것이 매우 중요한 문제이다. 또한 양성인데도 불구하고 음성으로 판단하는 FN 상황이 발생하면 안된다. Recall의 점수가 매우 중요하다고 판단된다.  \n",
    "(2) 따라서 Logistic Regression이 가장 적합하다고 판단된다. "
   ]
  },
  {
   "cell_type": "markdown",
   "id": "26804f60",
   "metadata": {},
   "source": [
    "## 회고 및 분석"
   ]
  },
  {
   "cell_type": "markdown",
   "id": "2edd60a2",
   "metadata": {},
   "source": [
    "사실 이번 프로젝트는 가위 바위 보 프로젝트에 비해서 크게 어려웠던 부분은 없었다. 코드의 이해도 쉬웠고 적용하기도 까다롭지 않았다. 다만 제시되었던 각 모델들의 이론적인 부분들에 대해서 어느정도는 이해 했지만 정확하게는 모르고 있기 때문에 해당 내용에 대한 추가적인 공부가 필요하다는 생각이다. 그리고 좀 더 많은 케이스에서 데이터를 다루고 실험해봐야 할것 같다. 데이터를 전처리 하는 부분도 굉장히 중요하기 때문에 해당 부분을 조금더 손에 익도록 연습할 필요가 있다고 생각한다."
   ]
  }
 ],
 "metadata": {
  "kernelspec": {
   "display_name": "Python 3 (ipykernel)",
   "language": "python",
   "name": "python3"
  },
  "language_info": {
   "codemirror_mode": {
    "name": "ipython",
    "version": 3
   },
   "file_extension": ".py",
   "mimetype": "text/x-python",
   "name": "python",
   "nbconvert_exporter": "python",
   "pygments_lexer": "ipython3",
   "version": "3.9.7"
  }
 },
 "nbformat": 4,
 "nbformat_minor": 5
}
