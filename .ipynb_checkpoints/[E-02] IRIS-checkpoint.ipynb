{
 "cells": [
  {
   "cell_type": "markdown",
   "id": "3f694531",
   "metadata": {},
   "source": [
    "## EXPLORATION 2: IRIS"
   ]
  },
  {
   "cell_type": "markdown",
   "id": "e14fe2d3",
   "metadata": {},
   "source": [
    "### project1 / project2 / project3"
   ]
  },
  {
   "cell_type": "markdown",
   "id": "2c9a2816",
   "metadata": {},
   "source": [
    "#### 패키지 import"
   ]
  },
  {
   "cell_type": "code",
   "execution_count": 1,
   "id": "c6a12c45",
   "metadata": {},
   "outputs": [],
   "source": [
    "from sklearn.datasets import load_digits              # 손글씨 데이터 로딩\n",
    "from sklearn.datasets import load_wine                # 와인데이터 로딩\n",
    "from sklearn.datasets import load_breast_cancer       # 유방암 데이터 로딩\n",
    "\n",
    "from sklearn.model_selection import train_test_split  # 데이터셋 분류\n",
    "\n",
    "from sklearn.tree import DecisionTreeClassifier       # 의사결정 트리\n",
    "from sklearn.ensemble import RandomForestClassifier   # 랜덤 포레스트\n",
    "from sklearn import svm                               # 서포트벡터 머신\n",
    "from sklearn.linear_model import SGDClassifier        # 확률적 경사하강법\n",
    "from sklearn.linear_model import LogisticRegression   # 로지스틱 회기\n",
    "\n",
    "from sklearn.metrics import classification_report     # 오차행렬 지표확인"
   ]
  },
  {
   "cell_type": "markdown",
   "id": "8ab22dd3",
   "metadata": {},
   "source": [
    "#### 데이터 로딩 / 손글씨 (digits)"
   ]
  },
  {
   "cell_type": "code",
   "execution_count": 2,
   "id": "c78bdf8b",
   "metadata": {},
   "outputs": [],
   "source": [
    "digits = load_digits()\n",
    "digits_data = digits.data\n",
    "digits_label = digits.target"
   ]
  },
  {
   "cell_type": "markdown",
   "id": "3ed0e731",
   "metadata": {},
   "source": [
    "#### 데이터 로딩 / 와인 (wine)"
   ]
  },
  {
   "cell_type": "code",
   "execution_count": 3,
   "id": "ea0c4b45",
   "metadata": {},
   "outputs": [],
   "source": [
    "wine = load_wine()\n",
    "wine_data = wine.data\n",
    "wine_label = wine.target"
   ]
  },
  {
   "cell_type": "markdown",
   "id": "b7d4bd36",
   "metadata": {},
   "source": [
    "#### 데이터 로딩 / 유방암 (breast cancer)"
   ]
  },
  {
   "cell_type": "code",
   "execution_count": 4,
   "id": "7bc4fca5",
   "metadata": {},
   "outputs": [],
   "source": [
    "b_cancer = load_breast_cancer()\n",
    "b_cancer_data = b_cancer.data\n",
    "b_cancer_label = b_cancer.target"
   ]
  },
  {
   "cell_type": "markdown",
   "id": "dbc0fe48",
   "metadata": {},
   "source": [
    "#### 훈련 데이터 셋 / 손글씨 (digits)"
   ]
  },
  {
   "cell_type": "code",
   "execution_count": 5,
   "id": "a26ee809",
   "metadata": {},
   "outputs": [],
   "source": [
    "X_train, X_test, y_train, y_test = train_test_split(digits_data, \n",
    "                                                    digits_label, \n",
    "                                                    test_size=0.2, \n",
    "                                                    random_state=40)"
   ]
  },
  {
   "cell_type": "markdown",
   "id": "47afed13",
   "metadata": {},
   "source": [
    "#### 훈련 데이터 셋 / 와인 (wine)"
   ]
  },
  {
   "cell_type": "code",
   "execution_count": 6,
   "id": "52ed325a",
   "metadata": {},
   "outputs": [],
   "source": [
    "X_trainW, X_testW, y_trainW, y_testW = train_test_split(wine_data, \n",
    "                                                        wine_label, \n",
    "                                                        test_size=0.2, \n",
    "                                                        random_state=40)"
   ]
  },
  {
   "cell_type": "markdown",
   "id": "d6ada664",
   "metadata": {},
   "source": [
    "#### 훈련 데이터 셋 / 유방암 (breast cancer)"
   ]
  },
  {
   "cell_type": "code",
   "execution_count": 7,
   "id": "9a1d6499",
   "metadata": {},
   "outputs": [],
   "source": [
    "X_trainB, X_testB, y_trainB, y_testB = train_test_split(b_cancer_data, \n",
    "                                                        b_cancer_label, \n",
    "                                                        test_size=0.2, \n",
    "                                                        random_state=40)"
   ]
  },
  {
   "cell_type": "markdown",
   "id": "489591e8",
   "metadata": {},
   "source": [
    "# 손글씨 분류 (digits)"
   ]
  },
  {
   "cell_type": "markdown",
   "id": "7e9932aa",
   "metadata": {},
   "source": [
    "#### (모델 적용) 의사결정 트리 / Decision Tree Classifier / 손글씨 (digits)"
   ]
  },
  {
   "cell_type": "code",
   "execution_count": 8,
   "id": "86744dc7",
   "metadata": {},
   "outputs": [
    {
     "name": "stdout",
     "output_type": "stream",
     "text": [
      "classifier\n",
      "              precision    recall  f1-score   support\n",
      "\n",
      "           0       0.97      1.00      0.98        30\n",
      "           1       0.77      0.72      0.75        47\n",
      "           2       0.81      0.79      0.80        38\n",
      "           3       0.74      0.68      0.71        34\n",
      "           4       0.90      0.92      0.91        38\n",
      "           5       0.83      0.86      0.84        28\n",
      "           6       0.97      0.97      0.97        34\n",
      "           7       0.81      0.86      0.83        35\n",
      "           8       0.76      0.72      0.74        36\n",
      "           9       0.73      0.80      0.76        40\n",
      "\n",
      "    accuracy                           0.82       360\n",
      "   macro avg       0.83      0.83      0.83       360\n",
      "weighted avg       0.82      0.82      0.82       360\n",
      "\n"
     ]
    }
   ],
   "source": [
    "decision_tree = DecisionTreeClassifier(random_state=40)\n",
    "decision_tree.fit(X_train, y_train)\n",
    "y_pred = decision_tree.predict(X_test)\n",
    "\n",
    "print(decision_tree._estimator_type)\n",
    "print(classification_report(y_test, y_pred))"
   ]
  },
  {
   "cell_type": "markdown",
   "id": "259fc288",
   "metadata": {},
   "source": [
    "#### (모델 적용) 랜덤 포레스트 / Random Forest Classifier / 손글씨 (digits)"
   ]
  },
  {
   "cell_type": "code",
   "execution_count": 9,
   "id": "0147ff15",
   "metadata": {},
   "outputs": [
    {
     "name": "stdout",
     "output_type": "stream",
     "text": [
      "classifier\n",
      "              precision    recall  f1-score   support\n",
      "\n",
      "           0       0.97      1.00      0.98        30\n",
      "           1       0.96      1.00      0.98        47\n",
      "           2       1.00      0.97      0.99        38\n",
      "           3       0.97      1.00      0.99        34\n",
      "           4       0.97      0.97      0.97        38\n",
      "           5       0.96      0.96      0.96        28\n",
      "           6       1.00      0.97      0.99        34\n",
      "           7       0.95      1.00      0.97        35\n",
      "           8       0.97      0.94      0.96        36\n",
      "           9       1.00      0.93      0.96        40\n",
      "\n",
      "    accuracy                           0.97       360\n",
      "   macro avg       0.98      0.98      0.97       360\n",
      "weighted avg       0.98      0.97      0.97       360\n",
      "\n"
     ]
    }
   ],
   "source": [
    "random_forest = RandomForestClassifier(random_state=40)\n",
    "random_forest.fit(X_train, y_train)\n",
    "y_pred = random_forest.predict(X_test)\n",
    "\n",
    "print(random_forest._estimator_type)\n",
    "print(classification_report(y_test, y_pred))"
   ]
  },
  {
   "cell_type": "markdown",
   "id": "70aef6b9",
   "metadata": {},
   "source": [
    "#### (모델적용) 서포트벡터 머신 / SVM / 손글씨 (digits)"
   ]
  },
  {
   "cell_type": "code",
   "execution_count": 10,
   "id": "cafefc22",
   "metadata": {},
   "outputs": [
    {
     "name": "stdout",
     "output_type": "stream",
     "text": [
      "classifier\n",
      "              precision    recall  f1-score   support\n",
      "\n",
      "           0       1.00      1.00      1.00        30\n",
      "           1       0.96      1.00      0.98        47\n",
      "           2       1.00      1.00      1.00        38\n",
      "           3       1.00      1.00      1.00        34\n",
      "           4       1.00      1.00      1.00        38\n",
      "           5       1.00      1.00      1.00        28\n",
      "           6       1.00      1.00      1.00        34\n",
      "           7       1.00      1.00      1.00        35\n",
      "           8       0.97      0.94      0.96        36\n",
      "           9       1.00      0.97      0.99        40\n",
      "\n",
      "    accuracy                           0.99       360\n",
      "   macro avg       0.99      0.99      0.99       360\n",
      "weighted avg       0.99      0.99      0.99       360\n",
      "\n"
     ]
    }
   ],
   "source": [
    "svm_model = svm.SVC()\n",
    "svm_model.fit(X_train, y_train)\n",
    "y_pred = svm_model.predict(X_test)\n",
    "\n",
    "print(svm_model._estimator_type)\n",
    "print(classification_report(y_test, y_pred))"
   ]
  },
  {
   "cell_type": "markdown",
   "id": "e32ed09b",
   "metadata": {},
   "source": [
    "#### (모델적용) 확률 경사 하강법 / SGD Classifier / 손글씨 (digits)"
   ]
  },
  {
   "cell_type": "code",
   "execution_count": 11,
   "id": "65dcf44e",
   "metadata": {},
   "outputs": [
    {
     "name": "stdout",
     "output_type": "stream",
     "text": [
      "classifier\n",
      "              precision    recall  f1-score   support\n",
      "\n",
      "           0       1.00      1.00      1.00        30\n",
      "           1       0.97      0.77      0.86        47\n",
      "           2       1.00      1.00      1.00        38\n",
      "           3       0.87      0.97      0.92        34\n",
      "           4       1.00      0.97      0.99        38\n",
      "           5       0.90      1.00      0.95        28\n",
      "           6       0.94      1.00      0.97        34\n",
      "           7       0.94      0.94      0.94        35\n",
      "           8       0.80      0.89      0.84        36\n",
      "           9       0.95      0.90      0.92        40\n",
      "\n",
      "    accuracy                           0.94       360\n",
      "   macro avg       0.94      0.94      0.94       360\n",
      "weighted avg       0.94      0.94      0.94       360\n",
      "\n"
     ]
    }
   ],
   "source": [
    "sgd_model = SGDClassifier()\n",
    "sgd_model.fit(X_train, y_train)\n",
    "y_pred = sgd_model.predict(X_test)\n",
    "\n",
    "print(sgd_model._estimator_type)\n",
    "print(classification_report(y_test, y_pred))"
   ]
  },
  {
   "cell_type": "markdown",
   "id": "6c5a3837",
   "metadata": {},
   "source": [
    "#### (모델적용) 로지스틱 회기 / LogisticRegression / 손글씨 (digits)"
   ]
  },
  {
   "cell_type": "code",
   "execution_count": 12,
   "id": "3f2ae2f0",
   "metadata": {},
   "outputs": [
    {
     "name": "stdout",
     "output_type": "stream",
     "text": [
      "classifier\n",
      "              precision    recall  f1-score   support\n",
      "\n",
      "           0       1.00      1.00      1.00        30\n",
      "           1       0.98      0.91      0.95        47\n",
      "           2       0.97      1.00      0.99        38\n",
      "           3       0.97      0.94      0.96        34\n",
      "           4       1.00      0.97      0.99        38\n",
      "           5       0.96      0.96      0.96        28\n",
      "           6       0.97      1.00      0.99        34\n",
      "           7       0.94      0.97      0.96        35\n",
      "           8       0.94      0.92      0.93        36\n",
      "           9       0.91      0.97      0.94        40\n",
      "\n",
      "    accuracy                           0.96       360\n",
      "   macro avg       0.97      0.97      0.97       360\n",
      "weighted avg       0.96      0.96      0.96       360\n",
      "\n"
     ]
    }
   ],
   "source": [
    "logistic_model = LogisticRegression(max_iter=5000)\n",
    "logistic_model.fit(X_train, y_train)\n",
    "y_pred = logistic_model.predict(X_test)\n",
    "\n",
    "print(logistic_model._estimator_type)\n",
    "print(classification_report(y_test, y_pred))"
   ]
  },
  {
   "cell_type": "markdown",
   "id": "a7a694f4",
   "metadata": {},
   "source": [
    "# 와인분류 (wine)"
   ]
  },
  {
   "cell_type": "markdown",
   "id": "b174a122",
   "metadata": {},
   "source": [
    "#### (모델 적용) 의사결정 트리 / Decision Tree Classifier / 와인분류 (wine)"
   ]
  },
  {
   "cell_type": "code",
   "execution_count": 13,
   "id": "4b92f70f",
   "metadata": {},
   "outputs": [
    {
     "name": "stdout",
     "output_type": "stream",
     "text": [
      "classifier\n",
      "              precision    recall  f1-score   support\n",
      "\n",
      "           0       0.92      1.00      0.96        12\n",
      "           1       0.91      0.91      0.91        11\n",
      "           2       1.00      0.92      0.96        13\n",
      "\n",
      "    accuracy                           0.94        36\n",
      "   macro avg       0.94      0.94      0.94        36\n",
      "weighted avg       0.95      0.94      0.94        36\n",
      "\n"
     ]
    }
   ],
   "source": [
    "decision_tree = DecisionTreeClassifier(random_state=30)\n",
    "decision_tree.fit(X_trainW, y_trainW)\n",
    "y_predW = decision_tree.predict(X_testW)\n",
    "\n",
    "print(decision_tree._estimator_type)\n",
    "print(classification_report(y_testW, y_predW))"
   ]
  },
  {
   "cell_type": "markdown",
   "id": "2de0ac68",
   "metadata": {},
   "source": [
    "#### (모델 적용) 랜덤 포레스트 / Random Forest Classifier / 와인분류 (wine)"
   ]
  },
  {
   "cell_type": "code",
   "execution_count": 14,
   "id": "780b0b17",
   "metadata": {},
   "outputs": [
    {
     "name": "stdout",
     "output_type": "stream",
     "text": [
      "classifier\n",
      "              precision    recall  f1-score   support\n",
      "\n",
      "           0       1.00      1.00      1.00        12\n",
      "           1       1.00      1.00      1.00        11\n",
      "           2       1.00      1.00      1.00        13\n",
      "\n",
      "    accuracy                           1.00        36\n",
      "   macro avg       1.00      1.00      1.00        36\n",
      "weighted avg       1.00      1.00      1.00        36\n",
      "\n"
     ]
    }
   ],
   "source": [
    "random_forest = RandomForestClassifier(random_state=40)\n",
    "random_forest.fit(X_trainW, y_trainW)\n",
    "y_predW = random_forest.predict(X_testW)\n",
    "\n",
    "print(random_forest._estimator_type)\n",
    "print(classification_report(y_testW, y_predW))"
   ]
  },
  {
   "cell_type": "markdown",
   "id": "f671ccd0",
   "metadata": {},
   "source": [
    "#### (모델적용) 서포트벡터 머신 / SVM / 와인분류 (wine)"
   ]
  },
  {
   "cell_type": "code",
   "execution_count": 15,
   "id": "c40705c5",
   "metadata": {},
   "outputs": [
    {
     "name": "stdout",
     "output_type": "stream",
     "text": [
      "classifier\n",
      "              precision    recall  f1-score   support\n",
      "\n",
      "           0       1.00      1.00      1.00        12\n",
      "           1       0.48      0.91      0.62        11\n",
      "           2       0.67      0.15      0.25        13\n",
      "\n",
      "    accuracy                           0.67        36\n",
      "   macro avg       0.71      0.69      0.62        36\n",
      "weighted avg       0.72      0.67      0.61        36\n",
      "\n"
     ]
    }
   ],
   "source": [
    "svm_model = svm.SVC()\n",
    "svm_model.fit(X_trainW, y_trainW)\n",
    "y_predW = svm_model.predict(X_testW)\n",
    "\n",
    "print(svm_model._estimator_type)\n",
    "print(classification_report(y_testW, y_predW))"
   ]
  },
  {
   "cell_type": "markdown",
   "id": "b7cc6a4e",
   "metadata": {},
   "source": [
    "#### (모델적용) 확률 경사 하강법 / SGD Classifier / 와인분류 (wine)"
   ]
  },
  {
   "cell_type": "code",
   "execution_count": 20,
   "id": "ad8af776",
   "metadata": {},
   "outputs": [
    {
     "name": "stdout",
     "output_type": "stream",
     "text": [
      "classifier\n",
      "              precision    recall  f1-score   support\n",
      "\n",
      "           0       0.75      1.00      0.86        12\n",
      "           1       0.53      0.82      0.64        11\n",
      "           2       1.00      0.23      0.38        13\n",
      "\n",
      "    accuracy                           0.67        36\n",
      "   macro avg       0.76      0.68      0.62        36\n",
      "weighted avg       0.77      0.67      0.62        36\n",
      "\n"
     ]
    }
   ],
   "source": [
    "sgd_model = SGDClassifier()\n",
    "sgd_model.fit(X_trainW, y_trainW)\n",
    "y_predW = sgd_model.predict(X_testW)\n",
    "\n",
    "print(sgd_model._estimator_type)\n",
    "print(classification_report(y_testW, y_predW))"
   ]
  },
  {
   "cell_type": "markdown",
   "id": "c8f2c572",
   "metadata": {},
   "source": [
    "#### (모델적용) 로지스틱 회기 / LogisticRegression / 와인분류 (wine)"
   ]
  },
  {
   "cell_type": "code",
   "execution_count": 21,
   "id": "23deb07c",
   "metadata": {},
   "outputs": [
    {
     "name": "stdout",
     "output_type": "stream",
     "text": [
      "classifier\n",
      "              precision    recall  f1-score   support\n",
      "\n",
      "           0       1.00      1.00      1.00        12\n",
      "           1       0.92      1.00      0.96        11\n",
      "           2       1.00      0.92      0.96        13\n",
      "\n",
      "    accuracy                           0.97        36\n",
      "   macro avg       0.97      0.97      0.97        36\n",
      "weighted avg       0.97      0.97      0.97        36\n",
      "\n"
     ]
    }
   ],
   "source": [
    "logistic_model = LogisticRegression(max_iter=5000)\n",
    "logistic_model.fit(X_trainW, y_trainW)\n",
    "y_predW = logistic_model.predict(X_testW)\n",
    "\n",
    "print(logistic_model._estimator_type)\n",
    "print(classification_report(y_testW, y_predW))"
   ]
  },
  {
   "cell_type": "markdown",
   "id": "f6dfcf17",
   "metadata": {},
   "source": [
    "# 유방암 진단 (breast_cancer)"
   ]
  },
  {
   "cell_type": "markdown",
   "id": "81c9c673",
   "metadata": {},
   "source": [
    "#### (모델 적용) 의사결정 트리 / Decision Tree Classifier / 유방암 (breast_cancer)"
   ]
  },
  {
   "cell_type": "code",
   "execution_count": 22,
   "id": "86c5e359",
   "metadata": {},
   "outputs": [
    {
     "name": "stdout",
     "output_type": "stream",
     "text": [
      "classifier\n",
      "              precision    recall  f1-score   support\n",
      "\n",
      "           0       0.88      0.95      0.91        39\n",
      "           1       0.97      0.93      0.95        75\n",
      "\n",
      "    accuracy                           0.94       114\n",
      "   macro avg       0.93      0.94      0.93       114\n",
      "weighted avg       0.94      0.94      0.94       114\n",
      "\n"
     ]
    }
   ],
   "source": [
    "decision_tree = DecisionTreeClassifier(random_state=30)\n",
    "decision_tree.fit(X_trainB, y_trainB)\n",
    "y_predB = decision_tree.predict(X_testB)\n",
    "\n",
    "print(decision_tree._estimator_type)\n",
    "print(classification_report(y_testB, y_predB))"
   ]
  },
  {
   "cell_type": "markdown",
   "id": "5cc53d07",
   "metadata": {},
   "source": [
    "#### (모델 적용) 랜덤 포레스트 / Random Forest Classifier / 유방암 (breast_cancer)"
   ]
  },
  {
   "cell_type": "code",
   "execution_count": 23,
   "id": "dc956282",
   "metadata": {},
   "outputs": [
    {
     "name": "stdout",
     "output_type": "stream",
     "text": [
      "classifier\n",
      "              precision    recall  f1-score   support\n",
      "\n",
      "           0       0.90      0.97      0.94        39\n",
      "           1       0.99      0.95      0.97        75\n",
      "\n",
      "    accuracy                           0.96       114\n",
      "   macro avg       0.95      0.96      0.95       114\n",
      "weighted avg       0.96      0.96      0.96       114\n",
      "\n"
     ]
    }
   ],
   "source": [
    "random_forest = RandomForestClassifier(random_state=40)\n",
    "random_forest.fit(X_trainB, y_trainB)\n",
    "y_predB = random_forest.predict(X_testB)\n",
    "\n",
    "print(random_forest._estimator_type)\n",
    "print(classification_report(y_testB, y_predB))"
   ]
  },
  {
   "cell_type": "markdown",
   "id": "29ff5bcd",
   "metadata": {},
   "source": [
    "#### (모델적용) 서포트벡터 머신 / SVM / 유방암 (breast_cancer)"
   ]
  },
  {
   "cell_type": "code",
   "execution_count": 24,
   "id": "7f5825c6",
   "metadata": {},
   "outputs": [
    {
     "name": "stdout",
     "output_type": "stream",
     "text": [
      "classifier\n",
      "              precision    recall  f1-score   support\n",
      "\n",
      "           0       0.92      0.87      0.89        39\n",
      "           1       0.94      0.96      0.95        75\n",
      "\n",
      "    accuracy                           0.93       114\n",
      "   macro avg       0.93      0.92      0.92       114\n",
      "weighted avg       0.93      0.93      0.93       114\n",
      "\n"
     ]
    }
   ],
   "source": [
    "svm_model = svm.SVC()\n",
    "svm_model.fit(X_trainB, y_trainB)\n",
    "y_predB = svm_model.predict(X_testB)\n",
    "\n",
    "print(svm_model._estimator_type)\n",
    "print(classification_report(y_testB, y_predB))"
   ]
  },
  {
   "cell_type": "markdown",
   "id": "27e7f991",
   "metadata": {},
   "source": [
    "#### (모델적용) 확률 경사 하강법 / SGD Classifier / 유방암 (breast_cancer)"
   ]
  },
  {
   "cell_type": "code",
   "execution_count": 25,
   "id": "71923b80",
   "metadata": {},
   "outputs": [
    {
     "name": "stdout",
     "output_type": "stream",
     "text": [
      "classifier\n",
      "              precision    recall  f1-score   support\n",
      "\n",
      "           0       1.00      0.59      0.74        39\n",
      "           1       0.82      1.00      0.90        75\n",
      "\n",
      "    accuracy                           0.86       114\n",
      "   macro avg       0.91      0.79      0.82       114\n",
      "weighted avg       0.88      0.86      0.85       114\n",
      "\n"
     ]
    }
   ],
   "source": [
    "sgd_model = SGDClassifier()\n",
    "sgd_model.fit(X_trainB, y_trainB)\n",
    "y_predB = sgd_model.predict(X_testB)\n",
    "\n",
    "print(sgd_model._estimator_type)\n",
    "print(classification_report(y_testB, y_predB))"
   ]
  },
  {
   "cell_type": "markdown",
   "id": "13868741",
   "metadata": {},
   "source": [
    "#### (모델적용) 로지스틱 회기 / LogisticRegression / 유방암 (breast_cancer)"
   ]
  },
  {
   "cell_type": "code",
   "execution_count": 26,
   "id": "66569106",
   "metadata": {},
   "outputs": [
    {
     "name": "stdout",
     "output_type": "stream",
     "text": [
      "classifier\n",
      "              precision    recall  f1-score   support\n",
      "\n",
      "           0       0.95      0.97      0.96        39\n",
      "           1       0.99      0.97      0.98        75\n",
      "\n",
      "    accuracy                           0.97       114\n",
      "   macro avg       0.97      0.97      0.97       114\n",
      "weighted avg       0.97      0.97      0.97       114\n",
      "\n"
     ]
    }
   ],
   "source": [
    "logistic_model = LogisticRegression(max_iter=5000)\n",
    "logistic_model.fit(X_trainB, y_trainB)\n",
    "y_predB = logistic_model.predict(X_testB)\n",
    "\n",
    "print(logistic_model._estimator_type)\n",
    "print(classification_report(y_testB, y_predB))"
   ]
  },
  {
   "cell_type": "code",
   "execution_count": null,
   "id": "b6fb2d9b",
   "metadata": {},
   "outputs": [],
   "source": []
  }
 ],
 "metadata": {
  "kernelspec": {
   "display_name": "Python 3 (ipykernel)",
   "language": "python",
   "name": "python3"
  },
  "language_info": {
   "codemirror_mode": {
    "name": "ipython",
    "version": 3
   },
   "file_extension": ".py",
   "mimetype": "text/x-python",
   "name": "python",
   "nbconvert_exporter": "python",
   "pygments_lexer": "ipython3",
   "version": "3.9.7"
  }
 },
 "nbformat": 4,
 "nbformat_minor": 5
}
