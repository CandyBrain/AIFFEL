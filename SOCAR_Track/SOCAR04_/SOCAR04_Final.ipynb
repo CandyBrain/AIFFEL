{
 "cells": [
  {
   "cell_type": "markdown",
   "id": "3c480170",
   "metadata": {},
   "source": [
    "# 4. 🚩 쏘카존(Socar Zone), 최적의 위치를 찾아라!"
   ]
  },
  {
   "cell_type": "markdown",
   "id": "aa93f907",
   "metadata": {},
   "source": [
    "## 회고 (일단 회고부터 )\n",
    "\n",
    "다음과 같이 자료조사를 진행하고 평가척도를 도출하여 강남구 내에 있는 쏘카존 일부에 대한 타당성 검토를 진행하려고 계획하였으나\n",
    "코로나에 확진되어 일주일이 통으로 날아가는 상황을 맞이하게 돼서 에초에 계획했던대로 완성시키지 못했다. 프로젝트 제출이 마감이 되더라도 지속적으로 진행해서 완성시켜 보려고 한다.  \n",
    "\n",
    "본 주제는 특별히 문제가 없다면 향후 해커톤의 주제로도 생각하고 있으며 '입지선정 추천 시스템'을 만들어 볼 의향이 있다. \n"
   ]
  },
  {
   "cell_type": "markdown",
   "id": "9a3b6fff",
   "metadata": {},
   "source": [
    "## 1. 문제정의\n",
    "\n",
    "본 노드에서 다루고자 하는 플랫폼은 SOCAR의 공유차량플랫폼이다. SOCAR의 공유차량 플랫폼은  CTS (Cloud Transportation System) 시스템으로 볼 수 있다. 따라서 이 프로젝트의 목적은 CTS 대여소의 입지선정에 관련되 문제로 정의 할 수 있다. 이를 위해서 CTS 시스템의 입지 선정방식을 알아 보고 이를 SOCAR ZONE의 입지선정에 적용하여 접근하는 방식을 사용할 것이다.\n",
    "\n",
    "\n",
    "\n",
    "## 2. 문헌 고찰 및 관련 자료 survey\n",
    "\n",
    "### (1) CTS (Cloud Transportation System)\n",
    "\n",
    "CTS는 클라우드 컴퓨팅의 개념을 바탕으로 자신의 현재 위치에서 하드웨어의 소유 유무와 관계없이 필요한 컴퓨팅이 수행 가능한 것과 유사하게 필요한 교통 수단과 정보를 언제 어디서나 이용할 수 있는 시스템이다. [1]\n",
    "\n",
    "### (2) 카쉐어링\n",
    "\n",
    "카쉐어링은 접근성이 용이하고 사용하기 편리한 차량을 단기간 렌트하여 사용하는 서비스이다. 본 서비스는 유럽에서 먼저 시작하였고 70,80년대에 시범적으로 시도 되고 90년대 상업적인 모습을 갖추어 나가기 시작하였다. 2006년 기준으로 18개국 600개 도시에서 35만명이 이용하고 있다. (Jang et al.,2008) \n",
    "\n",
    "SOCAR의 서비스와 비슷한 서비스로 미국에서 ZIP CAR가 있다. SOCAR와 마찬가지로 전용 주차면을 지역 곳곳에 설치하여 이용자가 주변에서 사용가능 차량을 검색하여 이용할 수 있는 시스템이다. 위치 정보기반으로 차량들을 관리하고 당초 대여한 장소에 반납해야 하는 시스템이다. ZIP Car는 한시간단위의 사용기준으로 짧은 시간동안 챠랑을 사용하고자 하지만 이를 위해 렌트카를 대여 하기는 애매한 사람들에게 활용도가 높다. [1]\n",
    "\n",
    "\n",
    "\n",
    "## 3. 연구 방법\n",
    "\n",
    "카쉐어링시 사용하는 교통수단은 차량, 자전거, 스쿠터등의 여러 형태가 될 수 있으며 SOCAR는 이중 차량을 사용한 사업을 진행중에 있다. 이동수단의 종류와 형태에 따라서도 CTS 대여소의 입지선정이 달라질 수 있다. 이번 프로젝트의 목적은 SOCAR의 공유차량용 SOCAR Zone의 입지 선정 문제이므로 이동수단의 형태를 차량으로 국한하여 결정하도록 한다. \n",
    "\n",
    "### (1) 입지선정\n",
    "\n",
    "입지선정의 여러사례에서 다음의 공통적인 방법을 확인할 수 있다. \n",
    "\n",
    "- 목적에 맞는 후보지를 선정하고 (후보존별 CTS 발생통행, 도착통행수요 추정)\n",
    "- 후보지에 맞는 평가척도를 설정\n",
    "- 설정된 각 평가척도를 이용, 후보지를 여러관점에서 정량적, 정성적으로 분석\n",
    "- 최종입지를 선정\n",
    "\n",
    "   \n",
    "\n",
    "최종입지선정을 위해서라면 입지후보 동을 정해 놓고 각 동별 CTS 발생통행 수요추정을 진행해야 하나. 본 프로젝트의 경우에는 최종입지의 선정이 아니라 현존 SOCAR Zone 에 대한 타당성 검토이므로 후보지역을 선정하기 위한 절차없이 진행하도록 한다. (차 후 추가 연구에서는 서울시의 각 동별 CTS 발생통행 수요추정을 진행하여 타당성 검토에 반영되어야 한다.)\n",
    "\n",
    " \n",
    "\n",
    "(1) 입지 적합성 판단을 위한 평가척도를 정하고 \n",
    "\n",
    "(2) 타겟 지역을 설정한 후 (강남구 지역 중 일부를 선정)\n",
    "\n",
    "(3) 해당 지역내의 일부 SOCAR Zone의 입지 타당성을 (1)에서 정한 평가척도를 기준으로 평가를 진행할 것이다. \n",
    "\n",
    "(4) 위에서 결정한 평가척도에 맞는 조건을 설정해서 해당 조건에 부합하는 곳을 지도에서 표시해 주는 알고리즘을 구현하려고 하였으나. 이것은 시간상 진행하지 못하였다. 추후 해커톤에서 해볼 만한 아이템이라고 생각된다. (입지선정 추천 시스템)\n",
    "\n",
    "### (2) 평가척도 설정\n",
    "\n",
    "가장 중요한 평가척도는 다음의 두가지로 선정하였다. \n",
    "\n",
    "- SOCAR Zone은 주변에 이용자가 밀집 되어 있어야 한다.\n",
    "- SOCAR Zone은 이용편의를 위해서 접근성이 좋아야 한다.\n",
    "\n",
    "참고문헌 [1]의 설문조사 결과는 도보 5분 거리내의 CTS를 이용하겠다는 의사가 가장 높았다.  \n",
    "도보 5분 거리는 약 400mm 정도 된다. 따라서 이 기준으로 주요 시설물과 입지 후보지와의 거리를 산정하여야 한다. \n",
    "\n",
    "이를 위해서는 \n",
    "\n",
    "- 후보지역의 도보 영향권 반경의 인구 밀집도의 정량화가 필요하며 \n",
    "- 주요 시설물들과 입지 후보지와의 거리를 산정해야 한다.\n",
    "\n",
    "\n",
    "버스정류장, 지하철 역사, 상권분포, 학교, 병의원 분포 등의 정보를 다음의 두가지로 확인 가능하도 록 시각화 한다.\n",
    "(1) 밀집도 히스토그램\n",
    "(2) 주요 시설물의 중심에서 400m 반경의 원을 그려 접근성을 표현한다. \n",
    "\n",
    "1차적으로 접근성에 대한 평가척도를 평가하고 \n",
    "2차적으로 이용자 밀집도의 정량화 방법에 대해서 survsy하고 해당 방법을 적용하여 평가척도를 만든다.\n",
    "\n",
    "\n",
    "이후 확정된 평가척도들에 의해서 기선정된 SOCAR Zone의 입지 타당성 검토를 진행한다. \n",
    "\n",
    "\n",
    "\n",
    "논문에 의하면 다음과 같은 사항들을 실제적으로 고려 한다.\n",
    "- 해당 존의 인구현황 (Total population in zone)\n",
    "- 백화점, 마트 현황 (Department store, Mart)\n",
    "- 노동자 (Workers)\n",
    "- 대학 현황 (University)\n",
    "- OD 트래픽 양 (OD traffic volume)\n",
    "- Train station, Airport\n",
    "\n",
    "(주) OD Traffic (Origin-Destination traffic): 출발지와 목적지간의 통행량으로 이것이 많으면 수요가 많을 것으로 예상 할 수 있다\n",
    "\n",
    "\n",
    "\n",
    "### Reference\n",
    "\n",
    "[1] 신민성, 배상훈 (2011), 이동수요 대응형 클라우드 교통시스템 공유차량 대여소 입지선정, Journal of Korean Society of Transportation. Vol.30, No.2, pp.29-42, April 2012"
   ]
  },
  {
   "cell_type": "markdown",
   "id": "ddb6b2cd",
   "metadata": {},
   "source": [
    " "
   ]
  },
  {
   "cell_type": "code",
   "execution_count": 5,
   "id": "aec13c2f",
   "metadata": {},
   "outputs": [],
   "source": [
    "# 모듈 임포트\n",
    "\n",
    "import requests\n",
    "import json\n",
    "import os\n",
    "import math\n",
    "import time\n",
    "import pandas as pd\n",
    "import numpy as np\n",
    "import geopandas as gpd\n",
    "import folium\n",
    "import matplotlib.pyplot as plt\n",
    "from haversine import haversine\n",
    "\n",
    "from shapely.geometry import mapping, shape, Point, Polygon, LineString\n",
    "from folium import plugins\n",
    "from folium.plugins import MarkerCluster, HeatMap"
   ]
  },
  {
   "cell_type": "code",
   "execution_count": 6,
   "id": "e1f1a1cb",
   "metadata": {},
   "outputs": [],
   "source": [
    "# API 데이터 준비\n",
    "consumer_key = 'f5c026be572942b990fe'       # 서비스ID\n",
    "consumer_secret =  'd5b0e5cb38d442f2b7cb'   # 보안Key\n",
    "KEY = \"466e554a4877656233396946554a6c\" # 서울 열린데이터 광장의 본인의 인증키"
   ]
  },
  {
   "cell_type": "code",
   "execution_count": 7,
   "id": "95db9d46",
   "metadata": {},
   "outputs": [],
   "source": [
    "# SGIS API를 사용하기 위해서 access token을 반환해주는 함수를 먼저 정의\n",
    "\n",
    "def get_access_token(consumer_key, consumer_secret) -> None:\n",
    "    temp_res = requests.get(\n",
    "        url=\"https://sgisapi.kostat.go.kr/OpenAPI3/auth/authentication.json\",\n",
    "        params={\n",
    "            \"consumer_key\": consumer_key,\n",
    "            \"consumer_secret\": consumer_secret\n",
    "        }\n",
    "    )\n",
    "\n",
    "    access_token = temp_res.json()[\"result\"][\"accessToken\"]\n",
    "  \n",
    "    return access_token"
   ]
  },
  {
   "cell_type": "markdown",
   "id": "98ec3a49",
   "metadata": {},
   "source": [
    "# 쏘카존 입지선정 평가지표를 위한 데이터 추출"
   ]
  },
  {
   "cell_type": "markdown",
   "id": "992353d0",
   "metadata": {},
   "source": [
    "### 1. 서울시 대학교 데이터 준비"
   ]
  },
  {
   "cell_type": "code",
   "execution_count": 8,
   "id": "0d54313f",
   "metadata": {},
   "outputs": [],
   "source": [
    "# 서울시 대학교 데이터 리스트 형태로 가지고 오는 함수\n",
    "\n",
    "def get_university_list() -> None:\n",
    "    url=\"http://openapi.seoul.go.kr:8088/5274694f4f6d6f6e33395743465a61/json/SebcCollegeInfoKor/1/1000/\"\n",
    "\n",
    "    temp_res = requests.get(\n",
    "        url=url,\n",
    "        headers={\n",
    "            \"Content-Type\": \"application/json; chearset=utf-8\"\n",
    "            },\n",
    "    )\n",
    "\n",
    "    temp_result_list = temp_res.json()[\"SebcCollegeInfoKor\"][\"row\"]\n",
    "\n",
    "    return temp_result_list"
   ]
  },
  {
   "cell_type": "code",
   "execution_count": 9,
   "id": "1cd861c6",
   "metadata": {
    "scrolled": false
   },
   "outputs": [],
   "source": [
    "# 대학교 데이터를 불러 오고 데이터 프레임으로 변환한다.\n",
    "temp_seoul_university_list = get_university_list()\n",
    "seoul_university_df = pd.DataFrame(temp_seoul_university_list)"
   ]
  },
  {
   "cell_type": "code",
   "execution_count": 10,
   "id": "d302a4ea",
   "metadata": {},
   "outputs": [],
   "source": [
    "# 현재 학교 운영상태 확인\n",
    "set(seoul_university_df[\"STATE\"].tolist())\n",
    "\n",
    "# 운영상태가 폐교가 아닌 학교만 필터링 (폐교는 제외한다)\n",
    "seoul_university_df = seoul_university_df[seoul_university_df[\"STATE\"]!=\"폐교\"]"
   ]
  },
  {
   "cell_type": "markdown",
   "id": "9eb11fbb",
   "metadata": {},
   "source": [
    "### 1. 결측치 발견 및 분석\n",
    "\n",
    "4-3. 서울시 대학교 데이터 수집 및 시각화 진행중 저희학교를 확인해 보려고 시각화된 지도를 검색하니 학교가 보이지 않았습니다. 그래서 **get_university_list** 를 확인했더니 학교 정보는 존재 하고 있는 것을 확인했습니다.\n",
    "\n",
    "문제에 대한 확인결과 주소를 통해서 위도 경도를 반환해주는 **get_adress_x_y()** 함수에 사용되는 **seoul_university_df[”ADD_KOR”]** 주소 형식에 문제가 있는 것으로 확인 되었습니다. 이는 서울시에서 제공되는 DB 데이터중 일부의 잘못된 주소형식에서 발생한 문제입니다.\n",
    "\n",
    "**‘서울시 대학 및 전문대학 DB 정보 (한국어)’**에서 제공되는 **성균관대학교**의 주소는 **‘서울 종로구 명륜동3가 성균관대학교’**로 되어 있습니다. \n",
    "\n",
    "하지만 **get_adress_x_y(\"서울 종로구 명륜동3가 성균관대학교\")**로 검색하면 에러를 발생시킵니다. 즉 API에서 위, 경도 값이 반환 되지 않습니다. 제공된 주소를 인식하지 못하는 문제입니다. \n",
    "\n",
    "하여 네이버 검색을 통하여 학교의 정식주소인 **‘서울특별시 종로구 명륜3가 53-21 성균관대학’**을 사용해서 검색하면 `('955143.800232935', '1954496.2130709')` 의 좌표를 반환합니다. \n",
    "\n",
    "전체 데이터에서 이러한 문제로 위 경도가 표시되지 않는 대학은 다음의 27개 입니다.  이는 결측치로 판단하고 수정해야 하는 상황으로 생각됩니다. 총 62개의 대학중 27개 정도의 위, 경도 결측 데이터는 전체 데이터의 **43% 정도**를 차지하고 이는 결과에 영향을 미칠 수 있다고 판단됩니다. \n",
    "\n",
    "```\n",
    "1              서울여자간호대학교\n",
    "3                  서일대학교\n",
    "4                 성공회대학교\n",
    "5                 **성균관대학교**\n",
    "6                성신여자대학교\n",
    "7                  세종대학교\n",
    "11                 연세대학교\n",
    "17                 총신대학교\n",
    "19             한국방송통신대학교\n",
    "20               한국성서대학교\n",
    "21              한국예술종합학교\n",
    "23               한국체육대학교\n",
    "24    한국폴리텍 I 대학 서울강서캠퍼스\n",
    "26                 한성대학교\n",
    "33              감리교신학대학교\n",
    "34                 건국대학교\n",
    "36                 경희대학교\n",
    "37                 고려대학교\n",
    "39                 국민대학교\n",
    "41               그리스도대학교\n",
    "43                 동국대학교\n",
    "44               동덕여자대학교\n",
    "51           사이버한국외국어대학교\n",
    "53               삼육보건대학교\n",
    "54                 상명대학교\n",
    "55                 서강대학교\n",
    "56                 서경대학교\n",
    "```\n",
    "\n",
    "### 2. 결측치 수정\n",
    "\n",
    "**네이버 검색**을 사용하여 **해당 대학의 주소를 검색**하였고 해당 주소를 사용하여 **수정된 주소 csv 테이블**을 만들었습니다.\n",
    "\n",
    "기존의 **seoul_university_df** 데이터중 대학이름을 기준으로 삼고 잘못된 주소를 치환하는 방식으로 사용했습니다. \n",
    "\n",
    "\n",
    "#### **다음과 같은 방식으로 주소치환을 성공했습니다. 이제 정상적으로 위도, 경도가 생성됩니다.**\n",
    "\n",
    "```python\n",
    "for i in range(0,len(university_add_modi_df)):\n",
    "    # 테이블에 있는 대학이름과 같은 데이터를 찾아서 그 index를 반환한다.\n",
    "    tmp_index = seoul_university_df.index[seoul_university_df['NAME_KOR'] == university_add_modi_df.loc[i, 'NAME_KOR']].tolist()\n",
    "\n",
    "    # 반환한 인덱스를 사용하여 해당 인덱스의 'ADD_KOR'를 수정 테이블 csv의 'ADD_KOR'로 치환한다.\n",
    "    seoul_university_df.loc[tmp_index, \"ADD_KOR\"] = university_add_modi_df.loc[i, 'ADD_KOR']\n",
    "print('주소 치환 완료')\n",
    "```"
   ]
  },
  {
   "cell_type": "code",
   "execution_count": 11,
   "id": "da23ecf9",
   "metadata": {
    "scrolled": true
   },
   "outputs": [],
   "source": [
    "# 주소가 잘못된 대학들의 주소를 수정하기 위한 데이터 로드하고 치환한다\n",
    "\n",
    "path = './data/uni_modi.csv'\n",
    "university_add_modi_df = pd.read_csv(path)\n",
    "\n",
    "for i in range(0,len(university_add_modi_df)):\n",
    "    # 테이블에 있는 대학이름과 같은 데이터를 찾아서 그 index를 반환한다.\n",
    "    tmp_index = seoul_university_df.index[seoul_university_df['NAME_KOR'] == university_add_modi_df.loc[i, 'NAME_KOR']].tolist()\n",
    "\n",
    "    # 반환한 인덱스를 사용하여 해당 인덱스의 'ADD_KOR'를 수정 테이블 csv의 'ADD_KOR'로 치환한다.\n",
    "    seoul_university_df.loc[tmp_index, \"ADD_KOR\"] = university_add_modi_df.loc[i, 'ADD_KOR']"
   ]
  },
  {
   "cell_type": "code",
   "execution_count": 12,
   "id": "8ecfa753",
   "metadata": {},
   "outputs": [],
   "source": [
    "# 학교주소를 이용 위도와 경도 데이터를 새로운 컬럼을 추가\n",
    "# 주소를 입력해 주소의 위도, 경도를 가지고 오는 함수\n",
    "\n",
    "def get_adress_x_y(address) -> None:\n",
    "    # SGIS access_token 가져오기\n",
    "    access_token = get_access_token(consumer_key , consumer_secret)\n",
    "    url=\"https://sgisapi.kostat.go.kr/OpenAPI3/addr/geocode.json\"\n",
    "    params={\n",
    "        \"accessToken\": access_token,\n",
    "        \"address\": address\n",
    "    }\n",
    "\n",
    "    temp_res = requests.get(\n",
    "        url=url,\n",
    "        params=params\n",
    "    ).json()[\"result\"][\"resultdata\"]\n",
    "\n",
    "    return temp_res[0][\"x\"], temp_res[0][\"y\"]"
   ]
  },
  {
   "cell_type": "code",
   "execution_count": 13,
   "id": "6fa2c245",
   "metadata": {
    "scrolled": false
   },
   "outputs": [],
   "source": [
    "# 위, 경도 정보 가져와서 seoul_university_df에 추가\n",
    "\n",
    "for _, row in seoul_university_df.iterrows():\n",
    "    try:\n",
    "        x, y = get_adress_x_y(row[\"ADD_KOR\"])\n",
    "    \n",
    "        seoul_university_df.loc[_, \"x\"] = x\n",
    "        seoul_university_df.loc[_, \"y\"] = y\n",
    "    except:\n",
    "        pass"
   ]
  },
  {
   "cell_type": "code",
   "execution_count": 14,
   "id": "dd416151",
   "metadata": {},
   "outputs": [],
   "source": [
    "# SGIS 좌표변환 API를 활용한 좌표변환 함수\n",
    "\n",
    "def get_transcoord(src, dst, posX, posY) -> None:\n",
    "    access_token = get_access_token(consumer_key, consumer_secret)\n",
    "    url=\"https://sgisapi.kostat.go.kr/OpenAPI3/transformation/transcoord.json\"\n",
    "    params={\n",
    "        \"accessToken\": access_token,\n",
    "        \"src\": src, # 현재 좌표체계\n",
    "        \"dst\": dst, # 변환할 좌표체계\n",
    "        \"posX\": posX, # 변환할 좌표 X값\n",
    "        \"posY\":\tposY # 변환할 좌표 Y값\n",
    "    }\n",
    "\n",
    "    temp_dict = requests.get(\n",
    "        url=url,\n",
    "        params=params\n",
    "    ).json()[\"result\"]\n",
    "\n",
    "    return temp_dict[\"posX\"], temp_dict[\"posY\"] # 변환된 좌표값 딕셔너리의 value 리턴"
   ]
  },
  {
   "cell_type": "code",
   "execution_count": 15,
   "id": "32e990e3",
   "metadata": {},
   "outputs": [],
   "source": [
    "# UTM-K이므로 WSG84좌표계로 변환\n",
    "\n",
    "for _, row in seoul_university_df.iterrows():\n",
    "    try:\n",
    "        x, y = get_transcoord(\"EPSG:5179\", \"EPSG:4326\", row[\"x\"], row[\"y\"])\n",
    "    \n",
    "        seoul_university_df.loc[_, \"lng\"] = x\n",
    "        seoul_university_df.loc[_, \"lat\"] = y\n",
    "\n",
    "    except:\n",
    "        pass"
   ]
  },
  {
   "cell_type": "markdown",
   "id": "5973b4c3",
   "metadata": {},
   "source": [
    "## 2. 서울시 버스노선 데이터 준비"
   ]
  },
  {
   "cell_type": "code",
   "execution_count": 16,
   "id": "c2c4584b",
   "metadata": {},
   "outputs": [],
   "source": [
    "# 버스노선 정보 csv 파일을 DataFrame으로 읽어오기\n",
    "\n",
    "path = './data/20190124_seoul_bus.csv'\n",
    "bus_line_info_df = pd.read_csv(path)"
   ]
  },
  {
   "cell_type": "code",
   "execution_count": 17,
   "id": "cc8e9e1a",
   "metadata": {},
   "outputs": [],
   "source": [
    "# 컬럼명 변경\n",
    "bus_line_info_df.rename(\n",
    "    columns={\n",
    "        \"Y좌표\": \"lat\",\n",
    "        \"X좌표\": \"lng\",\n",
    "    },\n",
    "    inplace=True\n",
    ")"
   ]
  },
  {
   "cell_type": "markdown",
   "id": "66203700",
   "metadata": {},
   "source": [
    "## 3. 서울시 지하철역 데이터 준비"
   ]
  },
  {
   "cell_type": "code",
   "execution_count": 18,
   "id": "40504d8b",
   "metadata": {},
   "outputs": [],
   "source": [
    "### 전국도시철도역사정보표준데이터 가져오기\n",
    "subway_station_info_df = pd.read_csv(\"./data/train_station_info.csv\", encoding=\"cp949\")"
   ]
  },
  {
   "cell_type": "code",
   "execution_count": 19,
   "id": "5edd8186",
   "metadata": {},
   "outputs": [],
   "source": [
    "## 위도(lat), 경도(lng)의 데이터 타입을 float으로 변경하기\n",
    "subway_station_info_df[\"역위도\"] = subway_station_info_df[\"역위도\"].astype(float)\n",
    "subway_station_info_df[\"역경도\"] = subway_station_info_df[\"역경도\"].astype(float)"
   ]
  },
  {
   "cell_type": "code",
   "execution_count": 20,
   "id": "0e88a4e3",
   "metadata": {},
   "outputs": [],
   "source": [
    "# 컬럼명 변경\n",
    "subway_station_info_df.rename(\n",
    "    columns={\n",
    "        \"역위도\": \"lat\",\n",
    "        \"역경도\": \"lng\",\n",
    "    },\n",
    "    inplace=True\n",
    ")"
   ]
  },
  {
   "cell_type": "markdown",
   "id": "9e124e10",
   "metadata": {},
   "source": [
    "## 4. 서울시 상권 데이터 준비"
   ]
  },
  {
   "cell_type": "code",
   "execution_count": 21,
   "id": "b7855fcd",
   "metadata": {},
   "outputs": [],
   "source": [
    "# 서울시 상가 데이터 로딩\n",
    "\n",
    "seoul_store_df = pd.read_csv('./data/seoul_store_info_202106.csv')"
   ]
  },
  {
   "cell_type": "code",
   "execution_count": 22,
   "id": "e73d4ad0",
   "metadata": {},
   "outputs": [],
   "source": [
    "# 컬럼명 변경\n",
    "seoul_store_df.rename(\n",
    "    columns={\n",
    "        \"위도\": \"lat\",\n",
    "        \"경도\": \"lng\",\n",
    "    },\n",
    "    inplace=True\n",
    ")"
   ]
  },
  {
   "cell_type": "code",
   "execution_count": 160,
   "id": "2d9f5d06",
   "metadata": {
    "scrolled": false
   },
   "outputs": [],
   "source": [
    "# 우리는 카페 정보를 알고 싶기 때문에 데이터 프레임에서 상권업종소분류코드 컬럼에서 'Q12A01'만 필터링한다. \n",
    "# Q12A01는 커피점/카페 분류코드입니다. 상가정보업종 코드는 소상공인시장진흥공단_상가(상권)정보 업종코드 을 참고\n",
    "seoul_store_df = seoul_store_df[seoul_store_df[\"상권업종소분류코드\"] == \"Q12A01\"]"
   ]
  },
  {
   "cell_type": "code",
   "execution_count": null,
   "id": "9d78ab33",
   "metadata": {},
   "outputs": [],
   "source": [
    "# 위 데이터에서 위도, 경도의 자료형이 float인지 확인해 본다. 만약 아니라면 변경해준다.\n",
    "seoul_store_df.info()"
   ]
  },
  {
   "cell_type": "markdown",
   "id": "ca518408",
   "metadata": {},
   "source": [
    "## 5. 서울시 쏘카존 데이터 준비"
   ]
  },
  {
   "cell_type": "code",
   "execution_count": 23,
   "id": "dfd992e4",
   "metadata": {},
   "outputs": [],
   "source": [
    "# 데이터 읽기\n",
    "\n",
    "path = './data/20210823_socar_zone.csv'\n",
    "\n",
    "socar_zone_info_df = pd.read_csv(path)"
   ]
  },
  {
   "cell_type": "markdown",
   "id": "eadb0d26",
   "metadata": {},
   "source": [
    "## 6. 평가지표 데이터 통합 시각화\n",
    "분석을 위해서 준비 된 평가지표 데이터들을 통합적으로 시각화 한다."
   ]
  },
  {
   "cell_type": "markdown",
   "id": "17a6b7e2",
   "metadata": {},
   "source": [
    "### 맵 초기화 및 레이어/그룹 세팅"
   ]
  },
  {
   "cell_type": "code",
   "execution_count": 35,
   "id": "1ee719fb",
   "metadata": {},
   "outputs": [],
   "source": [
    "# Folium 초기 Map 객체 생성 \n",
    "\n",
    "# 서울시 중심부 위도, 경도\n",
    "center = [37.541, 126.986]\n",
    "\n",
    "m_total = folium.Map(\n",
    "    location=center,\n",
    "    #tiles= \"Stamen Terrain\",\n",
    "    zoom_start= 12\n",
    ")"
   ]
  },
  {
   "cell_type": "code",
   "execution_count": 36,
   "id": "64cced3d",
   "metadata": {},
   "outputs": [
    {
     "data": {
      "text/plain": [
       "<folium.map.LayerControl at 0x1a3af4f55e0>"
      ]
     },
     "execution_count": 36,
     "metadata": {},
     "output_type": "execute_result"
    }
   ],
   "source": [
    "# 레이어 적용을 위한 그룹 만들기\n",
    "\n",
    "# 대표 그룹 만들기\n",
    "fg = folium.FeatureGroup(name=\"groups\")\n",
    "m_total.add_child(fg)\n",
    "\n",
    "# socar_zone 그룹만들기 \n",
    "g_socar = plugins.FeatureGroupSubGroup(fg, \"socar_zone\")\n",
    "m_total.add_child(g_socar)\n",
    "\n",
    "# 버스정류장 그룹 만들기\n",
    "g_bus = plugins.FeatureGroupSubGroup(fg, \"bus_station\")\n",
    "m_total.add_child(g_bus)\n",
    "\n",
    "# 지하철 역사 그룹 만들기\n",
    "g_subway = plugins.FeatureGroupSubGroup(fg, \"subway\")\n",
    "m_total.add_child(g_subway)\n",
    "\n",
    "# 대학 그룹 만들기\n",
    "g_univ = plugins.FeatureGroupSubGroup(fg, \"university\")\n",
    "m_total.add_child(g_univ)\n",
    "\n",
    "# 상권 그룹만들기 \n",
    "g_store = plugins.FeatureGroupSubGroup(fg, \"store\")\n",
    "m_total.add_child(g_store)\n",
    "\n",
    "# 레이어 콘트롤 박스 만들기\n",
    "folium.LayerControl(collapsed=False).add_to(m_total)"
   ]
  },
  {
   "cell_type": "markdown",
   "id": "801a6fcb",
   "metadata": {},
   "source": [
    "### (1) 서울시 대학"
   ]
  },
  {
   "cell_type": "code",
   "execution_count": 37,
   "id": "0826fd1b",
   "metadata": {},
   "outputs": [],
   "source": [
    "# 대학 이름, 위도, 경도를 가져와 시각화\n",
    "for _, row in seoul_university_df.iterrows():\n",
    "    folium.Circle(\n",
    "        location=[row[\"lat\"], row[\"lng\"]], # 좌표\n",
    "        radius=400,\n",
    "        color='green',\n",
    "        fill_color=\"green\",\n",
    "        popup=row[\"NAME_KOR\"], # 클릭시 표시될 popup 내용\n",
    "        icon=folium.Icon(color=\"cadetblue\", icon=\"info-sign\") # 표시될 아이콘 설정\n",
    "    ).add_to(g_univ)"
   ]
  },
  {
   "cell_type": "markdown",
   "id": "71a53e8d",
   "metadata": {},
   "source": [
    "### (2) 서울시 지하철"
   ]
  },
  {
   "cell_type": "code",
   "execution_count": 38,
   "id": "2b958936",
   "metadata": {
    "scrolled": false
   },
   "outputs": [],
   "source": [
    "# MarkerCluster 객체 만들기\n",
    "marker_cluster_sub = MarkerCluster().add_to(g_subway)\n",
    "\n",
    "# Marker 개체로 추가\n",
    "for index_num in range(len(subway_station_info_df)):\n",
    "    folium.Circle(\n",
    "        location=[subway_station_info_df.loc[index_num, 'lat'], subway_station_info_df.loc[index_num, 'lng']],\n",
    "        radius=400,\n",
    "        color=\"orange\",\n",
    "        fill_color=\"orange\",\n",
    "        popup=subway_station_info_df.loc[index_num, \"역사명\"]\n",
    "    ).add_to(marker_cluster_sub)"
   ]
  },
  {
   "cell_type": "markdown",
   "id": "e61a0eea",
   "metadata": {},
   "source": [
    "### (3) 서울시 버스 정류장"
   ]
  },
  {
   "cell_type": "code",
   "execution_count": 39,
   "id": "53854023",
   "metadata": {},
   "outputs": [],
   "source": [
    "# MarkerCluster 객체 만들기\n",
    "marker_cluster_bs = MarkerCluster().add_to(g_bus)\n",
    "   \n",
    "# 주차장 이름, 위도, 경도를 가져와 maker 객체로 추가\n",
    "for index_num in range(len(bus_line_info_df)):\n",
    "    folium.Marker(\n",
    "        location=[bus_line_info_df.loc[index_num, \"lat\"], bus_line_info_df.loc[index_num, \"lng\"]],\n",
    "        popup=bus_line_info_df.loc[index_num, \"정류소명\"],\n",
    "        icon=folium.Icon(color=\"cadetblue\", icon=\"ok\")\n",
    "    ).add_to(marker_cluster_bs)"
   ]
  },
  {
   "cell_type": "code",
   "execution_count": 260,
   "id": "38b79ce1",
   "metadata": {},
   "outputs": [],
   "source": [
    "# MarkerCluster 객체 만들기\n",
    "#marker_cluster_bs = MarkerCluster().add_to(g_bus)\n",
    "\n",
    "# Marker 개체로 추가\n",
    "for index_num in range(len(bus_line_info_df)):\n",
    "    folium.Circle(\n",
    "        location=[bus_line_info_df.loc[index_num, 'lat'], bus_line_info_df.loc[index_num, 'lng']],\n",
    "        radius=400,\n",
    "        color=\"purple\",\n",
    "        fill_color=\"\",\n",
    "        popup=bus_line_info_df.loc[index_num, \"정류소명\"]\n",
    "    ).add_to(g_bus)"
   ]
  },
  {
   "cell_type": "markdown",
   "id": "138cef44",
   "metadata": {},
   "source": [
    "### (4) 호텔 및 상업지구 밀도\n",
    "필요한 조건으로 필터링 해야 하나 \n",
    "시간관계상 필터링 조건을 결정하지 못하고 일단 모든 상가를 전부 포함시켰음  \n",
    "추후 진행해야 할 과제"
   ]
  },
  {
   "cell_type": "code",
   "execution_count": 40,
   "id": "a4d87a58",
   "metadata": {},
   "outputs": [],
   "source": [
    "# MarkerCluster 객체 만들기\n",
    "marker_cluster_store = MarkerCluster().add_to(g_store)\n",
    "   \n",
    "# Marker 개체로 추가\n",
    "for index_num in range(len(seoul_store_df)):\n",
    "    folium.Circle(\n",
    "        location=[seoul_store_df.loc[index_num, 'lat'], seoul_store_df.loc[index_num, 'lng']],\n",
    "        radius=400,\n",
    "        color=\"pink\",\n",
    "        fill_color=\"pink\",\n",
    "        popup=seoul_store_df.loc[index_num, \"상호명\"]\n",
    "    ).add_to(marker_cluster_store)"
   ]
  },
  {
   "cell_type": "markdown",
   "id": "582de8b0",
   "metadata": {},
   "source": [
    "### (5) 서울시 쏘카존"
   ]
  },
  {
   "cell_type": "code",
   "execution_count": 41,
   "id": "53bc3138",
   "metadata": {},
   "outputs": [],
   "source": [
    "marker_cluster_so = MarkerCluster().add_to(g_socar)\n",
    "\n",
    "for _, row in socar_zone_info_df.iterrows():\n",
    "    folium.Marker(\n",
    "        location= [row['lat'], row['lng']], # 좌표\n",
    "        popup= row['zone_name'],            # 클릭시 표시될 popup 내용\n",
    "        icon=folium.Icon(color=\"cadetblue\", icon=\"car\", prefix=\"fa\")\n",
    "    ).add_to(marker_cluster_so)"
   ]
  },
  {
   "cell_type": "markdown",
   "id": "9b4b5c6e",
   "metadata": {},
   "source": [
    "### (6) 밀도맵 세팅 (분석에 필요한 경우 사용한다)\n",
    "밀도맵을 만들기 위해서는 기본적으로 위, 경도 위치 리스트가 필요하다."
   ]
  },
  {
   "cell_type": "code",
   "execution_count": 42,
   "id": "4f9c72b8",
   "metadata": {},
   "outputs": [
    {
     "data": {
      "text/plain": [
       "<folium.plugins.heat_map.HeatMap at 0x1a3af4f5730>"
      ]
     },
     "execution_count": 42,
     "metadata": {},
     "output_type": "execute_result"
    }
   ],
   "source": [
    "# 버스정류장 밀도 표현을 위한 위치 데이터 리스트 생성 및 히트맵 생성\n",
    "bus_station_location_data = [[row[\"lat\"], row[\"lng\"]] for _, row in bus_line_info_df.iterrows()]\n",
    "plugins.HeatMap(bus_station_location_data).add_to(g_bus)"
   ]
  },
  {
   "cell_type": "code",
   "execution_count": 151,
   "id": "74066dd8",
   "metadata": {},
   "outputs": [
    {
     "data": {
      "text/plain": [
       "<folium.plugins.heat_map.HeatMap at 0x271bcfada30>"
      ]
     },
     "execution_count": 151,
     "metadata": {},
     "output_type": "execute_result"
    }
   ],
   "source": [
    "# 지하철역사 밀도\n",
    "subway_station_location_data = [[row[\"lat\"], row[\"lng\"]] for _, row in subway_station_info_df.iterrows()]\n",
    "plugins.HeatMap(subway_station_location_data).add_to(g_subway)"
   ]
  },
  {
   "cell_type": "code",
   "execution_count": 43,
   "id": "92f2c91a",
   "metadata": {},
   "outputs": [
    {
     "data": {
      "text/plain": [
       "<folium.plugins.heat_map.HeatMap at 0x1a4db4a9fa0>"
      ]
     },
     "execution_count": 43,
     "metadata": {},
     "output_type": "execute_result"
    }
   ],
   "source": [
    "# 상권 밀도 표현을 위한 위치 데이터 리스트 생성 및 히트맵 생성\n",
    "seoul_store_location_data = [[row[\"lat\"], row[\"lng\"]] for _, row in seoul_store_df.iterrows()]\n",
    "plugins.HeatMap(seoul_store_location_data).add_to(g_store)"
   ]
  },
  {
   "cell_type": "markdown",
   "id": "00ed8f78",
   "metadata": {},
   "source": [
    "### (7) 전체 데이터 시각화"
   ]
  },
  {
   "cell_type": "code",
   "execution_count": 44,
   "id": "8735a586",
   "metadata": {
    "scrolled": false
   },
   "outputs": [
    {
     "ename": "KeyboardInterrupt",
     "evalue": "",
     "output_type": "error",
     "traceback": [
      "\u001b[1;31m---------------------------------------------------------------------------\u001b[0m",
      "\u001b[1;31mKeyboardInterrupt\u001b[0m                         Traceback (most recent call last)",
      "Input \u001b[1;32mIn [44]\u001b[0m, in \u001b[0;36m<cell line: 1>\u001b[1;34m()\u001b[0m\n\u001b[1;32m----> 1\u001b[0m m_total\n",
      "File \u001b[1;32m~\\anaconda3\\envs\\candybrain\\lib\\site-packages\\IPython\\core\\displayhook.py:262\u001b[0m, in \u001b[0;36mDisplayHook.__call__\u001b[1;34m(self, result)\u001b[0m\n\u001b[0;32m    260\u001b[0m \u001b[38;5;28mself\u001b[39m\u001b[38;5;241m.\u001b[39mstart_displayhook()\n\u001b[0;32m    261\u001b[0m \u001b[38;5;28mself\u001b[39m\u001b[38;5;241m.\u001b[39mwrite_output_prompt()\n\u001b[1;32m--> 262\u001b[0m format_dict, md_dict \u001b[38;5;241m=\u001b[39m \u001b[38;5;28;43mself\u001b[39;49m\u001b[38;5;241;43m.\u001b[39;49m\u001b[43mcompute_format_data\u001b[49m\u001b[43m(\u001b[49m\u001b[43mresult\u001b[49m\u001b[43m)\u001b[49m\n\u001b[0;32m    263\u001b[0m \u001b[38;5;28mself\u001b[39m\u001b[38;5;241m.\u001b[39mupdate_user_ns(result)\n\u001b[0;32m    264\u001b[0m \u001b[38;5;28mself\u001b[39m\u001b[38;5;241m.\u001b[39mfill_exec_result(result)\n",
      "File \u001b[1;32m~\\anaconda3\\envs\\candybrain\\lib\\site-packages\\IPython\\core\\displayhook.py:151\u001b[0m, in \u001b[0;36mDisplayHook.compute_format_data\u001b[1;34m(self, result)\u001b[0m\n\u001b[0;32m    121\u001b[0m \u001b[38;5;28;01mdef\u001b[39;00m \u001b[38;5;21mcompute_format_data\u001b[39m(\u001b[38;5;28mself\u001b[39m, result):\n\u001b[0;32m    122\u001b[0m     \u001b[38;5;124;03m\"\"\"Compute format data of the object to be displayed.\u001b[39;00m\n\u001b[0;32m    123\u001b[0m \n\u001b[0;32m    124\u001b[0m \u001b[38;5;124;03m    The format data is a generalization of the :func:`repr` of an object.\u001b[39;00m\n\u001b[1;32m   (...)\u001b[0m\n\u001b[0;32m    149\u001b[0m \n\u001b[0;32m    150\u001b[0m \u001b[38;5;124;03m    \"\"\"\u001b[39;00m\n\u001b[1;32m--> 151\u001b[0m     \u001b[38;5;28;01mreturn\u001b[39;00m \u001b[38;5;28;43mself\u001b[39;49m\u001b[38;5;241;43m.\u001b[39;49m\u001b[43mshell\u001b[49m\u001b[38;5;241;43m.\u001b[39;49m\u001b[43mdisplay_formatter\u001b[49m\u001b[38;5;241;43m.\u001b[39;49m\u001b[43mformat\u001b[49m\u001b[43m(\u001b[49m\u001b[43mresult\u001b[49m\u001b[43m)\u001b[49m\n",
      "File \u001b[1;32m~\\anaconda3\\envs\\candybrain\\lib\\site-packages\\IPython\\core\\formatters.py:178\u001b[0m, in \u001b[0;36mDisplayFormatter.format\u001b[1;34m(self, obj, include, exclude)\u001b[0m\n\u001b[0;32m    176\u001b[0m md \u001b[38;5;241m=\u001b[39m \u001b[38;5;28;01mNone\u001b[39;00m\n\u001b[0;32m    177\u001b[0m \u001b[38;5;28;01mtry\u001b[39;00m:\n\u001b[1;32m--> 178\u001b[0m     data \u001b[38;5;241m=\u001b[39m \u001b[43mformatter\u001b[49m\u001b[43m(\u001b[49m\u001b[43mobj\u001b[49m\u001b[43m)\u001b[49m\n\u001b[0;32m    179\u001b[0m \u001b[38;5;28;01mexcept\u001b[39;00m:\n\u001b[0;32m    180\u001b[0m     \u001b[38;5;66;03m# FIXME: log the exception\u001b[39;00m\n\u001b[0;32m    181\u001b[0m     \u001b[38;5;28;01mraise\u001b[39;00m\n",
      "File \u001b[1;32m~\\anaconda3\\envs\\candybrain\\lib\\site-packages\\decorator.py:232\u001b[0m, in \u001b[0;36mdecorate.<locals>.fun\u001b[1;34m(*args, **kw)\u001b[0m\n\u001b[0;32m    230\u001b[0m \u001b[38;5;28;01mif\u001b[39;00m \u001b[38;5;129;01mnot\u001b[39;00m kwsyntax:\n\u001b[0;32m    231\u001b[0m     args, kw \u001b[38;5;241m=\u001b[39m fix(args, kw, sig)\n\u001b[1;32m--> 232\u001b[0m \u001b[38;5;28;01mreturn\u001b[39;00m caller(func, \u001b[38;5;241m*\u001b[39m(extras \u001b[38;5;241m+\u001b[39m args), \u001b[38;5;241m*\u001b[39m\u001b[38;5;241m*\u001b[39mkw)\n",
      "File \u001b[1;32m~\\anaconda3\\envs\\candybrain\\lib\\site-packages\\IPython\\core\\formatters.py:222\u001b[0m, in \u001b[0;36mcatch_format_error\u001b[1;34m(method, self, *args, **kwargs)\u001b[0m\n\u001b[0;32m    220\u001b[0m \u001b[38;5;124;03m\"\"\"show traceback on failed format call\"\"\"\u001b[39;00m\n\u001b[0;32m    221\u001b[0m \u001b[38;5;28;01mtry\u001b[39;00m:\n\u001b[1;32m--> 222\u001b[0m     r \u001b[38;5;241m=\u001b[39m method(\u001b[38;5;28mself\u001b[39m, \u001b[38;5;241m*\u001b[39margs, \u001b[38;5;241m*\u001b[39m\u001b[38;5;241m*\u001b[39mkwargs)\n\u001b[0;32m    223\u001b[0m \u001b[38;5;28;01mexcept\u001b[39;00m \u001b[38;5;167;01mNotImplementedError\u001b[39;00m:\n\u001b[0;32m    224\u001b[0m     \u001b[38;5;66;03m# don't warn on NotImplementedErrors\u001b[39;00m\n\u001b[0;32m    225\u001b[0m     \u001b[38;5;28;01mreturn\u001b[39;00m \u001b[38;5;28mself\u001b[39m\u001b[38;5;241m.\u001b[39m_check_return(\u001b[38;5;28;01mNone\u001b[39;00m, args[\u001b[38;5;241m0\u001b[39m])\n",
      "File \u001b[1;32m~\\anaconda3\\envs\\candybrain\\lib\\site-packages\\IPython\\core\\formatters.py:343\u001b[0m, in \u001b[0;36mBaseFormatter.__call__\u001b[1;34m(self, obj)\u001b[0m\n\u001b[0;32m    341\u001b[0m     method \u001b[38;5;241m=\u001b[39m get_real_method(obj, \u001b[38;5;28mself\u001b[39m\u001b[38;5;241m.\u001b[39mprint_method)\n\u001b[0;32m    342\u001b[0m     \u001b[38;5;28;01mif\u001b[39;00m method \u001b[38;5;129;01mis\u001b[39;00m \u001b[38;5;129;01mnot\u001b[39;00m \u001b[38;5;28;01mNone\u001b[39;00m:\n\u001b[1;32m--> 343\u001b[0m         \u001b[38;5;28;01mreturn\u001b[39;00m \u001b[43mmethod\u001b[49m\u001b[43m(\u001b[49m\u001b[43m)\u001b[49m\n\u001b[0;32m    344\u001b[0m     \u001b[38;5;28;01mreturn\u001b[39;00m \u001b[38;5;28;01mNone\u001b[39;00m\n\u001b[0;32m    345\u001b[0m \u001b[38;5;28;01melse\u001b[39;00m:\n",
      "File \u001b[1;32m~\\anaconda3\\envs\\candybrain\\lib\\site-packages\\folium\\folium.py:299\u001b[0m, in \u001b[0;36mMap._repr_html_\u001b[1;34m(self, **kwargs)\u001b[0m\n\u001b[0;32m    297\u001b[0m     \u001b[38;5;28mself\u001b[39m\u001b[38;5;241m.\u001b[39m_parent \u001b[38;5;241m=\u001b[39m \u001b[38;5;28;01mNone\u001b[39;00m\n\u001b[0;32m    298\u001b[0m \u001b[38;5;28;01melse\u001b[39;00m:\n\u001b[1;32m--> 299\u001b[0m     out \u001b[38;5;241m=\u001b[39m \u001b[38;5;28mself\u001b[39m\u001b[38;5;241m.\u001b[39m_parent\u001b[38;5;241m.\u001b[39m_repr_html_(\u001b[38;5;241m*\u001b[39m\u001b[38;5;241m*\u001b[39mkwargs)\n\u001b[0;32m    300\u001b[0m \u001b[38;5;28;01mreturn\u001b[39;00m out\n",
      "File \u001b[1;32m~\\anaconda3\\envs\\candybrain\\lib\\site-packages\\branca\\element.py:331\u001b[0m, in \u001b[0;36mFigure._repr_html_\u001b[1;34m(self, **kwargs)\u001b[0m\n\u001b[0;32m    322\u001b[0m \u001b[38;5;28;01mdef\u001b[39;00m \u001b[38;5;21m_repr_html_\u001b[39m(\u001b[38;5;28mself\u001b[39m, \u001b[38;5;241m*\u001b[39m\u001b[38;5;241m*\u001b[39mkwargs):\n\u001b[0;32m    323\u001b[0m     \u001b[38;5;124;03m\"\"\"Displays the Figure in a Jupyter notebook.\u001b[39;00m\n\u001b[0;32m    324\u001b[0m \n\u001b[0;32m    325\u001b[0m \u001b[38;5;124;03m    Percent-encoded HTML is stored in data-html attribute, which is used to populate\u001b[39;00m\n\u001b[1;32m   (...)\u001b[0m\n\u001b[0;32m    329\u001b[0m \n\u001b[0;32m    330\u001b[0m \u001b[38;5;124;03m    \"\"\"\u001b[39;00m\n\u001b[1;32m--> 331\u001b[0m     html \u001b[38;5;241m=\u001b[39m urllib\u001b[38;5;241m.\u001b[39mparse\u001b[38;5;241m.\u001b[39mquote(\u001b[38;5;28mself\u001b[39m\u001b[38;5;241m.\u001b[39mrender(\u001b[38;5;241m*\u001b[39m\u001b[38;5;241m*\u001b[39mkwargs))\n\u001b[0;32m    332\u001b[0m     onload \u001b[38;5;241m=\u001b[39m (\n\u001b[0;32m    333\u001b[0m         \u001b[38;5;124m'\u001b[39m\u001b[38;5;124mthis.contentDocument.open();\u001b[39m\u001b[38;5;124m'\u001b[39m\n\u001b[0;32m    334\u001b[0m         \u001b[38;5;124m'\u001b[39m\u001b[38;5;124mthis.contentDocument.write(\u001b[39m\u001b[38;5;124m'\u001b[39m\n\u001b[1;32m   (...)\u001b[0m\n\u001b[0;32m    337\u001b[0m         \u001b[38;5;124m'\u001b[39m\u001b[38;5;124mthis.contentDocument.close();\u001b[39m\u001b[38;5;124m'\u001b[39m\n\u001b[0;32m    338\u001b[0m     )\n\u001b[0;32m    340\u001b[0m     \u001b[38;5;28;01mif\u001b[39;00m \u001b[38;5;28mself\u001b[39m\u001b[38;5;241m.\u001b[39mheight \u001b[38;5;129;01mis\u001b[39;00m \u001b[38;5;28;01mNone\u001b[39;00m:\n",
      "File \u001b[1;32m~\\anaconda3\\envs\\candybrain\\lib\\site-packages\\branca\\element.py:319\u001b[0m, in \u001b[0;36mFigure.render\u001b[1;34m(self, **kwargs)\u001b[0m\n\u001b[0;32m    317\u001b[0m \u001b[38;5;124;03m\"\"\"Renders the HTML representation of the element.\"\"\"\u001b[39;00m\n\u001b[0;32m    318\u001b[0m \u001b[38;5;28;01mfor\u001b[39;00m name, child \u001b[38;5;129;01min\u001b[39;00m \u001b[38;5;28mself\u001b[39m\u001b[38;5;241m.\u001b[39m_children\u001b[38;5;241m.\u001b[39mitems():\n\u001b[1;32m--> 319\u001b[0m     child\u001b[38;5;241m.\u001b[39mrender(\u001b[38;5;241m*\u001b[39m\u001b[38;5;241m*\u001b[39mkwargs)\n\u001b[0;32m    320\u001b[0m \u001b[38;5;28;01mreturn\u001b[39;00m \u001b[38;5;28mself\u001b[39m\u001b[38;5;241m.\u001b[39m_template\u001b[38;5;241m.\u001b[39mrender(this\u001b[38;5;241m=\u001b[39m\u001b[38;5;28mself\u001b[39m, kwargs\u001b[38;5;241m=\u001b[39mkwargs)\n",
      "File \u001b[1;32m~\\anaconda3\\envs\\candybrain\\lib\\site-packages\\folium\\folium.py:368\u001b[0m, in \u001b[0;36mMap.render\u001b[1;34m(self, **kwargs)\u001b[0m\n\u001b[0;32m    349\u001b[0m figure\u001b[38;5;241m.\u001b[39mheader\u001b[38;5;241m.\u001b[39madd_child(Element(\n\u001b[0;32m    350\u001b[0m     \u001b[38;5;124m'\u001b[39m\u001b[38;5;124m<style>html, body \u001b[39m\u001b[38;5;124m{\u001b[39m\u001b[38;5;124m'\u001b[39m\n\u001b[0;32m    351\u001b[0m     \u001b[38;5;124m'\u001b[39m\u001b[38;5;124mwidth: 100\u001b[39m\u001b[38;5;124m%\u001b[39m\u001b[38;5;124m;\u001b[39m\u001b[38;5;124m'\u001b[39m\n\u001b[1;32m   (...)\u001b[0m\n\u001b[0;32m    355\u001b[0m     \u001b[38;5;124m'\u001b[39m\u001b[38;5;124m}\u001b[39m\u001b[38;5;124m'\u001b[39m\n\u001b[0;32m    356\u001b[0m     \u001b[38;5;124m'\u001b[39m\u001b[38;5;124m</style>\u001b[39m\u001b[38;5;124m'\u001b[39m), name\u001b[38;5;241m=\u001b[39m\u001b[38;5;124m'\u001b[39m\u001b[38;5;124mcss_style\u001b[39m\u001b[38;5;124m'\u001b[39m)\n\u001b[0;32m    358\u001b[0m figure\u001b[38;5;241m.\u001b[39mheader\u001b[38;5;241m.\u001b[39madd_child(Element(\n\u001b[0;32m    359\u001b[0m     \u001b[38;5;124m'\u001b[39m\u001b[38;5;124m<style>#map \u001b[39m\u001b[38;5;124m{\u001b[39m\u001b[38;5;124m'\u001b[39m\n\u001b[0;32m    360\u001b[0m     \u001b[38;5;124m'\u001b[39m\u001b[38;5;124mposition:absolute;\u001b[39m\u001b[38;5;124m'\u001b[39m\n\u001b[1;32m   (...)\u001b[0m\n\u001b[0;32m    365\u001b[0m     \u001b[38;5;124m'\u001b[39m\u001b[38;5;124m}\u001b[39m\u001b[38;5;124m'\u001b[39m\n\u001b[0;32m    366\u001b[0m     \u001b[38;5;124m'\u001b[39m\u001b[38;5;124m</style>\u001b[39m\u001b[38;5;124m'\u001b[39m), name\u001b[38;5;241m=\u001b[39m\u001b[38;5;124m'\u001b[39m\u001b[38;5;124mmap_style\u001b[39m\u001b[38;5;124m'\u001b[39m)\n\u001b[1;32m--> 368\u001b[0m \u001b[38;5;28msuper\u001b[39m(Map, \u001b[38;5;28mself\u001b[39m)\u001b[38;5;241m.\u001b[39mrender(\u001b[38;5;241m*\u001b[39m\u001b[38;5;241m*\u001b[39mkwargs)\n",
      "File \u001b[1;32m~\\anaconda3\\envs\\candybrain\\lib\\site-packages\\folium\\elements.py:21\u001b[0m, in \u001b[0;36mJSCSSMixin.render\u001b[1;34m(self, **kwargs)\u001b[0m\n\u001b[0;32m     18\u001b[0m \u001b[38;5;28;01mfor\u001b[39;00m name, url \u001b[38;5;129;01min\u001b[39;00m \u001b[38;5;28mself\u001b[39m\u001b[38;5;241m.\u001b[39mdefault_css:\n\u001b[0;32m     19\u001b[0m     figure\u001b[38;5;241m.\u001b[39mheader\u001b[38;5;241m.\u001b[39madd_child(CssLink(url), name\u001b[38;5;241m=\u001b[39mname)\n\u001b[1;32m---> 21\u001b[0m \u001b[38;5;28msuper\u001b[39m()\u001b[38;5;241m.\u001b[39mrender(\u001b[38;5;241m*\u001b[39m\u001b[38;5;241m*\u001b[39mkwargs)\n",
      "File \u001b[1;32m~\\anaconda3\\envs\\candybrain\\lib\\site-packages\\branca\\element.py:643\u001b[0m, in \u001b[0;36mMacroElement.render\u001b[1;34m(self, **kwargs)\u001b[0m\n\u001b[0;32m    639\u001b[0m     figure\u001b[38;5;241m.\u001b[39mscript\u001b[38;5;241m.\u001b[39madd_child(Element(script(\u001b[38;5;28mself\u001b[39m, kwargs)),\n\u001b[0;32m    640\u001b[0m                             name\u001b[38;5;241m=\u001b[39m\u001b[38;5;28mself\u001b[39m\u001b[38;5;241m.\u001b[39mget_name())\n\u001b[0;32m    642\u001b[0m \u001b[38;5;28;01mfor\u001b[39;00m name, element \u001b[38;5;129;01min\u001b[39;00m \u001b[38;5;28mself\u001b[39m\u001b[38;5;241m.\u001b[39m_children\u001b[38;5;241m.\u001b[39mitems():\n\u001b[1;32m--> 643\u001b[0m     element\u001b[38;5;241m.\u001b[39mrender(\u001b[38;5;241m*\u001b[39m\u001b[38;5;241m*\u001b[39mkwargs)\n",
      "File \u001b[1;32m~\\anaconda3\\envs\\candybrain\\lib\\site-packages\\folium\\elements.py:21\u001b[0m, in \u001b[0;36mJSCSSMixin.render\u001b[1;34m(self, **kwargs)\u001b[0m\n\u001b[0;32m     18\u001b[0m \u001b[38;5;28;01mfor\u001b[39;00m name, url \u001b[38;5;129;01min\u001b[39;00m \u001b[38;5;28mself\u001b[39m\u001b[38;5;241m.\u001b[39mdefault_css:\n\u001b[0;32m     19\u001b[0m     figure\u001b[38;5;241m.\u001b[39mheader\u001b[38;5;241m.\u001b[39madd_child(CssLink(url), name\u001b[38;5;241m=\u001b[39mname)\n\u001b[1;32m---> 21\u001b[0m \u001b[38;5;28msuper\u001b[39m()\u001b[38;5;241m.\u001b[39mrender(\u001b[38;5;241m*\u001b[39m\u001b[38;5;241m*\u001b[39mkwargs)\n",
      "File \u001b[1;32m~\\anaconda3\\envs\\candybrain\\lib\\site-packages\\branca\\element.py:643\u001b[0m, in \u001b[0;36mMacroElement.render\u001b[1;34m(self, **kwargs)\u001b[0m\n\u001b[0;32m    639\u001b[0m     figure\u001b[38;5;241m.\u001b[39mscript\u001b[38;5;241m.\u001b[39madd_child(Element(script(\u001b[38;5;28mself\u001b[39m, kwargs)),\n\u001b[0;32m    640\u001b[0m                             name\u001b[38;5;241m=\u001b[39m\u001b[38;5;28mself\u001b[39m\u001b[38;5;241m.\u001b[39mget_name())\n\u001b[0;32m    642\u001b[0m \u001b[38;5;28;01mfor\u001b[39;00m name, element \u001b[38;5;129;01min\u001b[39;00m \u001b[38;5;28mself\u001b[39m\u001b[38;5;241m.\u001b[39m_children\u001b[38;5;241m.\u001b[39mitems():\n\u001b[1;32m--> 643\u001b[0m     element\u001b[38;5;241m.\u001b[39mrender(\u001b[38;5;241m*\u001b[39m\u001b[38;5;241m*\u001b[39mkwargs)\n",
      "File \u001b[1;32m~\\anaconda3\\envs\\candybrain\\lib\\site-packages\\folium\\elements.py:21\u001b[0m, in \u001b[0;36mJSCSSMixin.render\u001b[1;34m(self, **kwargs)\u001b[0m\n\u001b[0;32m     18\u001b[0m \u001b[38;5;28;01mfor\u001b[39;00m name, url \u001b[38;5;129;01min\u001b[39;00m \u001b[38;5;28mself\u001b[39m\u001b[38;5;241m.\u001b[39mdefault_css:\n\u001b[0;32m     19\u001b[0m     figure\u001b[38;5;241m.\u001b[39mheader\u001b[38;5;241m.\u001b[39madd_child(CssLink(url), name\u001b[38;5;241m=\u001b[39mname)\n\u001b[1;32m---> 21\u001b[0m \u001b[38;5;28msuper\u001b[39m()\u001b[38;5;241m.\u001b[39mrender(\u001b[38;5;241m*\u001b[39m\u001b[38;5;241m*\u001b[39mkwargs)\n",
      "File \u001b[1;32m~\\anaconda3\\envs\\candybrain\\lib\\site-packages\\branca\\element.py:643\u001b[0m, in \u001b[0;36mMacroElement.render\u001b[1;34m(self, **kwargs)\u001b[0m\n\u001b[0;32m    639\u001b[0m     figure\u001b[38;5;241m.\u001b[39mscript\u001b[38;5;241m.\u001b[39madd_child(Element(script(\u001b[38;5;28mself\u001b[39m, kwargs)),\n\u001b[0;32m    640\u001b[0m                             name\u001b[38;5;241m=\u001b[39m\u001b[38;5;28mself\u001b[39m\u001b[38;5;241m.\u001b[39mget_name())\n\u001b[0;32m    642\u001b[0m \u001b[38;5;28;01mfor\u001b[39;00m name, element \u001b[38;5;129;01min\u001b[39;00m \u001b[38;5;28mself\u001b[39m\u001b[38;5;241m.\u001b[39m_children\u001b[38;5;241m.\u001b[39mitems():\n\u001b[1;32m--> 643\u001b[0m     element\u001b[38;5;241m.\u001b[39mrender(\u001b[38;5;241m*\u001b[39m\u001b[38;5;241m*\u001b[39mkwargs)\n",
      "File \u001b[1;32m~\\anaconda3\\envs\\candybrain\\lib\\site-packages\\folium\\map.py:303\u001b[0m, in \u001b[0;36mMarker.render\u001b[1;34m(self)\u001b[0m\n\u001b[0;32m    301\u001b[0m \u001b[38;5;28;01mif\u001b[39;00m \u001b[38;5;28mself\u001b[39m\u001b[38;5;241m.\u001b[39mlocation \u001b[38;5;129;01mis\u001b[39;00m \u001b[38;5;28;01mNone\u001b[39;00m:\n\u001b[0;32m    302\u001b[0m     \u001b[38;5;28;01mraise\u001b[39;00m \u001b[38;5;167;01mValueError\u001b[39;00m(\u001b[38;5;124m\"\u001b[39m\u001b[38;5;132;01m{}\u001b[39;00m\u001b[38;5;124m location must be assigned when added directly to map.\u001b[39m\u001b[38;5;124m\"\u001b[39m\u001b[38;5;241m.\u001b[39mformat(\u001b[38;5;28mself\u001b[39m\u001b[38;5;241m.\u001b[39m_name))\n\u001b[1;32m--> 303\u001b[0m \u001b[38;5;28;43msuper\u001b[39;49m\u001b[43m(\u001b[49m\u001b[43mMarker\u001b[49m\u001b[43m,\u001b[49m\u001b[43m \u001b[49m\u001b[38;5;28;43mself\u001b[39;49m\u001b[43m)\u001b[49m\u001b[38;5;241;43m.\u001b[39;49m\u001b[43mrender\u001b[49m\u001b[43m(\u001b[49m\u001b[43m)\u001b[49m\n",
      "File \u001b[1;32m~\\anaconda3\\envs\\candybrain\\lib\\site-packages\\branca\\element.py:643\u001b[0m, in \u001b[0;36mMacroElement.render\u001b[1;34m(self, **kwargs)\u001b[0m\n\u001b[0;32m    639\u001b[0m     figure\u001b[38;5;241m.\u001b[39mscript\u001b[38;5;241m.\u001b[39madd_child(Element(script(\u001b[38;5;28mself\u001b[39m, kwargs)),\n\u001b[0;32m    640\u001b[0m                             name\u001b[38;5;241m=\u001b[39m\u001b[38;5;28mself\u001b[39m\u001b[38;5;241m.\u001b[39mget_name())\n\u001b[0;32m    642\u001b[0m \u001b[38;5;28;01mfor\u001b[39;00m name, element \u001b[38;5;129;01min\u001b[39;00m \u001b[38;5;28mself\u001b[39m\u001b[38;5;241m.\u001b[39m_children\u001b[38;5;241m.\u001b[39mitems():\n\u001b[1;32m--> 643\u001b[0m     element\u001b[38;5;241m.\u001b[39mrender(\u001b[38;5;241m*\u001b[39m\u001b[38;5;241m*\u001b[39mkwargs)\n",
      "File \u001b[1;32m~\\anaconda3\\envs\\candybrain\\lib\\site-packages\\folium\\map.py:373\u001b[0m, in \u001b[0;36mPopup.render\u001b[1;34m(self, **kwargs)\u001b[0m\n\u001b[0;32m    369\u001b[0m figure \u001b[38;5;241m=\u001b[39m \u001b[38;5;28mself\u001b[39m\u001b[38;5;241m.\u001b[39mget_root()\n\u001b[0;32m    370\u001b[0m \u001b[38;5;28;01massert\u001b[39;00m \u001b[38;5;28misinstance\u001b[39m(figure, Figure), (\u001b[38;5;124m'\u001b[39m\u001b[38;5;124mYou cannot render this Element \u001b[39m\u001b[38;5;124m'\u001b[39m\n\u001b[0;32m    371\u001b[0m                                     \u001b[38;5;124m'\u001b[39m\u001b[38;5;124mif it is not in a Figure.\u001b[39m\u001b[38;5;124m'\u001b[39m)\n\u001b[1;32m--> 373\u001b[0m figure\u001b[38;5;241m.\u001b[39mscript\u001b[38;5;241m.\u001b[39madd_child(\u001b[43mElement\u001b[49m\u001b[43m(\u001b[49m\n\u001b[0;32m    374\u001b[0m \u001b[43m    \u001b[49m\u001b[38;5;28;43mself\u001b[39;49m\u001b[38;5;241;43m.\u001b[39;49m\u001b[43m_template\u001b[49m\u001b[38;5;241;43m.\u001b[39;49m\u001b[43mrender\u001b[49m\u001b[43m(\u001b[49m\u001b[43mthis\u001b[49m\u001b[38;5;241;43m=\u001b[39;49m\u001b[38;5;28;43mself\u001b[39;49m\u001b[43m,\u001b[49m\u001b[43m \u001b[49m\u001b[43mkwargs\u001b[49m\u001b[38;5;241;43m=\u001b[39;49m\u001b[43mkwargs\u001b[49m\u001b[43m)\u001b[49m\u001b[43m)\u001b[49m,\n\u001b[0;32m    375\u001b[0m     name\u001b[38;5;241m=\u001b[39m\u001b[38;5;28mself\u001b[39m\u001b[38;5;241m.\u001b[39mget_name())\n",
      "File \u001b[1;32m~\\anaconda3\\envs\\candybrain\\lib\\site-packages\\branca\\element.py:59\u001b[0m, in \u001b[0;36mElement.__init__\u001b[1;34m(self, template, template_name)\u001b[0m\n\u001b[0;32m     56\u001b[0m \u001b[38;5;28mself\u001b[39m\u001b[38;5;241m.\u001b[39m_parent \u001b[38;5;241m=\u001b[39m \u001b[38;5;28;01mNone\u001b[39;00m\n\u001b[0;32m     58\u001b[0m \u001b[38;5;28;01mif\u001b[39;00m template \u001b[38;5;129;01mis\u001b[39;00m \u001b[38;5;129;01mnot\u001b[39;00m \u001b[38;5;28;01mNone\u001b[39;00m:\n\u001b[1;32m---> 59\u001b[0m     \u001b[38;5;28mself\u001b[39m\u001b[38;5;241m.\u001b[39m_template \u001b[38;5;241m=\u001b[39m \u001b[43mTemplate\u001b[49m\u001b[43m(\u001b[49m\u001b[43mtemplate\u001b[49m\u001b[43m)\u001b[49m\n\u001b[0;32m     60\u001b[0m \u001b[38;5;28;01melif\u001b[39;00m template_name \u001b[38;5;129;01mis\u001b[39;00m \u001b[38;5;129;01mnot\u001b[39;00m \u001b[38;5;28;01mNone\u001b[39;00m:\n\u001b[0;32m     61\u001b[0m     \u001b[38;5;28mself\u001b[39m\u001b[38;5;241m.\u001b[39m_template \u001b[38;5;241m=\u001b[39m ENV\u001b[38;5;241m.\u001b[39mget_template(template_name)\n",
      "File \u001b[1;32m~\\anaconda3\\envs\\candybrain\\lib\\site-packages\\jinja2\\environment.py:1195\u001b[0m, in \u001b[0;36mTemplate.__new__\u001b[1;34m(cls, source, block_start_string, block_end_string, variable_start_string, variable_end_string, comment_start_string, comment_end_string, line_statement_prefix, line_comment_prefix, trim_blocks, lstrip_blocks, newline_sequence, keep_trailing_newline, extensions, optimized, undefined, finalize, autoescape, enable_async)\u001b[0m\n\u001b[0;32m   1148\u001b[0m \u001b[38;5;28;01mdef\u001b[39;00m \u001b[38;5;21m__new__\u001b[39m(\n\u001b[0;32m   1149\u001b[0m     \u001b[38;5;28mcls\u001b[39m,\n\u001b[0;32m   1150\u001b[0m     source: t\u001b[38;5;241m.\u001b[39mUnion[\u001b[38;5;28mstr\u001b[39m, nodes\u001b[38;5;241m.\u001b[39mTemplate],\n\u001b[1;32m   (...)\u001b[0m\n\u001b[0;32m   1168\u001b[0m     enable_async: \u001b[38;5;28mbool\u001b[39m \u001b[38;5;241m=\u001b[39m \u001b[38;5;28;01mFalse\u001b[39;00m,\n\u001b[0;32m   1169\u001b[0m ) \u001b[38;5;241m-\u001b[39m\u001b[38;5;241m>\u001b[39m t\u001b[38;5;241m.\u001b[39mAny:  \u001b[38;5;66;03m# it returns a `Template`, but this breaks the sphinx build...\u001b[39;00m\n\u001b[0;32m   1170\u001b[0m     env \u001b[38;5;241m=\u001b[39m get_spontaneous_environment(\n\u001b[0;32m   1171\u001b[0m         \u001b[38;5;28mcls\u001b[39m\u001b[38;5;241m.\u001b[39menvironment_class,  \u001b[38;5;66;03m# type: ignore\u001b[39;00m\n\u001b[0;32m   1172\u001b[0m         block_start_string,\n\u001b[1;32m   (...)\u001b[0m\n\u001b[0;32m   1193\u001b[0m         enable_async,\n\u001b[0;32m   1194\u001b[0m     )\n\u001b[1;32m-> 1195\u001b[0m     \u001b[38;5;28;01mreturn\u001b[39;00m \u001b[43menv\u001b[49m\u001b[38;5;241;43m.\u001b[39;49m\u001b[43mfrom_string\u001b[49m\u001b[43m(\u001b[49m\u001b[43msource\u001b[49m\u001b[43m,\u001b[49m\u001b[43m \u001b[49m\u001b[43mtemplate_class\u001b[49m\u001b[38;5;241;43m=\u001b[39;49m\u001b[38;5;28;43mcls\u001b[39;49m\u001b[43m)\u001b[49m\n",
      "File \u001b[1;32m~\\anaconda3\\envs\\candybrain\\lib\\site-packages\\jinja2\\environment.py:1092\u001b[0m, in \u001b[0;36mEnvironment.from_string\u001b[1;34m(self, source, globals, template_class)\u001b[0m\n\u001b[0;32m   1090\u001b[0m gs \u001b[38;5;241m=\u001b[39m \u001b[38;5;28mself\u001b[39m\u001b[38;5;241m.\u001b[39mmake_globals(\u001b[38;5;28mglobals\u001b[39m)\n\u001b[0;32m   1091\u001b[0m \u001b[38;5;28mcls\u001b[39m \u001b[38;5;241m=\u001b[39m template_class \u001b[38;5;129;01mor\u001b[39;00m \u001b[38;5;28mself\u001b[39m\u001b[38;5;241m.\u001b[39mtemplate_class\n\u001b[1;32m-> 1092\u001b[0m \u001b[38;5;28;01mreturn\u001b[39;00m \u001b[38;5;28mcls\u001b[39m\u001b[38;5;241m.\u001b[39mfrom_code(\u001b[38;5;28mself\u001b[39m, \u001b[38;5;28;43mself\u001b[39;49m\u001b[38;5;241;43m.\u001b[39;49m\u001b[43mcompile\u001b[49m\u001b[43m(\u001b[49m\u001b[43msource\u001b[49m\u001b[43m)\u001b[49m, gs, \u001b[38;5;28;01mNone\u001b[39;00m)\n",
      "File \u001b[1;32m~\\anaconda3\\envs\\candybrain\\lib\\site-packages\\jinja2\\environment.py:749\u001b[0m, in \u001b[0;36mEnvironment.compile\u001b[1;34m(self, source, name, filename, raw, defer_init)\u001b[0m\n\u001b[0;32m    747\u001b[0m \u001b[38;5;28;01mif\u001b[39;00m \u001b[38;5;28misinstance\u001b[39m(source, \u001b[38;5;28mstr\u001b[39m):\n\u001b[0;32m    748\u001b[0m     source_hint \u001b[38;5;241m=\u001b[39m source\n\u001b[1;32m--> 749\u001b[0m     source \u001b[38;5;241m=\u001b[39m \u001b[38;5;28;43mself\u001b[39;49m\u001b[38;5;241;43m.\u001b[39;49m\u001b[43m_parse\u001b[49m\u001b[43m(\u001b[49m\u001b[43msource\u001b[49m\u001b[43m,\u001b[49m\u001b[43m \u001b[49m\u001b[43mname\u001b[49m\u001b[43m,\u001b[49m\u001b[43m \u001b[49m\u001b[43mfilename\u001b[49m\u001b[43m)\u001b[49m\n\u001b[0;32m    750\u001b[0m source \u001b[38;5;241m=\u001b[39m \u001b[38;5;28mself\u001b[39m\u001b[38;5;241m.\u001b[39m_generate(source, name, filename, defer_init\u001b[38;5;241m=\u001b[39mdefer_init)\n\u001b[0;32m    751\u001b[0m \u001b[38;5;28;01mif\u001b[39;00m raw:\n",
      "File \u001b[1;32m~\\anaconda3\\envs\\candybrain\\lib\\site-packages\\jinja2\\environment.py:606\u001b[0m, in \u001b[0;36mEnvironment._parse\u001b[1;34m(self, source, name, filename)\u001b[0m\n\u001b[0;32m    602\u001b[0m \u001b[38;5;28;01mdef\u001b[39;00m \u001b[38;5;21m_parse\u001b[39m(\n\u001b[0;32m    603\u001b[0m     \u001b[38;5;28mself\u001b[39m, source: \u001b[38;5;28mstr\u001b[39m, name: t\u001b[38;5;241m.\u001b[39mOptional[\u001b[38;5;28mstr\u001b[39m], filename: t\u001b[38;5;241m.\u001b[39mOptional[\u001b[38;5;28mstr\u001b[39m]\n\u001b[0;32m    604\u001b[0m ) \u001b[38;5;241m-\u001b[39m\u001b[38;5;241m>\u001b[39m nodes\u001b[38;5;241m.\u001b[39mTemplate:\n\u001b[0;32m    605\u001b[0m     \u001b[38;5;124;03m\"\"\"Internal parsing function used by `parse` and `compile`.\"\"\"\u001b[39;00m\n\u001b[1;32m--> 606\u001b[0m     \u001b[38;5;28;01mreturn\u001b[39;00m \u001b[43mParser\u001b[49m\u001b[43m(\u001b[49m\u001b[38;5;28;43mself\u001b[39;49m\u001b[43m,\u001b[49m\u001b[43m \u001b[49m\u001b[43msource\u001b[49m\u001b[43m,\u001b[49m\u001b[43m \u001b[49m\u001b[43mname\u001b[49m\u001b[43m,\u001b[49m\u001b[43m \u001b[49m\u001b[43mfilename\u001b[49m\u001b[43m)\u001b[49m\u001b[38;5;241m.\u001b[39mparse()\n",
      "File \u001b[1;32m~\\anaconda3\\envs\\candybrain\\lib\\site-packages\\jinja2\\parser.py:60\u001b[0m, in \u001b[0;36mParser.__init__\u001b[1;34m(self, environment, source, name, filename, state)\u001b[0m\n\u001b[0;32m     51\u001b[0m \u001b[38;5;28;01mdef\u001b[39;00m \u001b[38;5;21m__init__\u001b[39m(\n\u001b[0;32m     52\u001b[0m     \u001b[38;5;28mself\u001b[39m,\n\u001b[0;32m     53\u001b[0m     environment: \u001b[38;5;124m\"\u001b[39m\u001b[38;5;124mEnvironment\u001b[39m\u001b[38;5;124m\"\u001b[39m,\n\u001b[1;32m   (...)\u001b[0m\n\u001b[0;32m     57\u001b[0m     state: t\u001b[38;5;241m.\u001b[39mOptional[\u001b[38;5;28mstr\u001b[39m] \u001b[38;5;241m=\u001b[39m \u001b[38;5;28;01mNone\u001b[39;00m,\n\u001b[0;32m     58\u001b[0m ) \u001b[38;5;241m-\u001b[39m\u001b[38;5;241m>\u001b[39m \u001b[38;5;28;01mNone\u001b[39;00m:\n\u001b[0;32m     59\u001b[0m     \u001b[38;5;28mself\u001b[39m\u001b[38;5;241m.\u001b[39menvironment \u001b[38;5;241m=\u001b[39m environment\n\u001b[1;32m---> 60\u001b[0m     \u001b[38;5;28mself\u001b[39m\u001b[38;5;241m.\u001b[39mstream \u001b[38;5;241m=\u001b[39m \u001b[43menvironment\u001b[49m\u001b[38;5;241;43m.\u001b[39;49m\u001b[43m_tokenize\u001b[49m\u001b[43m(\u001b[49m\u001b[43msource\u001b[49m\u001b[43m,\u001b[49m\u001b[43m \u001b[49m\u001b[43mname\u001b[49m\u001b[43m,\u001b[49m\u001b[43m \u001b[49m\u001b[43mfilename\u001b[49m\u001b[43m,\u001b[49m\u001b[43m \u001b[49m\u001b[43mstate\u001b[49m\u001b[43m)\u001b[49m\n\u001b[0;32m     61\u001b[0m     \u001b[38;5;28mself\u001b[39m\u001b[38;5;241m.\u001b[39mname \u001b[38;5;241m=\u001b[39m name\n\u001b[0;32m     62\u001b[0m     \u001b[38;5;28mself\u001b[39m\u001b[38;5;241m.\u001b[39mfilename \u001b[38;5;241m=\u001b[39m filename\n",
      "File \u001b[1;32m~\\anaconda3\\envs\\candybrain\\lib\\site-packages\\jinja2\\environment.py:656\u001b[0m, in \u001b[0;36mEnvironment._tokenize\u001b[1;34m(self, source, name, filename, state)\u001b[0m\n\u001b[0;32m    652\u001b[0m \u001b[38;5;124;03m\"\"\"Called by the parser to do the preprocessing and filtering\u001b[39;00m\n\u001b[0;32m    653\u001b[0m \u001b[38;5;124;03mfor all the extensions.  Returns a :class:`~jinja2.lexer.TokenStream`.\u001b[39;00m\n\u001b[0;32m    654\u001b[0m \u001b[38;5;124;03m\"\"\"\u001b[39;00m\n\u001b[0;32m    655\u001b[0m source \u001b[38;5;241m=\u001b[39m \u001b[38;5;28mself\u001b[39m\u001b[38;5;241m.\u001b[39mpreprocess(source, name, filename)\n\u001b[1;32m--> 656\u001b[0m stream \u001b[38;5;241m=\u001b[39m \u001b[38;5;28;43mself\u001b[39;49m\u001b[38;5;241;43m.\u001b[39;49m\u001b[43mlexer\u001b[49m\u001b[38;5;241;43m.\u001b[39;49m\u001b[43mtokenize\u001b[49m\u001b[43m(\u001b[49m\u001b[43msource\u001b[49m\u001b[43m,\u001b[49m\u001b[43m \u001b[49m\u001b[43mname\u001b[49m\u001b[43m,\u001b[49m\u001b[43m \u001b[49m\u001b[43mfilename\u001b[49m\u001b[43m,\u001b[49m\u001b[43m \u001b[49m\u001b[43mstate\u001b[49m\u001b[43m)\u001b[49m\n\u001b[0;32m    658\u001b[0m \u001b[38;5;28;01mfor\u001b[39;00m ext \u001b[38;5;129;01min\u001b[39;00m \u001b[38;5;28mself\u001b[39m\u001b[38;5;241m.\u001b[39miter_extensions():\n\u001b[0;32m    659\u001b[0m     stream \u001b[38;5;241m=\u001b[39m ext\u001b[38;5;241m.\u001b[39mfilter_stream(stream)  \u001b[38;5;66;03m# type: ignore\u001b[39;00m\n",
      "File \u001b[1;32m~\\anaconda3\\envs\\candybrain\\lib\\site-packages\\jinja2\\lexer.py:613\u001b[0m, in \u001b[0;36mLexer.tokenize\u001b[1;34m(self, source, name, filename, state)\u001b[0m\n\u001b[0;32m    611\u001b[0m \u001b[38;5;124;03m\"\"\"Calls tokeniter + tokenize and wraps it in a token stream.\"\"\"\u001b[39;00m\n\u001b[0;32m    612\u001b[0m stream \u001b[38;5;241m=\u001b[39m \u001b[38;5;28mself\u001b[39m\u001b[38;5;241m.\u001b[39mtokeniter(source, name, filename, state)\n\u001b[1;32m--> 613\u001b[0m \u001b[38;5;28;01mreturn\u001b[39;00m \u001b[43mTokenStream\u001b[49m\u001b[43m(\u001b[49m\u001b[38;5;28;43mself\u001b[39;49m\u001b[38;5;241;43m.\u001b[39;49m\u001b[43mwrap\u001b[49m\u001b[43m(\u001b[49m\u001b[43mstream\u001b[49m\u001b[43m,\u001b[49m\u001b[43m \u001b[49m\u001b[43mname\u001b[49m\u001b[43m,\u001b[49m\u001b[43m \u001b[49m\u001b[43mfilename\u001b[49m\u001b[43m)\u001b[49m\u001b[43m,\u001b[49m\u001b[43m \u001b[49m\u001b[43mname\u001b[49m\u001b[43m,\u001b[49m\u001b[43m \u001b[49m\u001b[43mfilename\u001b[49m\u001b[43m)\u001b[49m\n",
      "File \u001b[1;32m~\\anaconda3\\envs\\candybrain\\lib\\site-packages\\jinja2\\lexer.py:335\u001b[0m, in \u001b[0;36mTokenStream.__init__\u001b[1;34m(self, generator, name, filename)\u001b[0m\n\u001b[0;32m    333\u001b[0m \u001b[38;5;28mself\u001b[39m\u001b[38;5;241m.\u001b[39mclosed \u001b[38;5;241m=\u001b[39m \u001b[38;5;28;01mFalse\u001b[39;00m\n\u001b[0;32m    334\u001b[0m \u001b[38;5;28mself\u001b[39m\u001b[38;5;241m.\u001b[39mcurrent \u001b[38;5;241m=\u001b[39m Token(\u001b[38;5;241m1\u001b[39m, TOKEN_INITIAL, \u001b[38;5;124m\"\u001b[39m\u001b[38;5;124m\"\u001b[39m)\n\u001b[1;32m--> 335\u001b[0m \u001b[38;5;28;43mnext\u001b[39;49m\u001b[43m(\u001b[49m\u001b[38;5;28;43mself\u001b[39;49m\u001b[43m)\u001b[49m\n",
      "File \u001b[1;32m~\\anaconda3\\envs\\candybrain\\lib\\site-packages\\jinja2\\lexer.py:389\u001b[0m, in \u001b[0;36mTokenStream.__next__\u001b[1;34m(self)\u001b[0m\n\u001b[0;32m    387\u001b[0m \u001b[38;5;28;01melif\u001b[39;00m \u001b[38;5;28mself\u001b[39m\u001b[38;5;241m.\u001b[39mcurrent\u001b[38;5;241m.\u001b[39mtype \u001b[38;5;129;01mis\u001b[39;00m \u001b[38;5;129;01mnot\u001b[39;00m TOKEN_EOF:\n\u001b[0;32m    388\u001b[0m     \u001b[38;5;28;01mtry\u001b[39;00m:\n\u001b[1;32m--> 389\u001b[0m         \u001b[38;5;28mself\u001b[39m\u001b[38;5;241m.\u001b[39mcurrent \u001b[38;5;241m=\u001b[39m \u001b[38;5;28;43mnext\u001b[39;49m\u001b[43m(\u001b[49m\u001b[38;5;28;43mself\u001b[39;49m\u001b[38;5;241;43m.\u001b[39;49m\u001b[43m_iter\u001b[49m\u001b[43m)\u001b[49m\n\u001b[0;32m    390\u001b[0m     \u001b[38;5;28;01mexcept\u001b[39;00m \u001b[38;5;167;01mStopIteration\u001b[39;00m:\n\u001b[0;32m    391\u001b[0m         \u001b[38;5;28mself\u001b[39m\u001b[38;5;241m.\u001b[39mclose()\n",
      "File \u001b[1;32m~\\anaconda3\\envs\\candybrain\\lib\\site-packages\\jinja2\\lexer.py:638\u001b[0m, in \u001b[0;36mLexer.wrap\u001b[1;34m(self, stream, name, filename)\u001b[0m\n\u001b[0;32m    636\u001b[0m     \u001b[38;5;28;01mcontinue\u001b[39;00m\n\u001b[0;32m    637\u001b[0m \u001b[38;5;28;01melif\u001b[39;00m token \u001b[38;5;241m==\u001b[39m TOKEN_DATA:\n\u001b[1;32m--> 638\u001b[0m     value \u001b[38;5;241m=\u001b[39m \u001b[38;5;28;43mself\u001b[39;49m\u001b[38;5;241;43m.\u001b[39;49m\u001b[43m_normalize_newlines\u001b[49m\u001b[43m(\u001b[49m\u001b[43mvalue_str\u001b[49m\u001b[43m)\u001b[49m\n\u001b[0;32m    639\u001b[0m \u001b[38;5;28;01melif\u001b[39;00m token \u001b[38;5;241m==\u001b[39m \u001b[38;5;124m\"\u001b[39m\u001b[38;5;124mkeyword\u001b[39m\u001b[38;5;124m\"\u001b[39m:\n\u001b[0;32m    640\u001b[0m     token \u001b[38;5;241m=\u001b[39m value_str\n",
      "\u001b[1;31mKeyboardInterrupt\u001b[0m: "
     ]
    }
   ],
   "source": [
    "m_total "
   ]
  },
  {
   "cell_type": "markdown",
   "id": "6235b3e9",
   "metadata": {},
   "source": [
    "## 결과 분석 "
   ]
  },
  {
   "cell_type": "markdown",
   "id": "8c91cd31",
   "metadata": {},
   "source": [
    "#### 평가지표1\n",
    "타당성 검토이기 때문에 소카존으로부터 400m 내에 지하철역이 존재 하는지 그리고 버스정류장의 밀도가 어느정도인지를 확인하였다.\n",
    "400m 이내에 이 두 가지 요소가 존재하는 경우 그리고 버스정류장의 밀도가 높은 경우 입지선정에 무리가 없다고 판단하였다. 동심원의 크기는 400m를 의미한다. \n",
    "\n",
    "#### 평가지표2\n",
    "소카존 주변에 상업지구 밀도가 높은 경우를 확인하였다.  \n",
    "상업지구는 인구밀도를 반증하는 지표라고 가정하였다.  \n",
    "(실제로 정량화 하거나 확인하지는 못하였다. 이 부분은 추후 제대로 정량화를 진행해야 한다.)\n",
    "\n",
    "추후 비지니스 용도로 사용하는 호텔이나 대기업, 중소기업 등의 회사와 같은 건물을 분리해서 확인하고 \n",
    "서론에서 언급한 것 처럼 OD 통행량 분석을 진행하여 정량화 되어야 할 것이다. \n",
    "\n",
    "#### 결과\n",
    "위 두가지 평가지표로 강남지역에 한정하여 검토한 경우 강남 지역에 있는 모든 쏘카존의 입지는 적절 한 것으로 판단된다.\n"
   ]
  }
 ],
 "metadata": {
  "kernelspec": {
   "display_name": "Python 3 (ipykernel)",
   "language": "python",
   "name": "python3"
  },
  "language_info": {
   "codemirror_mode": {
    "name": "ipython",
    "version": 3
   },
   "file_extension": ".py",
   "mimetype": "text/x-python",
   "name": "python",
   "nbconvert_exporter": "python",
   "pygments_lexer": "ipython3",
   "version": "3.9.7"
  }
 },
 "nbformat": 4,
 "nbformat_minor": 5
}
